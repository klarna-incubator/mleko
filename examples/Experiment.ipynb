{
  "cells": [
    {
      "cell_type": "code",
      "execution_count": 1,
      "metadata": {},
      "outputs": [],
      "source": [
        "%reload_ext autoreload\n",
        "%autoreload 2"
      ]
    },
    {
      "attachments": {},
      "cell_type": "markdown",
      "metadata": {},
      "source": [
        "# Imports\n",
        "Import the required classes and functions."
      ]
    },
    {
      "cell_type": "code",
      "execution_count": 2,
      "metadata": {},
      "outputs": [],
      "source": [
        "from mleko.dataset.convert import CSVToVaexConverter\n",
        "from mleko.dataset.feature_select import (\n",
        "    CompositeFeatureSelector,\n",
        "    InvarianceFeatureSelector,\n",
        "    MissingRateFeatureSelector,\n",
        "    PearsonCorrelationFeatureSelector,\n",
        "    VarianceFeatureSelector,\n",
        ")\n",
        "from mleko.dataset.ingest import KaggleIngester\n",
        "from mleko.dataset.split import ExpressionSplitter, RandomSplitter\n",
        "from mleko.pipeline import Pipeline\n",
        "from mleko.pipeline.steps import ConvertStep, FeatureSelectStep, IngestStep, SplitStep\n"
      ]
    },
    {
      "attachments": {},
      "cell_type": "markdown",
      "metadata": {},
      "source": [
        "# Constants\n",
        "Define configuration variables."
      ]
    },
    {
      "cell_type": "code",
      "execution_count": 3,
      "metadata": {},
      "outputs": [],
      "source": [
        "OWNER_SLUG = \"mlg-ulb\"\n",
        "DATASET_SLUG = \"creditcardfraud\"\n",
        "DATASET_NAME = f\"{OWNER_SLUG}/{DATASET_SLUG}\"\n",
        "\n",
        "TARGET_FEATURE = \"Class\"\n",
        "TIME_FEATURE = \"Time\"\n",
        "META_FEATURES = [TIME_FEATURE, TARGET_FEATURE]\n",
        "RANDOM_STATE = 1337\n"
      ]
    },
    {
      "attachments": {},
      "cell_type": "markdown",
      "metadata": {},
      "source": [
        "# Pipeline Setup"
      ]
    },
    {
      "cell_type": "code",
      "execution_count": 8,
      "metadata": {},
      "outputs": [
        {
          "name": "stdout",
          "output_type": "stream",
          "text": [
            "[2023-06-26 23:05:25] [\u001b[1;32mINFO\u001b[0m] Attempting to fetch Kaggle API credentials from environment variables 'KAGGLE_USERNAME' and 'KAGGLE_KEY'. \u001b[1m(kaggle_ingester.py:74)\u001b[0m\n",
            "[2023-06-26 23:05:25] [\u001b[1;33mWARNING\u001b[0m] Kaggle API credentials not found in environment variables, attempting to fetch from fallback path at ~/.kaggle/kaggle.json. \u001b[1m(kaggle_ingester.py:82)\u001b[0m\n",
            "[2023-06-26 23:05:25] [\u001b[1;32mINFO\u001b[0m] Kaggle credentials successfully fetched. \u001b[1m(kaggle_ingester.py:91)\u001b[0m\n"
          ]
        }
      ],
      "source": [
        "kaggle_data_source = KaggleIngester(\n",
        "    destination_directory=f\"data/{DATASET_NAME}/raw\", owner_slug=OWNER_SLUG, dataset_slug=DATASET_SLUG\n",
        ")\n",
        "csv_to_arrow_converter = CSVToVaexConverter(\n",
        "    output_directory=f\"data/{DATASET_NAME}/converted\", downcast_float=True, random_state=RANDOM_STATE\n",
        ")\n",
        "random_data_splitter = RandomSplitter(\n",
        "    cache_directory=f\"data/{DATASET_NAME}/split\",\n",
        "    data_split=(0.80, 0.20),\n",
        "    shuffle=True,\n",
        "    stratify=TARGET_FEATURE,\n",
        "    random_state=RANDOM_STATE,\n",
        ")\n",
        "expression_data_splitter = ExpressionSplitter(cache_directory=f\"data/{DATASET_NAME}/split\", expression=\"Time > 100\")\n",
        "composite_feature_selector = CompositeFeatureSelector(\n",
        "    cache_directory=f\"data/{DATASET_NAME}/feature_selection\",\n",
        "    feature_selectors=[\n",
        "        MissingRateFeatureSelector(\n",
        "            cache_directory=f\"data/{DATASET_NAME}/feature_selection\",\n",
        "            missing_rate_threshold=0.7,\n",
        "            ignore_features=META_FEATURES,\n",
        "        ),\n",
        "        VarianceFeatureSelector(\n",
        "            cache_directory=f\"data/{DATASET_NAME}/feature_selection\",\n",
        "            variance_threshold=0.00,\n",
        "            ignore_features=META_FEATURES\n",
        "        ),\n",
        "        PearsonCorrelationFeatureSelector(\n",
        "            cache_directory=f\"data/{DATASET_NAME}/feature_selection\",\n",
        "            correlation_threshold=0.7,\n",
        "            ignore_features=META_FEATURES\n",
        "        ),\n",
        "        InvarianceFeatureSelector(\n",
        "            cache_directory=f\"data/{DATASET_NAME}/feature_selection\",\n",
        "            ignore_features=META_FEATURES\n",
        "        ),\n",
        "    ],\n",
        ")\n",
        "\n",
        "pipeline = Pipeline(\n",
        "    steps=[\n",
        "        IngestStep(kaggle_data_source, outputs=[\"raw_csv\"]),\n",
        "        ConvertStep(csv_to_arrow_converter, inputs=[\"raw_csv\"], outputs=[\"df_clean\"]),\n",
        "        SplitStep(random_data_splitter, inputs=[\"df_clean\"], outputs=[\"df_train_validate\", \"df_test\"], cache_group=\"train_test_split\"),\n",
        "        FeatureSelectStep(\n",
        "            composite_feature_selector,\n",
        "            inputs=[\"df_train_validate\"],\n",
        "            outputs=[\"df_train_validate_features_selected\"],\n",
        "            cache_group=\"feature_selection_train_validate\",\n",
        "        ),\n",
        "        SplitStep(random_data_splitter, inputs=[\"df_train_validate_features_selected\"], outputs=[\"df_train\", \"df_validate\"], cache_group=\"train_test_split\"),\n",
        "    ]\n",
        ")\n"
      ]
    },
    {
      "attachments": {},
      "cell_type": "markdown",
      "metadata": {},
      "source": [
        "# Run Pipeline"
      ]
    },
    {
      "cell_type": "code",
      "execution_count": 9,
      "metadata": {},
      "outputs": [
        {
          "name": "stdout",
          "output_type": "stream",
          "text": [
            "[2023-06-26 23:05:28] [\u001b[1;32mINFO\u001b[0m] No data container provided. Creating an empty one. \u001b[1m(pipeline.py:77)\u001b[0m\n",
            "[2023-06-26 23:05:28] [\u001b[1;32mINFO\u001b[0m] Executing step 1/5: IngestStep. \u001b[1m(pipeline.py:81)\u001b[0m\n",
            "[2023-06-26 23:05:29] [\u001b[1;32mINFO\u001b[0m] \u001b[32mCache Hit\u001b[0m: Local dataset is up to date with Kaggle, skipping download. \u001b[1m(kaggle_ingester.py:279)\u001b[0m\n",
            "[2023-06-26 23:05:29] [\u001b[1;32mINFO\u001b[0m] Finished step 1/5 execution. \u001b[1m(pipeline.py:83)\u001b[0m\n",
            "[2023-06-26 23:05:29] [\u001b[1;32mINFO\u001b[0m] Executing step 2/5: ConvertStep. \u001b[1m(pipeline.py:81)\u001b[0m\n",
            "[2023-06-26 23:05:29] [\u001b[1;32mINFO\u001b[0m] \u001b[32mCache Hit\u001b[0m (LRUCache) CSVToVaexConverter.convert: Using cached output. \u001b[1m(cache_mixin.py:134)\u001b[0m\n",
            "[2023-06-26 23:05:29] [\u001b[1;32mINFO\u001b[0m] Finished step 2/5 execution. \u001b[1m(pipeline.py:83)\u001b[0m\n",
            "[2023-06-26 23:05:29] [\u001b[1;32mINFO\u001b[0m] Executing step 3/5: SplitStep. \u001b[1m(pipeline.py:81)\u001b[0m\n",
            "[2023-06-26 23:05:29] [\u001b[1;32mINFO\u001b[0m] \u001b[32mCache Hit\u001b[0m (LRUCache) RandomSplitter.split: Using cached output. \u001b[1m(cache_mixin.py:134)\u001b[0m\n",
            "[2023-06-26 23:05:29] [\u001b[1;32mINFO\u001b[0m] Finished step 3/5 execution. \u001b[1m(pipeline.py:83)\u001b[0m\n",
            "[2023-06-26 23:05:29] [\u001b[1;32mINFO\u001b[0m] Executing step 4/5: FeatureSelectStep. \u001b[1m(pipeline.py:81)\u001b[0m\n",
            "[2023-06-26 23:05:29] [\u001b[1;32mINFO\u001b[0m] \u001b[32mCache Hit\u001b[0m (LRUCache) CompositeFeatureSelector.select_features: Using cached output. \u001b[1m(cache_mixin.py:134)\u001b[0m\n",
            "[2023-06-26 23:05:29] [\u001b[1;32mINFO\u001b[0m] Finished step 4/5 execution. \u001b[1m(pipeline.py:83)\u001b[0m\n",
            "[2023-06-26 23:05:29] [\u001b[1;32mINFO\u001b[0m] Executing step 5/5: SplitStep. \u001b[1m(pipeline.py:81)\u001b[0m\n",
            "[2023-06-26 23:05:29] [\u001b[1;32mINFO\u001b[0m] \u001b[31mCache Miss\u001b[0m (LRUCache) RandomSplitter.split: Executing method. \u001b[1m(cache_mixin.py:139)\u001b[0m\n",
            "[2023-06-26 23:05:29] [\u001b[1;32mINFO\u001b[0m] Shuffling data before splitting. \u001b[1m(random_splitter.py:126)\u001b[0m\n",
            "[2023-06-26 23:05:29] [\u001b[1;32mINFO\u001b[0m] Splitting data with stratification on column 'Class'. \u001b[1m(random_splitter.py:130)\u001b[0m\n",
            "[2023-06-26 23:05:30] [\u001b[1;32mINFO\u001b[0m] Split dataframe into two dataframes with shapes (182276, 32) and (45569, 32). \u001b[1m(random_splitter.py:142)\u001b[0m\n"
          ]
        },
        {
          "data": {
            "application/vnd.jupyter.widget-view+json": {
              "model_id": "e31294af1e634862a6c5b2b3612fbeb5",
              "version_major": 2,
              "version_minor": 0
            },
            "text/plain": [
              "Writing DataFrame to .arrow file:   0%|          | 0/100 [00:00<?, ?it/s]"
            ]
          },
          "metadata": {},
          "output_type": "display_data"
        },
        {
          "data": {
            "application/vnd.jupyter.widget-view+json": {
              "model_id": "7778a10018f44efba0bf650864f44c08",
              "version_major": 2,
              "version_minor": 0
            },
            "text/plain": [
              "Writing DataFrame to .arrow file:   0%|          | 0/100 [00:00<?, ?it/s]"
            ]
          },
          "metadata": {},
          "output_type": "display_data"
        },
        {
          "name": "stdout",
          "output_type": "stream",
          "text": [
            "[2023-06-26 23:05:30] [\u001b[1;32mINFO\u001b[0m] Finished step 5/5 execution. \u001b[1m(pipeline.py:83)\u001b[0m\n"
          ]
        }
      ],
      "source": [
        "data_container =  pipeline.run().data"
      ]
    },
    {
      "cell_type": "code",
      "execution_count": null,
      "metadata": {},
      "outputs": [],
      "source": []
    }
  ],
  "metadata": {
    "kernelspec": {
      "display_name": ".venv",
      "language": "python",
      "name": "python3"
    },
    "language_info": {
      "codemirror_mode": {
        "name": "ipython",
        "version": 3
      },
      "file_extension": ".py",
      "mimetype": "text/x-python",
      "name": "python",
      "nbconvert_exporter": "python",
      "pygments_lexer": "ipython3",
      "version": "3.8.16"
    },
    "orig_nbformat": 4,
    "vscode": {
      "interpreter": {
        "hash": "9611670ec755352ff717d7a41a0ab877947349e5431e69ecf0edefdfa5d80e71"
      }
    }
  },
  "nbformat": 4,
  "nbformat_minor": 2
}
