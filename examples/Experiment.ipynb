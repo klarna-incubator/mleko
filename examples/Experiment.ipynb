{
  "cells": [
    {
      "cell_type": "code",
      "execution_count": 1,
      "metadata": {},
      "outputs": [],
      "source": [
        "%reload_ext autoreload\n",
        "%autoreload 2"
      ]
    },
    {
      "attachments": {},
      "cell_type": "markdown",
      "metadata": {},
      "source": [
        "# Imports\n",
        "Import the required classes and functions."
      ]
    },
    {
      "cell_type": "code",
      "execution_count": 2,
      "metadata": {},
      "outputs": [],
      "source": [
        "from mleko.dataset.convert import CSVToVaexConverter\n",
        "from mleko.dataset.feature_select import (\n",
        "    MissingRateFeatureSelector,\n",
        "    VarianceFeatureSelector,\n",
        "    CompositeFeatureSelector,\n",
        "    PearsonCorrelationFeatureSelector,\n",
        "    InvarianceFeatureSelector,\n",
        ")\n",
        "from mleko.dataset.ingest import KaggleIngester\n",
        "from mleko.dataset.split import ExpressionSplitter, RandomSplitter\n",
        "from mleko.pipeline import Pipeline\n",
        "from mleko.pipeline.steps import ConvertStep, FeatureSelectStep, IngestStep, SplitStep\n"
      ]
    },
    {
      "attachments": {},
      "cell_type": "markdown",
      "metadata": {},
      "source": [
        "# Constants\n",
        "Define configuration variables."
      ]
    },
    {
      "cell_type": "code",
      "execution_count": 3,
      "metadata": {},
      "outputs": [],
      "source": [
        "OWNER_SLUG = 'mlg-ulb'\n",
        "DATASET_SLUG = 'creditcardfraud'\n",
        "DATASET_NAME = f'{OWNER_SLUG}/{DATASET_SLUG}'\n",
        "\n",
        "TARGET_FEATURE = \"Class\"\n",
        "TIME_FEATURE = \"Time\"\n",
        "META_FEATURES = [TIME_FEATURE, TARGET_FEATURE]\n",
        "RANDOM_STATE = 1337"
      ]
    },
    {
      "attachments": {},
      "cell_type": "markdown",
      "metadata": {},
      "source": [
        "# Pipeline Setup"
      ]
    },
    {
      "cell_type": "code",
      "execution_count": 4,
      "metadata": {},
      "outputs": [
        {
          "name": "stdout",
          "output_type": "stream",
          "text": [
            "[2023-06-16 20:14:01] [\u001b[1;32mINFO\u001b[0m] Attempting to fetch Kaggle API credentials from environment variables 'KAGGLE_USERNAME' and 'KAGGLE_KEY'. \u001b[1m(kaggle_ingester.py:74)\u001b[0m\n",
            "[2023-06-16 20:14:01] [\u001b[1;33mWARNING\u001b[0m] Kaggle API credentials not found in environment variables, attempting to fetch from fallback path at ~/.kaggle/kaggle.json. \u001b[1m(kaggle_ingester.py:82)\u001b[0m\n",
            "[2023-06-16 20:14:01] [\u001b[1;32mINFO\u001b[0m] Kaggle credentials successfully fetched. \u001b[1m(kaggle_ingester.py:91)\u001b[0m\n"
          ]
        }
      ],
      "source": [
        "kaggle_data_source = KaggleIngester(\n",
        "    destination_directory=f\"data/{DATASET_NAME}/raw\", owner_slug=OWNER_SLUG, dataset_slug=DATASET_SLUG\n",
        ")\n",
        "csv_to_arrow_converter = CSVToVaexConverter(\n",
        "    output_directory=f\"data/{DATASET_NAME}/converted\", downcast_float=True, random_state=RANDOM_STATE\n",
        ")\n",
        "random_data_splitter = RandomSplitter(\n",
        "    cache_directory=f\"data/{DATASET_NAME}/split\",\n",
        "    data_split=(0.80, 0.20),\n",
        "    shuffle=True,\n",
        "    stratify=TARGET_FEATURE,\n",
        "    random_state=RANDOM_STATE,\n",
        ")\n",
        "expression_data_splitter = ExpressionSplitter(cache_directory=f\"data/{DATASET_NAME}/split\", expression=\"Time > 100\")\n",
        "composite_feature_selector = CompositeFeatureSelector(\n",
        "    cache_directory=f\"data/{DATASET_NAME}/feature_selection\",\n",
        "    feature_selectors=[\n",
        "        MissingRateFeatureSelector(\n",
        "            cache_directory=f\"data/{DATASET_NAME}/feature_selection\",\n",
        "            missing_rate_threshold=0.7,\n",
        "            ignore_features=META_FEATURES,\n",
        "        ),\n",
        "        VarianceFeatureSelector(\n",
        "            cache_directory=f\"data/{DATASET_NAME}/feature_selection\",\n",
        "            variance_threshold=0.00,\n",
        "            ignore_features=META_FEATURES\n",
        "        ),\n",
        "        PearsonCorrelationFeatureSelector(\n",
        "            cache_directory=f\"data/{DATASET_NAME}/feature_selection\",\n",
        "            correlation_threshold=0.7,\n",
        "            ignore_features=META_FEATURES\n",
        "        ),\n",
        "        InvarianceFeatureSelector(\n",
        "            cache_directory=f\"data/{DATASET_NAME}/feature_selection\",\n",
        "            ignore_features=META_FEATURES\n",
        "        ),\n",
        "    ],\n",
        ")\n",
        "\n",
        "pipeline = Pipeline(\n",
        "    steps=[\n",
        "        IngestStep(kaggle_data_source, outputs=[\"raw_csv\"]),\n",
        "        ConvertStep(csv_to_arrow_converter, inputs=[\"raw_csv\"], outputs=[\"df_clean\"]),\n",
        "        SplitStep(random_data_splitter, inputs=[\"df_clean\"], outputs=[\"df_train_validate\", \"df_test\"]),\n",
        "        FeatureSelectStep(\n",
        "            composite_feature_selector,\n",
        "            inputs=[\"df_train_validate\"],\n",
        "            outputs=[\"df_train_validate_features_selected\"],\n",
        "        ),\n",
        "        SplitStep(expression_data_splitter, inputs=[\"df_train_validate_features_selected\"], outputs=[\"df_train\", \"df_validate\"]),\n",
        "    ]\n",
        ")\n"
      ]
    },
    {
      "attachments": {},
      "cell_type": "markdown",
      "metadata": {},
      "source": [
        "# Run Pipeline"
      ]
    },
    {
      "cell_type": "code",
      "execution_count": 6,
      "metadata": {},
      "outputs": [
        {
          "name": "stdout",
          "output_type": "stream",
          "text": [
            "[2023-06-16 20:14:18] [\u001b[1;32mINFO\u001b[0m] No data container provided. Creating an empty one. \u001b[1m(pipeline.py:77)\u001b[0m\n",
            "[2023-06-16 20:14:18] [\u001b[1;32mINFO\u001b[0m] Executing step 1/5: IngestStep. \u001b[1m(pipeline.py:81)\u001b[0m\n",
            "[2023-06-16 20:14:19] [\u001b[1;32mINFO\u001b[0m] \u001b[33mForce Cache Refresh\u001b[0m: Downloading mlg-ulb/creditcardfraud/* to data/mlg-ulb/creditcardfraud/raw from Kaggle. \u001b[1m(kaggle_ingester.py:287)\u001b[0m\n"
          ]
        },
        {
          "data": {
            "application/vnd.jupyter.widget-view+json": {
              "model_id": "2dd3d7165c1b48f8b8788a0de22833d5",
              "version_major": 2,
              "version_minor": 0
            },
            "text/plain": [
              "Downloading files from Kaggle:   0%|          | 0/1 [00:00<?, ?it/s]"
            ]
          },
          "metadata": {},
          "output_type": "display_data"
        },
        {
          "name": "stdout",
          "output_type": "stream",
          "text": [
            "[2023-06-16 20:14:23] [\u001b[1;32mINFO\u001b[0m] Finished downloading 1 files from Kaggle. \u001b[1m(kaggle_ingester.py:303)\u001b[0m\n",
            "[2023-06-16 20:14:23] [\u001b[1;32mINFO\u001b[0m] Finished step 1/5 execution. \u001b[1m(pipeline.py:83)\u001b[0m\n",
            "[2023-06-16 20:14:23] [\u001b[1;32mINFO\u001b[0m] Executing step 2/5: ConvertStep. \u001b[1m(pipeline.py:81)\u001b[0m\n",
            "[2023-06-16 20:14:24] [\u001b[1;32mINFO\u001b[0m] \u001b[33mForce Cache Refresh\u001b[0m (LRUCache) CSVToVaexConverter.convert: Executing method. \u001b[1m(cache_mixin.py:133)\u001b[0m\n"
          ]
        },
        {
          "data": {
            "application/vnd.jupyter.widget-view+json": {
              "model_id": "bd0d5997e4e04b1ab098010e806dba77",
              "version_major": 2,
              "version_minor": 0
            },
            "text/plain": [
              "Converting CSV files:   0%|          | 0/1 [00:00<?, ?it/s]"
            ]
          },
          "metadata": {},
          "output_type": "display_data"
        },
        {
          "data": {
            "application/vnd.jupyter.widget-view+json": {
              "model_id": "af0d3a69a24e440ba18b97e572dfdec3",
              "version_major": 2,
              "version_minor": 0
            },
            "text/plain": [
              "Writing DataFrame to .arrow file:   0%|          | 0/100 [00:00<?, ?it/s]"
            ]
          },
          "metadata": {},
          "output_type": "display_data"
        },
        {
          "name": "stdout",
          "output_type": "stream",
          "text": [
            "[2023-06-16 20:14:28] [\u001b[1;32mINFO\u001b[0m] Finished step 2/5 execution. \u001b[1m(pipeline.py:83)\u001b[0m\n",
            "[2023-06-16 20:14:28] [\u001b[1;32mINFO\u001b[0m] Executing step 3/5: SplitStep. \u001b[1m(pipeline.py:81)\u001b[0m\n",
            "[2023-06-16 20:14:28] [\u001b[1;32mINFO\u001b[0m] \u001b[33mForce Cache Refresh\u001b[0m (LRUCache) RandomSplitter.split: Executing method. \u001b[1m(cache_mixin.py:133)\u001b[0m\n",
            "[2023-06-16 20:14:28] [\u001b[1;32mINFO\u001b[0m] Shuffling data before splitting. \u001b[1m(random_splitter.py:122)\u001b[0m\n",
            "[2023-06-16 20:14:28] [\u001b[1;32mINFO\u001b[0m] Splitting data with stratification on column 'Class'. \u001b[1m(random_splitter.py:126)\u001b[0m\n",
            "[2023-06-16 20:14:29] [\u001b[1;32mINFO\u001b[0m] Split dataframe into two dataframes with shapes (227845, 32) and (56962, 32). \u001b[1m(random_splitter.py:138)\u001b[0m\n"
          ]
        },
        {
          "data": {
            "application/vnd.jupyter.widget-view+json": {
              "model_id": "10a150a08dfc4238a859360e1f08920f",
              "version_major": 2,
              "version_minor": 0
            },
            "text/plain": [
              "Writing DataFrame to .arrow file:   0%|          | 0/100 [00:00<?, ?it/s]"
            ]
          },
          "metadata": {},
          "output_type": "display_data"
        },
        {
          "data": {
            "application/vnd.jupyter.widget-view+json": {
              "model_id": "8294e435dc1e4214aaa9dfafa7870bcb",
              "version_major": 2,
              "version_minor": 0
            },
            "text/plain": [
              "Writing DataFrame to .arrow file:   0%|          | 0/100 [00:00<?, ?it/s]"
            ]
          },
          "metadata": {},
          "output_type": "display_data"
        },
        {
          "name": "stdout",
          "output_type": "stream",
          "text": [
            "[2023-06-16 20:14:30] [\u001b[1;32mINFO\u001b[0m] Finished step 3/5 execution. \u001b[1m(pipeline.py:83)\u001b[0m\n",
            "[2023-06-16 20:14:30] [\u001b[1;32mINFO\u001b[0m] Executing step 4/5: FeatureSelectStep. \u001b[1m(pipeline.py:81)\u001b[0m\n",
            "[2023-06-16 20:14:30] [\u001b[1;32mINFO\u001b[0m] \u001b[33mForce Cache Refresh\u001b[0m (LRUCache) CompositeFeatureSelector.select_features: Executing method. \u001b[1m(cache_mixin.py:133)\u001b[0m\n",
            "[2023-06-16 20:14:30] [\u001b[1;32mINFO\u001b[0m] Executing composite feature selection step 1/4: MissingRateFeatureSelector. \u001b[1m(composite_feature_selector.py:108)\u001b[0m\n",
            "[2023-06-16 20:14:30] [\u001b[1;32mINFO\u001b[0m] Selecting features from the following set (29): ['Amount', 'V1', 'V10', 'V11', 'V12', 'V13', 'V14', 'V15', 'V16', 'V17', 'V18', 'V19', 'V2', 'V20', 'V21', 'V22', 'V23', 'V24', 'V25', 'V26', 'V27', 'V28', 'V3', 'V4', 'V5', 'V6', 'V7', 'V8', 'V9']. \u001b[1m(missing_rate_feature_selector.py:100)\u001b[0m\n"
          ]
        },
        {
          "data": {
            "application/vnd.jupyter.widget-view+json": {
              "model_id": "870d6dd4cf124ef48c268c1464bc39b0",
              "version_major": 2,
              "version_minor": 0
            },
            "text/plain": [
              "Calculating missing rates for features:   0%|          | 0/29 [00:00<?, ?it/s]"
            ]
          },
          "metadata": {},
          "output_type": "display_data"
        },
        {
          "name": "stdout",
          "output_type": "stream",
          "text": [
            "[2023-06-16 20:14:31] [\u001b[1;32mINFO\u001b[0m] Dropping (0) features with missing rate >= 0.7: set(). \u001b[1m(missing_rate_feature_selector.py:108)\u001b[0m\n",
            "[2023-06-16 20:14:31] [\u001b[1;32mINFO\u001b[0m] Finished composite feature selection step 1/4. \u001b[1m(composite_feature_selector.py:113)\u001b[0m\n",
            "[2023-06-16 20:14:31] [\u001b[1;32mINFO\u001b[0m] Executing composite feature selection step 2/4: VarianceFeatureSelector. \u001b[1m(composite_feature_selector.py:108)\u001b[0m\n",
            "[2023-06-16 20:14:31] [\u001b[1;32mINFO\u001b[0m] Selecting features from the following set (29): ['Amount', 'V1', 'V10', 'V11', 'V12', 'V13', 'V14', 'V15', 'V16', 'V17', 'V18', 'V19', 'V2', 'V20', 'V21', 'V22', 'V23', 'V24', 'V25', 'V26', 'V27', 'V28', 'V3', 'V4', 'V5', 'V6', 'V7', 'V8', 'V9']. \u001b[1m(variance_feature_selector.py:104)\u001b[0m\n"
          ]
        },
        {
          "data": {
            "application/vnd.jupyter.widget-view+json": {
              "model_id": "5ad51159094145ef94a21e7987ef13a7",
              "version_major": 2,
              "version_minor": 0
            },
            "text/plain": [
              "Calculating variance for features:   0%|          | 0/29 [00:00<?, ?it/s]"
            ]
          },
          "metadata": {},
          "output_type": "display_data"
        },
        {
          "name": "stdout",
          "output_type": "stream",
          "text": [
            "[2023-06-16 20:14:31] [\u001b[1;32mINFO\u001b[0m] Dropping (0) features with normalized variance <= 0.0: set(). \u001b[1m(variance_feature_selector.py:118)\u001b[0m\n",
            "[2023-06-16 20:14:31] [\u001b[1;32mINFO\u001b[0m] Finished composite feature selection step 2/4. \u001b[1m(composite_feature_selector.py:113)\u001b[0m\n",
            "[2023-06-16 20:14:31] [\u001b[1;32mINFO\u001b[0m] Executing composite feature selection step 3/4: PearsonCorrelationFeatureSelector. \u001b[1m(composite_feature_selector.py:108)\u001b[0m\n",
            "[2023-06-16 20:14:31] [\u001b[1;32mINFO\u001b[0m] Selecting features from the following set (29): ['Amount', 'V1', 'V10', 'V11', 'V12', 'V13', 'V14', 'V15', 'V16', 'V17', 'V18', 'V19', 'V2', 'V20', 'V21', 'V22', 'V23', 'V24', 'V25', 'V26', 'V27', 'V28', 'V3', 'V4', 'V5', 'V6', 'V7', 'V8', 'V9']. \u001b[1m(pearson_correlation_feature_selector.py:101)\u001b[0m\n",
            "[2023-06-16 20:14:32] [\u001b[1;32mINFO\u001b[0m] Dropping (0) features with correlation >= 0.7: set(). \u001b[1m(pearson_correlation_feature_selector.py:147)\u001b[0m\n",
            "[2023-06-16 20:14:32] [\u001b[1;32mINFO\u001b[0m] Finished composite feature selection step 3/4. \u001b[1m(composite_feature_selector.py:113)\u001b[0m\n",
            "[2023-06-16 20:14:32] [\u001b[1;32mINFO\u001b[0m] Executing composite feature selection step 4/4: InvarianceFeatureSelector. \u001b[1m(composite_feature_selector.py:108)\u001b[0m\n",
            "[2023-06-16 20:14:32] [\u001b[1;32mINFO\u001b[0m] Selecting features from the following set (0): []. \u001b[1m(invariance_feature_selector.py:98)\u001b[0m\n"
          ]
        },
        {
          "data": {
            "application/vnd.jupyter.widget-view+json": {
              "model_id": "2f23c61b036849978c348803f8ca2909",
              "version_major": 2,
              "version_minor": 0
            },
            "text/plain": [
              "Calculating invariance of features: 0it [00:00, ?it/s]"
            ]
          },
          "metadata": {},
          "output_type": "display_data"
        },
        {
          "name": "stdout",
          "output_type": "stream",
          "text": [
            "[2023-06-16 20:14:32] [\u001b[1;32mINFO\u001b[0m] Dropping (0) invariant features: set(). \u001b[1m(invariance_feature_selector.py:106)\u001b[0m\n",
            "[2023-06-16 20:14:32] [\u001b[1;32mINFO\u001b[0m] Finished composite feature selection step 4/4. \u001b[1m(composite_feature_selector.py:113)\u001b[0m\n"
          ]
        },
        {
          "data": {
            "application/vnd.jupyter.widget-view+json": {
              "model_id": "679efb0ea68f4a478f6c0e88ab8edfb7",
              "version_major": 2,
              "version_minor": 0
            },
            "text/plain": [
              "Writing DataFrame to .arrow file:   0%|          | 0/100 [00:00<?, ?it/s]"
            ]
          },
          "metadata": {},
          "output_type": "display_data"
        },
        {
          "name": "stdout",
          "output_type": "stream",
          "text": [
            "[2023-06-16 20:14:32] [\u001b[1;32mINFO\u001b[0m] Finished step 4/5 execution. \u001b[1m(pipeline.py:83)\u001b[0m\n",
            "[2023-06-16 20:14:32] [\u001b[1;32mINFO\u001b[0m] Executing step 5/5: SplitStep. \u001b[1m(pipeline.py:81)\u001b[0m\n",
            "[2023-06-16 20:14:32] [\u001b[1;32mINFO\u001b[0m] \u001b[33mForce Cache Refresh\u001b[0m (LRUCache) ExpressionSplitter.split: Executing method. \u001b[1m(cache_mixin.py:133)\u001b[0m\n",
            "[2023-06-16 20:14:32] [\u001b[1;32mINFO\u001b[0m] Splitting dataframe based on expression 'Time > 100'. \u001b[1m(expression_splitter.py:92)\u001b[0m\n",
            "[2023-06-16 20:14:32] [\u001b[1;32mINFO\u001b[0m] Split dataframe into two dataframes with shapes (227718, 31) and (127, 31). \u001b[1m(expression_splitter.py:95)\u001b[0m\n"
          ]
        },
        {
          "data": {
            "application/vnd.jupyter.widget-view+json": {
              "model_id": "ca3ef9fa89cb467b84f8608497c35cfd",
              "version_major": 2,
              "version_minor": 0
            },
            "text/plain": [
              "Writing DataFrame to .arrow file:   0%|          | 0/100 [00:00<?, ?it/s]"
            ]
          },
          "metadata": {},
          "output_type": "display_data"
        },
        {
          "data": {
            "application/vnd.jupyter.widget-view+json": {
              "model_id": "c6e1c300c9fe4be88136e04f9e288aee",
              "version_major": 2,
              "version_minor": 0
            },
            "text/plain": [
              "Writing DataFrame to .arrow file:   0%|          | 0/100 [00:00<?, ?it/s]"
            ]
          },
          "metadata": {},
          "output_type": "display_data"
        },
        {
          "name": "stdout",
          "output_type": "stream",
          "text": [
            "[2023-06-16 20:14:32] [\u001b[1;32mINFO\u001b[0m] Finished step 5/5 execution. \u001b[1m(pipeline.py:83)\u001b[0m\n"
          ]
        }
      ],
      "source": [
        "data_container =  pipeline.run(force_recompute=True).data"
      ]
    },
    {
      "cell_type": "code",
      "execution_count": null,
      "metadata": {},
      "outputs": [],
      "source": []
    }
  ],
  "metadata": {
    "kernelspec": {
      "display_name": ".venv",
      "language": "python",
      "name": "python3"
    },
    "language_info": {
      "codemirror_mode": {
        "name": "ipython",
        "version": 3
      },
      "file_extension": ".py",
      "mimetype": "text/x-python",
      "name": "python",
      "nbconvert_exporter": "python",
      "pygments_lexer": "ipython3",
      "version": "3.8.16"
    },
    "orig_nbformat": 4,
    "vscode": {
      "interpreter": {
        "hash": "9611670ec755352ff717d7a41a0ab877947349e5431e69ecf0edefdfa5d80e71"
      }
    }
  },
  "nbformat": 4,
  "nbformat_minor": 2
}
