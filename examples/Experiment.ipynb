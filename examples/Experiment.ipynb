{
 "cells": [
  {
   "cell_type": "code",
   "execution_count": 1,
   "metadata": {},
   "outputs": [],
   "source": [
    "%reload_ext autoreload\n",
    "%autoreload 2"
   ]
  },
  {
   "cell_type": "code",
   "execution_count": 2,
   "metadata": {},
   "outputs": [],
   "source": [
    "import logging\n",
    "\n",
    "from mleko.utils.custom_logger import CustomLogger\n",
    "from mleko.data.converters import CsvToArrowConverter\n",
    "from mleko.data.sources import S3DataSource\n",
    "from mleko.pipeline.pipeline import Pipeline\n",
    "from mleko.pipeline.steps.convert import ConvertStep\n",
    "from mleko.pipeline.steps.ingest import IngestStep\n",
    "\n",
    "\n",
    "CustomLogger.set_global_log_level(logging.DEBUG)"
   ]
  },
  {
   "cell_type": "code",
   "execution_count": 3,
   "metadata": {},
   "outputs": [],
   "source": [
    "DATASET_NAME = \"00_uk_plip_merchant\"\n",
    "S3_KEY_PREFIX = f\"access-purpose/fraud_modelling_eu/fraud-strategy-uk-au-nz/user_erik_bavenstrand/{DATASET_NAME}\"\n",
    "S3_BUCKET_NAME = \"eu-production-klarna-data-redshift-unload-eu\"\n",
    "AWS_PROFILE_NAME = \"iam-sync/lakehouse-redshift/lakehouse-redshift.IdP_fraud_modelling_eu@922587933573\""
   ]
  },
  {
   "cell_type": "code",
   "execution_count": 4,
   "metadata": {},
   "outputs": [],
   "source": [
    "s3DataSource = S3DataSource(\n",
    "    destination_dir=f\"data/{DATASET_NAME}/raw\",\n",
    "    s3_bucket_name=S3_BUCKET_NAME,\n",
    "    s3_key_prefix=S3_KEY_PREFIX,\n",
    "    aws_profile_name=AWS_PROFILE_NAME,\n",
    "    num_workers=64,\n",
    ")\n",
    "\n",
    "csvToArrowConverter = CsvToArrowConverter(output_directory=f\"data/{DATASET_NAME}/converted\", downcast_float=True)"
   ]
  },
  {
   "cell_type": "code",
   "execution_count": 5,
   "metadata": {},
   "outputs": [
    {
     "data": {
      "text/plain": [
       "Pipeline:\n",
       "  1. IngestStep(data_source=S3DataSource(aws_profile_name='iam-sync/lakehouse-redshift/lakehouse-redshift.IdP_fraud_modelling_eu@922587933573', aws_region_name='eu-west-1', num_workers=64, manifest_file_name='manifest', check_s3_timestamps=True, destination_dir='data/00_uk_plip_merchant/raw', s3_bucket_name='eu-production-klarna-data-redshift-unload-eu', s3_key_prefix='access-purpose/fraud_modelling_eu/fraud-strategy-uk-au-nz/user_erik_bavenstrand/00_uk_plip_merchant'))\n",
       "  2. ConvertStep(converter=CsvToArrowConverter(forced_datetime_columns=(), forced_numerical_columns=(), forced_categorical_columns=(), forced_boolean_columns=(), drop_columns=(), na_values=('-9998', '-9998.0', '-9999', '-9999.0', '-99', '-99.0', 'nan', 'none', 'non', 'Nan', 'None', 'Non', '', 'N/A', 'N/a', 'unknown', 'missing'), true_values=('t', 'True', 'true', '1'), false_values=('f', 'False', 'false', '0'), downcast_float=True, random_state=1337, workers=12, max_cache_entries=1, output_directory='data/00_uk_plip_merchant/converted'))"
      ]
     },
     "execution_count": 5,
     "metadata": {},
     "output_type": "execute_result"
    }
   ],
   "source": [
    "pipeline = Pipeline(steps=[\n",
    "    IngestStep(s3DataSource),\n",
    "    ConvertStep(csvToArrowConverter)\n",
    "])\n",
    "pipeline"
   ]
  },
  {
   "cell_type": "code",
   "execution_count": 6,
   "metadata": {},
   "outputs": [
    {
     "name": "stdout",
     "output_type": "stream",
     "text": [
      "[2023-05-02 20:00:04] [\u001b[1;32mINFO\u001b[0m] Local dataset is up to date with S3 bucket contents, skipping download. \u001b[1m(sources.py:130)\u001b[0m\n",
      "[2023-05-02 20:00:21] [\u001b[1;32mINFO\u001b[0m] \u001b[32mCache Hit\u001b[0m (LRUCache) CsvToArrowConverter.convert: Using cached output. \u001b[1m(cache.py:81)\u001b[0m\n"
     ]
    }
   ],
   "source": [
    "df = pipeline.run().data"
   ]
  },
  {
   "cell_type": "code",
   "execution_count": null,
   "metadata": {},
   "outputs": [],
   "source": []
  }
 ],
 "metadata": {
  "kernelspec": {
   "display_name": ".venv",
   "language": "python",
   "name": "python3"
  },
  "language_info": {
   "codemirror_mode": {
    "name": "ipython",
    "version": 3
   },
   "file_extension": ".py",
   "mimetype": "text/x-python",
   "name": "python",
   "nbconvert_exporter": "python",
   "pygments_lexer": "ipython3",
   "version": "3.8.16"
  },
  "orig_nbformat": 4,
  "vscode": {
   "interpreter": {
    "hash": "9611670ec755352ff717d7a41a0ab877947349e5431e69ecf0edefdfa5d80e71"
   }
  }
 },
 "nbformat": 4,
 "nbformat_minor": 2
}
