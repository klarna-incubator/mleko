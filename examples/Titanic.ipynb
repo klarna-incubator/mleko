{
 "cells": [
  {
   "cell_type": "markdown",
   "metadata": {},
   "source": [
    "# Introduction to `mleko` with Titanic\n",
    "\n",
    "This notebook is a quick introduction to `mleko` package. We will use the Titanic dataset to predict whether a passenger survived or not.\n",
    "\n",
    "The library provides 2 subpackages needed for data processing and model training:\n",
    "\n",
    "- `dataset`: Subpackage for handling and processing datasets.\n",
    "  - `ingest`: Module for ingesting (loading) data from various sources.\n",
    "    - `BaseIngester`: Base class for all ingesters.\n",
    "    - `KaggleIngester`: Ingests data from Kaggle.\n",
    "    - `S3Ingester`: Ingests data from Amazon S3.\n",
    "  - `convert`: Module for converting data into different formats.\n",
    "    - `BaseConverter`: Base class for all converters.\n",
    "    - `CsvToVaexConverter`: Converts CSV data into a Vaex DataFrame.\n",
    "  - `filter`: Module for filtering datasets.\n",
    "    - `BaseFilter`: Base class for all filters.\n",
    "    - `ExpressionFilter`: Filters data based on a given expression.\n",
    "  - `split`: Module for splitting datasets into training and testing sets.\n",
    "    - `BaseSplitter`: Base class for all splitters.\n",
    "    - `RandomSplitter`: Splits data randomly.\n",
    "    - `ExpressionSplitter`: Splits data based on a given expression.\n",
    "  - `transform`: Module for transforming datasets.\n",
    "    - `BaseTransformer`: Base class for all transformers.\n",
    "    - `CompositeTransformer`: Combines multiple transformers.\n",
    "    - `FrequencyEncoderTransformer`: Encodes categorical variables based on their frequency.\n",
    "    - `LabelEncoderTransformer`: Encodes categorical variables with unique labels.\n",
    "    - `MaxAbsScalerTransformer`: Scales each feature by its maximum absolute value.\n",
    "    - `MinMaxScalerTransformer`: Scales each feature to a given range.\n",
    "  - `feature_select`: Module for feature selection.\n",
    "    - `BaseFeatureSelector`: Base class for all feature selectors.\n",
    "    - `CompositeFeatureSelector`: Combines multiple feature selectors.\n",
    "    - `InvarianceFeatureSelector`: Selects features based on their invariance.\n",
    "    - `MissingRateFeatureSelector`: Selects features based on their missing rate.\n",
    "    - `PearsonCorrelationFeatureSelector`: Selects features based on their Pearson correlation.\n",
    "    - `VarianceFeatureSelector`: Selects features based on their variance.\n",
    "- `model`: Subpackage for building and training models.\n",
    "  - `BaseModel`: Base class for all models.\n",
    "  - `LGBMModel`: Trains a LightGBM model.\n"
   ]
  },
  {
   "cell_type": "markdown",
   "metadata": {},
   "source": [
    "# Configuration\n",
    "\n",
    "This section contains configurations for the notebook.\n"
   ]
  },
  {
   "cell_type": "code",
   "execution_count": 49,
   "metadata": {},
   "outputs": [],
   "source": [
    "%reload_ext autoreload\n",
    "%autoreload 2"
   ]
  },
  {
   "cell_type": "code",
   "execution_count": 50,
   "metadata": {},
   "outputs": [
    {
     "data": {
      "text/html": [
       "<style>\n",
       "/*overwrite hard coded write background by vscode for ipywidges */\n",
       ".cell-output-ipywidget-background {\n",
       "   background-color: transparent !important;\n",
       "}\n",
       "\n",
       "/*set widget foreground text and color of interactive widget to vs dark theme color */\n",
       ":root {\n",
       "    --jp-widgets-color: var(--vscode-editor-foreground);\n",
       "    --jp-widgets-font-size: var(--vscode-editor-font-size);\n",
       "}\n",
       "</style>\n"
      ],
      "text/plain": [
       "<IPython.core.display.HTML object>"
      ]
     },
     "metadata": {},
     "output_type": "display_data"
    }
   ],
   "source": [
    "%%html\n",
    "<style>\n",
    "/*overwrite hard coded write background by vscode for ipywidges */\n",
    ".cell-output-ipywidget-background {\n",
    "   background-color: transparent !important;\n",
    "}\n",
    "\n",
    "/*set widget foreground text and color of interactive widget to vs dark theme color */\n",
    ":root {\n",
    "    --jp-widgets-color: var(--vscode-editor-foreground);\n",
    "    --jp-widgets-font-size: var(--vscode-editor-font-size);\n",
    "}\n",
    "</style>"
   ]
  },
  {
   "cell_type": "markdown",
   "metadata": {},
   "source": [
    "## Constants\n",
    "\n",
    "Define various constants that will be used throughout the notebook.\n"
   ]
  },
  {
   "cell_type": "code",
   "execution_count": 2,
   "metadata": {},
   "outputs": [],
   "source": [
    "# Kaggle dataset identifier\n",
    "OWNER_SLUG = \"yasserh\"\n",
    "DATASET_SLUG = \"titanic-dataset\"\n",
    "DATASET_NAME = f\"{OWNER_SLUG}/{DATASET_SLUG}\"\n",
    "\n",
    "# Define meta features of the dataset not used as model inputs\n",
    "TARGET_FEATURE = \"Survived\"\n",
    "ID_COLUMN = \"PassengerId\"\n",
    "META_FEATURES = [ID_COLUMN, TARGET_FEATURE]\n",
    "\n",
    "# General Configuration\n",
    "RANDOM_STATE = 1337"
   ]
  },
  {
   "cell_type": "markdown",
   "metadata": {},
   "source": [
    "# Download Data\n",
    "\n",
    "In this cell, we use the `KaggleIngester` from the `mleko` library to download the Titanic dataset from Kaggle.\n"
   ]
  },
  {
   "cell_type": "code",
   "execution_count": 3,
   "metadata": {},
   "outputs": [
    {
     "name": "stdout",
     "output_type": "stream",
     "text": [
      "[2024-03-19 21:56:32] [\u001b[1;32mINFO\u001b[0m] Attempting to fetch Kaggle API credentials from environment variables 'KAGGLE_USERNAME' and 'KAGGLE_KEY'. \u001b[1m(kaggle_ingester.py:76)\u001b[0m\n",
      "[2024-03-19 21:56:32] [\u001b[1;32mINFO\u001b[0m] Kaggle API credentials not found in environment variables, attempting to fetch from fallback path at ~/.kaggle/kaggle.json. \u001b[1m(kaggle_ingester.py:84)\u001b[0m\n",
      "[2024-03-19 21:56:32] [\u001b[1;32mINFO\u001b[0m] Kaggle credentials successfully fetched. \u001b[1m(kaggle_ingester.py:93)\u001b[0m\n",
      "[2024-03-19 21:56:33] [\u001b[1;32mINFO\u001b[0m] Found 1 file(s) matching any of ['*'] in Kaggle dataset. \u001b[1m(kaggle_ingester.py:377)\u001b[0m\n",
      "[2024-03-19 21:56:33] [\u001b[1;32mINFO\u001b[0m] \u001b[32mCache Hit\u001b[0m: Local dataset is up to date with Kaggle, skipping download. \u001b[1m(kaggle_ingester.py:296)\u001b[0m\n"
     ]
    }
   ],
   "source": [
    "from mleko.dataset.ingest import KaggleIngester\n",
    "\n",
    "\n",
    "# Fetch data from Kaggle and return paths to the downloaded files\n",
    "csv_paths = KaggleIngester(owner_slug=OWNER_SLUG, dataset_slug=DATASET_SLUG).fetch_data()"
   ]
  },
  {
   "cell_type": "markdown",
   "metadata": {},
   "source": [
    "## Fetching Data from S3\n",
    "\n",
    "In addition to the `KaggleIngester`, `mleko` also provides the `S3Ingester` for downloading datasets from Amazon S3.\n",
    "\n",
    "Here's an example of how you can use it:\n",
    "\n",
    "```python\n",
    "from mleko.dataset.ingest import S3Ingester\n",
    "\n",
    "csv_paths = S3Ingester(\n",
    "    s3_bucket_name=\"mleko-datasets\",\n",
    "    s3_key_prefix=\"kaggle/nehaprabhavalkar/indian-food-101\",\n",
    "    aws_profile_name=\"mleko\",\n",
    "    aws_region_name=\"eu-west-1\",\n",
    "    num_workers=64,  # Number of workers to use for downloading files.\n",
    "    check_s3_timestamps=True,  # Ensure that all files are from the same date.\n",
    ").fetch_data()\n",
    "```\n"
   ]
  },
  {
   "cell_type": "markdown",
   "metadata": {},
   "source": [
    "# Clean Data\n",
    "\n",
    "Here, we use the `CSVToVaexConverter` from `mleko` to clean the data.\n",
    "\n",
    "The converter reads the CSV file, drops unnecessary columns, handles missing values, and converts the data into a Vaex DataFrame for efficient processing.\n"
   ]
  },
  {
   "cell_type": "code",
   "execution_count": 4,
   "metadata": {},
   "outputs": [
    {
     "name": "stdout",
     "output_type": "stream",
     "text": [
      "[2024-03-19 21:56:34] [\u001b[1;32mINFO\u001b[0m] \u001b[32mCache Hit\u001b[0m (LRUCache) CSVToVaexConverter.convert: Using cached output. \u001b[1m(cache_mixin.py:163)\u001b[0m\n"
     ]
    }
   ],
   "source": [
    "from mleko.dataset.convert import CSVToVaexConverter\n",
    "\n",
    "\n",
    "clean_schema, clean_df = CSVToVaexConverter(\n",
    "    drop_columns=[\"Ticket\"],\n",
    "    meta_columns=META_FEATURES,\n",
    "    drop_rows_with_na_columns=[TARGET_FEATURE],  # Drop rows with missing target values\n",
    "    random_state=RANDOM_STATE,  # We like reproducibility\n",
    ").convert(csv_paths)"
   ]
  },
  {
   "cell_type": "markdown",
   "metadata": {},
   "source": [
    "Investigate the data to see what columns are available and what their data types are.\n"
   ]
  },
  {
   "cell_type": "code",
   "execution_count": 5,
   "metadata": {},
   "outputs": [
    {
     "data": {
      "text/plain": [
       "{'numerical': ['Age', 'Fare', 'Parch', 'Pclass', 'SibSp'],\n",
       " 'categorical': ['Cabin', 'Embarked', 'Name', 'Sex'],\n",
       " 'boolean': [],\n",
       " 'datetime': [],\n",
       " 'timedelta': []}"
      ]
     },
     "execution_count": 5,
     "metadata": {},
     "output_type": "execute_result"
    }
   ],
   "source": [
    "clean_schema.features"
   ]
  },
  {
   "cell_type": "code",
   "execution_count": 6,
   "metadata": {},
   "outputs": [
    {
     "data": {
      "text/html": [
       "<table>\n",
       "<thead>\n",
       "<tr><th>#                            </th><th style=\"text-align: right;\">  PassengerId</th><th style=\"text-align: right;\">  Survived</th><th style=\"text-align: right;\">  Pclass</th><th>Name                                               </th><th>Sex   </th><th>Age  </th><th style=\"text-align: right;\">  SibSp</th><th style=\"text-align: right;\">  Parch</th><th style=\"text-align: right;\">   Fare</th><th>Cabin  </th><th>Embarked  </th></tr>\n",
       "</thead>\n",
       "<tbody>\n",
       "<tr><td><i style='opacity: 0.6'>0</i></td><td style=\"text-align: right;\">            1</td><td style=\"text-align: right;\">         0</td><td style=\"text-align: right;\">       3</td><td>Braund, Mr. Owen Harris                            </td><td>male  </td><td>22.0 </td><td style=\"text-align: right;\">      1</td><td style=\"text-align: right;\">      0</td><td style=\"text-align: right;\"> 7.25  </td><td>--     </td><td>S         </td></tr>\n",
       "<tr><td><i style='opacity: 0.6'>1</i></td><td style=\"text-align: right;\">            2</td><td style=\"text-align: right;\">         1</td><td style=\"text-align: right;\">       1</td><td>&#x27;Cumings, Mrs. John Bradley (Florence Briggs Tha...</td><td>female</td><td>38.0 </td><td style=\"text-align: right;\">      1</td><td style=\"text-align: right;\">      0</td><td style=\"text-align: right;\">71.2833</td><td>C85    </td><td>C         </td></tr>\n",
       "<tr><td><i style='opacity: 0.6'>2</i></td><td style=\"text-align: right;\">            3</td><td style=\"text-align: right;\">         1</td><td style=\"text-align: right;\">       3</td><td>Heikkinen, Miss. Laina                             </td><td>female</td><td>26.0 </td><td style=\"text-align: right;\">      0</td><td style=\"text-align: right;\">      0</td><td style=\"text-align: right;\"> 7.925 </td><td>--     </td><td>S         </td></tr>\n",
       "<tr><td><i style='opacity: 0.6'>3</i></td><td style=\"text-align: right;\">            4</td><td style=\"text-align: right;\">         1</td><td style=\"text-align: right;\">       1</td><td>Futrelle, Mrs. Jacques Heath (Lily May Peel)       </td><td>female</td><td>35.0 </td><td style=\"text-align: right;\">      1</td><td style=\"text-align: right;\">      0</td><td style=\"text-align: right;\">53.1   </td><td>C123   </td><td>S         </td></tr>\n",
       "<tr><td><i style='opacity: 0.6'>4</i></td><td style=\"text-align: right;\">            5</td><td style=\"text-align: right;\">         0</td><td style=\"text-align: right;\">       3</td><td>Allen, Mr. William Henry                           </td><td>male  </td><td>35.0 </td><td style=\"text-align: right;\">      0</td><td style=\"text-align: right;\">      0</td><td style=\"text-align: right;\"> 8.05  </td><td>--     </td><td>S         </td></tr>\n",
       "<tr><td><i style='opacity: 0.6'>5</i></td><td style=\"text-align: right;\">            6</td><td style=\"text-align: right;\">         0</td><td style=\"text-align: right;\">       3</td><td>Moran, Mr. James                                   </td><td>male  </td><td>--   </td><td style=\"text-align: right;\">      0</td><td style=\"text-align: right;\">      0</td><td style=\"text-align: right;\"> 8.4583</td><td>--     </td><td>Q         </td></tr>\n",
       "<tr><td><i style='opacity: 0.6'>6</i></td><td style=\"text-align: right;\">            7</td><td style=\"text-align: right;\">         0</td><td style=\"text-align: right;\">       1</td><td>McCarthy, Mr. Timothy J                            </td><td>male  </td><td>54.0 </td><td style=\"text-align: right;\">      0</td><td style=\"text-align: right;\">      0</td><td style=\"text-align: right;\">51.8625</td><td>E46    </td><td>S         </td></tr>\n",
       "<tr><td><i style='opacity: 0.6'>7</i></td><td style=\"text-align: right;\">            8</td><td style=\"text-align: right;\">         0</td><td style=\"text-align: right;\">       3</td><td>Palsson, Master. Gosta Leonard                     </td><td>male  </td><td>2.0  </td><td style=\"text-align: right;\">      3</td><td style=\"text-align: right;\">      1</td><td style=\"text-align: right;\">21.075 </td><td>--     </td><td>S         </td></tr>\n",
       "<tr><td><i style='opacity: 0.6'>8</i></td><td style=\"text-align: right;\">            9</td><td style=\"text-align: right;\">         1</td><td style=\"text-align: right;\">       3</td><td>Johnson, Mrs. Oscar W (Elisabeth Vilhelmina Berg)  </td><td>female</td><td>27.0 </td><td style=\"text-align: right;\">      0</td><td style=\"text-align: right;\">      2</td><td style=\"text-align: right;\">11.1333</td><td>--     </td><td>S         </td></tr>\n",
       "<tr><td><i style='opacity: 0.6'>9</i></td><td style=\"text-align: right;\">           10</td><td style=\"text-align: right;\">         1</td><td style=\"text-align: right;\">       2</td><td>Nasser, Mrs. Nicholas (Adele Achem)                </td><td>female</td><td>14.0 </td><td style=\"text-align: right;\">      1</td><td style=\"text-align: right;\">      0</td><td style=\"text-align: right;\">30.0708</td><td>--     </td><td>C         </td></tr>\n",
       "</tbody>\n",
       "</table>"
      ],
      "text/plain": [
       "  #    PassengerId    Survived    Pclass  Name                                                 Sex     Age      SibSp    Parch     Fare  Cabin    Embarked\n",
       "  0              1           0         3  Braund, Mr. Owen Harris                              male    22.0         1        0   7.25    --       S\n",
       "  1              2           1         1  'Cumings, Mrs. John Bradley (Florence Briggs Tha...  female  38.0         1        0  71.2833  C85      C\n",
       "  2              3           1         3  Heikkinen, Miss. Laina                               female  26.0         0        0   7.925   --       S\n",
       "  3              4           1         1  Futrelle, Mrs. Jacques Heath (Lily May Peel)         female  35.0         1        0  53.1     C123     S\n",
       "  4              5           0         3  Allen, Mr. William Henry                             male    35.0         0        0   8.05    --       S\n",
       "  5              6           0         3  Moran, Mr. James                                     male    --           0        0   8.4583  --       Q\n",
       "  6              7           0         1  McCarthy, Mr. Timothy J                              male    54.0         0        0  51.8625  E46      S\n",
       "  7              8           0         3  Palsson, Master. Gosta Leonard                       male    2.0          3        1  21.075   --       S\n",
       "  8              9           1         3  Johnson, Mrs. Oscar W (Elisabeth Vilhelmina Berg)    female  27.0         0        2  11.1333  --       S\n",
       "  9             10           1         2  Nasser, Mrs. Nicholas (Adele Achem)                  female  14.0         1        0  30.0708  --       C"
      ]
     },
     "execution_count": 6,
     "metadata": {},
     "output_type": "execute_result"
    }
   ],
   "source": [
    "clean_df.head(10)"
   ]
  },
  {
   "cell_type": "markdown",
   "metadata": {},
   "source": [
    "# Filter Dataset\n",
    "\n",
    "In this step, we will filter the dataset using the `ExpressionFilter` from `mleko` on all rows where the `Age` column is not null.\n"
   ]
  },
  {
   "cell_type": "code",
   "execution_count": 33,
   "metadata": {},
   "outputs": [
    {
     "name": "stdout",
     "output_type": "stream",
     "text": [
      "[2024-03-19 22:06:22] [\u001b[1;32mINFO\u001b[0m] \u001b[32mCache Hit\u001b[0m (LRUCache) ExpressionFilter.filter: Using cached output. \u001b[1m(cache_mixin.py:163)\u001b[0m\n"
     ]
    }
   ],
   "source": [
    "from mleko.dataset.filter import ExpressionFilter\n",
    "\n",
    "filtered_df = ExpressionFilter(\"~isna(Age)\").filter(clean_df)"
   ]
  },
  {
   "cell_type": "markdown",
   "metadata": {},
   "source": [
    "# Split Train/Val and Test Dataset\n",
    "\n",
    "In this section, we split the cleaned data into a training/validation set and a test set.\n",
    "\n",
    "We use the `RandomSplitter` from `mleko` to perform a stratified random split, ensuring that both sets have the same proportion of class labels.\n"
   ]
  },
  {
   "cell_type": "code",
   "execution_count": 35,
   "metadata": {},
   "outputs": [
    {
     "name": "stdout",
     "output_type": "stream",
     "text": [
      "[2024-03-19 22:06:28] [\u001b[1;32mINFO\u001b[0m] \u001b[32mCache Hit\u001b[0m (LRUCache) RandomSplitter.split: Using cached output. \u001b[1m(cache_mixin.py:163)\u001b[0m\n"
     ]
    }
   ],
   "source": [
    "from mleko.dataset.split import RandomSplitter\n",
    "\n",
    "\n",
    "clean_train_val_df, clean_test_df = RandomSplitter(\n",
    "    data_split=(0.90, 0.10),  # 90% train/val, 10% test\n",
    "    shuffle=True,  # Shuffle the data before splitting\n",
    "    stratify=TARGET_FEATURE,  # Stratify on the target feature\n",
    "    random_state=RANDOM_STATE,  # We like reproducibility\n",
    ").split(filtered_df)"
   ]
  },
  {
   "cell_type": "markdown",
   "metadata": {},
   "source": [
    "Ensure the class balance is maintained in the train/val and test sets.\n"
   ]
  },
  {
   "cell_type": "code",
   "execution_count": 36,
   "metadata": {},
   "outputs": [
    {
     "name": "stdout",
     "output_type": "stream",
     "text": [
      "Train/Val: 40.654% (Survived: 261, Total: 642)\n",
      "Test: 40.278% (Survived:  29, Total:  72)\n"
     ]
    }
   ],
   "source": [
    "def print_split_stats(df, split_name):\n",
    "    total_count = df.shape[0]\n",
    "    survival_count = df[TARGET_FEATURE].sum()  # type: ignore\n",
    "    survival_rate = survival_count / total_count\n",
    "\n",
    "    print(f\"{split_name}: {survival_rate * 100:.3f}% (Survived: {survival_count:3d}, Total: {total_count:3d})\")\n",
    "\n",
    "\n",
    "print_split_stats(clean_train_val_df, \"Train/Val\")\n",
    "print_split_stats(clean_test_df, \"Test\")"
   ]
  },
  {
   "cell_type": "markdown",
   "metadata": {},
   "source": [
    "## Splitting Based on Boolean Expressions\n",
    "\n",
    "For more complex splits, you can use the `ExpressionSplitter` from `mleko` to split the data based on a given boolean expression.\n",
    "\n",
    "It is suitable for splitting data based on time, location, or any other condition like the one below:\n",
    "\n",
    "```python\n",
    "from mleko.dataset.split import ExpressionSplitter\n",
    "\n",
    "train_val_df, test_df = ExpressionSplitter(\n",
    "    expression=\"(Embarked == 'S') | ((Embarked == 'C') & (Fare < 50))\"  # Train/val set contains passengers who embarked from Southampton or Cherbourg and paid less than 50.\n",
    ").split(filtered_df)\n",
    "```\n"
   ]
  },
  {
   "cell_type": "markdown",
   "metadata": {},
   "source": [
    "# Feature Engineering & Transformation\n",
    "\n",
    "In this section, we perform feature engineering and transformation using custom transformers, predefined transformers and combining them inside a `CompositeTransformer` from `mleko`.\n"
   ]
  },
  {
   "cell_type": "code",
   "execution_count": 37,
   "metadata": {},
   "outputs": [
    {
     "data": {
      "text/html": [
       "<table>\n",
       "<thead>\n",
       "<tr><th>#                              </th><th>PassengerId  </th><th>Survived  </th><th>Pclass  </th><th>Name                                               </th><th>Sex   </th><th>Age  </th><th>SibSp  </th><th>Parch  </th><th>Fare   </th><th>Cabin  </th><th>Embarked  </th></tr>\n",
       "</thead>\n",
       "<tbody>\n",
       "<tr><td><i style='opacity: 0.6'>0</i>  </td><td>1            </td><td>0         </td><td>3       </td><td>Braund, Mr. Owen Harris                            </td><td>male  </td><td>22.0 </td><td>1      </td><td>0      </td><td>7.25   </td><td>--     </td><td>S         </td></tr>\n",
       "<tr><td><i style='opacity: 0.6'>1</i>  </td><td>2            </td><td>1         </td><td>1       </td><td>&#x27;Cumings, Mrs. John Bradley (Florence Briggs Tha...</td><td>female</td><td>38.0 </td><td>1      </td><td>0      </td><td>71.2833</td><td>C85    </td><td>C         </td></tr>\n",
       "<tr><td><i style='opacity: 0.6'>2</i>  </td><td>3            </td><td>1         </td><td>3       </td><td>Heikkinen, Miss. Laina                             </td><td>female</td><td>26.0 </td><td>0      </td><td>0      </td><td>7.925  </td><td>--     </td><td>S         </td></tr>\n",
       "<tr><td><i style='opacity: 0.6'>3</i>  </td><td>4            </td><td>1         </td><td>1       </td><td>Futrelle, Mrs. Jacques Heath (Lily May Peel)       </td><td>female</td><td>35.0 </td><td>1      </td><td>0      </td><td>53.1   </td><td>C123   </td><td>S         </td></tr>\n",
       "<tr><td><i style='opacity: 0.6'>4</i>  </td><td>5            </td><td>0         </td><td>3       </td><td>Allen, Mr. William Henry                           </td><td>male  </td><td>35.0 </td><td>0      </td><td>0      </td><td>8.05   </td><td>--     </td><td>S         </td></tr>\n",
       "<tr><td>...                            </td><td>...          </td><td>...       </td><td>...     </td><td>...                                                </td><td>...   </td><td>...  </td><td>...    </td><td>...    </td><td>...    </td><td>...    </td><td>...       </td></tr>\n",
       "<tr><td><i style='opacity: 0.6'>637</i></td><td>886          </td><td>0         </td><td>3       </td><td>Rice, Mrs. William (Margaret Norton)               </td><td>female</td><td>39.0 </td><td>0      </td><td>5      </td><td>29.125 </td><td>--     </td><td>Q         </td></tr>\n",
       "<tr><td><i style='opacity: 0.6'>638</i></td><td>887          </td><td>0         </td><td>2       </td><td>Montvila, Rev. Juozas                              </td><td>male  </td><td>27.0 </td><td>0      </td><td>0      </td><td>13.0   </td><td>--     </td><td>S         </td></tr>\n",
       "<tr><td><i style='opacity: 0.6'>639</i></td><td>888          </td><td>1         </td><td>1       </td><td>Graham, Miss. Margaret Edith                       </td><td>female</td><td>19.0 </td><td>0      </td><td>0      </td><td>30.0   </td><td>B42    </td><td>S         </td></tr>\n",
       "<tr><td><i style='opacity: 0.6'>640</i></td><td>890          </td><td>1         </td><td>1       </td><td>Behr, Mr. Karl Howell                              </td><td>male  </td><td>26.0 </td><td>0      </td><td>0      </td><td>30.0   </td><td>C148   </td><td>C         </td></tr>\n",
       "<tr><td><i style='opacity: 0.6'>641</i></td><td>891          </td><td>0         </td><td>3       </td><td>Dooley, Mr. Patrick                                </td><td>male  </td><td>32.0 </td><td>0      </td><td>0      </td><td>7.75   </td><td>--     </td><td>Q         </td></tr>\n",
       "</tbody>\n",
       "</table>"
      ],
      "text/plain": [
       "#    PassengerId    Survived    Pclass    Name                                                 Sex     Age    SibSp    Parch    Fare     Cabin    Embarked\n",
       "0    1              0           3         Braund, Mr. Owen Harris                              male    22.0   1        0        7.25     --       S\n",
       "1    2              1           1         'Cumings, Mrs. John Bradley (Florence Briggs Tha...  female  38.0   1        0        71.2833  C85      C\n",
       "2    3              1           3         Heikkinen, Miss. Laina                               female  26.0   0        0        7.925    --       S\n",
       "3    4              1           1         Futrelle, Mrs. Jacques Heath (Lily May Peel)         female  35.0   1        0        53.1     C123     S\n",
       "4    5              0           3         Allen, Mr. William Henry                             male    35.0   0        0        8.05     --       S\n",
       "...  ...            ...         ...       ...                                                  ...     ...    ...      ...      ...      ...      ...\n",
       "637  886            0           3         Rice, Mrs. William (Margaret Norton)                 female  39.0   0        5        29.125   --       Q\n",
       "638  887            0           2         Montvila, Rev. Juozas                                male    27.0   0        0        13.0     --       S\n",
       "639  888            1           1         Graham, Miss. Margaret Edith                         female  19.0   0        0        30.0     B42      S\n",
       "640  890            1           1         Behr, Mr. Karl Howell                                male    26.0   0        0        30.0     C148     C\n",
       "641  891            0           3         Dooley, Mr. Patrick                                  male    32.0   0        0        7.75     --       Q"
      ]
     },
     "execution_count": 37,
     "metadata": {},
     "output_type": "execute_result"
    }
   ],
   "source": [
    "clean_train_val_df"
   ]
  },
  {
   "cell_type": "markdown",
   "metadata": {},
   "source": [
    "## Custom Transformers\n",
    "\n",
    "It is important the the ML pipeline is flexible and allows for easy experimentation, be it with different feature engineering techniques or different models.\n",
    "\n",
    "In many cases, the classes provided by `mleko` will be sufficient for your needs. However, you can also create your own custom classes by inheriting from the `BaseClass` class. For transformers, you need to inherit from the `BaseTransformer` class and implement the `__init__`, `_fit`, `_transform`, and `_fingerprint` methods.\n"
   ]
  },
  {
   "cell_type": "code",
   "execution_count": 38,
   "metadata": {},
   "outputs": [],
   "source": [
    "from __future__ import annotations\n",
    "\n",
    "from pathlib import Path\n",
    "from typing import Hashable\n",
    "\n",
    "import vaex\n",
    "import vaex.ml\n",
    "\n",
    "from mleko.dataset import DataSchema\n",
    "from mleko.dataset.transform import BaseTransformer\n",
    "from mleko.utils import auto_repr\n",
    "\n",
    "\n",
    "class IsAloneTransformer(BaseTransformer):\n",
    "    @auto_repr\n",
    "    def __init__(\n",
    "        self,\n",
    "        cache_directory: str | Path = \"data/is-alone-transformer\",\n",
    "        cache_size: int = 1,\n",
    "    ) -> None:\n",
    "        super().__init__([], cache_directory, cache_size)\n",
    "        self._transformer = -1\n",
    "\n",
    "    def _fit(self, data_schema: DataSchema, _dataframe: vaex.DataFrame) -> tuple[DataSchema, int]:\n",
    "        \"\"\"No fitting required for this transformer.\"\"\"\n",
    "        ds = data_schema.copy().add_feature(\"IsAlone\", \"boolean\")\n",
    "        return ds, self._transformer\n",
    "\n",
    "    def _transform(self, data_schema: DataSchema, dataframe: vaex.DataFrame) -> tuple[DataSchema, vaex.DataFrame]:\n",
    "        \"\"\"Add a new feature to the dataset indicating whether the passenger was alone or not.\"\"\"\n",
    "        df = dataframe.copy()\n",
    "        df[\"IsAlone\"] = (df[\"SibSp\"] + df[\"Parch\"] == 0).astype(\"int8\")\n",
    "        ds = data_schema.copy().add_feature(\"IsAlone\", \"boolean\")\n",
    "        return ds, df\n",
    "\n",
    "    def _fingerprint(self) -> Hashable:\n",
    "        return super()._fingerprint()\n",
    "\n",
    "\n",
    "class FeatureDropperTransformer(BaseTransformer):\n",
    "    @auto_repr\n",
    "    def __init__(\n",
    "        self,\n",
    "        features: list[str] | tuple[str, ...],\n",
    "        cache_directory: str | Path = \"data/feature-dropper-transformer\",\n",
    "        cache_size: int = 1,\n",
    "    ) -> None:\n",
    "        super().__init__(features, cache_directory, cache_size)\n",
    "        self._transformer = -1\n",
    "\n",
    "    def _fit(self, data_schema: DataSchema, _dataframe: vaex.DataFrame) -> tuple[DataSchema, int]:\n",
    "        \"\"\"No fitting required for this transformer.\"\"\"\n",
    "        ds = data_schema.copy().drop_features(self._features)\n",
    "        return ds, self._transformer\n",
    "\n",
    "    def _transform(self, data_schema: DataSchema, dataframe: vaex.DataFrame) -> tuple[DataSchema, vaex.DataFrame]:\n",
    "        \"\"\"Drop the specified features from the dataset.\"\"\"\n",
    "        df = dataframe.drop(self._features, inplace=False)\n",
    "        ds = data_schema.copy().drop_features(self._features)\n",
    "        return ds, df\n",
    "\n",
    "    def _fingerprint(self) -> Hashable:\n",
    "        return super()._fingerprint()"
   ]
  },
  {
   "cell_type": "markdown",
   "metadata": {},
   "source": [
    "Transformers can be applied individually or combined into a `CompositeTransformer`. The `CompositeTransformer` allows you to combine multiple transformers into a single transformer, saving you from having to apply each transformer individually, like a small pipeline. The custom transformers can be used in the same way as the predefined ones, e.g. `LabelEncoderTransformer` or `FrequencyEncoderTransformer`.\n",
    "\n",
    "The transformers follows the common `fit` and `transform` pattern, similar to `scikit-learn`. This is true for feature selectors and models as well.\n"
   ]
  },
  {
   "cell_type": "code",
   "execution_count": 40,
   "metadata": {},
   "outputs": [
    {
     "name": "stdout",
     "output_type": "stream",
     "text": [
      "[2024-03-19 22:06:59] [\u001b[1;33mWARNING\u001b[0m] Null values will be kept as `None`. \u001b[1m(label_encoder_transformer.py:119)\u001b[0m\n",
      "[2024-03-19 22:06:59] [\u001b[1;32mINFO\u001b[0m] \u001b[32mCache Hit\u001b[0m (LRUCache) CompositeTransformer.fit_transform: Using cached output. \u001b[1m(cache_mixin.py:163)\u001b[0m\n",
      "[2024-03-19 22:06:59] [\u001b[1;32mINFO\u001b[0m] \u001b[32mCache Hit\u001b[0m (LRUCache) CompositeTransformer.transform: Using cached output. \u001b[1m(cache_mixin.py:163)\u001b[0m\n"
     ]
    }
   ],
   "source": [
    "from mleko.dataset.transform import CompositeTransformer, LabelEncoderTransformer\n",
    "\n",
    "\n",
    "composite_transformer = CompositeTransformer(\n",
    "    transformers=[\n",
    "        FeatureDropperTransformer(features=[\"Name\"]),\n",
    "        IsAloneTransformer(),\n",
    "        LabelEncoderTransformer(features=[\"Sex\", \"Embarked\"]),\n",
    "    ],\n",
    ")\n",
    "\n",
    "transform_schema, _, transform_train_val_df = composite_transformer.fit_transform(clean_schema, clean_train_val_df)\n",
    "_, transform_test_df = composite_transformer.transform(clean_schema, clean_test_df)"
   ]
  },
  {
   "cell_type": "markdown",
   "metadata": {},
   "source": [
    "Ensure the transformed dataset has correct data types.\n"
   ]
  },
  {
   "cell_type": "code",
   "execution_count": 41,
   "metadata": {},
   "outputs": [
    {
     "data": {
      "text/plain": [
       "{'numerical': ['Age', 'Fare', 'Parch', 'Pclass', 'SibSp'],\n",
       " 'categorical': ['Cabin', 'Embarked', 'Sex'],\n",
       " 'boolean': ['IsAlone'],\n",
       " 'datetime': [],\n",
       " 'timedelta': []}"
      ]
     },
     "execution_count": 41,
     "metadata": {},
     "output_type": "execute_result"
    }
   ],
   "source": [
    "transform_schema.features"
   ]
  },
  {
   "cell_type": "code",
   "execution_count": 42,
   "metadata": {},
   "outputs": [
    {
     "data": {
      "text/html": [
       "<table>\n",
       "<thead>\n",
       "<tr><th>#                              </th><th>PassengerId  </th><th>Survived  </th><th>Pclass  </th><th>Sex  </th><th>Age  </th><th>SibSp  </th><th>Parch  </th><th>Fare   </th><th>Cabin  </th><th>Embarked  </th><th>IsAlone  </th></tr>\n",
       "</thead>\n",
       "<tbody>\n",
       "<tr><td><i style='opacity: 0.6'>0</i>  </td><td>1            </td><td>0         </td><td>3       </td><td>1    </td><td>22.0 </td><td>1      </td><td>0      </td><td>7.25   </td><td>--     </td><td>2         </td><td>0        </td></tr>\n",
       "<tr><td><i style='opacity: 0.6'>1</i>  </td><td>2            </td><td>1         </td><td>1       </td><td>0    </td><td>38.0 </td><td>1      </td><td>0      </td><td>71.2833</td><td>C85    </td><td>1         </td><td>0        </td></tr>\n",
       "<tr><td><i style='opacity: 0.6'>2</i>  </td><td>3            </td><td>1         </td><td>3       </td><td>0    </td><td>26.0 </td><td>0      </td><td>0      </td><td>7.925  </td><td>--     </td><td>2         </td><td>1        </td></tr>\n",
       "<tr><td><i style='opacity: 0.6'>3</i>  </td><td>4            </td><td>1         </td><td>1       </td><td>0    </td><td>35.0 </td><td>1      </td><td>0      </td><td>53.1   </td><td>C123   </td><td>2         </td><td>0        </td></tr>\n",
       "<tr><td><i style='opacity: 0.6'>4</i>  </td><td>5            </td><td>0         </td><td>3       </td><td>1    </td><td>35.0 </td><td>0      </td><td>0      </td><td>8.05   </td><td>--     </td><td>2         </td><td>1        </td></tr>\n",
       "<tr><td>...                            </td><td>...          </td><td>...       </td><td>...     </td><td>...  </td><td>...  </td><td>...    </td><td>...    </td><td>...    </td><td>...    </td><td>...       </td><td>...      </td></tr>\n",
       "<tr><td><i style='opacity: 0.6'>637</i></td><td>886          </td><td>0         </td><td>3       </td><td>0    </td><td>39.0 </td><td>0      </td><td>5      </td><td>29.125 </td><td>--     </td><td>0         </td><td>0        </td></tr>\n",
       "<tr><td><i style='opacity: 0.6'>638</i></td><td>887          </td><td>0         </td><td>2       </td><td>1    </td><td>27.0 </td><td>0      </td><td>0      </td><td>13.0   </td><td>--     </td><td>2         </td><td>1        </td></tr>\n",
       "<tr><td><i style='opacity: 0.6'>639</i></td><td>888          </td><td>1         </td><td>1       </td><td>0    </td><td>19.0 </td><td>0      </td><td>0      </td><td>30.0   </td><td>B42    </td><td>2         </td><td>1        </td></tr>\n",
       "<tr><td><i style='opacity: 0.6'>640</i></td><td>890          </td><td>1         </td><td>1       </td><td>1    </td><td>26.0 </td><td>0      </td><td>0      </td><td>30.0   </td><td>C148   </td><td>1         </td><td>1        </td></tr>\n",
       "<tr><td><i style='opacity: 0.6'>641</i></td><td>891          </td><td>0         </td><td>3       </td><td>1    </td><td>32.0 </td><td>0      </td><td>0      </td><td>7.75   </td><td>--     </td><td>0         </td><td>1        </td></tr>\n",
       "</tbody>\n",
       "</table>"
      ],
      "text/plain": [
       "#    PassengerId    Survived    Pclass    Sex    Age    SibSp    Parch    Fare     Cabin    Embarked    IsAlone\n",
       "0    1              0           3         1      22.0   1        0        7.25     --       2           0\n",
       "1    2              1           1         0      38.0   1        0        71.2833  C85      1           0\n",
       "2    3              1           3         0      26.0   0        0        7.925    --       2           1\n",
       "3    4              1           1         0      35.0   1        0        53.1     C123     2           0\n",
       "4    5              0           3         1      35.0   0        0        8.05     --       2           1\n",
       "...  ...            ...         ...       ...    ...    ...      ...      ...      ...      ...         ...\n",
       "637  886            0           3         0      39.0   0        5        29.125   --       0           0\n",
       "638  887            0           2         1      27.0   0        0        13.0     --       2           1\n",
       "639  888            1           1         0      19.0   0        0        30.0     B42      2           1\n",
       "640  890            1           1         1      26.0   0        0        30.0     C148     1           1\n",
       "641  891            0           3         1      32.0   0        0        7.75     --       0           1"
      ]
     },
     "execution_count": 42,
     "metadata": {},
     "output_type": "execute_result"
    }
   ],
   "source": [
    "transform_train_val_df"
   ]
  },
  {
   "cell_type": "markdown",
   "metadata": {},
   "source": [
    "# Feature Selection\n",
    "\n",
    "Here, we use the `CompositeFeatureSelector` from `mleko` to select the most relevant features for our model. We use three selectors: `MissingRateFeatureSelector` to remove features with too many missing values, `InvarianceFeatureSelector` to remove invariant features, and `PearsonCorrelationFeatureSelector` to remove highly correlated features. We also display a correlation matrix for the selected numerical features.\n",
    "\n",
    "Just like transformers, feature selectors can be applied individually or combined into a `CompositeFeatureSelector`, and allow for custom feature selectors.\n"
   ]
  },
  {
   "cell_type": "code",
   "execution_count": 44,
   "metadata": {},
   "outputs": [
    {
     "name": "stdout",
     "output_type": "stream",
     "text": [
      "[2024-03-19 22:08:27] [\u001b[1;32mINFO\u001b[0m] \u001b[32mCache Hit\u001b[0m (LRUCache) CompositeFeatureSelector.fit_transform: Using cached output. \u001b[1m(cache_mixin.py:163)\u001b[0m\n",
      "[2024-03-19 22:08:27] [\u001b[1;32mINFO\u001b[0m] \u001b[32mCache Hit\u001b[0m (LRUCache) CompositeFeatureSelector.transform: Using cached output. \u001b[1m(cache_mixin.py:163)\u001b[0m\n"
     ]
    }
   ],
   "source": [
    "from mleko.dataset.feature_select import (\n",
    "    CompositeFeatureSelector,\n",
    "    InvarianceFeatureSelector,\n",
    "    MissingRateFeatureSelector,\n",
    "    PearsonCorrelationFeatureSelector,\n",
    ")\n",
    "\n",
    "\n",
    "composite_feature_selector = CompositeFeatureSelector(\n",
    "    feature_selectors=[\n",
    "        MissingRateFeatureSelector(\n",
    "            missing_rate_threshold=0.5,\n",
    "            ignore_features=META_FEATURES,\n",
    "        ),\n",
    "        InvarianceFeatureSelector(\n",
    "            ignore_features=META_FEATURES,\n",
    "        ),\n",
    "        PearsonCorrelationFeatureSelector(\n",
    "            correlation_threshold=0.7,\n",
    "            ignore_features=META_FEATURES,\n",
    "        ),\n",
    "    ],\n",
    ")\n",
    "\n",
    "data_schema, _, feature_select_train_val_df = composite_feature_selector.fit_transform(\n",
    "    transform_schema, transform_train_val_df\n",
    ")\n",
    "_, test_df = composite_feature_selector.transform(transform_schema, transform_test_df)"
   ]
  },
  {
   "cell_type": "markdown",
   "metadata": {},
   "source": [
    "The `Cabin` feature has too many missing values, so we drop it. No other feature was dropped.\n"
   ]
  },
  {
   "cell_type": "code",
   "execution_count": 45,
   "metadata": {},
   "outputs": [
    {
     "data": {
      "text/plain": [
       "{'numerical': ['Age', 'Fare', 'Parch', 'Pclass', 'SibSp'],\n",
       " 'categorical': ['Embarked', 'Sex'],\n",
       " 'boolean': ['IsAlone'],\n",
       " 'datetime': [],\n",
       " 'timedelta': []}"
      ]
     },
     "execution_count": 45,
     "metadata": {},
     "output_type": "execute_result"
    }
   ],
   "source": [
    "data_schema.features"
   ]
  },
  {
   "cell_type": "code",
   "execution_count": 46,
   "metadata": {},
   "outputs": [
    {
     "data": {
      "text/html": [
       "<table>\n",
       "<thead>\n",
       "<tr><th>#                              </th><th>PassengerId  </th><th>Survived  </th><th>Pclass  </th><th>Sex  </th><th>Age  </th><th>SibSp  </th><th>Parch  </th><th>Fare   </th><th>Embarked  </th><th>IsAlone  </th></tr>\n",
       "</thead>\n",
       "<tbody>\n",
       "<tr><td><i style='opacity: 0.6'>0</i>  </td><td>1            </td><td>0         </td><td>3       </td><td>1    </td><td>22.0 </td><td>1      </td><td>0      </td><td>7.25   </td><td>2         </td><td>0        </td></tr>\n",
       "<tr><td><i style='opacity: 0.6'>1</i>  </td><td>2            </td><td>1         </td><td>1       </td><td>0    </td><td>38.0 </td><td>1      </td><td>0      </td><td>71.2833</td><td>1         </td><td>0        </td></tr>\n",
       "<tr><td><i style='opacity: 0.6'>2</i>  </td><td>3            </td><td>1         </td><td>3       </td><td>0    </td><td>26.0 </td><td>0      </td><td>0      </td><td>7.925  </td><td>2         </td><td>1        </td></tr>\n",
       "<tr><td><i style='opacity: 0.6'>3</i>  </td><td>4            </td><td>1         </td><td>1       </td><td>0    </td><td>35.0 </td><td>1      </td><td>0      </td><td>53.1   </td><td>2         </td><td>0        </td></tr>\n",
       "<tr><td><i style='opacity: 0.6'>4</i>  </td><td>5            </td><td>0         </td><td>3       </td><td>1    </td><td>35.0 </td><td>0      </td><td>0      </td><td>8.05   </td><td>2         </td><td>1        </td></tr>\n",
       "<tr><td>...                            </td><td>...          </td><td>...       </td><td>...     </td><td>...  </td><td>...  </td><td>...    </td><td>...    </td><td>...    </td><td>...       </td><td>...      </td></tr>\n",
       "<tr><td><i style='opacity: 0.6'>637</i></td><td>886          </td><td>0         </td><td>3       </td><td>0    </td><td>39.0 </td><td>0      </td><td>5      </td><td>29.125 </td><td>0         </td><td>0        </td></tr>\n",
       "<tr><td><i style='opacity: 0.6'>638</i></td><td>887          </td><td>0         </td><td>2       </td><td>1    </td><td>27.0 </td><td>0      </td><td>0      </td><td>13.0   </td><td>2         </td><td>1        </td></tr>\n",
       "<tr><td><i style='opacity: 0.6'>639</i></td><td>888          </td><td>1         </td><td>1       </td><td>0    </td><td>19.0 </td><td>0      </td><td>0      </td><td>30.0   </td><td>2         </td><td>1        </td></tr>\n",
       "<tr><td><i style='opacity: 0.6'>640</i></td><td>890          </td><td>1         </td><td>1       </td><td>1    </td><td>26.0 </td><td>0      </td><td>0      </td><td>30.0   </td><td>1         </td><td>1        </td></tr>\n",
       "<tr><td><i style='opacity: 0.6'>641</i></td><td>891          </td><td>0         </td><td>3       </td><td>1    </td><td>32.0 </td><td>0      </td><td>0      </td><td>7.75   </td><td>0         </td><td>1        </td></tr>\n",
       "</tbody>\n",
       "</table>"
      ],
      "text/plain": [
       "#    PassengerId    Survived    Pclass    Sex    Age    SibSp    Parch    Fare     Embarked    IsAlone\n",
       "0    1              0           3         1      22.0   1        0        7.25     2           0\n",
       "1    2              1           1         0      38.0   1        0        71.2833  1           0\n",
       "2    3              1           3         0      26.0   0        0        7.925    2           1\n",
       "3    4              1           1         0      35.0   1        0        53.1     2           0\n",
       "4    5              0           3         1      35.0   0        0        8.05     2           1\n",
       "...  ...            ...         ...       ...    ...    ...      ...      ...      ...         ...\n",
       "637  886            0           3         0      39.0   0        5        29.125   0           0\n",
       "638  887            0           2         1      27.0   0        0        13.0     2           1\n",
       "639  888            1           1         0      19.0   0        0        30.0     2           1\n",
       "640  890            1           1         1      26.0   0        0        30.0     1           1\n",
       "641  891            0           3         1      32.0   0        0        7.75     0           1"
      ]
     },
     "execution_count": 46,
     "metadata": {},
     "output_type": "execute_result"
    }
   ],
   "source": [
    "feature_select_train_val_df"
   ]
  },
  {
   "cell_type": "markdown",
   "metadata": {},
   "source": [
    "# Hyperparameter Tuning\n",
    "\n",
    "The `mleko` library provides a `OptunaTuner` class for hyperparameter tuning. Here we use it to tune the hyperparameters of the `LGBMModel` model using 5-fold cross-validation, and measuring the performance using the `average_precision` metric. Each trial is run for 50 iterations, and we run 100 trials in total.\n"
   ]
  },
  {
   "cell_type": "code",
   "execution_count": 51,
   "metadata": {},
   "outputs": [
    {
     "name": "stdout",
     "output_type": "stream",
     "text": [
      "[2024-03-19 22:11:51] [\u001b[1;32mINFO\u001b[0m] \u001b[32mCache Hit\u001b[0m (LRUCache) OptunaTuner.tune: Using cached output. \u001b[1m(cache_mixin.py:163)\u001b[0m\n"
     ]
    }
   ],
   "source": [
    "from statistics import mean\n",
    "\n",
    "import optuna\n",
    "\n",
    "from mleko.model import LGBMModel\n",
    "from mleko.model.tune import OptunaTuner\n",
    "\n",
    "\n",
    "def objective(trial: optuna.Trial, data_schema: DataSchema, dataframe: vaex.DataFrame) -> float:\n",
    "    lgbm_model = LGBMModel(\n",
    "        cache_directory=f\"data/model-tune\",\n",
    "        verbosity=-1,\n",
    "        target=TARGET_FEATURE,\n",
    "        objective=\"binary\",\n",
    "        num_iterations=30,\n",
    "        ignore_features=META_FEATURES,\n",
    "        metric=[\"average_precision\", \"auc\"],\n",
    "        early_stopping_round=10,\n",
    "    )\n",
    "\n",
    "    lambda_l1 = trial.suggest_float(\"lambda_l1\", 1e-8, 10.0, log=True)\n",
    "    lambda_l2 = trial.suggest_float(\"lambda_l2\", 1e-8, 10.0, log=True)\n",
    "    num_leaves = trial.suggest_int(\"num_leaves\", 2, 1024)\n",
    "    max_depth = trial.suggest_int(\"max_depth\", 1, 40)\n",
    "    min_child_samples = trial.suggest_int(\"min_child_samples\", 5, 100)\n",
    "    min_child_weight = trial.suggest_float(\"min_child_weight\", 1e-5, 1e-2, log=True)\n",
    "    feature_fraction = trial.suggest_float(\"feature_fraction\", 0.4, 1.0)\n",
    "    bagging_fraction = trial.suggest_float(\"bagging_fraction\", 0.4, 1.0)\n",
    "    bagging_freq = trial.suggest_int(\"bagging_freq\", 1, 7)\n",
    "    learning_rate = trial.suggest_float(\"learning_rate\", 1e-8, 1.0, log=True)\n",
    "\n",
    "    hyperparameters = {\n",
    "        \"lambda_l1\": lambda_l1,\n",
    "        \"lambda_l2\": lambda_l2,\n",
    "        \"num_leaves\": num_leaves,\n",
    "        \"max_depth\": max_depth,\n",
    "        \"min_child_samples\": min_child_samples,\n",
    "        \"min_child_weight\": min_child_weight,\n",
    "        \"feature_fraction\": feature_fraction,\n",
    "        \"bagging_fraction\": bagging_fraction,\n",
    "        \"bagging_freq\": bagging_freq,\n",
    "        \"learning_rate\": learning_rate,\n",
    "    }\n",
    "\n",
    "    scores: list[float] = []\n",
    "    splits = dataframe.split_random(into=5, random_state=RANDOM_STATE)\n",
    "    for i, validation_df in enumerate(splits):\n",
    "        train_df = vaex.concat([df for j, df in enumerate(splits) if j != i])\n",
    "        _, metrics, _, _ = lgbm_model.fit_transform(\n",
    "            data_schema, train_df, validation_df, hyperparameters, disable_cache=True\n",
    "        )\n",
    "        scores.append(metrics[\"validation\"][\"average_precision\"][-1])\n",
    "\n",
    "    return mean(scores)\n",
    "\n",
    "\n",
    "hyperparameters, best_score, study = OptunaTuner(\n",
    "    objective_function=objective,\n",
    "    direction=\"maximize\",\n",
    "    num_trials=100,\n",
    "    random_state=RANDOM_STATE,\n",
    ").tune(data_schema, feature_select_train_val_df)"
   ]
  },
  {
   "cell_type": "code",
   "execution_count": 52,
   "metadata": {},
   "outputs": [
    {
     "data": {
      "text/plain": [
       "{'lambda_l1': 1.1706410385498053e-05,\n",
       " 'lambda_l2': 4.930634866268763e-08,\n",
       " 'num_leaves': 13,\n",
       " 'max_depth': 31,\n",
       " 'min_child_samples': 69,\n",
       " 'min_child_weight': 0.00022797928570307408,\n",
       " 'feature_fraction': 0.41322705012572053,\n",
       " 'bagging_fraction': 0.9466734409361881,\n",
       " 'bagging_freq': 2,\n",
       " 'learning_rate': 0.26573481883002115}"
      ]
     },
     "execution_count": 52,
     "metadata": {},
     "output_type": "execute_result"
    }
   ],
   "source": [
    "hyperparameters"
   ]
  },
  {
   "cell_type": "code",
   "execution_count": 53,
   "metadata": {},
   "outputs": [
    {
     "data": {
      "text/plain": [
       "0.8617421313515332"
      ]
     },
     "execution_count": 53,
     "metadata": {},
     "output_type": "execute_result"
    }
   ],
   "source": [
    "best_score"
   ]
  },
  {
   "cell_type": "markdown",
   "metadata": {},
   "source": [
    "# Train Model\n",
    "\n",
    "We further split our training/validation data into a training set and a validation set. The `LGBMModel` is trained on the training set and evaluated on the validation set.\n"
   ]
  },
  {
   "cell_type": "code",
   "execution_count": 55,
   "metadata": {},
   "outputs": [
    {
     "name": "stdout",
     "output_type": "stream",
     "text": [
      "[2024-03-19 22:11:57] [\u001b[1;32mINFO\u001b[0m] \u001b[32mCache Hit\u001b[0m (LRUCache) RandomSplitter.split: Using cached output. \u001b[1m(cache_mixin.py:163)\u001b[0m\n"
     ]
    }
   ],
   "source": [
    "train_df, val_df = RandomSplitter(\n",
    "    data_split=(0.80, 0.20),\n",
    "    shuffle=True,\n",
    "    stratify=TARGET_FEATURE,\n",
    "    random_state=RANDOM_STATE,\n",
    ").split(feature_select_train_val_df, cache_group=\"train_val\")"
   ]
  },
  {
   "cell_type": "markdown",
   "metadata": {},
   "source": [
    "Ensure the class balance is maintained in the training, validation and test sets.\n"
   ]
  },
  {
   "cell_type": "code",
   "execution_count": 56,
   "metadata": {},
   "outputs": [
    {
     "name": "stdout",
     "output_type": "stream",
     "text": [
      "Train: 40.741% (Survived: 209, Total: 513)\n",
      "Val: 40.310% (Survived:  52, Total: 129)\n",
      "Test: 40.278% (Survived:  29, Total:  72)\n"
     ]
    }
   ],
   "source": [
    "print_split_stats(train_df, \"Train\")\n",
    "print_split_stats(val_df, \"Val\")\n",
    "print_split_stats(test_df, \"Test\")"
   ]
  },
  {
   "cell_type": "markdown",
   "metadata": {},
   "source": [
    "Train the model and evaluate it on the validation set.\n"
   ]
  },
  {
   "cell_type": "code",
   "execution_count": 58,
   "metadata": {},
   "outputs": [
    {
     "name": "stdout",
     "output_type": "stream",
     "text": [
      "[2024-03-19 22:12:06] [\u001b[1;32mINFO\u001b[0m] \u001b[32mCache Hit\u001b[0m (LRUCache) LGBMModel.fit_transform: Using cached output. \u001b[1m(cache_mixin.py:163)\u001b[0m\n"
     ]
    }
   ],
   "source": [
    "lgbm_model = LGBMModel(\n",
    "    objective=\"binary\",\n",
    "    target=TARGET_FEATURE,\n",
    "    num_iterations=200,\n",
    "    ignore_features=META_FEATURES,\n",
    "    metric=[\"average_precision\", \"auc\"],\n",
    ")\n",
    "\n",
    "model, metrics, p_train_df, p_val_df = lgbm_model.fit_transform(data_schema, train_df, val_df, hyperparameters)"
   ]
  },
  {
   "cell_type": "code",
   "execution_count": 60,
   "metadata": {},
   "outputs": [
    {
     "data": {
      "image/png": "[encoded data removed]",
      "text/plain": [
       "<Figure size 640x480 with 1 Axes>"
      ]
     },
     "metadata": {},
     "output_type": "display_data"
    },
    {
     "data": {
      "image/png": "[encoded data removed]",
      "text/plain": [
       "<Figure size 640x480 with 1 Axes>"
      ]
     },
     "metadata": {},
     "output_type": "display_data"
    }
   ],
   "source": [
    "import lightgbm\n",
    "\n",
    "\n",
    "ax = lightgbm.plot_metric(metrics, metric=\"auc\")\n",
    "ax = lightgbm.plot_metric(metrics, metric=\"average_precision\")"
   ]
  },
  {
   "cell_type": "markdown",
   "metadata": {},
   "source": [
    "# `mleko` Pipeline\n",
    "\n",
    "The `mleko` pipeline is used to streamline the entire process. Pipelines are very flexible and allows users to define a directed acyclic graph (DAG) of operations. You can chain together all operations in a single pipeline or create multiple pipelines for different tasks.\n",
    "\n",
    "We create two pipelines:\n",
    "\n",
    "- a pre-processing pipeline that handles data ingestion, conversion, splitting, transformation, and feature selection\n",
    "- a model pipeline that trains and evaluates the model.\n",
    "\n",
    "Next we define all required classes to create the pre-processing pipeline.\n"
   ]
  },
  {
   "cell_type": "code",
   "execution_count": 61,
   "metadata": {},
   "outputs": [],
   "source": [
    "!rm -r data"
   ]
  },
  {
   "cell_type": "markdown",
   "metadata": {},
   "source": [
    "## Pre-Processing Pipeline\n"
   ]
  },
  {
   "cell_type": "code",
   "execution_count": 62,
   "metadata": {},
   "outputs": [
    {
     "name": "stdout",
     "output_type": "stream",
     "text": [
      "[2024-03-19 22:12:17] [\u001b[1;32mINFO\u001b[0m] Attempting to fetch Kaggle API credentials from environment variables 'KAGGLE_USERNAME' and 'KAGGLE_KEY'. \u001b[1m(kaggle_ingester.py:76)\u001b[0m\n",
      "[2024-03-19 22:12:17] [\u001b[1;32mINFO\u001b[0m] Kaggle API credentials not found in environment variables, attempting to fetch from fallback path at ~/.kaggle/kaggle.json. \u001b[1m(kaggle_ingester.py:84)\u001b[0m\n",
      "[2024-03-19 22:12:17] [\u001b[1;32mINFO\u001b[0m] Kaggle credentials successfully fetched. \u001b[1m(kaggle_ingester.py:93)\u001b[0m\n"
     ]
    }
   ],
   "source": [
    "kaggle_ingester = KaggleIngester(owner_slug=OWNER_SLUG, dataset_slug=DATASET_SLUG)"
   ]
  },
  {
   "cell_type": "code",
   "execution_count": 63,
   "metadata": {},
   "outputs": [],
   "source": [
    "csv_to_vaex_converter = CSVToVaexConverter(\n",
    "    drop_columns=[\"Ticket\"],\n",
    "    meta_columns=META_FEATURES,\n",
    "    drop_rows_with_na_columns=[TARGET_FEATURE],\n",
    "    random_state=RANDOM_STATE,\n",
    ")"
   ]
  },
  {
   "cell_type": "code",
   "execution_count": 64,
   "metadata": {},
   "outputs": [],
   "source": [
    "age_filter = ExpressionFilter(\"~isna(Age)\")"
   ]
  },
  {
   "cell_type": "code",
   "execution_count": 65,
   "metadata": {},
   "outputs": [],
   "source": [
    "random_splitter_90_10 = RandomSplitter(\n",
    "    data_split=(0.90, 0.10),\n",
    "    shuffle=True,\n",
    "    stratify=TARGET_FEATURE,\n",
    "    random_state=RANDOM_STATE,\n",
    ")"
   ]
  },
  {
   "cell_type": "code",
   "execution_count": 66,
   "metadata": {},
   "outputs": [
    {
     "name": "stdout",
     "output_type": "stream",
     "text": [
      "[2024-03-19 22:12:35] [\u001b[1;33mWARNING\u001b[0m] Null values will be kept as `None`. \u001b[1m(label_encoder_transformer.py:119)\u001b[0m\n"
     ]
    }
   ],
   "source": [
    "composite_transformer = CompositeTransformer(\n",
    "    transformers=[\n",
    "        FeatureDropperTransformer(features=[\"Name\"]),\n",
    "        IsAloneTransformer(),\n",
    "        LabelEncoderTransformer(features=[\"Sex\", \"Embarked\"]),\n",
    "    ],\n",
    ")"
   ]
  },
  {
   "cell_type": "code",
   "execution_count": 67,
   "metadata": {},
   "outputs": [],
   "source": [
    "composite_feature_selector = CompositeFeatureSelector(\n",
    "    feature_selectors=[\n",
    "        MissingRateFeatureSelector(\n",
    "            missing_rate_threshold=0.5,\n",
    "            ignore_features=META_FEATURES,\n",
    "        ),\n",
    "        InvarianceFeatureSelector(\n",
    "            ignore_features=META_FEATURES,\n",
    "        ),\n",
    "        PearsonCorrelationFeatureSelector(\n",
    "            correlation_threshold=0.7,\n",
    "            ignore_features=META_FEATURES,\n",
    "        ),\n",
    "    ],\n",
    ")"
   ]
  },
  {
   "cell_type": "code",
   "execution_count": 68,
   "metadata": {},
   "outputs": [],
   "source": [
    "random_splitter_80_20 = RandomSplitter(\n",
    "    data_split=(0.80, 0.20),\n",
    "    shuffle=True,\n",
    "    stratify=TARGET_FEATURE,\n",
    "    random_state=RANDOM_STATE,\n",
    ")"
   ]
  },
  {
   "cell_type": "markdown",
   "metadata": {},
   "source": [
    "Define the pre-processing pipeline performing all the dataset pre-processing steps before training the model.\n",
    "\n",
    "Each `PipelineStep` accepts a class, a list of input names, and a list of output names. The class is used to instantiate the step, the input names are used to fetch the required data from the previous steps, and the output names are used to store the output of the step for use by subsequent steps.\n"
   ]
  },
  {
   "cell_type": "code",
   "execution_count": 69,
   "metadata": {},
   "outputs": [],
   "source": [
    "from mleko.pipeline import Pipeline\n",
    "from mleko.pipeline.steps import ConvertStep, FeatureSelectStep, IngestStep, SplitStep, TransformStep, FilterStep\n",
    "\n",
    "\n",
    "pre_pipeline = Pipeline(\n",
    "    steps=[\n",
    "        IngestStep(kaggle_ingester, inputs={}, outputs={\"file_paths\": \"raw_csv\"}),\n",
    "        ConvertStep(\n",
    "            csv_to_vaex_converter,\n",
    "            inputs={\"file_paths\": \"raw_csv\"},\n",
    "            outputs={\"data_schema\": \"clean_data_schema\", \"dataframe\": \"clean_df\"},\n",
    "        ),\n",
    "        FilterStep(\n",
    "            age_filter,\n",
    "            inputs={\"dataframe\": \"clean_df\"},\n",
    "            outputs={\"dataframe\": \"filtered_df\"},\n",
    "        ),\n",
    "        SplitStep(\n",
    "            random_splitter_90_10,\n",
    "            inputs={\"dataframe\": \"filtered_df\"},\n",
    "            outputs={\"dataframe_1\": \"train_val_filtered_df\", \"dataframe_2\": \"test_filtered_df\"},\n",
    "            cache_group=\"train_val_test\",\n",
    "        ),\n",
    "        TransformStep(\n",
    "            composite_transformer,\n",
    "            action=\"fit_transform\",\n",
    "            inputs={\"data_schema\": \"clean_data_schema\", \"dataframe\": \"train_val_filtered_df\"},\n",
    "            outputs={\n",
    "                \"data_schema\": \"transform_data_schema\",\n",
    "                \"dataframe\": \"transform_train_val_df\",\n",
    "                \"transformer\": \"composite_transformer\",\n",
    "            },\n",
    "            cache_group=\"train_val\",\n",
    "        ),\n",
    "        TransformStep(\n",
    "            composite_transformer,\n",
    "            action=\"transform\",\n",
    "            inputs={\"data_schema\": \"clean_data_schema\", \"dataframe\": \"test_filtered_df\"},\n",
    "            outputs={\n",
    "                \"data_schema\": \"transform_data_schema\",\n",
    "                \"dataframe\": \"transform_test_df\",\n",
    "            },\n",
    "            cache_group=\"test\",\n",
    "        ),\n",
    "        FeatureSelectStep(\n",
    "            composite_feature_selector,\n",
    "            action=\"fit_transform\",\n",
    "            inputs={\"data_schema\": \"transform_data_schema\", \"dataframe\": \"transform_train_val_df\"},\n",
    "            outputs={\n",
    "                \"data_schema\": \"data_schema\",\n",
    "                \"dataframe\": \"selected_train_val_df\",\n",
    "                \"feature_selector\": \"composite_feature_selector\",\n",
    "            },\n",
    "            cache_group=\"train_val\",\n",
    "        ),\n",
    "        FeatureSelectStep(\n",
    "            composite_feature_selector,\n",
    "            action=\"transform\",\n",
    "            inputs={\"data_schema\": \"transform_data_schema\", \"dataframe\": \"transform_test_df\"},\n",
    "            outputs={\"data_schema\": \"data_schema\", \"dataframe\": \"test_df\"},\n",
    "            cache_group=\"test\",\n",
    "        ),\n",
    "        SplitStep(\n",
    "            random_splitter_80_20,\n",
    "            inputs={\"dataframe\": \"selected_train_val_df\"},\n",
    "            outputs={\"dataframe_1\": \"train_df\", \"dataframe_2\": \"val_df\"},\n",
    "            cache_group=\"train_val\",\n",
    "        ),\n",
    "    ]\n",
    ")"
   ]
  },
  {
   "cell_type": "markdown",
   "metadata": {},
   "source": [
    "Print `Pipeline` steps to see the order in which they will be executed, for double-checking.\n"
   ]
  },
  {
   "cell_type": "code",
   "execution_count": 70,
   "metadata": {},
   "outputs": [
    {
     "data": {
      "text/plain": [
       "Pipeline:\n",
       "  1. IngestStep(ingester=KaggleIngester(file_pattern='*', dataset_id=None, cache_directory='data/kaggle-ingester', dataset_version=None, kaggle_api_credentials_file=None, num_workers=64, owner_slug='yasserh', dataset_slug='titanic-dataset'), inputs={}, outputs={'file_paths': 'raw_csv'})\n",
       "  2. ConvertStep(converter=CSVToVaexConverter(forced_numerical_columns=(), forced_categorical_columns=(), forced_boolean_columns=(), drop_columns=['Ticket'], meta_columns=['PassengerId', 'Survived'], drop_rows_with_na_columns=['Survived'], na_values=('-9998', '-9998.0', '-9999', '-9999.0', '-99', '-99.0', 'nan', 'none', 'non', 'Nan', 'None', 'Non', '', 'N/A', 'N/a', 'unknown', 'missing'), true_values=('t', 'True', 'true', '1'), false_values=('f', 'False', 'false', '0'), downcast_float=False, random_state=1337, num_workers=12, cache_directory='data/csv-to-vaex-converter', cache_size=1), cache_group=None, inputs={'file_paths': 'raw_csv'}, outputs={'data_schema': 'clean_data_schema', 'dataframe': 'clean_df'})\n",
       "  3. FilterStep(filter=ExpressionFilter(expression='~isna(Age)', cache_directory='data/expression-filter', cache_size=1), cache_group=None, inputs={'dataframe': 'clean_df'}, outputs={'dataframe': 'filtered_df'})\n",
       "  4. SplitStep(splitter=RandomSplitter(data_split=(0.9, 0.1), shuffle=True, stratify='Survived', random_state=1337, cache_directory='data/random-splitter', cache_size=1), cache_group='train_val_test', inputs={'dataframe': 'filtered_df'}, outputs={'dataframe_1': 'train_val_filtered_df', 'dataframe_2': 'test_filtered_df'})\n",
       "  5. TransformStep(transformer=CompositeTransformer(cache_directory='data/composite-transformer', cache_size=1, transformers=[FeatureDropperTransformer(cache_directory='data/feature-dropper-transformer', cache_size=1, features=['Name']), IsAloneTransformer(cache_directory='data/is-alone-transformer', cache_size=1), LabelEncoderTransformer(label_dict=None, allow_unseen=False, encode_null=False, cache_directory='data/label-encoder-transformer', cache_size=1, features=['Sex', 'Embarked'])]), cache_group='train_val', action='fit_transform', inputs={'data_schema': 'clean_data_schema', 'dataframe': 'train_val_filtered_df'}, outputs={'data_schema': 'transform_data_schema', 'dataframe': 'transform_train_val_df', 'transformer': 'composite_transformer'})\n",
       "  6. TransformStep(transformer=CompositeTransformer(cache_directory='data/composite-transformer', cache_size=1, transformers=[FeatureDropperTransformer(cache_directory='data/feature-dropper-transformer', cache_size=1, features=['Name']), IsAloneTransformer(cache_directory='data/is-alone-transformer', cache_size=1), LabelEncoderTransformer(label_dict=None, allow_unseen=False, encode_null=False, cache_directory='data/label-encoder-transformer', cache_size=1, features=['Sex', 'Embarked'])]), cache_group='test', action='transform', inputs={'data_schema': 'clean_data_schema', 'dataframe': 'test_filtered_df'}, outputs={'data_schema': 'transform_data_schema', 'dataframe': 'transform_test_df'})\n",
       "  7. FeatureSelectStep(feature_selector=CompositeFeatureSelector(cache_directory='data/composite-feature-selector', cache_size=1, feature_selectors=[MissingRateFeatureSelector(features=None, ignore_features=['PassengerId', 'Survived'], cache_directory='data/missing-rate-feature-selector', cache_size=1, missing_rate_threshold=0.5), InvarianceFeatureSelector(features=None, ignore_features=['PassengerId', 'Survived'], cache_directory='data/invariance-feature-selector', cache_size=1), PearsonCorrelationFeatureSelector(features=None, ignore_features=['PassengerId', 'Survived'], cache_directory='data/pearson-correlation-feature-selector', cache_size=1, correlation_threshold=0.7)]), cache_group='train_val', action='fit_transform', inputs={'data_schema': 'transform_data_schema', 'dataframe': 'transform_train_val_df'}, outputs={'data_schema': 'data_schema', 'dataframe': 'selected_train_val_df', 'feature_selector': 'composite_feature_selector'})\n",
       "  8. FeatureSelectStep(feature_selector=CompositeFeatureSelector(cache_directory='data/composite-feature-selector', cache_size=1, feature_selectors=[MissingRateFeatureSelector(features=None, ignore_features=['PassengerId', 'Survived'], cache_directory='data/missing-rate-feature-selector', cache_size=1, missing_rate_threshold=0.5), InvarianceFeatureSelector(features=None, ignore_features=['PassengerId', 'Survived'], cache_directory='data/invariance-feature-selector', cache_size=1), PearsonCorrelationFeatureSelector(features=None, ignore_features=['PassengerId', 'Survived'], cache_directory='data/pearson-correlation-feature-selector', cache_size=1, correlation_threshold=0.7)]), cache_group='test', action='transform', inputs={'data_schema': 'transform_data_schema', 'dataframe': 'transform_test_df'}, outputs={'data_schema': 'data_schema', 'dataframe': 'test_df'})\n",
       "  9. SplitStep(splitter=RandomSplitter(data_split=(0.8, 0.2), shuffle=True, stratify='Survived', random_state=1337, cache_directory='data/random-splitter', cache_size=1), cache_group='train_val', inputs={'dataframe': 'selected_train_val_df'}, outputs={'dataframe_1': 'train_df', 'dataframe_2': 'val_df'})"
      ]
     },
     "execution_count": 70,
     "metadata": {},
     "output_type": "execute_result"
    }
   ],
   "source": [
    "pre_pipeline"
   ]
  },
  {
   "cell_type": "markdown",
   "metadata": {},
   "source": [
    "Execute the pre-processing pipeline and store the output in `pre_data_container`.\n"
   ]
  },
  {
   "cell_type": "code",
   "execution_count": 72,
   "metadata": {},
   "outputs": [
    {
     "name": "stdout",
     "output_type": "stream",
     "text": [
      "[2024-03-19 22:13:49] [\u001b[1;32mINFO\u001b[0m] No data container provided. Creating an empty one. \u001b[1m(pipeline.py:78)\u001b[0m\n",
      "[2024-03-19 22:13:49] [\u001b[1;32mINFO\u001b[0m] Executing step 1/9: IngestStep. \u001b[1m(pipeline.py:82)\u001b[0m\n",
      "[2024-03-19 22:13:50] [\u001b[1;32mINFO\u001b[0m] Found 1 file(s) matching any of ['*'] in Kaggle dataset. \u001b[1m(kaggle_ingester.py:377)\u001b[0m\n",
      "[2024-03-19 22:13:50] [\u001b[1;32mINFO\u001b[0m] \u001b[32mCache Hit\u001b[0m: Local dataset is up to date with Kaggle, skipping download. \u001b[1m(kaggle_ingester.py:296)\u001b[0m\n",
      "[2024-03-19 22:13:50] [\u001b[1;32mINFO\u001b[0m] Finished step 1/9 execution. \u001b[1m(pipeline.py:84)\u001b[0m\n",
      "[2024-03-19 22:13:50] [\u001b[1;32mINFO\u001b[0m] Executing step 2/9: ConvertStep. \u001b[1m(pipeline.py:82)\u001b[0m\n",
      "[2024-03-19 22:13:50] [\u001b[1;32mINFO\u001b[0m] \u001b[32mCache Hit\u001b[0m (LRUCache) CSVToVaexConverter.convert: Using cached output. \u001b[1m(cache_mixin.py:163)\u001b[0m\n",
      "[2024-03-19 22:13:50] [\u001b[1;32mINFO\u001b[0m] Finished step 2/9 execution. \u001b[1m(pipeline.py:84)\u001b[0m\n",
      "[2024-03-19 22:13:50] [\u001b[1;32mINFO\u001b[0m] Executing step 3/9: FilterStep. \u001b[1m(pipeline.py:82)\u001b[0m\n",
      "[2024-03-19 22:13:50] [\u001b[1;32mINFO\u001b[0m] \u001b[32mCache Hit\u001b[0m (LRUCache) ExpressionFilter.filter: Using cached output. \u001b[1m(cache_mixin.py:163)\u001b[0m\n",
      "[2024-03-19 22:13:50] [\u001b[1;32mINFO\u001b[0m] Finished step 3/9 execution. \u001b[1m(pipeline.py:84)\u001b[0m\n",
      "[2024-03-19 22:13:50] [\u001b[1;32mINFO\u001b[0m] Executing step 4/9: SplitStep. \u001b[1m(pipeline.py:82)\u001b[0m\n",
      "[2024-03-19 22:13:50] [\u001b[1;32mINFO\u001b[0m] \u001b[32mCache Hit\u001b[0m (LRUCache) RandomSplitter.split: Using cached output. \u001b[1m(cache_mixin.py:163)\u001b[0m\n",
      "[2024-03-19 22:13:50] [\u001b[1;32mINFO\u001b[0m] Finished step 4/9 execution. \u001b[1m(pipeline.py:84)\u001b[0m\n",
      "[2024-03-19 22:13:50] [\u001b[1;32mINFO\u001b[0m] Executing step 5/9: TransformStep. \u001b[1m(pipeline.py:82)\u001b[0m\n",
      "[2024-03-19 22:13:50] [\u001b[1;32mINFO\u001b[0m] \u001b[32mCache Hit\u001b[0m (LRUCache) CompositeTransformer.fit_transform: Using cached output. \u001b[1m(cache_mixin.py:163)\u001b[0m\n",
      "[2024-03-19 22:13:50] [\u001b[1;32mINFO\u001b[0m] Finished step 5/9 execution. \u001b[1m(pipeline.py:84)\u001b[0m\n",
      "[2024-03-19 22:13:50] [\u001b[1;32mINFO\u001b[0m] Executing step 6/9: TransformStep. \u001b[1m(pipeline.py:82)\u001b[0m\n",
      "[2024-03-19 22:13:50] [\u001b[1;32mINFO\u001b[0m] \u001b[32mCache Hit\u001b[0m (LRUCache) CompositeTransformer.transform: Using cached output. \u001b[1m(cache_mixin.py:163)\u001b[0m\n",
      "[2024-03-19 22:13:50] [\u001b[1;32mINFO\u001b[0m] Finished step 6/9 execution. \u001b[1m(pipeline.py:84)\u001b[0m\n",
      "[2024-03-19 22:13:50] [\u001b[1;32mINFO\u001b[0m] Executing step 7/9: FeatureSelectStep. \u001b[1m(pipeline.py:82)\u001b[0m\n",
      "[2024-03-19 22:13:50] [\u001b[1;32mINFO\u001b[0m] \u001b[32mCache Hit\u001b[0m (LRUCache) CompositeFeatureSelector.fit_transform: Using cached output. \u001b[1m(cache_mixin.py:163)\u001b[0m\n",
      "[2024-03-19 22:13:50] [\u001b[1;32mINFO\u001b[0m] Finished step 7/9 execution. \u001b[1m(pipeline.py:84)\u001b[0m\n",
      "[2024-03-19 22:13:50] [\u001b[1;32mINFO\u001b[0m] Executing step 8/9: FeatureSelectStep. \u001b[1m(pipeline.py:82)\u001b[0m\n",
      "[2024-03-19 22:13:50] [\u001b[1;32mINFO\u001b[0m] \u001b[32mCache Hit\u001b[0m (LRUCache) CompositeFeatureSelector.transform: Using cached output. \u001b[1m(cache_mixin.py:163)\u001b[0m\n",
      "[2024-03-19 22:13:50] [\u001b[1;32mINFO\u001b[0m] Finished step 8/9 execution. \u001b[1m(pipeline.py:84)\u001b[0m\n",
      "[2024-03-19 22:13:50] [\u001b[1;32mINFO\u001b[0m] Executing step 9/9: SplitStep. \u001b[1m(pipeline.py:82)\u001b[0m\n",
      "[2024-03-19 22:13:51] [\u001b[1;32mINFO\u001b[0m] \u001b[32mCache Hit\u001b[0m (LRUCache) RandomSplitter.split: Using cached output. \u001b[1m(cache_mixin.py:163)\u001b[0m\n",
      "[2024-03-19 22:13:51] [\u001b[1;32mINFO\u001b[0m] Finished step 9/9 execution. \u001b[1m(pipeline.py:84)\u001b[0m\n"
     ]
    }
   ],
   "source": [
    "pre_data_container = pre_pipeline.run()"
   ]
  },
  {
   "cell_type": "markdown",
   "metadata": {},
   "source": [
    "## Model Pipeline\n"
   ]
  },
  {
   "cell_type": "code",
   "execution_count": 74,
   "metadata": {},
   "outputs": [],
   "source": [
    "optuna_tuner = OptunaTuner(\n",
    "    objective_function=objective,\n",
    "    direction=\"maximize\",\n",
    "    num_trials=100,\n",
    "    random_state=RANDOM_STATE,\n",
    ")\n",
    "\n",
    "lgbm_model = LGBMModel(\n",
    "    objective=\"binary\",\n",
    "    target=TARGET_FEATURE,\n",
    "    num_iterations=200,\n",
    "    ignore_features=META_FEATURES,\n",
    "    metric=[\"average_precision\", \"auc\"],\n",
    ")"
   ]
  },
  {
   "cell_type": "code",
   "execution_count": 75,
   "metadata": {},
   "outputs": [],
   "source": [
    "from mleko.pipeline.steps import ModelStep, TuneStep\n",
    "\n",
    "\n",
    "model_pipeline = Pipeline(\n",
    "    steps=[\n",
    "        TuneStep(\n",
    "            optuna_tuner,\n",
    "            inputs={\"data_schema\": \"data_schema\", \"dataframe\": \"selected_train_val_df\"},\n",
    "            outputs={\"hyperparameters\": \"hyperparameters\", \"score\": \"best_tuning_score\", \"metadata\": \"optuna_study\"},\n",
    "        ),\n",
    "        ModelStep(\n",
    "            lgbm_model,\n",
    "            action=\"fit_transform\",\n",
    "            inputs={\n",
    "                \"data_schema\": \"data_schema\",\n",
    "                \"dataframe\": \"train_df\",\n",
    "                \"validation_dataframe\": \"val_df\",\n",
    "                \"hyperparameters\": \"hyperparameters\",\n",
    "            },\n",
    "            outputs={\n",
    "                \"model\": \"lgbm_model\",\n",
    "                \"metrics\": \"metrics\",\n",
    "                \"dataframe\": \"pred_train_df\",\n",
    "                \"validation_dataframe\": \"pred_val_df\",\n",
    "            },\n",
    "        ),\n",
    "        ModelStep(\n",
    "            lgbm_model,\n",
    "            action=\"transform\",\n",
    "            inputs={\"data_schema\": \"data_schema\", \"dataframe\": \"test_df\"},\n",
    "            outputs={\"dataframe\": \"pred_test_df\"},\n",
    "        ),\n",
    "    ]\n",
    ")"
   ]
  },
  {
   "cell_type": "markdown",
   "metadata": {},
   "source": [
    "Run the model pipeline by feeding the output of the pre-processing pipeline into it.\n"
   ]
  },
  {
   "cell_type": "code",
   "execution_count": 77,
   "metadata": {},
   "outputs": [
    {
     "name": "stdout",
     "output_type": "stream",
     "text": [
      "[2024-03-19 22:16:03] [\u001b[1;32mINFO\u001b[0m] Executing step 1/3: TuneStep. \u001b[1m(pipeline.py:82)\u001b[0m\n",
      "[2024-03-19 22:16:03] [\u001b[1;32mINFO\u001b[0m] \u001b[32mCache Hit\u001b[0m (LRUCache) OptunaTuner.tune: Using cached output. \u001b[1m(cache_mixin.py:163)\u001b[0m\n",
      "[2024-03-19 22:16:03] [\u001b[1;32mINFO\u001b[0m] Finished step 1/3 execution. \u001b[1m(pipeline.py:84)\u001b[0m\n",
      "[2024-03-19 22:16:03] [\u001b[1;32mINFO\u001b[0m] Executing step 2/3: ModelStep. \u001b[1m(pipeline.py:82)\u001b[0m\n",
      "[2024-03-19 22:16:03] [\u001b[1;32mINFO\u001b[0m] \u001b[32mCache Hit\u001b[0m (LRUCache) LGBMModel.fit_transform: Using cached output. \u001b[1m(cache_mixin.py:163)\u001b[0m\n",
      "[2024-03-19 22:16:03] [\u001b[1;32mINFO\u001b[0m] Finished step 2/3 execution. \u001b[1m(pipeline.py:84)\u001b[0m\n",
      "[2024-03-19 22:16:03] [\u001b[1;32mINFO\u001b[0m] Executing step 3/3: ModelStep. \u001b[1m(pipeline.py:82)\u001b[0m\n",
      "[2024-03-19 22:16:03] [\u001b[1;32mINFO\u001b[0m] \u001b[32mCache Hit\u001b[0m (LRUCache) LGBMModel.transform: Using cached output. \u001b[1m(cache_mixin.py:163)\u001b[0m\n",
      "[2024-03-19 22:16:03] [\u001b[1;32mINFO\u001b[0m] Finished step 3/3 execution. \u001b[1m(pipeline.py:84)\u001b[0m\n"
     ]
    }
   ],
   "source": [
    "data_container = model_pipeline.run(data_container=pre_data_container)\n",
    "result = data_container.data"
   ]
  },
  {
   "cell_type": "markdown",
   "metadata": {},
   "source": [
    "All results from each step are stored in the `data_container.data` object.\n"
   ]
  },
  {
   "cell_type": "code",
   "execution_count": 78,
   "metadata": {},
   "outputs": [
    {
     "data": {
      "image/png": "[encoded data removed]",
      "text/plain": [
       "<Figure size 640x480 with 1 Axes>"
      ]
     },
     "metadata": {},
     "output_type": "display_data"
    },
    {
     "data": {
      "image/png": "[encoded data removed]",
      "text/plain": [
       "<Figure size 640x480 with 1 Axes>"
      ]
     },
     "metadata": {},
     "output_type": "display_data"
    }
   ],
   "source": [
    "ax = lightgbm.plot_metric(result[\"metrics\"], metric=\"auc\")\n",
    "ax = lightgbm.plot_metric(result[\"metrics\"], metric=\"average_precision\")"
   ]
  },
  {
   "cell_type": "code",
   "execution_count": null,
   "metadata": {},
   "outputs": [],
   "source": []
  }
 ],
 "metadata": {
  "kernelspec": {
   "display_name": ".venv",
   "language": "python",
   "name": "python3"
  },
  "language_info": {
   "codemirror_mode": {
    "name": "ipython",
    "version": 3
   },
   "file_extension": ".py",
   "mimetype": "text/x-python",
   "name": "python",
   "nbconvert_exporter": "python",
   "pygments_lexer": "ipython3",
   "version": "3.8.17"
  },
  "orig_nbformat": 4
 },
 "nbformat": 4,
 "nbformat_minor": 2
}
