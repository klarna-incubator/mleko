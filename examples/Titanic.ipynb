{
 "cells": [
  {
   "cell_type": "markdown",
   "metadata": {},
   "source": [
    "# Introduction to `mleko` with Titanic\n",
    "\n",
    "This notebook is a quick introduction to `mleko` package. We will use the Titanic dataset to predict whether a passenger survived or not.\n",
    "\n",
    "The library provides 2 subpackages needed for data processing and model training: \n",
    "- `dataset`: Subpackage for handling and processing datasets.\n",
    "  - `ingest`: Module for ingesting (loading) data from various sources.\n",
    "    - `BaseIngester`: Base class for all ingesters.\n",
    "    - `KaggleIngester`: Ingests data from Kaggle.\n",
    "    - `S3Ingester`: Ingests data from Amazon S3.\n",
    "  - `convert`: Module for converting data into different formats.\n",
    "    - `BaseConverter`: Base class for all converters.\n",
    "    - `CsvToVaexConverter`: Converts CSV data into a Vaex DataFrame.\n",
    "  - `split`: Module for splitting datasets into training and testing sets.\n",
    "    - `BaseSplitter`: Base class for all splitters.\n",
    "    - `RandomSplitter`: Splits data randomly.\n",
    "    - `ExpressionSplitter`: Splits data based on a given expression.\n",
    "  - `transform`: Module for transforming datasets.\n",
    "    - `BaseTransformer`: Base class for all transformers.\n",
    "    - `CompositeTransformer`: Combines multiple transformers.\n",
    "    - `FrequencyEncoderTransformer`: Encodes categorical variables based on their frequency.\n",
    "    - `LabelEncoderTransformer`: Encodes categorical variables with unique labels.\n",
    "    - `MaxAbsScalerTransformer`: Scales each feature by its maximum absolute value.\n",
    "    - `MinMaxScalerTransformer`: Scales each feature to a given range.\n",
    "  - `feature_select`: Module for feature selection.\n",
    "    - `BaseFeatureSelector`: Base class for all feature selectors.\n",
    "    - `CompositeFeatureSelector`: Combines multiple feature selectors.\n",
    "    - `InvarianceFeatureSelector`: Selects features based on their invariance.\n",
    "    - `MissingRateFeatureSelector`: Selects features based on their missing rate.\n",
    "    - `PearsonCorrelationFeatureSelector`: Selects features based on their Pearson correlation.\n",
    "    - `VarianceFeatureSelector`: Selects features based on their variance.\n",
    "- `model`: Subpackage for building and training models.\n",
    "  - `BaseModel`: Base class for all models.\n",
    "  - `LGBMModel`: Trains a LightGBM model.\n"
   ]
  },
  {
   "cell_type": "markdown",
   "metadata": {},
   "source": [
    "# Configuration\n",
    "This section contains configurations for the notebook. "
   ]
  },
  {
   "cell_type": "code",
   "execution_count": 1,
   "metadata": {},
   "outputs": [],
   "source": [
    "%reload_ext autoreload\n",
    "%autoreload 2"
   ]
  },
  {
   "cell_type": "markdown",
   "metadata": {},
   "source": [
    "## Constants\n",
    "Define various constants that will be used throughout the notebook."
   ]
  },
  {
   "cell_type": "code",
   "execution_count": 2,
   "metadata": {},
   "outputs": [],
   "source": [
    "# Kaggle dataset identifier\n",
    "OWNER_SLUG = \"yasserh\"\n",
    "DATASET_SLUG = \"titanic-dataset\"\n",
    "DATASET_NAME = f\"{OWNER_SLUG}/{DATASET_SLUG}\"\n",
    "\n",
    "# Define meta features of the dataset not used as model inputs\n",
    "TARGET_FEATURE = \"Survived\"\n",
    "ID_COLUMN = \"PassengerId\"\n",
    "META_FEATURES = [ID_COLUMN, TARGET_FEATURE]\n",
    "\n",
    "# General Configuration\n",
    "RANDOM_STATE = 1337"
   ]
  },
  {
   "cell_type": "markdown",
   "metadata": {},
   "source": [
    "# Download Data\n",
    "In this cell, we use the `KaggleIngester` from the `mleko` library to download the Titanic dataset from Kaggle."
   ]
  },
  {
   "cell_type": "code",
   "execution_count": 3,
   "metadata": {},
   "outputs": [
    {
     "name": "stdout",
     "output_type": "stream",
     "text": [
      "[2023-09-27 17:15:56] [\u001b[1;32mINFO\u001b[0m] Attempting to fetch Kaggle API credentials from environment variables 'KAGGLE_USERNAME' and 'KAGGLE_KEY'. \u001b[1m(kaggle_ingester.py:74)\u001b[0m\n",
      "[2023-09-27 17:15:56] [\u001b[1;32mINFO\u001b[0m] Kaggle API credentials not found in environment variables, attempting to fetch from fallback path at ~/.kaggle/kaggle.json. \u001b[1m(kaggle_ingester.py:82)\u001b[0m\n",
      "[2023-09-27 17:15:56] [\u001b[1;32mINFO\u001b[0m] Kaggle credentials successfully fetched. \u001b[1m(kaggle_ingester.py:91)\u001b[0m\n",
      "[2023-09-27 17:15:56] [\u001b[1;32mINFO\u001b[0m] \u001b[32mCache Hit\u001b[0m: Local dataset is up to date with Kaggle, skipping download. \u001b[1m(kaggle_ingester.py:279)\u001b[0m\n"
     ]
    }
   ],
   "source": [
    "from mleko.dataset.ingest import KaggleIngester\n",
    "\n",
    "\n",
    "# Fetch data from Kaggle and return paths to the downloaded files\n",
    "csv_paths = KaggleIngester(\n",
    "    destination_directory=f\"data/{DATASET_NAME}/raw\", \n",
    "    owner_slug=OWNER_SLUG, \n",
    "    dataset_slug=DATASET_SLUG\n",
    ").fetch_data()"
   ]
  },
  {
   "cell_type": "markdown",
   "metadata": {},
   "source": [
    "\n",
    "## Fetching Data from S3\n",
    "In addition to the `KaggleIngester`, `mleko` also provides the `S3Ingester` for downloading datasets from Amazon S3.\n",
    "\n",
    "Here's an example of how you can use it:\n",
    "```python\n",
    "from mleko.dataset.ingest import S3Ingester\n",
    "\n",
    "csv_paths = S3Ingester(\n",
    "    destination_directory=\"data\",\n",
    "    s3_bucket_name=\"mleko-datasets\",\n",
    "    s3_key_prefix=\"kaggle/nehaprabhavalkar/indian-food-101\",\n",
    "    aws_profile_name=\"mleko\",\n",
    "    aws_region_name=\"eu-west-1\",\n",
    "    num_workers=64,  # Number of workers to use for downloading files.\n",
    "    check_s3_timestamps=True,  # Ensure that all files are from the same date.\n",
    ").fetch_data()\n",
    "```"
   ]
  },
  {
   "cell_type": "markdown",
   "metadata": {},
   "source": [
    "# Clean Data\n",
    "\n",
    "Here, we use the `CSVToVaexConverter` from `mleko` to clean the data. \n",
    "\n",
    "The converter reads the CSV file, drops unnecessary columns, handles missing values, and converts the data into a Vaex DataFrame for efficient processing."
   ]
  },
  {
   "cell_type": "code",
   "execution_count": 4,
   "metadata": {},
   "outputs": [
    {
     "name": "stdout",
     "output_type": "stream",
     "text": [
      "[2023-09-27 17:16:30] [\u001b[1;32mINFO\u001b[0m] \u001b[32mCache Hit\u001b[0m (LRUCache) CSVToVaexConverter.convert: Using cached output. \u001b[1m(cache_mixin.py:160)\u001b[0m\n"
     ]
    }
   ],
   "source": [
    "from mleko.dataset.convert import CSVToVaexConverter\n",
    "\n",
    "\n",
    "clean_schema, clean_df = CSVToVaexConverter(\n",
    "    cache_directory=f\"data/{DATASET_NAME}/converted\",\n",
    "    drop_columns=[\"Ticket\"],\n",
    "    meta_columns=META_FEATURES,\n",
    "    drop_rows_with_na_columns=[TARGET_FEATURE],  # Drop rows with missing target values\n",
    "    random_state=RANDOM_STATE,  # We like reproducibility\n",
    ").convert(csv_paths)"
   ]
  },
  {
   "cell_type": "markdown",
   "metadata": {},
   "source": [
    "Investigate the data to see what columns are available and what their data types are."
   ]
  },
  {
   "cell_type": "code",
   "execution_count": 5,
   "metadata": {},
   "outputs": [
    {
     "data": {
      "text/plain": [
       "{'numerical': ['Age', 'Fare', 'Parch', 'Pclass', 'SibSp'],\n",
       " 'categorical': ['Cabin', 'Embarked', 'Name', 'Sex'],\n",
       " 'boolean': [],\n",
       " 'datetime': [],\n",
       " 'timedelta': []}"
      ]
     },
     "execution_count": 5,
     "metadata": {},
     "output_type": "execute_result"
    }
   ],
   "source": [
    "clean_schema.features"
   ]
  },
  {
   "cell_type": "code",
   "execution_count": 6,
   "metadata": {},
   "outputs": [
    {
     "data": {
      "text/html": [
       "<table>\n",
       "<thead>\n",
       "<tr><th>#                            </th><th style=\"text-align: right;\">  PassengerId</th><th style=\"text-align: right;\">  Survived</th><th style=\"text-align: right;\">  Pclass</th><th>Name                                               </th><th>Sex   </th><th>Age  </th><th style=\"text-align: right;\">  SibSp</th><th style=\"text-align: right;\">  Parch</th><th style=\"text-align: right;\">   Fare</th><th>Cabin  </th><th>Embarked  </th></tr>\n",
       "</thead>\n",
       "<tbody>\n",
       "<tr><td><i style='opacity: 0.6'>0</i></td><td style=\"text-align: right;\">            1</td><td style=\"text-align: right;\">         0</td><td style=\"text-align: right;\">       3</td><td>Braund, Mr. Owen Harris                            </td><td>male  </td><td>22.0 </td><td style=\"text-align: right;\">      1</td><td style=\"text-align: right;\">      0</td><td style=\"text-align: right;\"> 7.25  </td><td>--     </td><td>S         </td></tr>\n",
       "<tr><td><i style='opacity: 0.6'>1</i></td><td style=\"text-align: right;\">            2</td><td style=\"text-align: right;\">         1</td><td style=\"text-align: right;\">       1</td><td>&#x27;Cumings, Mrs. John Bradley (Florence Briggs Tha...</td><td>female</td><td>38.0 </td><td style=\"text-align: right;\">      1</td><td style=\"text-align: right;\">      0</td><td style=\"text-align: right;\">71.2833</td><td>C85    </td><td>C         </td></tr>\n",
       "<tr><td><i style='opacity: 0.6'>2</i></td><td style=\"text-align: right;\">            3</td><td style=\"text-align: right;\">         1</td><td style=\"text-align: right;\">       3</td><td>Heikkinen, Miss. Laina                             </td><td>female</td><td>26.0 </td><td style=\"text-align: right;\">      0</td><td style=\"text-align: right;\">      0</td><td style=\"text-align: right;\"> 7.925 </td><td>--     </td><td>S         </td></tr>\n",
       "<tr><td><i style='opacity: 0.6'>3</i></td><td style=\"text-align: right;\">            4</td><td style=\"text-align: right;\">         1</td><td style=\"text-align: right;\">       1</td><td>Futrelle, Mrs. Jacques Heath (Lily May Peel)       </td><td>female</td><td>35.0 </td><td style=\"text-align: right;\">      1</td><td style=\"text-align: right;\">      0</td><td style=\"text-align: right;\">53.1   </td><td>C123   </td><td>S         </td></tr>\n",
       "<tr><td><i style='opacity: 0.6'>4</i></td><td style=\"text-align: right;\">            5</td><td style=\"text-align: right;\">         0</td><td style=\"text-align: right;\">       3</td><td>Allen, Mr. William Henry                           </td><td>male  </td><td>35.0 </td><td style=\"text-align: right;\">      0</td><td style=\"text-align: right;\">      0</td><td style=\"text-align: right;\"> 8.05  </td><td>--     </td><td>S         </td></tr>\n",
       "<tr><td><i style='opacity: 0.6'>5</i></td><td style=\"text-align: right;\">            6</td><td style=\"text-align: right;\">         0</td><td style=\"text-align: right;\">       3</td><td>Moran, Mr. James                                   </td><td>male  </td><td>--   </td><td style=\"text-align: right;\">      0</td><td style=\"text-align: right;\">      0</td><td style=\"text-align: right;\"> 8.4583</td><td>--     </td><td>Q         </td></tr>\n",
       "<tr><td><i style='opacity: 0.6'>6</i></td><td style=\"text-align: right;\">            7</td><td style=\"text-align: right;\">         0</td><td style=\"text-align: right;\">       1</td><td>McCarthy, Mr. Timothy J                            </td><td>male  </td><td>54.0 </td><td style=\"text-align: right;\">      0</td><td style=\"text-align: right;\">      0</td><td style=\"text-align: right;\">51.8625</td><td>E46    </td><td>S         </td></tr>\n",
       "<tr><td><i style='opacity: 0.6'>7</i></td><td style=\"text-align: right;\">            8</td><td style=\"text-align: right;\">         0</td><td style=\"text-align: right;\">       3</td><td>Palsson, Master. Gosta Leonard                     </td><td>male  </td><td>2.0  </td><td style=\"text-align: right;\">      3</td><td style=\"text-align: right;\">      1</td><td style=\"text-align: right;\">21.075 </td><td>--     </td><td>S         </td></tr>\n",
       "<tr><td><i style='opacity: 0.6'>8</i></td><td style=\"text-align: right;\">            9</td><td style=\"text-align: right;\">         1</td><td style=\"text-align: right;\">       3</td><td>Johnson, Mrs. Oscar W (Elisabeth Vilhelmina Berg)  </td><td>female</td><td>27.0 </td><td style=\"text-align: right;\">      0</td><td style=\"text-align: right;\">      2</td><td style=\"text-align: right;\">11.1333</td><td>--     </td><td>S         </td></tr>\n",
       "<tr><td><i style='opacity: 0.6'>9</i></td><td style=\"text-align: right;\">           10</td><td style=\"text-align: right;\">         1</td><td style=\"text-align: right;\">       2</td><td>Nasser, Mrs. Nicholas (Adele Achem)                </td><td>female</td><td>14.0 </td><td style=\"text-align: right;\">      1</td><td style=\"text-align: right;\">      0</td><td style=\"text-align: right;\">30.0708</td><td>--     </td><td>C         </td></tr>\n",
       "</tbody>\n",
       "</table>"
      ],
      "text/plain": [
       "  #    PassengerId    Survived    Pclass  Name                                                 Sex     Age      SibSp    Parch     Fare  Cabin    Embarked\n",
       "  0              1           0         3  Braund, Mr. Owen Harris                              male    22.0         1        0   7.25    --       S\n",
       "  1              2           1         1  'Cumings, Mrs. John Bradley (Florence Briggs Tha...  female  38.0         1        0  71.2833  C85      C\n",
       "  2              3           1         3  Heikkinen, Miss. Laina                               female  26.0         0        0   7.925   --       S\n",
       "  3              4           1         1  Futrelle, Mrs. Jacques Heath (Lily May Peel)         female  35.0         1        0  53.1     C123     S\n",
       "  4              5           0         3  Allen, Mr. William Henry                             male    35.0         0        0   8.05    --       S\n",
       "  5              6           0         3  Moran, Mr. James                                     male    --           0        0   8.4583  --       Q\n",
       "  6              7           0         1  McCarthy, Mr. Timothy J                              male    54.0         0        0  51.8625  E46      S\n",
       "  7              8           0         3  Palsson, Master. Gosta Leonard                       male    2.0          3        1  21.075   --       S\n",
       "  8              9           1         3  Johnson, Mrs. Oscar W (Elisabeth Vilhelmina Berg)    female  27.0         0        2  11.1333  --       S\n",
       "  9             10           1         2  Nasser, Mrs. Nicholas (Adele Achem)                  female  14.0         1        0  30.0708  --       C"
      ]
     },
     "execution_count": 6,
     "metadata": {},
     "output_type": "execute_result"
    }
   ],
   "source": [
    "clean_df.head(10)"
   ]
  },
  {
   "cell_type": "markdown",
   "metadata": {},
   "source": [
    "# Split Train/Val and Test Dataset\n",
    "\n",
    "In this section, we split the cleaned data into a training/validation set and a test set. \n",
    "\n",
    "We use the `RandomSplitter` from `mleko` to perform a stratified random split, ensuring that both sets have the same proportion of class labels."
   ]
  },
  {
   "cell_type": "code",
   "execution_count": 8,
   "metadata": {},
   "outputs": [
    {
     "name": "stdout",
     "output_type": "stream",
     "text": [
      "[2023-09-27 17:16:44] [\u001b[1;32mINFO\u001b[0m] \u001b[32mCache Hit\u001b[0m (LRUCache) RandomSplitter.split: Using cached output. \u001b[1m(cache_mixin.py:160)\u001b[0m\n"
     ]
    }
   ],
   "source": [
    "from mleko.dataset.split import RandomSplitter\n",
    "\n",
    "\n",
    "clean_train_val_df, clean_test_df = RandomSplitter(\n",
    "    cache_directory=f\"data/{DATASET_NAME}/split\",\n",
    "    data_split=(0.90, 0.10),  # 90% train/val, 10% test\n",
    "    shuffle=True,  # Shuffle the data before splitting\n",
    "    stratify=TARGET_FEATURE,  # Stratify on the target feature\n",
    "    random_state=RANDOM_STATE,  # We like reproducibility\n",
    ").split(clean_df)"
   ]
  },
  {
   "cell_type": "markdown",
   "metadata": {},
   "source": [
    "Ensure the class balance is maintained in the train/val and test sets."
   ]
  },
  {
   "cell_type": "code",
   "execution_count": 9,
   "metadata": {},
   "outputs": [
    {
     "name": "stdout",
     "output_type": "stream",
     "text": [
      "Train/Val: 38.327% (Survived: 307, Total: 801)\n",
      "Test: 38.889% (Survived:  35, Total:  90)\n"
     ]
    }
   ],
   "source": [
    "def print_split_stats(df, split_name):\n",
    "    total_count = df.shape[0]\n",
    "    survival_count = df[TARGET_FEATURE].sum()  # type: ignore\n",
    "    survival_rate = survival_count / total_count\n",
    "\n",
    "    print(f\"{split_name}: {survival_rate * 100:.3f}% (Survived: {survival_count:3d}, Total: {total_count:3d})\")\n",
    "\n",
    "\n",
    "print_split_stats(clean_train_val_df, \"Train/Val\")\n",
    "print_split_stats(clean_test_df, \"Test\")"
   ]
  },
  {
   "cell_type": "markdown",
   "metadata": {},
   "source": [
    "## Splitting Based on Boolean Expressions\n",
    "\n",
    "For more complex splits, you can use the `ExpressionSplitter` from `mleko` to split the data based on a given boolean expression.\n",
    "\n",
    "It is suitable for splitting data based on time, location, or any other condition like the one below:\n",
    "```python\n",
    "from mleko.dataset.split import ExpressionSplitter\n",
    "\n",
    "train_val_df, test_df = ExpressionSplitter(\n",
    "    cache_directory=f\"data/{DATASET_NAME}/split\",\n",
    "    expression=\"(Embarked == 'S') | ((Embarked == 'C') & (Fare < 50))\"  # Train/val set contains passengers who embarked from Southampton or Cherbourg and paid less than 50.\n",
    ").split(clean_df)\n",
    "```"
   ]
  },
  {
   "cell_type": "markdown",
   "metadata": {},
   "source": [
    "# Feature Engineering & Transformation \n",
    "In this section, we perform feature engineering and transformation using custom transformers, predefined transformers and combining them inside a `CompositeTransformer` from `mleko`. "
   ]
  },
  {
   "cell_type": "code",
   "execution_count": 10,
   "metadata": {},
   "outputs": [
    {
     "data": {
      "text/html": [
       "<table>\n",
       "<thead>\n",
       "<tr><th>#                              </th><th>PassengerId  </th><th>Survived  </th><th>Pclass  </th><th>Name                                               </th><th>Sex   </th><th>Age  </th><th>SibSp  </th><th>Parch  </th><th>Fare   </th><th>Cabin  </th><th>Embarked  </th></tr>\n",
       "</thead>\n",
       "<tbody>\n",
       "<tr><td><i style='opacity: 0.6'>0</i>  </td><td>1            </td><td>0         </td><td>3       </td><td>Braund, Mr. Owen Harris                            </td><td>male  </td><td>22.0 </td><td>1      </td><td>0      </td><td>7.25   </td><td>--     </td><td>S         </td></tr>\n",
       "<tr><td><i style='opacity: 0.6'>1</i>  </td><td>2            </td><td>1         </td><td>1       </td><td>&#x27;Cumings, Mrs. John Bradley (Florence Briggs Tha...</td><td>female</td><td>38.0 </td><td>1      </td><td>0      </td><td>71.2833</td><td>C85    </td><td>C         </td></tr>\n",
       "<tr><td><i style='opacity: 0.6'>2</i>  </td><td>3            </td><td>1         </td><td>3       </td><td>Heikkinen, Miss. Laina                             </td><td>female</td><td>26.0 </td><td>0      </td><td>0      </td><td>7.925  </td><td>--     </td><td>S         </td></tr>\n",
       "<tr><td><i style='opacity: 0.6'>3</i>  </td><td>4            </td><td>1         </td><td>1       </td><td>Futrelle, Mrs. Jacques Heath (Lily May Peel)       </td><td>female</td><td>35.0 </td><td>1      </td><td>0      </td><td>53.1   </td><td>C123   </td><td>S         </td></tr>\n",
       "<tr><td><i style='opacity: 0.6'>4</i>  </td><td>5            </td><td>0         </td><td>3       </td><td>Allen, Mr. William Henry                           </td><td>male  </td><td>35.0 </td><td>0      </td><td>0      </td><td>8.05   </td><td>--     </td><td>S         </td></tr>\n",
       "<tr><td>...                            </td><td>...          </td><td>...       </td><td>...     </td><td>...                                                </td><td>...   </td><td>...  </td><td>...    </td><td>...    </td><td>...    </td><td>...    </td><td>...       </td></tr>\n",
       "<tr><td><i style='opacity: 0.6'>796</i></td><td>885          </td><td>0         </td><td>3       </td><td>Sutehall, Mr. Henry Jr                             </td><td>male  </td><td>25.0 </td><td>0      </td><td>0      </td><td>7.05   </td><td>--     </td><td>S         </td></tr>\n",
       "<tr><td><i style='opacity: 0.6'>797</i></td><td>886          </td><td>0         </td><td>3       </td><td>Rice, Mrs. William (Margaret Norton)               </td><td>female</td><td>39.0 </td><td>0      </td><td>5      </td><td>29.125 </td><td>--     </td><td>Q         </td></tr>\n",
       "<tr><td><i style='opacity: 0.6'>798</i></td><td>887          </td><td>0         </td><td>2       </td><td>Montvila, Rev. Juozas                              </td><td>male  </td><td>27.0 </td><td>0      </td><td>0      </td><td>13.0   </td><td>--     </td><td>S         </td></tr>\n",
       "<tr><td><i style='opacity: 0.6'>799</i></td><td>888          </td><td>1         </td><td>1       </td><td>Graham, Miss. Margaret Edith                       </td><td>female</td><td>19.0 </td><td>0      </td><td>0      </td><td>30.0   </td><td>B42    </td><td>S         </td></tr>\n",
       "<tr><td><i style='opacity: 0.6'>800</i></td><td>891          </td><td>0         </td><td>3       </td><td>Dooley, Mr. Patrick                                </td><td>male  </td><td>32.0 </td><td>0      </td><td>0      </td><td>7.75   </td><td>--     </td><td>Q         </td></tr>\n",
       "</tbody>\n",
       "</table>"
      ],
      "text/plain": [
       "#    PassengerId    Survived    Pclass    Name                                                 Sex     Age    SibSp    Parch    Fare     Cabin    Embarked\n",
       "0    1              0           3         Braund, Mr. Owen Harris                              male    22.0   1        0        7.25     --       S\n",
       "1    2              1           1         'Cumings, Mrs. John Bradley (Florence Briggs Tha...  female  38.0   1        0        71.2833  C85      C\n",
       "2    3              1           3         Heikkinen, Miss. Laina                               female  26.0   0        0        7.925    --       S\n",
       "3    4              1           1         Futrelle, Mrs. Jacques Heath (Lily May Peel)         female  35.0   1        0        53.1     C123     S\n",
       "4    5              0           3         Allen, Mr. William Henry                             male    35.0   0        0        8.05     --       S\n",
       "...  ...            ...         ...       ...                                                  ...     ...    ...      ...      ...      ...      ...\n",
       "796  885            0           3         Sutehall, Mr. Henry Jr                               male    25.0   0        0        7.05     --       S\n",
       "797  886            0           3         Rice, Mrs. William (Margaret Norton)                 female  39.0   0        5        29.125   --       Q\n",
       "798  887            0           2         Montvila, Rev. Juozas                                male    27.0   0        0        13.0     --       S\n",
       "799  888            1           1         Graham, Miss. Margaret Edith                         female  19.0   0        0        30.0     B42      S\n",
       "800  891            0           3         Dooley, Mr. Patrick                                  male    32.0   0        0        7.75     --       Q"
      ]
     },
     "execution_count": 10,
     "metadata": {},
     "output_type": "execute_result"
    }
   ],
   "source": [
    "clean_train_val_df"
   ]
  },
  {
   "cell_type": "markdown",
   "metadata": {},
   "source": [
    "## Custom Transformers\n",
    "It is important the the ML pipeline is flexible and allows for easy experimentation, be it with different feature engineering techniques or different models.\n",
    "\n",
    "In many cases, the classes provided by `mleko` will be sufficient for your needs. However, you can also create your own custom classes by inheriting from the `BaseClass` class. For transformers, you need to inherit from the `BaseTransformer` class and implement the `__init__`, `_fit`, `_transform`, and `_fingerprint` methods."
   ]
  },
  {
   "cell_type": "code",
   "execution_count": 11,
   "metadata": {},
   "outputs": [],
   "source": [
    "from __future__ import annotations\n",
    "\n",
    "from pathlib import Path\n",
    "from typing import Hashable\n",
    "\n",
    "import vaex\n",
    "import vaex.ml\n",
    "\n",
    "from mleko.dataset import DataSchema\n",
    "from mleko.dataset.transform import BaseTransformer\n",
    "from mleko.utils import auto_repr\n",
    "\n",
    "\n",
    "class IsAloneTransformer(BaseTransformer):\n",
    "    @auto_repr\n",
    "    def __init__(\n",
    "        self,\n",
    "        cache_directory: str | Path,\n",
    "        cache_size: int = 1,\n",
    "    ) -> None:\n",
    "        super().__init__(cache_directory, [], cache_size)\n",
    "        self._transformer = None\n",
    "\n",
    "    def _fit(self, data_schema: DataSchema, _dataframe: vaex.DataFrame) -> tuple[DataSchema, None]:\n",
    "        \"\"\"No fitting required for this transformer.\"\"\"\n",
    "        ds = data_schema.copy().add_feature(\"IsAlone\", \"boolean\")\n",
    "        return ds, self._transformer\n",
    "\n",
    "    def _transform(self, data_schema: DataSchema, dataframe: vaex.DataFrame) -> tuple[DataSchema, vaex.DataFrame]:\n",
    "        \"\"\"Add a new feature to the dataset indicating whether the passenger was alone or not.\"\"\"\n",
    "        df = dataframe.copy()\n",
    "        df[\"IsAlone\"] = df[\"SibSp\"] + df[\"Parch\"] == 0  # type: ignore\n",
    "        ds = data_schema.copy().add_feature(\"IsAlone\", \"boolean\")\n",
    "        return ds, df\n",
    "\n",
    "    def _fingerprint(self) -> Hashable:\n",
    "        return super()._fingerprint()\n",
    "\n",
    "\n",
    "class FeatureDropperTransformer(BaseTransformer):\n",
    "    @auto_repr\n",
    "    def __init__(\n",
    "        self,\n",
    "        cache_directory: str | Path,\n",
    "        features: list[str] | tuple[str, ...],\n",
    "        cache_size: int = 1,\n",
    "    ) -> None:\n",
    "        super().__init__(cache_directory, features, cache_size)\n",
    "        self._transformer = None\n",
    "\n",
    "    def _fit(self, data_schema: DataSchema, _dataframe: vaex.DataFrame) -> tuple[DataSchema, None]:\n",
    "        \"\"\"No fitting required for this transformer.\"\"\"\n",
    "        ds = data_schema.copy().drop_features(self._features)\n",
    "        return ds, self._transformer\n",
    "\n",
    "    def _transform(self, data_schema: DataSchema, dataframe: vaex.DataFrame) -> tuple[DataSchema, vaex.DataFrame]:\n",
    "        \"\"\"Drop the specified features from the dataset.\"\"\"\n",
    "        df = dataframe.drop(self._features, inplace=False)\n",
    "        ds = data_schema.copy().drop_features(self._features)\n",
    "        return ds, df\n",
    "\n",
    "    def _fingerprint(self) -> Hashable:\n",
    "        return super()._fingerprint()"
   ]
  },
  {
   "cell_type": "markdown",
   "metadata": {},
   "source": [
    "Transformers can be applied individually or combined into a `CompositeTransformer`. The `CompositeTransformer` allows you to combine multiple transformers into a single transformer, saving you from having to apply each transformer individually, like a small pipeline. The custom transformers can be used in the same way as the predefined ones, e.g. `LabelEncoderTransformer` or `FrequencyEncoderTransformer`.\n",
    "\n",
    "The transformers follows the common `fit` and `transform` pattern, similar to `scikit-learn`. This is true for feature selectors and models as well."
   ]
  },
  {
   "cell_type": "code",
   "execution_count": 16,
   "metadata": {},
   "outputs": [
    {
     "name": "stdout",
     "output_type": "stream",
     "text": [
      "[2023-09-27 17:17:00] [\u001b[1;32mINFO\u001b[0m] \u001b[32mCache Hit\u001b[0m (LRUCache) CompositeTransformer.fit_transform: Using cached output. \u001b[1m(cache_mixin.py:160)\u001b[0m\n",
      "[2023-09-27 17:17:00] [\u001b[1;32mINFO\u001b[0m] \u001b[32mCache Hit\u001b[0m (LRUCache) CompositeTransformer.transform: Using cached output. \u001b[1m(cache_mixin.py:160)\u001b[0m\n"
     ]
    }
   ],
   "source": [
    "from mleko.dataset.transform import CompositeTransformer, LabelEncoderTransformer\n",
    "\n",
    "\n",
    "composite_transformer = CompositeTransformer(\n",
    "    cache_directory=f\"data/{DATASET_NAME}/transform\",\n",
    "    transformers=[\n",
    "        FeatureDropperTransformer(\n",
    "            cache_directory=f\"data/{DATASET_NAME}/transform\",\n",
    "            features=[\"Name\"],\n",
    "        ),\n",
    "        IsAloneTransformer(\n",
    "            cache_directory=f\"data/{DATASET_NAME}/transform\",\n",
    "        ),\n",
    "        LabelEncoderTransformer(\n",
    "            cache_directory=f\"data/{DATASET_NAME}/transform\",\n",
    "            features=[\"Sex\", \"Embarked\", \"IsAlone\"],\n",
    "        ),\n",
    "    ],\n",
    ")\n",
    "\n",
    "transform_schema, _, transform_train_val_df = composite_transformer.fit_transform(clean_schema, clean_train_val_df)\n",
    "_, transform_test_df = composite_transformer.transform(clean_schema, clean_test_df)"
   ]
  },
  {
   "cell_type": "markdown",
   "metadata": {},
   "source": [
    "Ensure the transformed dataset has correct data types."
   ]
  },
  {
   "cell_type": "code",
   "execution_count": 17,
   "metadata": {},
   "outputs": [
    {
     "data": {
      "text/plain": [
       "{'numerical': ['Age', 'Fare', 'Parch', 'Pclass', 'SibSp'],\n",
       " 'categorical': ['Cabin', 'Embarked', 'Sex'],\n",
       " 'boolean': ['IsAlone'],\n",
       " 'datetime': [],\n",
       " 'timedelta': []}"
      ]
     },
     "execution_count": 17,
     "metadata": {},
     "output_type": "execute_result"
    }
   ],
   "source": [
    "transform_schema.features"
   ]
  },
  {
   "cell_type": "code",
   "execution_count": 18,
   "metadata": {},
   "outputs": [
    {
     "data": {
      "text/html": [
       "<table>\n",
       "<thead>\n",
       "<tr><th>#                              </th><th>PassengerId  </th><th>Survived  </th><th>Pclass  </th><th>Sex  </th><th>Age  </th><th>SibSp  </th><th>Parch  </th><th>Fare   </th><th>Cabin  </th><th>Embarked  </th><th>IsAlone  </th></tr>\n",
       "</thead>\n",
       "<tbody>\n",
       "<tr><td><i style='opacity: 0.6'>0</i>  </td><td>1            </td><td>0         </td><td>3       </td><td>1    </td><td>22.0 </td><td>1      </td><td>0      </td><td>7.25   </td><td>--     </td><td>3         </td><td>0        </td></tr>\n",
       "<tr><td><i style='opacity: 0.6'>1</i>  </td><td>2            </td><td>1         </td><td>1       </td><td>0    </td><td>38.0 </td><td>1      </td><td>0      </td><td>71.2833</td><td>C85    </td><td>2         </td><td>0        </td></tr>\n",
       "<tr><td><i style='opacity: 0.6'>2</i>  </td><td>3            </td><td>1         </td><td>3       </td><td>0    </td><td>26.0 </td><td>0      </td><td>0      </td><td>7.925  </td><td>--     </td><td>3         </td><td>1        </td></tr>\n",
       "<tr><td><i style='opacity: 0.6'>3</i>  </td><td>4            </td><td>1         </td><td>1       </td><td>0    </td><td>35.0 </td><td>1      </td><td>0      </td><td>53.1   </td><td>C123   </td><td>3         </td><td>0        </td></tr>\n",
       "<tr><td><i style='opacity: 0.6'>4</i>  </td><td>5            </td><td>0         </td><td>3       </td><td>1    </td><td>35.0 </td><td>0      </td><td>0      </td><td>8.05   </td><td>--     </td><td>3         </td><td>1        </td></tr>\n",
       "<tr><td>...                            </td><td>...          </td><td>...       </td><td>...     </td><td>...  </td><td>...  </td><td>...    </td><td>...    </td><td>...    </td><td>...    </td><td>...       </td><td>...      </td></tr>\n",
       "<tr><td><i style='opacity: 0.6'>796</i></td><td>885          </td><td>0         </td><td>3       </td><td>1    </td><td>25.0 </td><td>0      </td><td>0      </td><td>7.05   </td><td>--     </td><td>3         </td><td>1        </td></tr>\n",
       "<tr><td><i style='opacity: 0.6'>797</i></td><td>886          </td><td>0         </td><td>3       </td><td>0    </td><td>39.0 </td><td>0      </td><td>5      </td><td>29.125 </td><td>--     </td><td>1         </td><td>0        </td></tr>\n",
       "<tr><td><i style='opacity: 0.6'>798</i></td><td>887          </td><td>0         </td><td>2       </td><td>1    </td><td>27.0 </td><td>0      </td><td>0      </td><td>13.0   </td><td>--     </td><td>3         </td><td>1        </td></tr>\n",
       "<tr><td><i style='opacity: 0.6'>799</i></td><td>888          </td><td>1         </td><td>1       </td><td>0    </td><td>19.0 </td><td>0      </td><td>0      </td><td>30.0   </td><td>B42    </td><td>3         </td><td>1        </td></tr>\n",
       "<tr><td><i style='opacity: 0.6'>800</i></td><td>891          </td><td>0         </td><td>3       </td><td>1    </td><td>32.0 </td><td>0      </td><td>0      </td><td>7.75   </td><td>--     </td><td>1         </td><td>1        </td></tr>\n",
       "</tbody>\n",
       "</table>"
      ],
      "text/plain": [
       "#    PassengerId    Survived    Pclass    Sex    Age    SibSp    Parch    Fare     Cabin    Embarked    IsAlone\n",
       "0    1              0           3         1      22.0   1        0        7.25     --       3           0\n",
       "1    2              1           1         0      38.0   1        0        71.2833  C85      2           0\n",
       "2    3              1           3         0      26.0   0        0        7.925    --       3           1\n",
       "3    4              1           1         0      35.0   1        0        53.1     C123     3           0\n",
       "4    5              0           3         1      35.0   0        0        8.05     --       3           1\n",
       "...  ...            ...         ...       ...    ...    ...      ...      ...      ...      ...         ...\n",
       "796  885            0           3         1      25.0   0        0        7.05     --       3           1\n",
       "797  886            0           3         0      39.0   0        5        29.125   --       1           0\n",
       "798  887            0           2         1      27.0   0        0        13.0     --       3           1\n",
       "799  888            1           1         0      19.0   0        0        30.0     B42      3           1\n",
       "800  891            0           3         1      32.0   0        0        7.75     --       1           1"
      ]
     },
     "execution_count": 18,
     "metadata": {},
     "output_type": "execute_result"
    }
   ],
   "source": [
    "transform_train_val_df"
   ]
  },
  {
   "cell_type": "markdown",
   "metadata": {},
   "source": [
    "# Feature Selection\n",
    "\n",
    "Here, we use the `CompositeFeatureSelector` from `mleko` to select the most relevant features for our model. We use three selectors: `MissingRateFeatureSelector` to remove features with too many missing values, `InvarianceFeatureSelector` to remove invariant features, and `PearsonCorrelationFeatureSelector` to remove highly correlated features. We also display a correlation matrix for the selected numerical features.\n",
    "\n",
    "Just like transformers, feature selectors can be applied individually or combined into a `CompositeFeatureSelector`, and allow for custom feature selectors."
   ]
  },
  {
   "cell_type": "code",
   "execution_count": 19,
   "metadata": {},
   "outputs": [
    {
     "name": "stdout",
     "output_type": "stream",
     "text": [
      "[2023-09-27 17:17:02] [\u001b[1;32mINFO\u001b[0m] \u001b[32mCache Hit\u001b[0m (LRUCache) CompositeFeatureSelector.fit_transform: Using cached output. \u001b[1m(cache_mixin.py:160)\u001b[0m\n",
      "[2023-09-27 17:17:02] [\u001b[1;32mINFO\u001b[0m] \u001b[32mCache Hit\u001b[0m (LRUCache) CompositeFeatureSelector.transform: Using cached output. \u001b[1m(cache_mixin.py:160)\u001b[0m\n"
     ]
    }
   ],
   "source": [
    "from mleko.dataset.feature_select import (\n",
    "    CompositeFeatureSelector,\n",
    "    InvarianceFeatureSelector,\n",
    "    MissingRateFeatureSelector,\n",
    "    PearsonCorrelationFeatureSelector,\n",
    ")\n",
    "\n",
    "\n",
    "composite_feature_selector = CompositeFeatureSelector(\n",
    "    cache_directory=f\"data/{DATASET_NAME}/feature_select\",\n",
    "    feature_selectors=[\n",
    "        MissingRateFeatureSelector(\n",
    "            cache_directory=f\"data/{DATASET_NAME}/feature_select\",\n",
    "            missing_rate_threshold=0.5,\n",
    "            ignore_features=META_FEATURES,\n",
    "        ),\n",
    "        InvarianceFeatureSelector(\n",
    "            cache_directory=f\"data/{DATASET_NAME}/feature_select\",\n",
    "            ignore_features=META_FEATURES,\n",
    "        ),\n",
    "        PearsonCorrelationFeatureSelector(\n",
    "            cache_directory=f\"data/{DATASET_NAME}/feature_select\",\n",
    "            correlation_threshold=0.7,\n",
    "            ignore_features=META_FEATURES,\n",
    "        ),\n",
    "    ],\n",
    ")\n",
    "\n",
    "data_schema, _, feature_select_train_val_df = composite_feature_selector.fit_transform(\n",
    "    transform_schema, transform_train_val_df\n",
    ")\n",
    "_, test_df = composite_feature_selector.transform(transform_schema, transform_test_df)"
   ]
  },
  {
   "cell_type": "markdown",
   "metadata": {},
   "source": [
    "The `Cabin` feature has too many missing values, so we drop it. No other feature was dropped."
   ]
  },
  {
   "cell_type": "code",
   "execution_count": 20,
   "metadata": {},
   "outputs": [
    {
     "data": {
      "text/plain": [
       "{'numerical': ['Age', 'Fare', 'Parch', 'Pclass', 'SibSp'],\n",
       " 'categorical': ['Embarked', 'Sex'],\n",
       " 'boolean': ['IsAlone'],\n",
       " 'datetime': [],\n",
       " 'timedelta': []}"
      ]
     },
     "execution_count": 20,
     "metadata": {},
     "output_type": "execute_result"
    }
   ],
   "source": [
    "data_schema.features"
   ]
  },
  {
   "cell_type": "code",
   "execution_count": 21,
   "metadata": {},
   "outputs": [
    {
     "data": {
      "text/html": [
       "<table>\n",
       "<thead>\n",
       "<tr><th>#                              </th><th>PassengerId  </th><th>Survived  </th><th>Pclass  </th><th>Sex  </th><th>Age  </th><th>SibSp  </th><th>Parch  </th><th>Fare   </th><th>Embarked  </th><th>IsAlone  </th></tr>\n",
       "</thead>\n",
       "<tbody>\n",
       "<tr><td><i style='opacity: 0.6'>0</i>  </td><td>1            </td><td>0         </td><td>3       </td><td>1    </td><td>22.0 </td><td>1      </td><td>0      </td><td>7.25   </td><td>3         </td><td>0        </td></tr>\n",
       "<tr><td><i style='opacity: 0.6'>1</i>  </td><td>2            </td><td>1         </td><td>1       </td><td>0    </td><td>38.0 </td><td>1      </td><td>0      </td><td>71.2833</td><td>2         </td><td>0        </td></tr>\n",
       "<tr><td><i style='opacity: 0.6'>2</i>  </td><td>3            </td><td>1         </td><td>3       </td><td>0    </td><td>26.0 </td><td>0      </td><td>0      </td><td>7.925  </td><td>3         </td><td>1        </td></tr>\n",
       "<tr><td><i style='opacity: 0.6'>3</i>  </td><td>4            </td><td>1         </td><td>1       </td><td>0    </td><td>35.0 </td><td>1      </td><td>0      </td><td>53.1   </td><td>3         </td><td>0        </td></tr>\n",
       "<tr><td><i style='opacity: 0.6'>4</i>  </td><td>5            </td><td>0         </td><td>3       </td><td>1    </td><td>35.0 </td><td>0      </td><td>0      </td><td>8.05   </td><td>3         </td><td>1        </td></tr>\n",
       "<tr><td>...                            </td><td>...          </td><td>...       </td><td>...     </td><td>...  </td><td>...  </td><td>...    </td><td>...    </td><td>...    </td><td>...       </td><td>...      </td></tr>\n",
       "<tr><td><i style='opacity: 0.6'>796</i></td><td>885          </td><td>0         </td><td>3       </td><td>1    </td><td>25.0 </td><td>0      </td><td>0      </td><td>7.05   </td><td>3         </td><td>1        </td></tr>\n",
       "<tr><td><i style='opacity: 0.6'>797</i></td><td>886          </td><td>0         </td><td>3       </td><td>0    </td><td>39.0 </td><td>0      </td><td>5      </td><td>29.125 </td><td>1         </td><td>0        </td></tr>\n",
       "<tr><td><i style='opacity: 0.6'>798</i></td><td>887          </td><td>0         </td><td>2       </td><td>1    </td><td>27.0 </td><td>0      </td><td>0      </td><td>13.0   </td><td>3         </td><td>1        </td></tr>\n",
       "<tr><td><i style='opacity: 0.6'>799</i></td><td>888          </td><td>1         </td><td>1       </td><td>0    </td><td>19.0 </td><td>0      </td><td>0      </td><td>30.0   </td><td>3         </td><td>1        </td></tr>\n",
       "<tr><td><i style='opacity: 0.6'>800</i></td><td>891          </td><td>0         </td><td>3       </td><td>1    </td><td>32.0 </td><td>0      </td><td>0      </td><td>7.75   </td><td>1         </td><td>1        </td></tr>\n",
       "</tbody>\n",
       "</table>"
      ],
      "text/plain": [
       "#    PassengerId    Survived    Pclass    Sex    Age    SibSp    Parch    Fare     Embarked    IsAlone\n",
       "0    1              0           3         1      22.0   1        0        7.25     3           0\n",
       "1    2              1           1         0      38.0   1        0        71.2833  2           0\n",
       "2    3              1           3         0      26.0   0        0        7.925    3           1\n",
       "3    4              1           1         0      35.0   1        0        53.1     3           0\n",
       "4    5              0           3         1      35.0   0        0        8.05     3           1\n",
       "...  ...            ...         ...       ...    ...    ...      ...      ...      ...         ...\n",
       "796  885            0           3         1      25.0   0        0        7.05     3           1\n",
       "797  886            0           3         0      39.0   0        5        29.125   1           0\n",
       "798  887            0           2         1      27.0   0        0        13.0     3           1\n",
       "799  888            1           1         0      19.0   0        0        30.0     3           1\n",
       "800  891            0           3         1      32.0   0        0        7.75     1           1"
      ]
     },
     "execution_count": 21,
     "metadata": {},
     "output_type": "execute_result"
    }
   ],
   "source": [
    "feature_select_train_val_df"
   ]
  },
  {
   "cell_type": "markdown",
   "metadata": {},
   "source": [
    "# Hyperparameter Tuning\n",
    "The `mleko` library provides a `OptunaTuner` class for hyperparameter tuning. Here we use it to tune the hyperparameters of the `LGBMModel` model using 5-fold cross-validation, and measuring the performance using the `average_precision` metric. Each trial is run for 50 iterations, and we run 100 trials in total."
   ]
  },
  {
   "cell_type": "code",
   "execution_count": 108,
   "metadata": {},
   "outputs": [
    {
     "name": "stdout",
     "output_type": "stream",
     "text": [
      "[2023-09-27 18:27:37] [\u001b[1;32mINFO\u001b[0m] \u001b[32mCache Hit\u001b[0m (LRUCache) OptunaTuner.tune: Using cached output. \u001b[1m(cache_mixin.py:160)\u001b[0m\n"
     ]
    }
   ],
   "source": [
    "from statistics import mean\n",
    "\n",
    "import optuna\n",
    "\n",
    "from mleko.model import LGBMModel\n",
    "from mleko.model.tune import OptunaTuner\n",
    "\n",
    "\n",
    "def objective(trial: optuna.Trial, data_schema: DataSchema, dataframe: vaex.DataFrame) -> float:\n",
    "    lgbm_model = LGBMModel(\n",
    "        cache_directory=f\"data/{DATASET_NAME}/model\",\n",
    "        verbosity=-1,\n",
    "        target=TARGET_FEATURE,\n",
    "        objective=\"binary\",\n",
    "        num_iterations=50,\n",
    "        ignore_features=META_FEATURES,\n",
    "        metric=[\"average_precision\", \"auc\"],\n",
    "        early_stopping_round=10,\n",
    "    )\n",
    "\n",
    "    lambda_l1 = trial.suggest_float(\"lambda_l1\", 1e-8, 10.0, log=True)\n",
    "    lambda_l2 = trial.suggest_float(\"lambda_l2\", 1e-8, 10.0, log=True)\n",
    "    num_leaves = trial.suggest_int(\"num_leaves\", 2, 1024)\n",
    "    max_depth = trial.suggest_int(\"max_depth\", 1, 40)\n",
    "    min_child_samples = trial.suggest_int(\"min_child_samples\", 5, 100)\n",
    "    min_child_weight = trial.suggest_float(\"min_child_weight\", 1e-5, 1e-2, log=True)\n",
    "    feature_fraction = trial.suggest_float(\"feature_fraction\", 0.4, 1.0)\n",
    "    bagging_fraction = trial.suggest_float(\"bagging_fraction\", 0.4, 1.0)\n",
    "    bagging_freq = trial.suggest_int(\"bagging_freq\", 1, 7)\n",
    "    learning_rate = trial.suggest_float(\"learning_rate\", 1e-8, 1.0, log=True)\n",
    "\n",
    "    hyperparameters = {\n",
    "        \"lambda_l1\": lambda_l1,\n",
    "        \"lambda_l2\": lambda_l2,\n",
    "        \"num_leaves\": num_leaves,\n",
    "        \"max_depth\": max_depth,\n",
    "        \"min_child_samples\": min_child_samples,\n",
    "        \"min_child_weight\": min_child_weight,\n",
    "        \"feature_fraction\": feature_fraction,\n",
    "        \"bagging_fraction\": bagging_fraction,\n",
    "        \"bagging_freq\": bagging_freq,\n",
    "        \"learning_rate\": learning_rate,\n",
    "    }\n",
    "\n",
    "    scores: list[float] = []\n",
    "    splits = dataframe.split_random(into=5, random_state=RANDOM_STATE)\n",
    "    for i, validation_df in enumerate(splits):\n",
    "        train_df = vaex.concat([df for j, df in enumerate(splits) if j != i])\n",
    "        _, metrics, _, _ = lgbm_model._fit_transform(data_schema, train_df, validation_df, hyperparameters)\n",
    "        scores.append(metrics[\"validation\"][\"average_precision\"][-1])\n",
    "\n",
    "    return mean(scores)\n",
    "\n",
    "\n",
    "hyperparameters, best_score, study = OptunaTuner(\n",
    "    cache_directory=f\"data/{DATASET_NAME}/tune\",\n",
    "    objective_function=objective,\n",
    "    direction=\"maximize\",\n",
    "    num_trials=100,\n",
    "    random_state=RANDOM_STATE,\n",
    ").tune(data_schema, feature_select_train_val_df)"
   ]
  },
  {
   "cell_type": "code",
   "execution_count": 109,
   "metadata": {},
   "outputs": [
    {
     "data": {
      "text/plain": [
       "{'lambda_l1': 9.847981317457816e-07,\n",
       " 'lambda_l2': 5.464414169215208e-05,\n",
       " 'num_leaves': 246,\n",
       " 'max_depth': 11,\n",
       " 'min_child_samples': 58,\n",
       " 'min_child_weight': 0.0006758559978256866,\n",
       " 'feature_fraction': 0.7640525091769825,\n",
       " 'bagging_fraction': 0.8568743104829155,\n",
       " 'bagging_freq': 2,\n",
       " 'learning_rate': 0.14079119182431077}"
      ]
     },
     "execution_count": 109,
     "metadata": {},
     "output_type": "execute_result"
    }
   ],
   "source": [
    "hyperparameters"
   ]
  },
  {
   "cell_type": "code",
   "execution_count": 110,
   "metadata": {},
   "outputs": [
    {
     "data": {
      "text/plain": [
       "0.8546552883816878"
      ]
     },
     "execution_count": 110,
     "metadata": {},
     "output_type": "execute_result"
    }
   ],
   "source": [
    "best_score"
   ]
  },
  {
   "cell_type": "markdown",
   "metadata": {},
   "source": [
    "# Train Model\n",
    "\n",
    "We further split our training/validation data into a training set and a validation set. The `LGBMModel` is trained on the training set and evaluated on the validation set."
   ]
  },
  {
   "cell_type": "code",
   "execution_count": 111,
   "metadata": {},
   "outputs": [
    {
     "name": "stdout",
     "output_type": "stream",
     "text": [
      "[2023-09-27 18:27:41] [\u001b[1;32mINFO\u001b[0m] \u001b[32mCache Hit\u001b[0m (LRUCache) RandomSplitter.split: Using cached output. \u001b[1m(cache_mixin.py:160)\u001b[0m\n"
     ]
    }
   ],
   "source": [
    "train_df, val_df = RandomSplitter(\n",
    "    cache_directory=f\"data/{DATASET_NAME}/split\",\n",
    "    data_split=(0.80, 0.20),\n",
    "    shuffle=True,\n",
    "    stratify=TARGET_FEATURE,\n",
    "    random_state=RANDOM_STATE,\n",
    ").split(feature_select_train_val_df, cache_group=\"train_val\")"
   ]
  },
  {
   "cell_type": "markdown",
   "metadata": {},
   "source": [
    "Ensure the class balance is maintained in the training, validation and test sets."
   ]
  },
  {
   "cell_type": "code",
   "execution_count": 112,
   "metadata": {},
   "outputs": [
    {
     "name": "stdout",
     "output_type": "stream",
     "text": [
      "Train: 38.281% (Survived: 245, Total: 640)\n",
      "Val: 38.509% (Survived:  62, Total: 161)\n",
      "Test: 38.889% (Survived:  35, Total:  90)\n"
     ]
    }
   ],
   "source": [
    "print_split_stats(train_df, \"Train\")\n",
    "print_split_stats(val_df, \"Val\")\n",
    "print_split_stats(test_df, \"Test\")"
   ]
  },
  {
   "cell_type": "markdown",
   "metadata": {},
   "source": [
    "Train the model and evaluate it on the validation set."
   ]
  },
  {
   "cell_type": "code",
   "execution_count": 197,
   "metadata": {},
   "outputs": [
    {
     "name": "stdout",
     "output_type": "stream",
     "text": [
      "[2023-09-27 18:40:19] [\u001b[1;32mINFO\u001b[0m] \u001b[32mCache Hit\u001b[0m (LRUCache) LGBMModel.fit_transform: Using cached output. \u001b[1m(cache_mixin.py:160)\u001b[0m\n"
     ]
    }
   ],
   "source": [
    "lgbm_model = LGBMModel(\n",
    "    cache_directory=f\"data/{DATASET_NAME}/model\",\n",
    "    objective=\"binary\",\n",
    "    target=TARGET_FEATURE,\n",
    "    num_iterations=200,\n",
    "    ignore_features=META_FEATURES,\n",
    "    metric=[\"average_precision\", \"auc\"],\n",
    ")\n",
    "\n",
    "model, metrics, p_train_df, p_val_df = lgbm_model.fit_transform(data_schema, train_df, val_df, hyperparameters)"
   ]
  },
  {
   "cell_type": "code",
   "execution_count": 196,
   "metadata": {},
   "outputs": [
    {
     "data": {
      "image/png": "[encoded data removed]",
      "text/plain": [
       "<Figure size 640x480 with 1 Axes>"
      ]
     },
     "metadata": {},
     "output_type": "display_data"
    },
    {
     "data": {
      "image/png": "[encoded data removed]",
      "text/plain": [
       "<Figure size 640x480 with 1 Axes>"
      ]
     },
     "metadata": {},
     "output_type": "display_data"
    }
   ],
   "source": [
    "import lightgbm\n",
    "\n",
    "\n",
    "ax = lightgbm.plot_metric(metrics, metric=\"auc\")\n",
    "ax = lightgbm.plot_metric(metrics, metric=\"average_precision\")"
   ]
  },
  {
   "cell_type": "markdown",
   "metadata": {},
   "source": [
    "# `mleko` Pipeline\n",
    "\n",
    "The `mleko` pipeline is used to streamline the entire process. Pipelines are very flexible and allows users to define a directed acyclic graph (DAG) of operations. You can chain together all operations in a single pipeline or create multiple pipelines for different tasks.\n",
    "\n",
    "We create two pipelines: \n",
    "- a pre-processing pipeline that handles data ingestion, conversion, splitting, transformation, and feature selection\n",
    "- a model pipeline that trains and evaluates the model.\n",
    "\n",
    "Next we define all required classes to create the pre-processing pipeline."
   ]
  },
  {
   "cell_type": "code",
   "execution_count": 149,
   "metadata": {},
   "outputs": [],
   "source": [
    "!rm -r data"
   ]
  },
  {
   "cell_type": "markdown",
   "metadata": {},
   "source": [
    "## Pre-Processing Pipeline"
   ]
  },
  {
   "cell_type": "code",
   "execution_count": 150,
   "metadata": {},
   "outputs": [
    {
     "name": "stdout",
     "output_type": "stream",
     "text": [
      "[2023-09-27 18:31:26] [\u001b[1;32mINFO\u001b[0m] Attempting to fetch Kaggle API credentials from environment variables 'KAGGLE_USERNAME' and 'KAGGLE_KEY'. \u001b[1m(kaggle_ingester.py:74)\u001b[0m\n",
      "[2023-09-27 18:31:26] [\u001b[1;32mINFO\u001b[0m] Kaggle API credentials not found in environment variables, attempting to fetch from fallback path at ~/.kaggle/kaggle.json. \u001b[1m(kaggle_ingester.py:82)\u001b[0m\n",
      "[2023-09-27 18:31:26] [\u001b[1;32mINFO\u001b[0m] Kaggle credentials successfully fetched. \u001b[1m(kaggle_ingester.py:91)\u001b[0m\n"
     ]
    }
   ],
   "source": [
    "kaggle_ingester = KaggleIngester(\n",
    "    destination_directory=f\"data/{DATASET_NAME}/raw\", \n",
    "    owner_slug=OWNER_SLUG, \n",
    "    dataset_slug=DATASET_SLUG\n",
    ")"
   ]
  },
  {
   "cell_type": "code",
   "execution_count": 151,
   "metadata": {},
   "outputs": [],
   "source": [
    "csv_to_vaex_converter = CSVToVaexConverter(\n",
    "    cache_directory=f\"data/{DATASET_NAME}/converted\",\n",
    "    drop_columns=[\"Ticket\"],\n",
    "    meta_columns=META_FEATURES,\n",
    "    drop_rows_with_na_columns=[TARGET_FEATURE],\n",
    "    random_state=RANDOM_STATE,\n",
    ")"
   ]
  },
  {
   "cell_type": "code",
   "execution_count": 152,
   "metadata": {},
   "outputs": [],
   "source": [
    "random_splitter_90_10 = RandomSplitter(\n",
    "    cache_directory=f\"data/{DATASET_NAME}/split\",\n",
    "    data_split=(0.90, 0.10),\n",
    "    shuffle=True,\n",
    "    stratify=TARGET_FEATURE,\n",
    "    random_state=RANDOM_STATE,\n",
    ")"
   ]
  },
  {
   "cell_type": "code",
   "execution_count": 153,
   "metadata": {},
   "outputs": [],
   "source": [
    "composite_transformer = CompositeTransformer(\n",
    "    cache_directory=f\"data/{DATASET_NAME}/transform\",\n",
    "    transformers=[\n",
    "        FeatureDropperTransformer(\n",
    "            cache_directory=f\"data/{DATASET_NAME}/transform\",\n",
    "            features=[\"Name\"],\n",
    "        ),\n",
    "        IsAloneTransformer(\n",
    "            cache_directory=f\"data/{DATASET_NAME}/transform\",\n",
    "        ),\n",
    "        LabelEncoderTransformer(\n",
    "            cache_directory=f\"data/{DATASET_NAME}/transform\",\n",
    "            features=[\"Sex\", \"Embarked\", \"IsAlone\"],\n",
    "        ),\n",
    "    ],\n",
    ")"
   ]
  },
  {
   "cell_type": "code",
   "execution_count": 154,
   "metadata": {},
   "outputs": [],
   "source": [
    "composite_feature_selector = CompositeFeatureSelector(\n",
    "    cache_directory=f\"data/{DATASET_NAME}/feature_select\",\n",
    "    feature_selectors=[\n",
    "        MissingRateFeatureSelector(\n",
    "            cache_directory=f\"data/{DATASET_NAME}/feature_select\",\n",
    "            missing_rate_threshold=0.5,\n",
    "            ignore_features=META_FEATURES,\n",
    "        ),\n",
    "        InvarianceFeatureSelector(\n",
    "            cache_directory=f\"data/{DATASET_NAME}/feature_select\",\n",
    "            ignore_features=META_FEATURES,\n",
    "        ),\n",
    "        PearsonCorrelationFeatureSelector(\n",
    "            cache_directory=f\"data/{DATASET_NAME}/feature_select\",\n",
    "            correlation_threshold=0.7,\n",
    "            ignore_features=META_FEATURES,\n",
    "        ),\n",
    "    ],\n",
    ")"
   ]
  },
  {
   "cell_type": "code",
   "execution_count": 155,
   "metadata": {},
   "outputs": [],
   "source": [
    "random_splitter_80_20 = RandomSplitter(\n",
    "    cache_directory=f\"data/{DATASET_NAME}/split\",\n",
    "    data_split=(0.80, 0.20),\n",
    "    shuffle=True,\n",
    "    stratify=TARGET_FEATURE,\n",
    "    random_state=RANDOM_STATE,\n",
    ")"
   ]
  },
  {
   "cell_type": "markdown",
   "metadata": {},
   "source": [
    "Define the pre-processing pipeline performing all the dataset pre-processing steps before training the model.\n",
    "\n",
    "Each `PipelineStep` accepts a class, a list of input names, and a list of output names. The class is used to instantiate the step, the input names are used to fetch the required data from the previous steps, and the output names are used to store the output of the step for use by subsequent steps."
   ]
  },
  {
   "cell_type": "code",
   "execution_count": 164,
   "metadata": {},
   "outputs": [],
   "source": [
    "from mleko.pipeline import Pipeline\n",
    "from mleko.pipeline.steps import ConvertStep, FeatureSelectStep, IngestStep, SplitStep, TransformStep\n",
    "\n",
    "\n",
    "pre_pipeline = Pipeline(\n",
    "    steps=[\n",
    "        IngestStep(kaggle_ingester, outputs=[\"raw_csv\"]),\n",
    "        ConvertStep(csv_to_vaex_converter, inputs=[\"raw_csv\"], outputs=[\"clean_data_schema\", \"clean_df\"]),\n",
    "        SplitStep(\n",
    "            random_splitter_90_10,\n",
    "            inputs=[\"clean_df\"],\n",
    "            outputs=[\"train_val_clean_df\", \"test_clean_df\"],\n",
    "            cache_group=\"train_val_test\",\n",
    "        ),\n",
    "        TransformStep(\n",
    "            composite_transformer,\n",
    "            action=\"fit_transform\",\n",
    "            inputs=[\"clean_data_schema\", \"train_val_clean_df\"],\n",
    "            outputs=[\"transform_data_schema\", \"composite_transformer\", \"transform_train_val_df\"],\n",
    "            cache_group=\"train_val\",\n",
    "        ),\n",
    "        TransformStep(\n",
    "            composite_transformer,\n",
    "            action=\"transform\",\n",
    "            inputs=[\"clean_data_schema\", \"test_clean_df\"],\n",
    "            outputs=[\"transform_data_schema\", \"transform_test_df\"],\n",
    "            cache_group=\"test\",\n",
    "        ),\n",
    "        FeatureSelectStep(\n",
    "            composite_feature_selector,\n",
    "            action=\"fit_transform\",\n",
    "            inputs=[\"transform_data_schema\", \"transform_train_val_df\"],\n",
    "            outputs=[\"data_schema\", \"composite_feature_selector\", \"selected_train_val_df\"],\n",
    "            cache_group=\"train_val\",\n",
    "        ),\n",
    "        FeatureSelectStep(\n",
    "            composite_feature_selector,\n",
    "            action=\"transform\",\n",
    "            inputs=[\"transform_data_schema\", \"transform_test_df\"],\n",
    "            outputs=[\"data_schema\", \"test_df\"],\n",
    "            cache_group=\"test\",\n",
    "        ),\n",
    "        SplitStep(\n",
    "            random_splitter_80_20,\n",
    "            inputs=[\"selected_train_val_df\"],\n",
    "            outputs=[\"train_df\", \"val_df\"],\n",
    "            cache_group=\"train_val\",\n",
    "        ),\n",
    "    ]\n",
    ")"
   ]
  },
  {
   "cell_type": "markdown",
   "metadata": {},
   "source": [
    "Print `Pipeline` steps to see the order in which they will be executed, for double-checking."
   ]
  },
  {
   "cell_type": "code",
   "execution_count": 165,
   "metadata": {},
   "outputs": [
    {
     "data": {
      "text/plain": [
       "Pipeline:\n",
       "  1. IngestStep(ingester=KaggleIngester(file_names=None, dataset_version=None, kaggle_api_credentials_file=None, num_workers=64, destination_directory='data/yasserh/titanic-dataset/raw', owner_slug='yasserh', dataset_slug='titanic-dataset'), inputs=(), outputs=['raw_csv'])\n",
       "  2. ConvertStep(converter=CSVToVaexConverter(forced_numerical_columns=(), forced_categorical_columns=(), forced_boolean_columns=(), drop_columns=['Ticket'], meta_columns=['PassengerId', 'Survived'], drop_rows_with_na_columns=['Survived'], na_values=('-9998', '-9998.0', '-9999', '-9999.0', '-99', '-99.0', 'nan', 'none', 'non', 'Nan', 'None', 'Non', '', 'N/A', 'N/a', 'unknown', 'missing'), true_values=('t', 'True', 'true', '1'), false_values=('f', 'False', 'false', '0'), downcast_float=False, random_state=1337, num_workers=12, cache_size=1, cache_directory='data/yasserh/titanic-dataset/converted'), inputs=['raw_csv'], outputs=['clean_data_schema', 'clean_df'], cache_group=None)\n",
       "  3. SplitStep(splitter=RandomSplitter(data_split=(0.9, 0.1), shuffle=True, stratify='Survived', random_state=1337, cache_size=1, cache_directory='data/yasserh/titanic-dataset/split'), inputs=['clean_df'], outputs=['train_val_clean_df', 'test_clean_df'], cache_group='train_val_test')\n",
       "  4. TransformStep(transformer=CompositeTransformer(cache_size=1, cache_directory='data/yasserh/titanic-dataset/transform', transformers=[FeatureDropperTransformer(cache_size=1, cache_directory='data/yasserh/titanic-dataset/transform', features=['Name']), IsAloneTransformer(cache_size=1, cache_directory='data/yasserh/titanic-dataset/transform'), LabelEncoderTransformer(allow_unseen=True, cache_size=1, cache_directory='data/yasserh/titanic-dataset/transform', features=['Sex', 'Embarked', 'IsAlone'])]), inputs=['clean_data_schema', 'train_val_clean_df'], outputs=['transform_data_schema', 'composite_transformer', 'transform_train_val_df'], cache_group='train_val', action='fit_transform')\n",
       "  5. TransformStep(transformer=CompositeTransformer(cache_size=1, cache_directory='data/yasserh/titanic-dataset/transform', transformers=[FeatureDropperTransformer(cache_size=1, cache_directory='data/yasserh/titanic-dataset/transform', features=['Name']), IsAloneTransformer(cache_size=1, cache_directory='data/yasserh/titanic-dataset/transform'), LabelEncoderTransformer(allow_unseen=True, cache_size=1, cache_directory='data/yasserh/titanic-dataset/transform', features=['Sex', 'Embarked', 'IsAlone'])]), inputs=['clean_data_schema', 'test_clean_df'], outputs=['transform_data_schema', 'transform_test_df'], cache_group='test', action='transform')\n",
       "  6. FeatureSelectStep(feature_selector=CompositeFeatureSelector(cache_size=1, cache_directory='data/yasserh/titanic-dataset/feature_select', feature_selectors=[MissingRateFeatureSelector(features=None, ignore_features=['PassengerId', 'Survived'], cache_size=1, cache_directory='data/yasserh/titanic-dataset/feature_select', missing_rate_threshold=0.5), InvarianceFeatureSelector(features=None, ignore_features=['PassengerId', 'Survived'], cache_size=1, cache_directory='data/yasserh/titanic-dataset/feature_select'), PearsonCorrelationFeatureSelector(features=None, ignore_features=['PassengerId', 'Survived'], cache_size=1, cache_directory='data/yasserh/titanic-dataset/feature_select', correlation_threshold=0.7)]), inputs=['transform_data_schema', 'transform_train_val_df'], outputs=['data_schema', 'composite_feature_selector', 'selected_train_val_df'], cache_group='train_val', action='fit_transform')\n",
       "  7. FeatureSelectStep(feature_selector=CompositeFeatureSelector(cache_size=1, cache_directory='data/yasserh/titanic-dataset/feature_select', feature_selectors=[MissingRateFeatureSelector(features=None, ignore_features=['PassengerId', 'Survived'], cache_size=1, cache_directory='data/yasserh/titanic-dataset/feature_select', missing_rate_threshold=0.5), InvarianceFeatureSelector(features=None, ignore_features=['PassengerId', 'Survived'], cache_size=1, cache_directory='data/yasserh/titanic-dataset/feature_select'), PearsonCorrelationFeatureSelector(features=None, ignore_features=['PassengerId', 'Survived'], cache_size=1, cache_directory='data/yasserh/titanic-dataset/feature_select', correlation_threshold=0.7)]), inputs=['transform_data_schema', 'transform_test_df'], outputs=['data_schema', 'test_df'], cache_group='test', action='transform')\n",
       "  8. SplitStep(splitter=RandomSplitter(data_split=(0.8, 0.2), shuffle=True, stratify='Survived', random_state=1337, cache_size=1, cache_directory='data/yasserh/titanic-dataset/split'), inputs=['selected_train_val_df'], outputs=['train_df', 'val_df'], cache_group='train_val')"
      ]
     },
     "execution_count": 165,
     "metadata": {},
     "output_type": "execute_result"
    }
   ],
   "source": [
    "pre_pipeline"
   ]
  },
  {
   "cell_type": "markdown",
   "metadata": {},
   "source": [
    "Execute the pre-processing pipeline and store the output in `pre_data_container`."
   ]
  },
  {
   "cell_type": "code",
   "execution_count": 172,
   "metadata": {},
   "outputs": [
    {
     "name": "stdout",
     "output_type": "stream",
     "text": [
      "[2023-09-27 18:34:54] [\u001b[1;32mINFO\u001b[0m] No data container provided. Creating an empty one. \u001b[1m(pipeline.py:77)\u001b[0m\n",
      "[2023-09-27 18:34:54] [\u001b[1;32mINFO\u001b[0m] Executing step 1/8: IngestStep. \u001b[1m(pipeline.py:81)\u001b[0m\n",
      "[2023-09-27 18:34:54] [\u001b[1;32mINFO\u001b[0m] \u001b[32mCache Hit\u001b[0m: Local dataset is up to date with Kaggle, skipping download. \u001b[1m(kaggle_ingester.py:279)\u001b[0m\n",
      "[2023-09-27 18:34:54] [\u001b[1;32mINFO\u001b[0m] Finished step 1/8 execution. \u001b[1m(pipeline.py:83)\u001b[0m\n",
      "[2023-09-27 18:34:54] [\u001b[1;32mINFO\u001b[0m] Executing step 2/8: ConvertStep. \u001b[1m(pipeline.py:81)\u001b[0m\n",
      "[2023-09-27 18:34:54] [\u001b[1;32mINFO\u001b[0m] \u001b[32mCache Hit\u001b[0m (LRUCache) CSVToVaexConverter.convert: Using cached output. \u001b[1m(cache_mixin.py:160)\u001b[0m\n",
      "[2023-09-27 18:34:54] [\u001b[1;32mINFO\u001b[0m] Finished step 2/8 execution. \u001b[1m(pipeline.py:83)\u001b[0m\n",
      "[2023-09-27 18:34:54] [\u001b[1;32mINFO\u001b[0m] Executing step 3/8: SplitStep. \u001b[1m(pipeline.py:81)\u001b[0m\n",
      "[2023-09-27 18:34:54] [\u001b[1;32mINFO\u001b[0m] \u001b[32mCache Hit\u001b[0m (LRUCache) RandomSplitter.split: Using cached output. \u001b[1m(cache_mixin.py:160)\u001b[0m\n",
      "[2023-09-27 18:34:54] [\u001b[1;32mINFO\u001b[0m] Finished step 3/8 execution. \u001b[1m(pipeline.py:83)\u001b[0m\n",
      "[2023-09-27 18:34:54] [\u001b[1;32mINFO\u001b[0m] Executing step 4/8: TransformStep. \u001b[1m(pipeline.py:81)\u001b[0m\n",
      "[2023-09-27 18:34:54] [\u001b[1;32mINFO\u001b[0m] \u001b[32mCache Hit\u001b[0m (LRUCache) CompositeTransformer.fit_transform: Using cached output. \u001b[1m(cache_mixin.py:160)\u001b[0m\n",
      "[2023-09-27 18:34:54] [\u001b[1;32mINFO\u001b[0m] Finished step 4/8 execution. \u001b[1m(pipeline.py:83)\u001b[0m\n",
      "[2023-09-27 18:34:54] [\u001b[1;32mINFO\u001b[0m] Executing step 5/8: TransformStep. \u001b[1m(pipeline.py:81)\u001b[0m\n",
      "[2023-09-27 18:34:55] [\u001b[1;32mINFO\u001b[0m] \u001b[32mCache Hit\u001b[0m (LRUCache) CompositeTransformer.transform: Using cached output. \u001b[1m(cache_mixin.py:160)\u001b[0m\n",
      "[2023-09-27 18:34:55] [\u001b[1;32mINFO\u001b[0m] Finished step 5/8 execution. \u001b[1m(pipeline.py:83)\u001b[0m\n",
      "[2023-09-27 18:34:55] [\u001b[1;32mINFO\u001b[0m] Executing step 6/8: FeatureSelectStep. \u001b[1m(pipeline.py:81)\u001b[0m\n",
      "[2023-09-27 18:34:55] [\u001b[1;32mINFO\u001b[0m] \u001b[32mCache Hit\u001b[0m (LRUCache) CompositeFeatureSelector.fit_transform: Using cached output. \u001b[1m(cache_mixin.py:160)\u001b[0m\n",
      "[2023-09-27 18:34:55] [\u001b[1;32mINFO\u001b[0m] Finished step 6/8 execution. \u001b[1m(pipeline.py:83)\u001b[0m\n",
      "[2023-09-27 18:34:55] [\u001b[1;32mINFO\u001b[0m] Executing step 7/8: FeatureSelectStep. \u001b[1m(pipeline.py:81)\u001b[0m\n",
      "[2023-09-27 18:34:55] [\u001b[1;32mINFO\u001b[0m] \u001b[32mCache Hit\u001b[0m (LRUCache) CompositeFeatureSelector.transform: Using cached output. \u001b[1m(cache_mixin.py:160)\u001b[0m\n",
      "[2023-09-27 18:34:55] [\u001b[1;32mINFO\u001b[0m] Finished step 7/8 execution. \u001b[1m(pipeline.py:83)\u001b[0m\n",
      "[2023-09-27 18:34:55] [\u001b[1;32mINFO\u001b[0m] Executing step 8/8: SplitStep. \u001b[1m(pipeline.py:81)\u001b[0m\n",
      "[2023-09-27 18:34:55] [\u001b[1;32mINFO\u001b[0m] \u001b[32mCache Hit\u001b[0m (LRUCache) RandomSplitter.split: Using cached output. \u001b[1m(cache_mixin.py:160)\u001b[0m\n",
      "[2023-09-27 18:34:55] [\u001b[1;32mINFO\u001b[0m] Finished step 8/8 execution. \u001b[1m(pipeline.py:83)\u001b[0m\n"
     ]
    }
   ],
   "source": [
    "pre_data_container = pre_pipeline.run()"
   ]
  },
  {
   "cell_type": "markdown",
   "metadata": {},
   "source": [
    "## Model Pipeline"
   ]
  },
  {
   "cell_type": "code",
   "execution_count": 167,
   "metadata": {},
   "outputs": [],
   "source": [
    "from mleko.model.tune import OptunaTuner\n",
    "import optuna\n",
    "from statistics import mean\n",
    "\n",
    "\n",
    "def objective(trial: optuna.Trial, data_schema: DataSchema, dataframe: vaex.DataFrame) -> float:\n",
    "    lgbm_model = LGBMModel(\n",
    "        cache_directory=f\"data/{DATASET_NAME}/model\",\n",
    "        verbosity=-1,\n",
    "        target=TARGET_FEATURE,\n",
    "        objective=\"binary\",\n",
    "        num_iterations=50,\n",
    "        ignore_features=META_FEATURES,\n",
    "        metric=[\"average_precision\", \"auc\"],\n",
    "        early_stopping_round=10,\n",
    "    )\n",
    "\n",
    "    lambda_l1 = trial.suggest_float(\"lambda_l1\", 1e-8, 10.0, log=True)\n",
    "    lambda_l2 = trial.suggest_float(\"lambda_l2\", 1e-8, 10.0, log=True)\n",
    "    num_leaves = trial.suggest_int(\"num_leaves\", 2, 1024)\n",
    "    max_depth = trial.suggest_int(\"max_depth\", 1, 40)\n",
    "    min_child_samples = trial.suggest_int(\"min_child_samples\", 5, 100)\n",
    "    min_child_weight = trial.suggest_float(\"min_child_weight\", 1e-5, 1e-2, log=True)\n",
    "    feature_fraction = trial.suggest_float(\"feature_fraction\", 0.4, 1.0)\n",
    "    bagging_fraction = trial.suggest_float(\"bagging_fraction\", 0.4, 1.0)\n",
    "    bagging_freq = trial.suggest_int(\"bagging_freq\", 1, 7)\n",
    "    learning_rate = trial.suggest_float(\"learning_rate\", 1e-8, 1.0, log=True)\n",
    "\n",
    "    hyperparameters = {\n",
    "        \"lambda_l1\": lambda_l1,\n",
    "        \"lambda_l2\": lambda_l2,\n",
    "        \"num_leaves\": num_leaves,\n",
    "        \"max_depth\": max_depth,\n",
    "        \"min_child_samples\": min_child_samples,\n",
    "        \"min_child_weight\": min_child_weight,\n",
    "        \"feature_fraction\": feature_fraction,\n",
    "        \"bagging_fraction\": bagging_fraction,\n",
    "        \"bagging_freq\": bagging_freq,\n",
    "        \"learning_rate\": learning_rate,\n",
    "    }\n",
    "\n",
    "    scores: list[float] = []\n",
    "    splits = dataframe.split_random(into=5, random_state=RANDOM_STATE)\n",
    "    for i, validation_df in enumerate(splits):\n",
    "        train_df = vaex.concat([df for j, df in enumerate(splits) if j != i])\n",
    "        _, metrics, _, _ = lgbm_model._fit_transform(data_schema, train_df, validation_df, hyperparameters)\n",
    "        scores.append(metrics[\"validation\"][\"average_precision\"][-1])\n",
    "\n",
    "    return mean(scores)\n",
    "\n",
    "optuna_tuner = OptunaTuner(\n",
    "    cache_directory=f\"data/{DATASET_NAME}/tune\",\n",
    "    objective_function=objective,\n",
    "    direction=\"maximize\",\n",
    "    num_trials=100,\n",
    "    random_state=RANDOM_STATE,\n",
    ")"
   ]
  },
  {
   "cell_type": "code",
   "execution_count": 192,
   "metadata": {},
   "outputs": [],
   "source": [
    "lgbm_model = LGBMModel(\n",
    "    cache_directory=f\"data/{DATASET_NAME}/model\",\n",
    "    objective=\"binary\",\n",
    "    target=TARGET_FEATURE,\n",
    "    num_iterations=200,\n",
    "    ignore_features=META_FEATURES,\n",
    "    metric=[\"average_precision\", \"auc\"],\n",
    ")"
   ]
  },
  {
   "cell_type": "code",
   "execution_count": 198,
   "metadata": {},
   "outputs": [],
   "source": [
    "from mleko.pipeline.steps import ModelStep, TuneStep\n",
    "\n",
    "\n",
    "model_pipeline = Pipeline(\n",
    "    steps=[\n",
    "        TuneStep(\n",
    "            optuna_tuner,\n",
    "            inputs=[\"data_schema\", \"selected_train_val_df\"],\n",
    "            outputs=[\"hyperparameters\", \"best_tuning_score\", \"optuna_study\"],\n",
    "        ),\n",
    "        ModelStep(\n",
    "            lgbm_model,\n",
    "            action=\"fit_transform\",\n",
    "            inputs=[\"data_schema\", \"train_df\", \"val_df\", \"hyperparameters\"],\n",
    "            outputs=[\"lgbm_model\", \"metrics\", \"pred_train_df\", \"pred_val_df\"],\n",
    "        ),\n",
    "        ModelStep(\n",
    "            lgbm_model,\n",
    "            action=\"transform\",\n",
    "            inputs=[\"data_schema\", \"test_df\"],\n",
    "            outputs=[\"pred_test_df\"],\n",
    "        ),\n",
    "    ]\n",
    ")"
   ]
  },
  {
   "cell_type": "markdown",
   "metadata": {},
   "source": [
    "Run the model pipeline by feeding the output of the pre-processing pipeline into it."
   ]
  },
  {
   "cell_type": "code",
   "execution_count": 200,
   "metadata": {},
   "outputs": [
    {
     "name": "stdout",
     "output_type": "stream",
     "text": [
      "[2023-09-27 18:40:30] [\u001b[1;32mINFO\u001b[0m] Executing step 1/3: TuneStep. \u001b[1m(pipeline.py:81)\u001b[0m\n",
      "[2023-09-27 18:40:30] [\u001b[1;32mINFO\u001b[0m] \u001b[32mCache Hit\u001b[0m (LRUCache) OptunaTuner.tune: Using cached output. \u001b[1m(cache_mixin.py:160)\u001b[0m\n",
      "[2023-09-27 18:40:30] [\u001b[1;32mINFO\u001b[0m] Finished step 1/3 execution. \u001b[1m(pipeline.py:83)\u001b[0m\n",
      "[2023-09-27 18:40:30] [\u001b[1;32mINFO\u001b[0m] Executing step 2/3: ModelStep. \u001b[1m(pipeline.py:81)\u001b[0m\n",
      "[2023-09-27 18:40:30] [\u001b[1;32mINFO\u001b[0m] \u001b[32mCache Hit\u001b[0m (LRUCache) LGBMModel.fit_transform: Using cached output. \u001b[1m(cache_mixin.py:160)\u001b[0m\n",
      "[2023-09-27 18:40:30] [\u001b[1;32mINFO\u001b[0m] Finished step 2/3 execution. \u001b[1m(pipeline.py:83)\u001b[0m\n",
      "[2023-09-27 18:40:30] [\u001b[1;32mINFO\u001b[0m] Executing step 3/3: ModelStep. \u001b[1m(pipeline.py:81)\u001b[0m\n",
      "[2023-09-27 18:40:30] [\u001b[1;32mINFO\u001b[0m] \u001b[32mCache Hit\u001b[0m (LRUCache) LGBMModel.transform: Using cached output. \u001b[1m(cache_mixin.py:160)\u001b[0m\n",
      "[2023-09-27 18:40:30] [\u001b[1;32mINFO\u001b[0m] Finished step 3/3 execution. \u001b[1m(pipeline.py:83)\u001b[0m\n"
     ]
    }
   ],
   "source": [
    "data_container = model_pipeline.run(data_container=pre_data_container)\n",
    "result = data_container.data"
   ]
  },
  {
   "cell_type": "markdown",
   "metadata": {},
   "source": [
    "All results from each step are stored in the `data_container.data` object."
   ]
  },
  {
   "cell_type": "code",
   "execution_count": 201,
   "metadata": {},
   "outputs": [
    {
     "data": {
      "image/png": "[encoded data removed]",
      "text/plain": [
       "<Figure size 640x480 with 1 Axes>"
      ]
     },
     "metadata": {},
     "output_type": "display_data"
    },
    {
     "data": {
      "image/png": "[encoded data removed]",
      "text/plain": [
       "<Figure size 640x480 with 1 Axes>"
      ]
     },
     "metadata": {},
     "output_type": "display_data"
    }
   ],
   "source": [
    "ax = lightgbm.plot_metric(result[\"metrics\"], metric='auc')\n",
    "ax = lightgbm.plot_metric(result[\"metrics\"], metric='average_precision')"
   ]
  },
  {
   "cell_type": "code",
   "execution_count": null,
   "metadata": {},
   "outputs": [],
   "source": []
  }
 ],
 "metadata": {
  "kernelspec": {
   "display_name": ".venv",
   "language": "python",
   "name": "python3"
  },
  "language_info": {
   "codemirror_mode": {
    "name": "ipython",
    "version": 3
   },
   "file_extension": ".py",
   "mimetype": "text/x-python",
   "name": "python",
   "nbconvert_exporter": "python",
   "pygments_lexer": "ipython3",
   "version": "3.8.17"
  },
  "orig_nbformat": 4
 },
 "nbformat": 4,
 "nbformat_minor": 2
}
