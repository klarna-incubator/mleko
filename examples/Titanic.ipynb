{
 "cells": [
  {
   "cell_type": "markdown",
   "metadata": {},
   "source": [
    "# Configuration"
   ]
  },
  {
   "cell_type": "code",
   "execution_count": 1,
   "metadata": {},
   "outputs": [],
   "source": [
    "%reload_ext autoreload\n",
    "%autoreload 2"
   ]
  },
  {
   "cell_type": "markdown",
   "metadata": {},
   "source": [
    "## Constants\n",
    "Define configuration constants for the dataset and the model."
   ]
  },
  {
   "cell_type": "code",
   "execution_count": 2,
   "metadata": {},
   "outputs": [],
   "source": [
    "# Kaggle dataset identifier\n",
    "OWNER_SLUG = \"yasserh\"\n",
    "DATASET_SLUG = \"titanic-dataset\"\n",
    "DATASET_NAME = f\"{OWNER_SLUG}/{DATASET_SLUG}\"\n",
    "\n",
    "# Define meta features of the dataset not used as model inputs\n",
    "TARGET_FEATURE = \"Survived\"\n",
    "ID_COLUMN = \"PassengerId\"\n",
    "META_FEATURES = [ID_COLUMN, TARGET_FEATURE]\n",
    "\n",
    "# General Configuration\n",
    "RANDOM_STATE = 1337"
   ]
  },
  {
   "cell_type": "markdown",
   "metadata": {},
   "source": [
    "# Download Data"
   ]
  },
  {
   "cell_type": "code",
   "execution_count": 3,
   "metadata": {},
   "outputs": [
    {
     "name": "stdout",
     "output_type": "stream",
     "text": [
      "[2023-09-19 17:02:36] [\u001b[1;32mINFO\u001b[0m] Attempting to fetch Kaggle API credentials from environment variables 'KAGGLE_USERNAME' and 'KAGGLE_KEY'. \u001b[1m(kaggle_ingester.py:74)\u001b[0m\n",
      "[2023-09-19 17:02:36] [\u001b[1;32mINFO\u001b[0m] Kaggle API credentials not found in environment variables, attempting to fetch from fallback path at ~/.kaggle/kaggle.json. \u001b[1m(kaggle_ingester.py:82)\u001b[0m\n",
      "[2023-09-19 17:02:36] [\u001b[1;32mINFO\u001b[0m] Kaggle credentials successfully fetched. \u001b[1m(kaggle_ingester.py:91)\u001b[0m\n",
      "[2023-09-19 17:02:36] [\u001b[1;32mINFO\u001b[0m] \u001b[32mCache Hit\u001b[0m: Local dataset is up to date with Kaggle, skipping download. \u001b[1m(kaggle_ingester.py:279)\u001b[0m\n"
     ]
    }
   ],
   "source": [
    "from mleko.dataset.ingest import KaggleIngester\n",
    "\n",
    "csv_paths = KaggleIngester(\n",
    "    destination_directory=f\"data/{DATASET_NAME}/raw\", \n",
    "    owner_slug=OWNER_SLUG, \n",
    "    dataset_slug=DATASET_SLUG\n",
    ").fetch_data()"
   ]
  },
  {
   "cell_type": "markdown",
   "metadata": {},
   "source": [
    "# Clean Data"
   ]
  },
  {
   "cell_type": "code",
   "execution_count": 4,
   "metadata": {},
   "outputs": [
    {
     "name": "stdout",
     "output_type": "stream",
     "text": [
      "[2023-09-19 17:02:38] [\u001b[1;32mINFO\u001b[0m] \u001b[32mCache Hit\u001b[0m (LRUCache) CSVToVaexConverter.convert: Using cached output. \u001b[1m(cache_mixin.py:160)\u001b[0m\n"
     ]
    }
   ],
   "source": [
    "from mleko.dataset.convert import CSVToVaexConverter\n",
    "\n",
    "clean_schema, clean_df = CSVToVaexConverter(\n",
    "    cache_directory=f\"data/{DATASET_NAME}/converted\",\n",
    "    drop_columns=[\"Ticket\"],\n",
    "    meta_columns=META_FEATURES,\n",
    "    drop_rows_with_na_columns=[TARGET_FEATURE],\n",
    "    random_state=RANDOM_STATE,\n",
    ").convert(csv_paths)"
   ]
  },
  {
   "cell_type": "code",
   "execution_count": 5,
   "metadata": {},
   "outputs": [
    {
     "data": {
      "text/plain": [
       "{'numerical': ['Age', 'Fare', 'Parch', 'Pclass', 'SibSp'],\n",
       " 'categorical': ['Cabin', 'Embarked', 'Name', 'Sex'],\n",
       " 'boolean': [],\n",
       " 'datetime': [],\n",
       " 'timedelta': []}"
      ]
     },
     "execution_count": 5,
     "metadata": {},
     "output_type": "execute_result"
    }
   ],
   "source": [
    "clean_schema.features"
   ]
  },
  {
   "cell_type": "code",
   "execution_count": 6,
   "metadata": {},
   "outputs": [
    {
     "data": {
      "text/html": [
       "<table>\n",
       "<thead>\n",
       "<tr><th>#                            </th><th style=\"text-align: right;\">  PassengerId</th><th style=\"text-align: right;\">  Survived</th><th style=\"text-align: right;\">  Pclass</th><th>Name                                               </th><th>Sex   </th><th>Age  </th><th style=\"text-align: right;\">  SibSp</th><th style=\"text-align: right;\">  Parch</th><th style=\"text-align: right;\">   Fare</th><th>Cabin  </th><th>Embarked  </th></tr>\n",
       "</thead>\n",
       "<tbody>\n",
       "<tr><td><i style='opacity: 0.6'>0</i></td><td style=\"text-align: right;\">            1</td><td style=\"text-align: right;\">         0</td><td style=\"text-align: right;\">       3</td><td>Braund, Mr. Owen Harris                            </td><td>male  </td><td>22.0 </td><td style=\"text-align: right;\">      1</td><td style=\"text-align: right;\">      0</td><td style=\"text-align: right;\"> 7.25  </td><td>--     </td><td>S         </td></tr>\n",
       "<tr><td><i style='opacity: 0.6'>1</i></td><td style=\"text-align: right;\">            2</td><td style=\"text-align: right;\">         1</td><td style=\"text-align: right;\">       1</td><td>&#x27;Cumings, Mrs. John Bradley (Florence Briggs Tha...</td><td>female</td><td>38.0 </td><td style=\"text-align: right;\">      1</td><td style=\"text-align: right;\">      0</td><td style=\"text-align: right;\">71.2833</td><td>C85    </td><td>C         </td></tr>\n",
       "<tr><td><i style='opacity: 0.6'>2</i></td><td style=\"text-align: right;\">            3</td><td style=\"text-align: right;\">         1</td><td style=\"text-align: right;\">       3</td><td>Heikkinen, Miss. Laina                             </td><td>female</td><td>26.0 </td><td style=\"text-align: right;\">      0</td><td style=\"text-align: right;\">      0</td><td style=\"text-align: right;\"> 7.925 </td><td>--     </td><td>S         </td></tr>\n",
       "<tr><td><i style='opacity: 0.6'>3</i></td><td style=\"text-align: right;\">            4</td><td style=\"text-align: right;\">         1</td><td style=\"text-align: right;\">       1</td><td>Futrelle, Mrs. Jacques Heath (Lily May Peel)       </td><td>female</td><td>35.0 </td><td style=\"text-align: right;\">      1</td><td style=\"text-align: right;\">      0</td><td style=\"text-align: right;\">53.1   </td><td>C123   </td><td>S         </td></tr>\n",
       "<tr><td><i style='opacity: 0.6'>4</i></td><td style=\"text-align: right;\">            5</td><td style=\"text-align: right;\">         0</td><td style=\"text-align: right;\">       3</td><td>Allen, Mr. William Henry                           </td><td>male  </td><td>35.0 </td><td style=\"text-align: right;\">      0</td><td style=\"text-align: right;\">      0</td><td style=\"text-align: right;\"> 8.05  </td><td>--     </td><td>S         </td></tr>\n",
       "<tr><td><i style='opacity: 0.6'>5</i></td><td style=\"text-align: right;\">            6</td><td style=\"text-align: right;\">         0</td><td style=\"text-align: right;\">       3</td><td>Moran, Mr. James                                   </td><td>male  </td><td>--   </td><td style=\"text-align: right;\">      0</td><td style=\"text-align: right;\">      0</td><td style=\"text-align: right;\"> 8.4583</td><td>--     </td><td>Q         </td></tr>\n",
       "<tr><td><i style='opacity: 0.6'>6</i></td><td style=\"text-align: right;\">            7</td><td style=\"text-align: right;\">         0</td><td style=\"text-align: right;\">       1</td><td>McCarthy, Mr. Timothy J                            </td><td>male  </td><td>54.0 </td><td style=\"text-align: right;\">      0</td><td style=\"text-align: right;\">      0</td><td style=\"text-align: right;\">51.8625</td><td>E46    </td><td>S         </td></tr>\n",
       "<tr><td><i style='opacity: 0.6'>7</i></td><td style=\"text-align: right;\">            8</td><td style=\"text-align: right;\">         0</td><td style=\"text-align: right;\">       3</td><td>Palsson, Master. Gosta Leonard                     </td><td>male  </td><td>2.0  </td><td style=\"text-align: right;\">      3</td><td style=\"text-align: right;\">      1</td><td style=\"text-align: right;\">21.075 </td><td>--     </td><td>S         </td></tr>\n",
       "<tr><td><i style='opacity: 0.6'>8</i></td><td style=\"text-align: right;\">            9</td><td style=\"text-align: right;\">         1</td><td style=\"text-align: right;\">       3</td><td>Johnson, Mrs. Oscar W (Elisabeth Vilhelmina Berg)  </td><td>female</td><td>27.0 </td><td style=\"text-align: right;\">      0</td><td style=\"text-align: right;\">      2</td><td style=\"text-align: right;\">11.1333</td><td>--     </td><td>S         </td></tr>\n",
       "<tr><td><i style='opacity: 0.6'>9</i></td><td style=\"text-align: right;\">           10</td><td style=\"text-align: right;\">         1</td><td style=\"text-align: right;\">       2</td><td>Nasser, Mrs. Nicholas (Adele Achem)                </td><td>female</td><td>14.0 </td><td style=\"text-align: right;\">      1</td><td style=\"text-align: right;\">      0</td><td style=\"text-align: right;\">30.0708</td><td>--     </td><td>C         </td></tr>\n",
       "</tbody>\n",
       "</table>"
      ],
      "text/plain": [
       "  #    PassengerId    Survived    Pclass  Name                                                 Sex     Age      SibSp    Parch     Fare  Cabin    Embarked\n",
       "  0              1           0         3  Braund, Mr. Owen Harris                              male    22.0         1        0   7.25    --       S\n",
       "  1              2           1         1  'Cumings, Mrs. John Bradley (Florence Briggs Tha...  female  38.0         1        0  71.2833  C85      C\n",
       "  2              3           1         3  Heikkinen, Miss. Laina                               female  26.0         0        0   7.925   --       S\n",
       "  3              4           1         1  Futrelle, Mrs. Jacques Heath (Lily May Peel)         female  35.0         1        0  53.1     C123     S\n",
       "  4              5           0         3  Allen, Mr. William Henry                             male    35.0         0        0   8.05    --       S\n",
       "  5              6           0         3  Moran, Mr. James                                     male    --           0        0   8.4583  --       Q\n",
       "  6              7           0         1  McCarthy, Mr. Timothy J                              male    54.0         0        0  51.8625  E46      S\n",
       "  7              8           0         3  Palsson, Master. Gosta Leonard                       male    2.0          3        1  21.075   --       S\n",
       "  8              9           1         3  Johnson, Mrs. Oscar W (Elisabeth Vilhelmina Berg)    female  27.0         0        2  11.1333  --       S\n",
       "  9             10           1         2  Nasser, Mrs. Nicholas (Adele Achem)                  female  14.0         1        0  30.0708  --       C"
      ]
     },
     "execution_count": 6,
     "metadata": {},
     "output_type": "execute_result"
    }
   ],
   "source": [
    "clean_df.head(10)"
   ]
  },
  {
   "cell_type": "markdown",
   "metadata": {},
   "source": [
    "# Split Train/Val and Test Dataset"
   ]
  },
  {
   "cell_type": "markdown",
   "metadata": {},
   "source": [
    "\n",
    "\n",
    "```python\n",
    "from mleko.dataset.split import ExpressionSplitter\n",
    "\n",
    "train_val_df, test_df = ExpressionSplitter(\n",
    "    cache_directory=f\"data/{DATASET_NAME}/split\",\n",
    "    expression=\"(Embarked == 'S') | ((Embarked == 'C') & (Fare < 50))\"\n",
    ").split(clean_df)\n",
    "```"
   ]
  },
  {
   "cell_type": "code",
   "execution_count": 7,
   "metadata": {},
   "outputs": [
    {
     "name": "stdout",
     "output_type": "stream",
     "text": [
      "[2023-09-19 17:02:40] [\u001b[1;32mINFO\u001b[0m] \u001b[32mCache Hit\u001b[0m (LRUCache) RandomSplitter.split: Using cached output. \u001b[1m(cache_mixin.py:160)\u001b[0m\n"
     ]
    }
   ],
   "source": [
    "from mleko.dataset.split import RandomSplitter\n",
    "\n",
    "clean_train_val_df, clean_test_df = RandomSplitter(\n",
    "    cache_directory=f\"data/{DATASET_NAME}/split\",\n",
    "    data_split=(0.90, 0.10),\n",
    "    shuffle=True,\n",
    "    stratify=TARGET_FEATURE,\n",
    "    random_state=RANDOM_STATE,\n",
    ").split(clean_df)"
   ]
  },
  {
   "cell_type": "code",
   "execution_count": 8,
   "metadata": {},
   "outputs": [
    {
     "name": "stdout",
     "output_type": "stream",
     "text": [
      "Train/Val: 38.327% (Survived: 307, Total: 801)\n",
      "Test: 38.889% (Survived:  35, Total:  90)\n"
     ]
    }
   ],
   "source": [
    "def print_split_stats(df, split_name):\n",
    "    total_count = df.shape[0]\n",
    "    survival_count = df[TARGET_FEATURE].sum()  # type: ignore\n",
    "    survival_rate = survival_count / total_count\n",
    "\n",
    "    print(f\"{split_name}: {survival_rate * 100:.3f}% (Survived: {survival_count:3d}, Total: {total_count:3d})\")\n",
    "\n",
    "print_split_stats(clean_train_val_df, \"Train/Val\")\n",
    "print_split_stats(clean_test_df, \"Test\")"
   ]
  },
  {
   "cell_type": "code",
   "execution_count": 9,
   "metadata": {},
   "outputs": [
    {
     "data": {
      "text/html": [
       "<table>\n",
       "<thead>\n",
       "<tr><th>#                              </th><th>PassengerId  </th><th>Survived  </th><th>Pclass  </th><th>Name                                               </th><th>Sex   </th><th>Age  </th><th>SibSp  </th><th>Parch  </th><th>Fare   </th><th>Cabin  </th><th>Embarked  </th></tr>\n",
       "</thead>\n",
       "<tbody>\n",
       "<tr><td><i style='opacity: 0.6'>0</i>  </td><td>1            </td><td>0         </td><td>3       </td><td>Braund, Mr. Owen Harris                            </td><td>male  </td><td>22.0 </td><td>1      </td><td>0      </td><td>7.25   </td><td>--     </td><td>S         </td></tr>\n",
       "<tr><td><i style='opacity: 0.6'>1</i>  </td><td>2            </td><td>1         </td><td>1       </td><td>&#x27;Cumings, Mrs. John Bradley (Florence Briggs Tha...</td><td>female</td><td>38.0 </td><td>1      </td><td>0      </td><td>71.2833</td><td>C85    </td><td>C         </td></tr>\n",
       "<tr><td><i style='opacity: 0.6'>2</i>  </td><td>3            </td><td>1         </td><td>3       </td><td>Heikkinen, Miss. Laina                             </td><td>female</td><td>26.0 </td><td>0      </td><td>0      </td><td>7.925  </td><td>--     </td><td>S         </td></tr>\n",
       "<tr><td><i style='opacity: 0.6'>3</i>  </td><td>4            </td><td>1         </td><td>1       </td><td>Futrelle, Mrs. Jacques Heath (Lily May Peel)       </td><td>female</td><td>35.0 </td><td>1      </td><td>0      </td><td>53.1   </td><td>C123   </td><td>S         </td></tr>\n",
       "<tr><td><i style='opacity: 0.6'>4</i>  </td><td>5            </td><td>0         </td><td>3       </td><td>Allen, Mr. William Henry                           </td><td>male  </td><td>35.0 </td><td>0      </td><td>0      </td><td>8.05   </td><td>--     </td><td>S         </td></tr>\n",
       "<tr><td>...                            </td><td>...          </td><td>...       </td><td>...     </td><td>...                                                </td><td>...   </td><td>...  </td><td>...    </td><td>...    </td><td>...    </td><td>...    </td><td>...       </td></tr>\n",
       "<tr><td><i style='opacity: 0.6'>796</i></td><td>885          </td><td>0         </td><td>3       </td><td>Sutehall, Mr. Henry Jr                             </td><td>male  </td><td>25.0 </td><td>0      </td><td>0      </td><td>7.05   </td><td>--     </td><td>S         </td></tr>\n",
       "<tr><td><i style='opacity: 0.6'>797</i></td><td>886          </td><td>0         </td><td>3       </td><td>Rice, Mrs. William (Margaret Norton)               </td><td>female</td><td>39.0 </td><td>0      </td><td>5      </td><td>29.125 </td><td>--     </td><td>Q         </td></tr>\n",
       "<tr><td><i style='opacity: 0.6'>798</i></td><td>887          </td><td>0         </td><td>2       </td><td>Montvila, Rev. Juozas                              </td><td>male  </td><td>27.0 </td><td>0      </td><td>0      </td><td>13.0   </td><td>--     </td><td>S         </td></tr>\n",
       "<tr><td><i style='opacity: 0.6'>799</i></td><td>888          </td><td>1         </td><td>1       </td><td>Graham, Miss. Margaret Edith                       </td><td>female</td><td>19.0 </td><td>0      </td><td>0      </td><td>30.0   </td><td>B42    </td><td>S         </td></tr>\n",
       "<tr><td><i style='opacity: 0.6'>800</i></td><td>891          </td><td>0         </td><td>3       </td><td>Dooley, Mr. Patrick                                </td><td>male  </td><td>32.0 </td><td>0      </td><td>0      </td><td>7.75   </td><td>--     </td><td>Q         </td></tr>\n",
       "</tbody>\n",
       "</table>"
      ],
      "text/plain": [
       "#    PassengerId    Survived    Pclass    Name                                                 Sex     Age    SibSp    Parch    Fare     Cabin    Embarked\n",
       "0    1              0           3         Braund, Mr. Owen Harris                              male    22.0   1        0        7.25     --       S\n",
       "1    2              1           1         'Cumings, Mrs. John Bradley (Florence Briggs Tha...  female  38.0   1        0        71.2833  C85      C\n",
       "2    3              1           3         Heikkinen, Miss. Laina                               female  26.0   0        0        7.925    --       S\n",
       "3    4              1           1         Futrelle, Mrs. Jacques Heath (Lily May Peel)         female  35.0   1        0        53.1     C123     S\n",
       "4    5              0           3         Allen, Mr. William Henry                             male    35.0   0        0        8.05     --       S\n",
       "...  ...            ...         ...       ...                                                  ...     ...    ...      ...      ...      ...      ...\n",
       "796  885            0           3         Sutehall, Mr. Henry Jr                               male    25.0   0        0        7.05     --       S\n",
       "797  886            0           3         Rice, Mrs. William (Margaret Norton)                 female  39.0   0        5        29.125   --       Q\n",
       "798  887            0           2         Montvila, Rev. Juozas                                male    27.0   0        0        13.0     --       S\n",
       "799  888            1           1         Graham, Miss. Margaret Edith                         female  19.0   0        0        30.0     B42      S\n",
       "800  891            0           3         Dooley, Mr. Patrick                                  male    32.0   0        0        7.75     --       Q"
      ]
     },
     "execution_count": 9,
     "metadata": {},
     "output_type": "execute_result"
    }
   ],
   "source": [
    "clean_train_val_df"
   ]
  },
  {
   "cell_type": "markdown",
   "metadata": {},
   "source": [
    "# Feature Engineering & Transformation"
   ]
  },
  {
   "cell_type": "code",
   "execution_count": 10,
   "metadata": {},
   "outputs": [],
   "source": [
    "from __future__ import annotations\n",
    "\n",
    "from pathlib import Path\n",
    "from typing import Hashable\n",
    "\n",
    "import vaex\n",
    "import vaex.ml\n",
    "\n",
    "from mleko.dataset import DataSchema\n",
    "from mleko.dataset.transform import BaseTransformer\n",
    "from mleko.utils import auto_repr\n",
    "\n",
    "\n",
    "class IsAloneTransformer(BaseTransformer):\n",
    "    @auto_repr\n",
    "    def __init__(\n",
    "        self,\n",
    "        cache_directory: str | Path,\n",
    "        cache_size: int = 1,\n",
    "    ) -> None:\n",
    "        super().__init__(cache_directory, [], cache_size)\n",
    "        self._transformer = None\n",
    "\n",
    "    def _fit(self, data_schema: DataSchema, _dataframe: vaex.DataFrame) -> tuple[DataSchema, None]:\n",
    "        ds = data_schema.copy().add_feature(\"IsAlone\", \"boolean\")\n",
    "        return ds, self._transformer\n",
    "\n",
    "    def _transform(self, data_schema: DataSchema, dataframe: vaex.DataFrame) -> tuple[DataSchema, vaex.DataFrame]:\n",
    "        df = dataframe.copy()\n",
    "        df[\"IsAlone\"] = df[\"SibSp\"] + df[\"Parch\"] == 0 # type: ignore\n",
    "        ds = data_schema.copy().add_feature(\"IsAlone\", \"boolean\")\n",
    "        return ds, df\n",
    "\n",
    "    def _fingerprint(self) -> Hashable:\n",
    "        return super()._fingerprint()\n",
    "\n",
    "\n",
    "class FeatureDropperTransformer(BaseTransformer):\n",
    "    @auto_repr\n",
    "    def __init__(\n",
    "        self,\n",
    "        cache_directory: str | Path,\n",
    "        features: list[str] | tuple[str, ...],\n",
    "        cache_size: int = 1,\n",
    "    ) -> None:\n",
    "        super().__init__(cache_directory, features, cache_size)\n",
    "        self._transformer = None\n",
    "\n",
    "    def _fit(self, data_schema: DataSchema, _dataframe: vaex.DataFrame) -> tuple[DataSchema, None]:\n",
    "        ds = data_schema.copy().drop_features(self._features)\n",
    "        return ds, self._transformer\n",
    "\n",
    "    def _transform(self, data_schema: DataSchema, dataframe: vaex.DataFrame) -> tuple[DataSchema, vaex.DataFrame]:\n",
    "        df = dataframe.drop(self._features, inplace=False)\n",
    "        ds = data_schema.copy().drop_features(self._features)\n",
    "        return ds, df\n",
    "\n",
    "    def _fingerprint(self) -> Hashable:\n",
    "        return super()._fingerprint()"
   ]
  },
  {
   "cell_type": "code",
   "execution_count": 11,
   "metadata": {},
   "outputs": [
    {
     "name": "stdout",
     "output_type": "stream",
     "text": [
      "[2023-09-19 17:02:40] [\u001b[1;32mINFO\u001b[0m] \u001b[32mCache Hit\u001b[0m (LRUCache) CompositeTransformer.fit_transform: Using cached output. \u001b[1m(cache_mixin.py:160)\u001b[0m\n",
      "[2023-09-19 17:02:40] [\u001b[1;32mINFO\u001b[0m] \u001b[32mCache Hit\u001b[0m (LRUCache) CompositeTransformer.transform: Using cached output. \u001b[1m(cache_mixin.py:160)\u001b[0m\n"
     ]
    }
   ],
   "source": [
    "from mleko.dataset.transform import CompositeTransformer, LabelEncoderTransformer\n",
    "\n",
    "composite_transformer = CompositeTransformer(\n",
    "    cache_directory=f\"data/{DATASET_NAME}/transform\",\n",
    "    transformers=[\n",
    "        FeatureDropperTransformer(\n",
    "          cache_directory=f\"data/{DATASET_NAME}/transform\",\n",
    "            features=[\"Name\"],  \n",
    "        ),\n",
    "        IsAloneTransformer(\n",
    "            cache_directory=f\"data/{DATASET_NAME}/transform\",\n",
    "        ),\n",
    "        LabelEncoderTransformer(\n",
    "            cache_directory=f\"data/{DATASET_NAME}/transform\",\n",
    "            features=[\"Sex\", \"Embarked\", \"IsAlone\"],\n",
    "        ),\n",
    "    ],\n",
    ")\n",
    "\n",
    "transform_schema, _, transform_train_val_df = composite_transformer.fit_transform(clean_schema, clean_train_val_df)\n",
    "_, transform_test_df = composite_transformer.transform(clean_schema, clean_test_df)"
   ]
  },
  {
   "cell_type": "code",
   "execution_count": 12,
   "metadata": {},
   "outputs": [
    {
     "data": {
      "text/plain": [
       "{'numerical': ['Age', 'Fare', 'Parch', 'Pclass', 'SibSp'],\n",
       " 'categorical': ['Cabin', 'Embarked', 'Sex'],\n",
       " 'boolean': ['IsAlone'],\n",
       " 'datetime': [],\n",
       " 'timedelta': []}"
      ]
     },
     "execution_count": 12,
     "metadata": {},
     "output_type": "execute_result"
    }
   ],
   "source": [
    "transform_schema.features"
   ]
  },
  {
   "cell_type": "code",
   "execution_count": 13,
   "metadata": {},
   "outputs": [
    {
     "data": {
      "text/html": [
       "<table>\n",
       "<thead>\n",
       "<tr><th>#                              </th><th>PassengerId  </th><th>Survived  </th><th>Pclass  </th><th>Sex  </th><th>Age  </th><th>SibSp  </th><th>Parch  </th><th>Fare   </th><th>Cabin  </th><th>Embarked  </th><th>IsAlone  </th></tr>\n",
       "</thead>\n",
       "<tbody>\n",
       "<tr><td><i style='opacity: 0.6'>0</i>  </td><td>1            </td><td>0         </td><td>3       </td><td>1    </td><td>22.0 </td><td>1      </td><td>0      </td><td>7.25   </td><td>--     </td><td>3         </td><td>0        </td></tr>\n",
       "<tr><td><i style='opacity: 0.6'>1</i>  </td><td>2            </td><td>1         </td><td>1       </td><td>0    </td><td>38.0 </td><td>1      </td><td>0      </td><td>71.2833</td><td>C85    </td><td>2         </td><td>0        </td></tr>\n",
       "<tr><td><i style='opacity: 0.6'>2</i>  </td><td>3            </td><td>1         </td><td>3       </td><td>0    </td><td>26.0 </td><td>0      </td><td>0      </td><td>7.925  </td><td>--     </td><td>3         </td><td>1        </td></tr>\n",
       "<tr><td><i style='opacity: 0.6'>3</i>  </td><td>4            </td><td>1         </td><td>1       </td><td>0    </td><td>35.0 </td><td>1      </td><td>0      </td><td>53.1   </td><td>C123   </td><td>3         </td><td>0        </td></tr>\n",
       "<tr><td><i style='opacity: 0.6'>4</i>  </td><td>5            </td><td>0         </td><td>3       </td><td>1    </td><td>35.0 </td><td>0      </td><td>0      </td><td>8.05   </td><td>--     </td><td>3         </td><td>1        </td></tr>\n",
       "<tr><td>...                            </td><td>...          </td><td>...       </td><td>...     </td><td>...  </td><td>...  </td><td>...    </td><td>...    </td><td>...    </td><td>...    </td><td>...       </td><td>...      </td></tr>\n",
       "<tr><td><i style='opacity: 0.6'>796</i></td><td>885          </td><td>0         </td><td>3       </td><td>1    </td><td>25.0 </td><td>0      </td><td>0      </td><td>7.05   </td><td>--     </td><td>3         </td><td>1        </td></tr>\n",
       "<tr><td><i style='opacity: 0.6'>797</i></td><td>886          </td><td>0         </td><td>3       </td><td>0    </td><td>39.0 </td><td>0      </td><td>5      </td><td>29.125 </td><td>--     </td><td>1         </td><td>0        </td></tr>\n",
       "<tr><td><i style='opacity: 0.6'>798</i></td><td>887          </td><td>0         </td><td>2       </td><td>1    </td><td>27.0 </td><td>0      </td><td>0      </td><td>13.0   </td><td>--     </td><td>3         </td><td>1        </td></tr>\n",
       "<tr><td><i style='opacity: 0.6'>799</i></td><td>888          </td><td>1         </td><td>1       </td><td>0    </td><td>19.0 </td><td>0      </td><td>0      </td><td>30.0   </td><td>B42    </td><td>3         </td><td>1        </td></tr>\n",
       "<tr><td><i style='opacity: 0.6'>800</i></td><td>891          </td><td>0         </td><td>3       </td><td>1    </td><td>32.0 </td><td>0      </td><td>0      </td><td>7.75   </td><td>--     </td><td>1         </td><td>1        </td></tr>\n",
       "</tbody>\n",
       "</table>"
      ],
      "text/plain": [
       "#    PassengerId    Survived    Pclass    Sex    Age    SibSp    Parch    Fare     Cabin    Embarked    IsAlone\n",
       "0    1              0           3         1      22.0   1        0        7.25     --       3           0\n",
       "1    2              1           1         0      38.0   1        0        71.2833  C85      2           0\n",
       "2    3              1           3         0      26.0   0        0        7.925    --       3           1\n",
       "3    4              1           1         0      35.0   1        0        53.1     C123     3           0\n",
       "4    5              0           3         1      35.0   0        0        8.05     --       3           1\n",
       "...  ...            ...         ...       ...    ...    ...      ...      ...      ...      ...         ...\n",
       "796  885            0           3         1      25.0   0        0        7.05     --       3           1\n",
       "797  886            0           3         0      39.0   0        5        29.125   --       1           0\n",
       "798  887            0           2         1      27.0   0        0        13.0     --       3           1\n",
       "799  888            1           1         0      19.0   0        0        30.0     B42      3           1\n",
       "800  891            0           3         1      32.0   0        0        7.75     --       1           1"
      ]
     },
     "execution_count": 13,
     "metadata": {},
     "output_type": "execute_result"
    }
   ],
   "source": [
    "transform_train_val_df"
   ]
  },
  {
   "cell_type": "markdown",
   "metadata": {},
   "source": [
    "# Feature Selection"
   ]
  },
  {
   "cell_type": "code",
   "execution_count": 14,
   "metadata": {},
   "outputs": [
    {
     "name": "stdout",
     "output_type": "stream",
     "text": [
      "[2023-09-19 17:02:42] [\u001b[1;32mINFO\u001b[0m] \u001b[32mCache Hit\u001b[0m (LRUCache) CompositeFeatureSelector.fit_transform: Using cached output. \u001b[1m(cache_mixin.py:160)\u001b[0m\n",
      "[2023-09-19 17:02:42] [\u001b[1;32mINFO\u001b[0m] \u001b[32mCache Hit\u001b[0m (LRUCache) CompositeFeatureSelector.transform: Using cached output. \u001b[1m(cache_mixin.py:160)\u001b[0m\n"
     ]
    }
   ],
   "source": [
    "from mleko.dataset.feature_select import CompositeFeatureSelector, MissingRateFeatureSelector, InvarianceFeatureSelector, PearsonCorrelationFeatureSelector\n",
    "\n",
    "composite_feature_selector = CompositeFeatureSelector(\n",
    "    cache_directory=f\"data/{DATASET_NAME}/feature_select\",\n",
    "    feature_selectors=[\n",
    "        MissingRateFeatureSelector(\n",
    "            cache_directory=f\"data/{DATASET_NAME}/feature_select\",\n",
    "            missing_rate_threshold=0.5,\n",
    "            ignore_features=META_FEATURES,\n",
    "        ),\n",
    "        InvarianceFeatureSelector(\n",
    "            cache_directory=f\"data/{DATASET_NAME}/feature_select\",\n",
    "            ignore_features=META_FEATURES,\n",
    "        ),\n",
    "        PearsonCorrelationFeatureSelector(\n",
    "            cache_directory=f\"data/{DATASET_NAME}/feature_select\",\n",
    "            correlation_threshold=0.7,\n",
    "            ignore_features=META_FEATURES,\n",
    "        ),\n",
    "    ],\n",
    ")\n",
    "\n",
    "data_schema, _, feature_select_train_val_df = composite_feature_selector.fit_transform(transform_schema, transform_train_val_df)\n",
    "_, test_df = composite_feature_selector.transform(transform_schema, transform_test_df)"
   ]
  },
  {
   "cell_type": "code",
   "execution_count": 15,
   "metadata": {},
   "outputs": [
    {
     "data": {
      "image/png": "[encoded data removed]",
      "text/plain": [
       "<Figure size 640x480 with 2 Axes>"
      ]
     },
     "metadata": {},
     "output_type": "display_data"
    }
   ],
   "source": [
    "import seaborn as sb\n",
    "import numpy as np\n",
    "\n",
    "numerical_features = data_schema.get_features(types=[\"numerical\", \"boolean\"])\n",
    "\n",
    "corr = abs(feature_select_train_val_df.correlation(numerical_features)) # type: ignore\n",
    "mask = np.triu(np.ones_like(corr, dtype=bool))\n",
    "ax = sb.heatmap(corr, cmap=\"Blues\", mask=mask, annot=True, xticklabels=numerical_features, yticklabels=numerical_features) # type: ignore"
   ]
  },
  {
   "cell_type": "code",
   "execution_count": 16,
   "metadata": {},
   "outputs": [
    {
     "data": {
      "text/plain": [
       "{'numerical': ['Age', 'Fare', 'Parch', 'Pclass', 'SibSp'],\n",
       " 'categorical': ['Embarked', 'Sex'],\n",
       " 'boolean': ['IsAlone'],\n",
       " 'datetime': [],\n",
       " 'timedelta': []}"
      ]
     },
     "execution_count": 16,
     "metadata": {},
     "output_type": "execute_result"
    }
   ],
   "source": [
    "data_schema.features"
   ]
  },
  {
   "cell_type": "code",
   "execution_count": 17,
   "metadata": {},
   "outputs": [
    {
     "data": {
      "text/html": [
       "<table>\n",
       "<thead>\n",
       "<tr><th>#                              </th><th>PassengerId  </th><th>Survived  </th><th>Pclass  </th><th>Sex  </th><th>Age  </th><th>SibSp  </th><th>Parch  </th><th>Fare   </th><th>Embarked  </th><th>IsAlone  </th></tr>\n",
       "</thead>\n",
       "<tbody>\n",
       "<tr><td><i style='opacity: 0.6'>0</i>  </td><td>1            </td><td>0         </td><td>3       </td><td>1    </td><td>22.0 </td><td>1      </td><td>0      </td><td>7.25   </td><td>3         </td><td>0        </td></tr>\n",
       "<tr><td><i style='opacity: 0.6'>1</i>  </td><td>2            </td><td>1         </td><td>1       </td><td>0    </td><td>38.0 </td><td>1      </td><td>0      </td><td>71.2833</td><td>2         </td><td>0        </td></tr>\n",
       "<tr><td><i style='opacity: 0.6'>2</i>  </td><td>3            </td><td>1         </td><td>3       </td><td>0    </td><td>26.0 </td><td>0      </td><td>0      </td><td>7.925  </td><td>3         </td><td>1        </td></tr>\n",
       "<tr><td><i style='opacity: 0.6'>3</i>  </td><td>4            </td><td>1         </td><td>1       </td><td>0    </td><td>35.0 </td><td>1      </td><td>0      </td><td>53.1   </td><td>3         </td><td>0        </td></tr>\n",
       "<tr><td><i style='opacity: 0.6'>4</i>  </td><td>5            </td><td>0         </td><td>3       </td><td>1    </td><td>35.0 </td><td>0      </td><td>0      </td><td>8.05   </td><td>3         </td><td>1        </td></tr>\n",
       "<tr><td>...                            </td><td>...          </td><td>...       </td><td>...     </td><td>...  </td><td>...  </td><td>...    </td><td>...    </td><td>...    </td><td>...       </td><td>...      </td></tr>\n",
       "<tr><td><i style='opacity: 0.6'>796</i></td><td>885          </td><td>0         </td><td>3       </td><td>1    </td><td>25.0 </td><td>0      </td><td>0      </td><td>7.05   </td><td>3         </td><td>1        </td></tr>\n",
       "<tr><td><i style='opacity: 0.6'>797</i></td><td>886          </td><td>0         </td><td>3       </td><td>0    </td><td>39.0 </td><td>0      </td><td>5      </td><td>29.125 </td><td>1         </td><td>0        </td></tr>\n",
       "<tr><td><i style='opacity: 0.6'>798</i></td><td>887          </td><td>0         </td><td>2       </td><td>1    </td><td>27.0 </td><td>0      </td><td>0      </td><td>13.0   </td><td>3         </td><td>1        </td></tr>\n",
       "<tr><td><i style='opacity: 0.6'>799</i></td><td>888          </td><td>1         </td><td>1       </td><td>0    </td><td>19.0 </td><td>0      </td><td>0      </td><td>30.0   </td><td>3         </td><td>1        </td></tr>\n",
       "<tr><td><i style='opacity: 0.6'>800</i></td><td>891          </td><td>0         </td><td>3       </td><td>1    </td><td>32.0 </td><td>0      </td><td>0      </td><td>7.75   </td><td>1         </td><td>1        </td></tr>\n",
       "</tbody>\n",
       "</table>"
      ],
      "text/plain": [
       "#    PassengerId    Survived    Pclass    Sex    Age    SibSp    Parch    Fare     Embarked    IsAlone\n",
       "0    1              0           3         1      22.0   1        0        7.25     3           0\n",
       "1    2              1           1         0      38.0   1        0        71.2833  2           0\n",
       "2    3              1           3         0      26.0   0        0        7.925    3           1\n",
       "3    4              1           1         0      35.0   1        0        53.1     3           0\n",
       "4    5              0           3         1      35.0   0        0        8.05     3           1\n",
       "...  ...            ...         ...       ...    ...    ...      ...      ...      ...         ...\n",
       "796  885            0           3         1      25.0   0        0        7.05     3           1\n",
       "797  886            0           3         0      39.0   0        5        29.125   1           0\n",
       "798  887            0           2         1      27.0   0        0        13.0     3           1\n",
       "799  888            1           1         0      19.0   0        0        30.0     3           1\n",
       "800  891            0           3         1      32.0   0        0        7.75     1           1"
      ]
     },
     "execution_count": 17,
     "metadata": {},
     "output_type": "execute_result"
    }
   ],
   "source": [
    "feature_select_train_val_df"
   ]
  },
  {
   "cell_type": "markdown",
   "metadata": {},
   "source": [
    "# Train Model"
   ]
  },
  {
   "cell_type": "code",
   "execution_count": 18,
   "metadata": {},
   "outputs": [
    {
     "name": "stdout",
     "output_type": "stream",
     "text": [
      "[2023-09-19 17:02:44] [\u001b[1;32mINFO\u001b[0m] \u001b[32mCache Hit\u001b[0m (LRUCache) RandomSplitter.split: Using cached output. \u001b[1m(cache_mixin.py:160)\u001b[0m\n"
     ]
    }
   ],
   "source": [
    "train_df, val_df = RandomSplitter(\n",
    "    cache_directory=f\"data/{DATASET_NAME}/split\",\n",
    "    data_split=(0.80, 0.20),\n",
    "    shuffle=True,\n",
    "    stratify=TARGET_FEATURE,\n",
    "    random_state=RANDOM_STATE,\n",
    ").split(feature_select_train_val_df, cache_group=\"train_val\")"
   ]
  },
  {
   "cell_type": "code",
   "execution_count": 19,
   "metadata": {},
   "outputs": [
    {
     "name": "stdout",
     "output_type": "stream",
     "text": [
      "Train: 38.281% (Survived: 245, Total: 640)\n",
      "Val: 38.509% (Survived:  62, Total: 161)\n",
      "Test: 38.889% (Survived:  35, Total:  90)\n"
     ]
    }
   ],
   "source": [
    "print_split_stats(train_df, \"Train\")\n",
    "print_split_stats(val_df, \"Val\")\n",
    "print_split_stats(test_df, \"Test\")"
   ]
  },
  {
   "cell_type": "code",
   "execution_count": 22,
   "metadata": {},
   "outputs": [
    {
     "name": "stdout",
     "output_type": "stream",
     "text": [
      "[2023-09-19 17:02:50] [\u001b[1;32mINFO\u001b[0m] \u001b[32mCache Hit\u001b[0m (LRUCache) LGBMModel.fit_transform: Using cached output. \u001b[1m(cache_mixin.py:160)\u001b[0m\n"
     ]
    }
   ],
   "source": [
    "from mleko.model import LGBMModel\n",
    "\n",
    "lgbm_model = LGBMModel(\n",
    "    cache_directory=f\"data/{DATASET_NAME}/model\",\n",
    "    objective=\"binary\",\n",
    "    target=TARGET_FEATURE,\n",
    "    num_iterations=100,\n",
    "    ignore_features=META_FEATURES,\n",
    "    metric=[\"average_precision\", \"auc\"],\n",
    ")\n",
    "\n",
    "model, metrics, p_train_df, p_val_df = lgbm_model.fit_transform(data_schema, train_df, val_df, {})"
   ]
  },
  {
   "cell_type": "code",
   "execution_count": 23,
   "metadata": {},
   "outputs": [
    {
     "data": {
      "image/png": "[encoded data removed]",
      "text/plain": [
       "<Figure size 640x480 with 1 Axes>"
      ]
     },
     "metadata": {},
     "output_type": "display_data"
    }
   ],
   "source": [
    "import lightgbm\n",
    "\n",
    "ax = lightgbm.plot_metric(metrics, metric='auc')"
   ]
  },
  {
   "cell_type": "markdown",
   "metadata": {},
   "source": [
    "# `mleko` Pipeline"
   ]
  },
  {
   "cell_type": "code",
   "execution_count": 24,
   "metadata": {},
   "outputs": [
    {
     "name": "stdout",
     "output_type": "stream",
     "text": [
      "[2023-09-19 17:02:53] [\u001b[1;32mINFO\u001b[0m] Attempting to fetch Kaggle API credentials from environment variables 'KAGGLE_USERNAME' and 'KAGGLE_KEY'. \u001b[1m(kaggle_ingester.py:74)\u001b[0m\n",
      "[2023-09-19 17:02:53] [\u001b[1;32mINFO\u001b[0m] Kaggle API credentials not found in environment variables, attempting to fetch from fallback path at ~/.kaggle/kaggle.json. \u001b[1m(kaggle_ingester.py:82)\u001b[0m\n",
      "[2023-09-19 17:02:53] [\u001b[1;32mINFO\u001b[0m] Kaggle credentials successfully fetched. \u001b[1m(kaggle_ingester.py:91)\u001b[0m\n"
     ]
    }
   ],
   "source": [
    "kaggle_ingester = KaggleIngester(\n",
    "    destination_directory=f\"data/{DATASET_NAME}/raw\", \n",
    "    owner_slug=OWNER_SLUG, \n",
    "    dataset_slug=DATASET_SLUG\n",
    ")"
   ]
  },
  {
   "cell_type": "code",
   "execution_count": 25,
   "metadata": {},
   "outputs": [],
   "source": [
    "csv_to_vaex_converter = CSVToVaexConverter(\n",
    "    cache_directory=f\"data/{DATASET_NAME}/converted\",\n",
    "    drop_columns=[\"Ticket\"],\n",
    "    meta_columns=META_FEATURES,\n",
    "    drop_rows_with_na_columns=[TARGET_FEATURE],\n",
    "    random_state=RANDOM_STATE,\n",
    ")"
   ]
  },
  {
   "cell_type": "code",
   "execution_count": 26,
   "metadata": {},
   "outputs": [],
   "source": [
    "random_splitter_90_10 = RandomSplitter(\n",
    "    cache_directory=f\"data/{DATASET_NAME}/split\",\n",
    "    data_split=(0.90, 0.10),\n",
    "    shuffle=True,\n",
    "    stratify=TARGET_FEATURE,\n",
    "    random_state=RANDOM_STATE,\n",
    ")"
   ]
  },
  {
   "cell_type": "code",
   "execution_count": 27,
   "metadata": {},
   "outputs": [],
   "source": [
    "composite_transformer = CompositeTransformer(\n",
    "    cache_directory=f\"data/{DATASET_NAME}/transform\",\n",
    "    transformers=[\n",
    "        FeatureDropperTransformer(\n",
    "          cache_directory=f\"data/{DATASET_NAME}/transform\",\n",
    "            features=[\"Name\"],  \n",
    "        ),\n",
    "        IsAloneTransformer(\n",
    "            cache_directory=f\"data/{DATASET_NAME}/transform\",\n",
    "        ),\n",
    "        LabelEncoderTransformer(\n",
    "            cache_directory=f\"data/{DATASET_NAME}/transform\",\n",
    "            features=[\"Sex\", \"Embarked\", \"IsAlone\"],\n",
    "        ),\n",
    "    ],\n",
    ")"
   ]
  },
  {
   "cell_type": "code",
   "execution_count": 28,
   "metadata": {},
   "outputs": [],
   "source": [
    "composite_feature_selector = CompositeFeatureSelector(\n",
    "    cache_directory=f\"data/{DATASET_NAME}/feature_select\",\n",
    "    feature_selectors=[\n",
    "        MissingRateFeatureSelector(\n",
    "            cache_directory=f\"data/{DATASET_NAME}/feature_select\",\n",
    "            missing_rate_threshold=0.5,\n",
    "            ignore_features=META_FEATURES,\n",
    "        ),\n",
    "        InvarianceFeatureSelector(\n",
    "            cache_directory=f\"data/{DATASET_NAME}/feature_select\",\n",
    "            ignore_features=META_FEATURES,\n",
    "        ),\n",
    "        PearsonCorrelationFeatureSelector(\n",
    "            cache_directory=f\"data/{DATASET_NAME}/feature_select\",\n",
    "            correlation_threshold=0.7,\n",
    "            ignore_features=META_FEATURES,\n",
    "        ),\n",
    "    ],\n",
    ")"
   ]
  },
  {
   "cell_type": "code",
   "execution_count": 29,
   "metadata": {},
   "outputs": [],
   "source": [
    "random_splitter_80_20 = RandomSplitter(\n",
    "    cache_directory=f\"data/{DATASET_NAME}/split\",\n",
    "    data_split=(0.80, 0.20),\n",
    "    shuffle=True,\n",
    "    stratify=TARGET_FEATURE,\n",
    "    random_state=RANDOM_STATE,\n",
    ")"
   ]
  },
  {
   "cell_type": "code",
   "execution_count": 67,
   "metadata": {},
   "outputs": [
    {
     "data": {
      "text/plain": [
       "Pipeline:\n",
       "  1. IngestStep(ingester=KaggleIngester(file_names=None, dataset_version=None, kaggle_api_credentials_file=None, num_workers=64, destination_directory='data/yasserh/titanic-dataset/raw', owner_slug='yasserh', dataset_slug='titanic-dataset'), inputs=(), outputs=['raw_csv'])\n",
       "  2. ConvertStep(converter=CSVToVaexConverter(forced_numerical_columns=(), forced_categorical_columns=(), forced_boolean_columns=(), drop_columns=['Ticket'], meta_columns=['PassengerId', 'Survived'], drop_rows_with_na_columns=['Survived'], na_values=('-9998', '-9998.0', '-9999', '-9999.0', '-99', '-99.0', 'nan', 'none', 'non', 'Nan', 'None', 'Non', '', 'N/A', 'N/a', 'unknown', 'missing'), true_values=('t', 'True', 'true', '1'), false_values=('f', 'False', 'false', '0'), downcast_float=False, random_state=1337, num_workers=12, cache_size=1, cache_directory='data/yasserh/titanic-dataset/converted'), inputs=['raw_csv'], outputs=['clean_data_schema', 'clean_df'], cache_group=None)\n",
       "  3. SplitStep(splitter=RandomSplitter(data_split=(0.9, 0.1), shuffle=True, stratify='Survived', random_state=1337, cache_size=1, cache_directory='data/yasserh/titanic-dataset/split'), inputs=['clean_df'], outputs=['train_val_clean_df', 'test_clean_df'], cache_group='train_val_test')\n",
       "  4. TransformStep(transformer=CompositeTransformer(cache_size=1, cache_directory='data/yasserh/titanic-dataset/transform', transformers=[FeatureDropperTransformer(cache_size=1, cache_directory='data/yasserh/titanic-dataset/transform', features=['Name']), IsAloneTransformer(cache_size=1, cache_directory='data/yasserh/titanic-dataset/transform'), LabelEncoderTransformer(allow_unseen=True, cache_size=1, cache_directory='data/yasserh/titanic-dataset/transform', features=['Sex', 'Embarked', 'IsAlone'])]), inputs=['clean_data_schema', 'train_val_clean_df'], outputs=['transform_data_schema', 'composite_transformer', 'transform_train_val_df'], cache_group='train_val', action='fit_transform')\n",
       "  5. TransformStep(transformer=CompositeTransformer(cache_size=1, cache_directory='data/yasserh/titanic-dataset/transform', transformers=[FeatureDropperTransformer(cache_size=1, cache_directory='data/yasserh/titanic-dataset/transform', features=['Name']), IsAloneTransformer(cache_size=1, cache_directory='data/yasserh/titanic-dataset/transform'), LabelEncoderTransformer(allow_unseen=True, cache_size=1, cache_directory='data/yasserh/titanic-dataset/transform', features=['Sex', 'Embarked', 'IsAlone'])]), inputs=['clean_data_schema', 'test_clean_df'], outputs=['transform_data_schema', 'transform_test_df'], cache_group='test', action='transform')\n",
       "  6. FeatureSelectStep(feature_selector=CompositeFeatureSelector(cache_size=1, cache_directory='data/yasserh/titanic-dataset/feature_select', feature_selectors=[MissingRateFeatureSelector(features=None, ignore_features=['PassengerId', 'Survived'], cache_size=1, cache_directory='data/yasserh/titanic-dataset/feature_select', missing_rate_threshold=0.5), InvarianceFeatureSelector(features=None, ignore_features=['PassengerId', 'Survived'], cache_size=1, cache_directory='data/yasserh/titanic-dataset/feature_select'), PearsonCorrelationFeatureSelector(features=None, ignore_features=['PassengerId', 'Survived'], cache_size=1, cache_directory='data/yasserh/titanic-dataset/feature_select', correlation_threshold=0.7)]), inputs=['transform_data_schema', 'transform_train_val_df'], outputs=['data_schema', 'composite_feature_selector', 'selected_train_val_df'], cache_group='train_val', action='fit_transform')\n",
       "  7. FeatureSelectStep(feature_selector=CompositeFeatureSelector(cache_size=1, cache_directory='data/yasserh/titanic-dataset/feature_select', feature_selectors=[MissingRateFeatureSelector(features=None, ignore_features=['PassengerId', 'Survived'], cache_size=1, cache_directory='data/yasserh/titanic-dataset/feature_select', missing_rate_threshold=0.5), InvarianceFeatureSelector(features=None, ignore_features=['PassengerId', 'Survived'], cache_size=1, cache_directory='data/yasserh/titanic-dataset/feature_select'), PearsonCorrelationFeatureSelector(features=None, ignore_features=['PassengerId', 'Survived'], cache_size=1, cache_directory='data/yasserh/titanic-dataset/feature_select', correlation_threshold=0.7)]), inputs=['transform_data_schema', 'transform_test_df'], outputs=['data_schema', 'test_df'], cache_group='test', action='transform')\n",
       "  8. SplitStep(splitter=RandomSplitter(data_split=(0.8, 0.2), shuffle=True, stratify='Survived', random_state=1337, cache_size=1, cache_directory='data/yasserh/titanic-dataset/split'), inputs=['selected_train_val_df'], outputs=['train_df', 'val_df'], cache_group='train_val')"
      ]
     },
     "execution_count": 67,
     "metadata": {},
     "output_type": "execute_result"
    }
   ],
   "source": [
    "from mleko.pipeline import Pipeline\n",
    "from mleko.pipeline.steps import IngestStep, ConvertStep, SplitStep, FeatureSelectStep, TransformStep, ModelStep\n",
    "\n",
    "pre_pipeline = Pipeline(\n",
    "    steps=[\n",
    "        IngestStep(kaggle_ingester, outputs=[\"raw_csv\"]),\n",
    "        ConvertStep(csv_to_vaex_converter, inputs=[\"raw_csv\"], outputs=[\"clean_data_schema\", \"clean_df\"]),\n",
    "        SplitStep(\n",
    "            random_splitter_90_10,\n",
    "            inputs=[\"clean_df\"],\n",
    "            outputs=[\"train_val_clean_df\", \"test_clean_df\"],\n",
    "            cache_group=\"train_val_test\",\n",
    "        ),\n",
    "        TransformStep(\n",
    "            composite_transformer,\n",
    "            action=\"fit_transform\",\n",
    "            inputs=[\"clean_data_schema\", \"train_val_clean_df\"],\n",
    "            outputs=[\"transform_data_schema\", \"composite_transformer\", \"transform_train_val_df\"],\n",
    "            cache_group=\"train_val\",\n",
    "        ),\n",
    "        TransformStep(\n",
    "            composite_transformer,\n",
    "            action=\"transform\",\n",
    "            inputs=[\"clean_data_schema\", \"test_clean_df\"],\n",
    "            outputs=[\"transform_data_schema\", \"transform_test_df\"],\n",
    "            cache_group=\"test\",\n",
    "        ),\n",
    "        FeatureSelectStep(\n",
    "            composite_feature_selector,\n",
    "            action=\"fit_transform\",\n",
    "            inputs=[\"transform_data_schema\", \"transform_train_val_df\"],\n",
    "            outputs=[\"data_schema\", \"composite_feature_selector\", \"selected_train_val_df\"],\n",
    "            cache_group=\"train_val\",\n",
    "        ),\n",
    "        FeatureSelectStep(\n",
    "            composite_feature_selector,\n",
    "            action=\"transform\",\n",
    "            inputs=[\"transform_data_schema\", \"transform_test_df\"],\n",
    "            outputs=[\"data_schema\", \"test_df\"],\n",
    "            cache_group=\"test\",\n",
    "        ),\n",
    "        SplitStep(\n",
    "            random_splitter_80_20,\n",
    "            inputs=[\"selected_train_val_df\"],\n",
    "            outputs=[\"train_df\", \"val_df\"],\n",
    "            cache_group=\"train_val\",\n",
    "        ),\n",
    "    ]\n",
    ")\n",
    "\n",
    "pre_pipeline\n"
   ]
  },
  {
   "cell_type": "code",
   "execution_count": 68,
   "metadata": {},
   "outputs": [
    {
     "name": "stdout",
     "output_type": "stream",
     "text": [
      "[2023-09-19 17:25:33] [\u001b[1;32mINFO\u001b[0m] No data container provided. Creating an empty one. \u001b[1m(pipeline.py:77)\u001b[0m\n",
      "[2023-09-19 17:25:33] [\u001b[1;32mINFO\u001b[0m] Executing step 1/8: IngestStep. \u001b[1m(pipeline.py:81)\u001b[0m\n",
      "[2023-09-19 17:25:33] [\u001b[1;32mINFO\u001b[0m] \u001b[32mCache Hit\u001b[0m: Local dataset is up to date with Kaggle, skipping download. \u001b[1m(kaggle_ingester.py:279)\u001b[0m\n",
      "[2023-09-19 17:25:33] [\u001b[1;32mINFO\u001b[0m] Finished step 1/8 execution. \u001b[1m(pipeline.py:83)\u001b[0m\n",
      "[2023-09-19 17:25:33] [\u001b[1;32mINFO\u001b[0m] Executing step 2/8: ConvertStep. \u001b[1m(pipeline.py:81)\u001b[0m\n",
      "[2023-09-19 17:25:34] [\u001b[1;32mINFO\u001b[0m] \u001b[32mCache Hit\u001b[0m (LRUCache) CSVToVaexConverter.convert: Using cached output. \u001b[1m(cache_mixin.py:160)\u001b[0m\n",
      "[2023-09-19 17:25:34] [\u001b[1;32mINFO\u001b[0m] Finished step 2/8 execution. \u001b[1m(pipeline.py:83)\u001b[0m\n",
      "[2023-09-19 17:25:34] [\u001b[1;32mINFO\u001b[0m] Executing step 3/8: SplitStep. \u001b[1m(pipeline.py:81)\u001b[0m\n",
      "[2023-09-19 17:25:34] [\u001b[1;32mINFO\u001b[0m] \u001b[32mCache Hit\u001b[0m (LRUCache) RandomSplitter.split: Using cached output. \u001b[1m(cache_mixin.py:160)\u001b[0m\n",
      "[2023-09-19 17:25:34] [\u001b[1;32mINFO\u001b[0m] Finished step 3/8 execution. \u001b[1m(pipeline.py:83)\u001b[0m\n",
      "[2023-09-19 17:25:34] [\u001b[1;32mINFO\u001b[0m] Executing step 4/8: TransformStep. \u001b[1m(pipeline.py:81)\u001b[0m\n",
      "[2023-09-19 17:25:34] [\u001b[1;32mINFO\u001b[0m] \u001b[32mCache Hit\u001b[0m (LRUCache) CompositeTransformer.fit_transform: Using cached output. \u001b[1m(cache_mixin.py:160)\u001b[0m\n",
      "[2023-09-19 17:25:34] [\u001b[1;32mINFO\u001b[0m] Finished step 4/8 execution. \u001b[1m(pipeline.py:83)\u001b[0m\n",
      "[2023-09-19 17:25:34] [\u001b[1;32mINFO\u001b[0m] Executing step 5/8: TransformStep. \u001b[1m(pipeline.py:81)\u001b[0m\n",
      "[2023-09-19 17:25:34] [\u001b[1;32mINFO\u001b[0m] \u001b[32mCache Hit\u001b[0m (LRUCache) CompositeTransformer.transform: Using cached output. \u001b[1m(cache_mixin.py:160)\u001b[0m\n",
      "[2023-09-19 17:25:34] [\u001b[1;32mINFO\u001b[0m] Finished step 5/8 execution. \u001b[1m(pipeline.py:83)\u001b[0m\n",
      "[2023-09-19 17:25:34] [\u001b[1;32mINFO\u001b[0m] Executing step 6/8: FeatureSelectStep. \u001b[1m(pipeline.py:81)\u001b[0m\n",
      "[2023-09-19 17:25:34] [\u001b[1;32mINFO\u001b[0m] \u001b[32mCache Hit\u001b[0m (LRUCache) CompositeFeatureSelector.fit_transform: Using cached output. \u001b[1m(cache_mixin.py:160)\u001b[0m\n",
      "[2023-09-19 17:25:34] [\u001b[1;32mINFO\u001b[0m] Finished step 6/8 execution. \u001b[1m(pipeline.py:83)\u001b[0m\n",
      "[2023-09-19 17:25:34] [\u001b[1;32mINFO\u001b[0m] Executing step 7/8: FeatureSelectStep. \u001b[1m(pipeline.py:81)\u001b[0m\n",
      "[2023-09-19 17:25:34] [\u001b[1;32mINFO\u001b[0m] \u001b[32mCache Hit\u001b[0m (LRUCache) CompositeFeatureSelector.transform: Using cached output. \u001b[1m(cache_mixin.py:160)\u001b[0m\n",
      "[2023-09-19 17:25:34] [\u001b[1;32mINFO\u001b[0m] Finished step 7/8 execution. \u001b[1m(pipeline.py:83)\u001b[0m\n",
      "[2023-09-19 17:25:34] [\u001b[1;32mINFO\u001b[0m] Executing step 8/8: SplitStep. \u001b[1m(pipeline.py:81)\u001b[0m\n",
      "[2023-09-19 17:25:34] [\u001b[1;32mINFO\u001b[0m] \u001b[32mCache Hit\u001b[0m (LRUCache) RandomSplitter.split: Using cached output. \u001b[1m(cache_mixin.py:160)\u001b[0m\n",
      "[2023-09-19 17:25:34] [\u001b[1;32mINFO\u001b[0m] Finished step 8/8 execution. \u001b[1m(pipeline.py:83)\u001b[0m\n"
     ]
    }
   ],
   "source": [
    "pre_data_container = pre_pipeline.run()"
   ]
  },
  {
   "cell_type": "code",
   "execution_count": 75,
   "metadata": {},
   "outputs": [],
   "source": [
    "lgbm_model = LGBMModel(\n",
    "    cache_directory=f\"data/{DATASET_NAME}/model\",\n",
    "    objective=\"binary\",\n",
    "    target=TARGET_FEATURE,\n",
    "    num_iterations=100,\n",
    "    ignore_features=META_FEATURES,\n",
    "    metric=[\"average_precision\", \"auc\"],\n",
    ")\n",
    "\n",
    "model_pipeline = Pipeline(\n",
    "    steps=[\n",
    "        ModelStep(\n",
    "            lgbm_model,\n",
    "            action=\"fit_transform\",\n",
    "            inputs=[\"data_schema\", \"train_df\", \"val_df\"],\n",
    "            outputs=[\"lgbm_model\", \"metrics\", \"pred_train_df\", \"pred_val_df\"],\n",
    "        ),\n",
    "        ModelStep(\n",
    "            lgbm_model,\n",
    "            action=\"transform\",\n",
    "            inputs=[\"data_schema\", \"test_df\"],\n",
    "            outputs=[\"pred_test_df\"],\n",
    "        ),\n",
    "    ]\n",
    ")"
   ]
  },
  {
   "cell_type": "code",
   "execution_count": 77,
   "metadata": {},
   "outputs": [
    {
     "name": "stdout",
     "output_type": "stream",
     "text": [
      "[2023-09-19 17:28:55] [\u001b[1;32mINFO\u001b[0m] Executing step 1/2: ModelStep. \u001b[1m(pipeline.py:81)\u001b[0m\n",
      "[2023-09-19 17:28:55] [\u001b[1;32mINFO\u001b[0m] \u001b[32mCache Hit\u001b[0m (LRUCache) LGBMModel.fit_transform: Using cached output. \u001b[1m(cache_mixin.py:160)\u001b[0m\n",
      "[2023-09-19 17:28:55] [\u001b[1;32mINFO\u001b[0m] Finished step 1/2 execution. \u001b[1m(pipeline.py:83)\u001b[0m\n",
      "[2023-09-19 17:28:55] [\u001b[1;32mINFO\u001b[0m] Executing step 2/2: ModelStep. \u001b[1m(pipeline.py:81)\u001b[0m\n",
      "[2023-09-19 17:28:55] [\u001b[1;32mINFO\u001b[0m] \u001b[32mCache Hit\u001b[0m (LRUCache) LGBMModel.transform: Using cached output. \u001b[1m(cache_mixin.py:160)\u001b[0m\n",
      "[2023-09-19 17:28:55] [\u001b[1;32mINFO\u001b[0m] Finished step 2/2 execution. \u001b[1m(pipeline.py:83)\u001b[0m\n"
     ]
    },
    {
     "data": {
      "text/plain": [
       "['raw_csv',\n",
       " 'clean_data_schema',\n",
       " 'clean_df',\n",
       " 'train_val_clean_df',\n",
       " 'test_clean_df',\n",
       " 'transform_data_schema',\n",
       " 'composite_transformer',\n",
       " 'transform_train_val_df',\n",
       " 'transform_test_df',\n",
       " 'data_schema',\n",
       " 'composite_feature_selector',\n",
       " 'selected_train_val_df',\n",
       " 'test_df',\n",
       " 'train_df',\n",
       " 'val_df',\n",
       " 'lgbm_model',\n",
       " 'metrics',\n",
       " 'pred_train_df',\n",
       " 'pred_val_df',\n",
       " 'pred_test_df']"
      ]
     },
     "execution_count": 77,
     "metadata": {},
     "output_type": "execute_result"
    }
   ],
   "source": [
    "data_container = model_pipeline.run(data_container=pre_data_container)\n",
    "result = data_container.data\n",
    "\n",
    "list(result.keys())"
   ]
  },
  {
   "cell_type": "code",
   "execution_count": 78,
   "metadata": {},
   "outputs": [
    {
     "data": {
      "image/png": "[encoded data removed]",
      "text/plain": [
       "<Figure size 640x480 with 1 Axes>"
      ]
     },
     "metadata": {},
     "output_type": "display_data"
    }
   ],
   "source": [
    "ax = lightgbm.plot_metric(result[\"metrics\"], metric='auc')"
   ]
  },
  {
   "cell_type": "code",
   "execution_count": null,
   "metadata": {},
   "outputs": [],
   "source": []
  }
 ],
 "metadata": {
  "kernelspec": {
   "display_name": ".venv",
   "language": "python",
   "name": "python3"
  },
  "language_info": {
   "codemirror_mode": {
    "name": "ipython",
    "version": 3
   },
   "file_extension": ".py",
   "mimetype": "text/x-python",
   "name": "python",
   "nbconvert_exporter": "python",
   "pygments_lexer": "ipython3",
   "version": "3.8.17"
  },
  "orig_nbformat": 4
 },
 "nbformat": 4,
 "nbformat_minor": 2
}
