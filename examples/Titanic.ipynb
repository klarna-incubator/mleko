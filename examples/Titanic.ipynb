{
 "cells": [
  {
   "cell_type": "markdown",
   "metadata": {},
   "source": [
    "# Introduction to `mleko` with Titanic\n",
    "\n",
    "This notebook is a quick introduction to `mleko` package. We will use the Titanic dataset to predict whether a passenger survived or not.\n",
    "\n",
    "The library provides 2 subpackages needed for data processing and model training:\n",
    "\n",
    "- `dataset`: Subpackage for handling and processing datasets.\n",
    "  - `ingest`: Module for ingesting (loading) data from various sources.\n",
    "    - `BaseIngester`: Base class for all ingesters.\n",
    "    - `KaggleIngester`: Ingests data from Kaggle.\n",
    "    - `S3Ingester`: Ingests data from Amazon S3.\n",
    "  - `convert`: Module for converting data into different formats.\n",
    "    - `BaseConverter`: Base class for all converters.\n",
    "    - `CsvToVaexConverter`: Converts CSV data into a Vaex DataFrame.\n",
    "  - `filter`: Module for filtering datasets.\n",
    "    - `BaseFilter`: Base class for all filters.\n",
    "    - `ExpressionFilter`: Filters data based on a given expression.\n",
    "    - `ImblearnSamplingFilter`: Resamples data using `imbalanced-learn`.\n",
    "  - `split`: Module for splitting datasets into training and testing sets.\n",
    "    - `BaseSplitter`: Base class for all splitters.\n",
    "    - `RandomSplitter`: Splits data randomly.\n",
    "    - `ExpressionSplitter`: Splits data based on a given expression.\n",
    "  - `transform`: Module for transforming datasets.\n",
    "    - `BaseTransformer`: Base class for all transformers.\n",
    "    - `CompositeTransformer`: Combines multiple transformers.\n",
    "    - `FrequencyEncoderTransformer`: Encodes categorical variables based on their frequency.\n",
    "    - `LabelEncoderTransformer`: Encodes categorical variables with unique labels.\n",
    "    - `MaxAbsScalerTransformer`: Scales each feature by its maximum absolute value.\n",
    "    - `MinMaxScalerTransformer`: Scales each feature to a given range.\n",
    "  - `feature_select`: Module for feature selection.\n",
    "    - `BaseFeatureSelector`: Base class for all feature selectors.\n",
    "    - `CompositeFeatureSelector`: Combines multiple feature selectors.\n",
    "    - `InvarianceFeatureSelector`: Selects features based on their invariance.\n",
    "    - `MissingRateFeatureSelector`: Selects features based on their missing rate.\n",
    "    - `PearsonCorrelationFeatureSelector`: Selects features based on their Pearson correlation.\n",
    "    - `VarianceFeatureSelector`: Selects features based on their variance.\n",
    "- `model`: Subpackage for building and training models.\n",
    "  - `BaseModel`: Base class for all models.\n",
    "  - `LGBMModel`: Trains a LightGBM model.\n"
   ]
  },
  {
   "cell_type": "markdown",
   "metadata": {},
   "source": [
    "# Configuration\n",
    "\n",
    "This section contains configurations for the notebook.\n"
   ]
  },
  {
   "cell_type": "code",
   "execution_count": 2,
   "metadata": {},
   "outputs": [],
   "source": [
    "%reload_ext autoreload\n",
    "%autoreload 2"
   ]
  },
  {
   "cell_type": "code",
   "execution_count": 3,
   "metadata": {},
   "outputs": [
    {
     "data": {
      "text/html": [
       "<style>\n",
       "/*overwrite hard coded write background by vscode for ipywidges */\n",
       ".cell-output-ipywidget-background {\n",
       "   background-color: transparent !important;\n",
       "}\n",
       "\n",
       "/*set widget foreground text and color of interactive widget to vs dark theme color */\n",
       ":root {\n",
       "    --jp-widgets-color: var(--vscode-editor-foreground);\n",
       "    --jp-widgets-font-size: var(--vscode-editor-font-size);\n",
       "}\n",
       "</style>\n"
      ],
      "text/plain": [
       "<IPython.core.display.HTML object>"
      ]
     },
     "metadata": {},
     "output_type": "display_data"
    }
   ],
   "source": [
    "%%html\n",
    "<style>\n",
    "/*overwrite hard coded write background by vscode for ipywidges */\n",
    ".cell-output-ipywidget-background {\n",
    "   background-color: transparent !important;\n",
    "}\n",
    "\n",
    "/*set widget foreground text and color of interactive widget to vs dark theme color */\n",
    ":root {\n",
    "    --jp-widgets-color: var(--vscode-editor-foreground);\n",
    "    --jp-widgets-font-size: var(--vscode-editor-font-size);\n",
    "}\n",
    "</style>"
   ]
  },
  {
   "cell_type": "markdown",
   "metadata": {},
   "source": [
    "## Constants\n",
    "\n",
    "Define various constants that will be used throughout the notebook.\n"
   ]
  },
  {
   "cell_type": "code",
   "execution_count": 4,
   "metadata": {},
   "outputs": [],
   "source": [
    "# Kaggle dataset identifier\n",
    "OWNER_SLUG = \"yasserh\"\n",
    "DATASET_SLUG = \"titanic-dataset\"\n",
    "DATASET_NAME = f\"{OWNER_SLUG}/{DATASET_SLUG}\"\n",
    "\n",
    "# Define meta features of the dataset not used as model inputs\n",
    "TARGET_FEATURE = \"Survived\"\n",
    "ID_COLUMN = \"PassengerId\"\n",
    "META_FEATURES = [ID_COLUMN, TARGET_FEATURE]\n",
    "\n",
    "# General Configuration\n",
    "RANDOM_STATE = 1337"
   ]
  },
  {
   "cell_type": "markdown",
   "metadata": {},
   "source": [
    "# Download Data\n",
    "\n",
    "In this cell, we use the `KaggleIngester` from the `mleko` library to download the Titanic dataset from Kaggle.\n"
   ]
  },
  {
   "cell_type": "code",
   "execution_count": 5,
   "metadata": {},
   "outputs": [
    {
     "name": "stdout",
     "output_type": "stream",
     "text": [
      "[2024-03-22 14:19:20] [\u001b[1;32mINFO\u001b[0m] Attempting to fetch Kaggle API credentials from environment variables 'KAGGLE_USERNAME' and 'KAGGLE_KEY'. \u001b[1m(kaggle_ingester.py:76)\u001b[0m\n",
      "[2024-03-22 14:19:20] [\u001b[1;32mINFO\u001b[0m] Kaggle API credentials not found in environment variables, attempting to fetch from fallback path at ~/.kaggle/kaggle.json. \u001b[1m(kaggle_ingester.py:84)\u001b[0m\n",
      "[2024-03-22 14:19:20] [\u001b[1;32mINFO\u001b[0m] Kaggle credentials successfully fetched. \u001b[1m(kaggle_ingester.py:93)\u001b[0m\n",
      "[2024-03-22 14:19:21] [\u001b[1;32mINFO\u001b[0m] Found 1 file(s) matching any of ['*'] in Kaggle dataset. \u001b[1m(kaggle_ingester.py:377)\u001b[0m\n",
      "[2024-03-22 14:19:21] [\u001b[1;32mINFO\u001b[0m] \u001b[32mCache Hit\u001b[0m: Local dataset is up to date with Kaggle, skipping download. \u001b[1m(kaggle_ingester.py:296)\u001b[0m\n"
     ]
    }
   ],
   "source": [
    "from mleko.dataset.ingest import KaggleIngester\n",
    "\n",
    "\n",
    "# Fetch data from Kaggle and return paths to the downloaded files\n",
    "csv_paths = KaggleIngester(owner_slug=OWNER_SLUG, dataset_slug=DATASET_SLUG).fetch_data()"
   ]
  },
  {
   "cell_type": "markdown",
   "metadata": {},
   "source": [
    "## Fetching Data from S3\n",
    "\n",
    "In addition to the `KaggleIngester`, `mleko` also provides the `S3Ingester` for downloading datasets from Amazon S3.\n",
    "\n",
    "Here's an example of how you can use it:\n",
    "\n",
    "```python\n",
    "from mleko.dataset.ingest import S3Ingester\n",
    "\n",
    "csv_paths = S3Ingester(\n",
    "    s3_bucket_name=\"mleko-datasets\",\n",
    "    s3_key_prefix=\"kaggle/nehaprabhavalkar/indian-food-101\",\n",
    "    aws_profile_name=\"mleko\",\n",
    "    aws_region_name=\"eu-west-1\",\n",
    "    num_workers=64,  # Number of workers to use for downloading files.\n",
    "    check_s3_timestamps=True,  # Ensure that all files are from the same date.\n",
    ").fetch_data()\n",
    "```\n"
   ]
  },
  {
   "cell_type": "markdown",
   "metadata": {},
   "source": [
    "# Clean Data\n",
    "\n",
    "Here, we use the `CSVToVaexConverter` from `mleko` to clean the data.\n",
    "\n",
    "The converter reads the CSV file, drops unnecessary columns, handles missing values, and converts the data into a Vaex DataFrame for efficient processing.\n"
   ]
  },
  {
   "cell_type": "code",
   "execution_count": 53,
   "metadata": {},
   "outputs": [
    {
     "name": "stdout",
     "output_type": "stream",
     "text": [
      "[2024-03-22 14:49:18] [\u001b[1;32mINFO\u001b[0m] \u001b[32mCache Hit\u001b[0m (LRUCache) CSVToVaexConverter.convert: Using cached output. \u001b[1m(cache_mixin.py:163)\u001b[0m\n"
     ]
    }
   ],
   "source": [
    "from mleko.dataset.convert import CSVToVaexConverter\n",
    "\n",
    "\n",
    "clean_schema, clean_df = CSVToVaexConverter(\n",
    "    drop_columns=[\"Ticket\"],\n",
    "    meta_columns=META_FEATURES,\n",
    "    drop_rows_with_na_columns=[TARGET_FEATURE],  # Drop rows with missing target values\n",
    "    random_state=RANDOM_STATE,  # We like reproducibility\n",
    ").convert(csv_paths)"
   ]
  },
  {
   "cell_type": "markdown",
   "metadata": {},
   "source": [
    "Investigate the data to see what columns are available and what their data types are.\n"
   ]
  },
  {
   "cell_type": "code",
   "execution_count": 54,
   "metadata": {},
   "outputs": [
    {
     "data": {
      "text/plain": [
       "{'numerical': ['Age', 'Fare', 'Parch', 'Pclass', 'SibSp'],\n",
       " 'categorical': ['Cabin', 'Embarked', 'Name', 'Sex'],\n",
       " 'boolean': [],\n",
       " 'datetime': [],\n",
       " 'timedelta': []}"
      ]
     },
     "execution_count": 54,
     "metadata": {},
     "output_type": "execute_result"
    }
   ],
   "source": [
    "clean_schema.features"
   ]
  },
  {
   "cell_type": "code",
   "execution_count": 55,
   "metadata": {},
   "outputs": [
    {
     "data": {
      "text/html": [
       "<table>\n",
       "<thead>\n",
       "<tr><th>#                            </th><th style=\"text-align: right;\">  PassengerId</th><th style=\"text-align: right;\">  Survived</th><th style=\"text-align: right;\">  Pclass</th><th>Name                                               </th><th>Sex   </th><th>Age  </th><th style=\"text-align: right;\">  SibSp</th><th style=\"text-align: right;\">  Parch</th><th style=\"text-align: right;\">   Fare</th><th>Cabin  </th><th>Embarked  </th></tr>\n",
       "</thead>\n",
       "<tbody>\n",
       "<tr><td><i style='opacity: 0.6'>0</i></td><td style=\"text-align: right;\">            1</td><td style=\"text-align: right;\">         0</td><td style=\"text-align: right;\">       3</td><td>Braund, Mr. Owen Harris                            </td><td>male  </td><td>22.0 </td><td style=\"text-align: right;\">      1</td><td style=\"text-align: right;\">      0</td><td style=\"text-align: right;\"> 7.25  </td><td>--     </td><td>S         </td></tr>\n",
       "<tr><td><i style='opacity: 0.6'>1</i></td><td style=\"text-align: right;\">            2</td><td style=\"text-align: right;\">         1</td><td style=\"text-align: right;\">       1</td><td>&#x27;Cumings, Mrs. John Bradley (Florence Briggs Tha...</td><td>female</td><td>38.0 </td><td style=\"text-align: right;\">      1</td><td style=\"text-align: right;\">      0</td><td style=\"text-align: right;\">71.2833</td><td>C85    </td><td>C         </td></tr>\n",
       "<tr><td><i style='opacity: 0.6'>2</i></td><td style=\"text-align: right;\">            3</td><td style=\"text-align: right;\">         1</td><td style=\"text-align: right;\">       3</td><td>Heikkinen, Miss. Laina                             </td><td>female</td><td>26.0 </td><td style=\"text-align: right;\">      0</td><td style=\"text-align: right;\">      0</td><td style=\"text-align: right;\"> 7.925 </td><td>--     </td><td>S         </td></tr>\n",
       "<tr><td><i style='opacity: 0.6'>3</i></td><td style=\"text-align: right;\">            4</td><td style=\"text-align: right;\">         1</td><td style=\"text-align: right;\">       1</td><td>Futrelle, Mrs. Jacques Heath (Lily May Peel)       </td><td>female</td><td>35.0 </td><td style=\"text-align: right;\">      1</td><td style=\"text-align: right;\">      0</td><td style=\"text-align: right;\">53.1   </td><td>C123   </td><td>S         </td></tr>\n",
       "<tr><td><i style='opacity: 0.6'>4</i></td><td style=\"text-align: right;\">            5</td><td style=\"text-align: right;\">         0</td><td style=\"text-align: right;\">       3</td><td>Allen, Mr. William Henry                           </td><td>male  </td><td>35.0 </td><td style=\"text-align: right;\">      0</td><td style=\"text-align: right;\">      0</td><td style=\"text-align: right;\"> 8.05  </td><td>--     </td><td>S         </td></tr>\n",
       "<tr><td><i style='opacity: 0.6'>5</i></td><td style=\"text-align: right;\">            6</td><td style=\"text-align: right;\">         0</td><td style=\"text-align: right;\">       3</td><td>Moran, Mr. James                                   </td><td>male  </td><td>--   </td><td style=\"text-align: right;\">      0</td><td style=\"text-align: right;\">      0</td><td style=\"text-align: right;\"> 8.4583</td><td>--     </td><td>Q         </td></tr>\n",
       "<tr><td><i style='opacity: 0.6'>6</i></td><td style=\"text-align: right;\">            7</td><td style=\"text-align: right;\">         0</td><td style=\"text-align: right;\">       1</td><td>McCarthy, Mr. Timothy J                            </td><td>male  </td><td>54.0 </td><td style=\"text-align: right;\">      0</td><td style=\"text-align: right;\">      0</td><td style=\"text-align: right;\">51.8625</td><td>E46    </td><td>S         </td></tr>\n",
       "<tr><td><i style='opacity: 0.6'>7</i></td><td style=\"text-align: right;\">            8</td><td style=\"text-align: right;\">         0</td><td style=\"text-align: right;\">       3</td><td>Palsson, Master. Gosta Leonard                     </td><td>male  </td><td>2.0  </td><td style=\"text-align: right;\">      3</td><td style=\"text-align: right;\">      1</td><td style=\"text-align: right;\">21.075 </td><td>--     </td><td>S         </td></tr>\n",
       "<tr><td><i style='opacity: 0.6'>8</i></td><td style=\"text-align: right;\">            9</td><td style=\"text-align: right;\">         1</td><td style=\"text-align: right;\">       3</td><td>Johnson, Mrs. Oscar W (Elisabeth Vilhelmina Berg)  </td><td>female</td><td>27.0 </td><td style=\"text-align: right;\">      0</td><td style=\"text-align: right;\">      2</td><td style=\"text-align: right;\">11.1333</td><td>--     </td><td>S         </td></tr>\n",
       "<tr><td><i style='opacity: 0.6'>9</i></td><td style=\"text-align: right;\">           10</td><td style=\"text-align: right;\">         1</td><td style=\"text-align: right;\">       2</td><td>Nasser, Mrs. Nicholas (Adele Achem)                </td><td>female</td><td>14.0 </td><td style=\"text-align: right;\">      1</td><td style=\"text-align: right;\">      0</td><td style=\"text-align: right;\">30.0708</td><td>--     </td><td>C         </td></tr>\n",
       "</tbody>\n",
       "</table>"
      ],
      "text/plain": [
       "  #    PassengerId    Survived    Pclass  Name                                                 Sex     Age      SibSp    Parch     Fare  Cabin    Embarked\n",
       "  0              1           0         3  Braund, Mr. Owen Harris                              male    22.0         1        0   7.25    --       S\n",
       "  1              2           1         1  'Cumings, Mrs. John Bradley (Florence Briggs Tha...  female  38.0         1        0  71.2833  C85      C\n",
       "  2              3           1         3  Heikkinen, Miss. Laina                               female  26.0         0        0   7.925   --       S\n",
       "  3              4           1         1  Futrelle, Mrs. Jacques Heath (Lily May Peel)         female  35.0         1        0  53.1     C123     S\n",
       "  4              5           0         3  Allen, Mr. William Henry                             male    35.0         0        0   8.05    --       S\n",
       "  5              6           0         3  Moran, Mr. James                                     male    --           0        0   8.4583  --       Q\n",
       "  6              7           0         1  McCarthy, Mr. Timothy J                              male    54.0         0        0  51.8625  E46      S\n",
       "  7              8           0         3  Palsson, Master. Gosta Leonard                       male    2.0          3        1  21.075   --       S\n",
       "  8              9           1         3  Johnson, Mrs. Oscar W (Elisabeth Vilhelmina Berg)    female  27.0         0        2  11.1333  --       S\n",
       "  9             10           1         2  Nasser, Mrs. Nicholas (Adele Achem)                  female  14.0         1        0  30.0708  --       C"
      ]
     },
     "execution_count": 55,
     "metadata": {},
     "output_type": "execute_result"
    }
   ],
   "source": [
    "clean_df.head(10)"
   ]
  },
  {
   "cell_type": "markdown",
   "metadata": {},
   "source": [
    "# Split Train/Val and Test Dataset\n",
    "\n",
    "In this section, we split the cleaned data into a training/validation set and a test set.\n",
    "\n",
    "We use the `RandomSplitter` from `mleko` to perform a stratified random split, ensuring that both sets have the same proportion of class labels.\n"
   ]
  },
  {
   "cell_type": "code",
   "execution_count": 56,
   "metadata": {},
   "outputs": [
    {
     "name": "stdout",
     "output_type": "stream",
     "text": [
      "[2024-03-22 14:49:21] [\u001b[1;32mINFO\u001b[0m] \u001b[32mCache Hit\u001b[0m (LRUCache) RandomSplitter.split: Using cached output. \u001b[1m(cache_mixin.py:163)\u001b[0m\n"
     ]
    }
   ],
   "source": [
    "from mleko.dataset.split import RandomSplitter\n",
    "\n",
    "\n",
    "clean_train_val_df, clean_test_df = RandomSplitter(\n",
    "    data_split=(0.90, 0.10),  # 90% train/val, 10% test\n",
    "    shuffle=True,  # Shuffle the data before splitting\n",
    "    stratify=TARGET_FEATURE,  # Stratify on the target feature\n",
    "    random_state=RANDOM_STATE,  # We like reproducibility\n",
    ").split(clean_df)"
   ]
  },
  {
   "cell_type": "markdown",
   "metadata": {},
   "source": [
    "Ensure the class balance is maintained in the train/val and test sets.\n"
   ]
  },
  {
   "cell_type": "code",
   "execution_count": 57,
   "metadata": {},
   "outputs": [
    {
     "name": "stdout",
     "output_type": "stream",
     "text": [
      "Train/Val: 38.327% (Survived: 307, Total: 801)\n",
      "Test: 38.889% (Survived:  35, Total:  90)\n"
     ]
    }
   ],
   "source": [
    "def print_split_stats(df, split_name):\n",
    "    total_count = df.shape[0]\n",
    "    survival_count = df[TARGET_FEATURE].sum()  # type: ignore\n",
    "    survival_rate = survival_count / total_count\n",
    "\n",
    "    print(f\"{split_name}: {survival_rate * 100:.3f}% (Survived: {survival_count:3d}, Total: {total_count:3d})\")\n",
    "\n",
    "\n",
    "print_split_stats(clean_train_val_df, \"Train/Val\")\n",
    "print_split_stats(clean_test_df, \"Test\")"
   ]
  },
  {
   "cell_type": "markdown",
   "metadata": {},
   "source": [
    "## Splitting Based on Boolean Expressions\n",
    "\n",
    "For more complex splits, you can use the `ExpressionSplitter` from `mleko` to split the data based on a given boolean expression.\n",
    "\n",
    "It is suitable for splitting data based on time, location, or any other condition like the one below:\n",
    "\n",
    "```python\n",
    "from mleko.dataset.split import ExpressionSplitter\n",
    "\n",
    "train_val_df, test_df = ExpressionSplitter(\n",
    "    expression=\"(Embarked == 'S') | ((Embarked == 'C') & (Fare < 50))\"  # Train/val set contains passengers who embarked from Southampton or Cherbourg and paid less than 50.\n",
    ").split(filtered_df)\n",
    "```\n"
   ]
  },
  {
   "cell_type": "markdown",
   "metadata": {},
   "source": [
    "# Feature Engineering & Transformation\n",
    "\n",
    "In this section, we perform feature engineering and transformation using custom transformers, predefined transformers and combining them inside a `CompositeTransformer` from `mleko`.\n"
   ]
  },
  {
   "cell_type": "code",
   "execution_count": 58,
   "metadata": {},
   "outputs": [
    {
     "data": {
      "text/html": [
       "<table>\n",
       "<thead>\n",
       "<tr><th>#                              </th><th>PassengerId  </th><th>Survived  </th><th>Pclass  </th><th>Name                                               </th><th>Sex   </th><th>Age  </th><th>SibSp  </th><th>Parch  </th><th>Fare   </th><th>Cabin  </th><th>Embarked  </th></tr>\n",
       "</thead>\n",
       "<tbody>\n",
       "<tr><td><i style='opacity: 0.6'>0</i>  </td><td>1            </td><td>0         </td><td>3       </td><td>Braund, Mr. Owen Harris                            </td><td>male  </td><td>22.0 </td><td>1      </td><td>0      </td><td>7.25   </td><td>--     </td><td>S         </td></tr>\n",
       "<tr><td><i style='opacity: 0.6'>1</i>  </td><td>2            </td><td>1         </td><td>1       </td><td>&#x27;Cumings, Mrs. John Bradley (Florence Briggs Tha...</td><td>female</td><td>38.0 </td><td>1      </td><td>0      </td><td>71.2833</td><td>C85    </td><td>C         </td></tr>\n",
       "<tr><td><i style='opacity: 0.6'>2</i>  </td><td>3            </td><td>1         </td><td>3       </td><td>Heikkinen, Miss. Laina                             </td><td>female</td><td>26.0 </td><td>0      </td><td>0      </td><td>7.925  </td><td>--     </td><td>S         </td></tr>\n",
       "<tr><td><i style='opacity: 0.6'>3</i>  </td><td>4            </td><td>1         </td><td>1       </td><td>Futrelle, Mrs. Jacques Heath (Lily May Peel)       </td><td>female</td><td>35.0 </td><td>1      </td><td>0      </td><td>53.1   </td><td>C123   </td><td>S         </td></tr>\n",
       "<tr><td><i style='opacity: 0.6'>4</i>  </td><td>5            </td><td>0         </td><td>3       </td><td>Allen, Mr. William Henry                           </td><td>male  </td><td>35.0 </td><td>0      </td><td>0      </td><td>8.05   </td><td>--     </td><td>S         </td></tr>\n",
       "<tr><td>...                            </td><td>...          </td><td>...       </td><td>...     </td><td>...                                                </td><td>...   </td><td>...  </td><td>...    </td><td>...    </td><td>...    </td><td>...    </td><td>...       </td></tr>\n",
       "<tr><td><i style='opacity: 0.6'>796</i></td><td>885          </td><td>0         </td><td>3       </td><td>Sutehall, Mr. Henry Jr                             </td><td>male  </td><td>25.0 </td><td>0      </td><td>0      </td><td>7.05   </td><td>--     </td><td>S         </td></tr>\n",
       "<tr><td><i style='opacity: 0.6'>797</i></td><td>886          </td><td>0         </td><td>3       </td><td>Rice, Mrs. William (Margaret Norton)               </td><td>female</td><td>39.0 </td><td>0      </td><td>5      </td><td>29.125 </td><td>--     </td><td>Q         </td></tr>\n",
       "<tr><td><i style='opacity: 0.6'>798</i></td><td>887          </td><td>0         </td><td>2       </td><td>Montvila, Rev. Juozas                              </td><td>male  </td><td>27.0 </td><td>0      </td><td>0      </td><td>13.0   </td><td>--     </td><td>S         </td></tr>\n",
       "<tr><td><i style='opacity: 0.6'>799</i></td><td>888          </td><td>1         </td><td>1       </td><td>Graham, Miss. Margaret Edith                       </td><td>female</td><td>19.0 </td><td>0      </td><td>0      </td><td>30.0   </td><td>B42    </td><td>S         </td></tr>\n",
       "<tr><td><i style='opacity: 0.6'>800</i></td><td>891          </td><td>0         </td><td>3       </td><td>Dooley, Mr. Patrick                                </td><td>male  </td><td>32.0 </td><td>0      </td><td>0      </td><td>7.75   </td><td>--     </td><td>Q         </td></tr>\n",
       "</tbody>\n",
       "</table>"
      ],
      "text/plain": [
       "#    PassengerId    Survived    Pclass    Name                                                 Sex     Age    SibSp    Parch    Fare     Cabin    Embarked\n",
       "0    1              0           3         Braund, Mr. Owen Harris                              male    22.0   1        0        7.25     --       S\n",
       "1    2              1           1         'Cumings, Mrs. John Bradley (Florence Briggs Tha...  female  38.0   1        0        71.2833  C85      C\n",
       "2    3              1           3         Heikkinen, Miss. Laina                               female  26.0   0        0        7.925    --       S\n",
       "3    4              1           1         Futrelle, Mrs. Jacques Heath (Lily May Peel)         female  35.0   1        0        53.1     C123     S\n",
       "4    5              0           3         Allen, Mr. William Henry                             male    35.0   0        0        8.05     --       S\n",
       "...  ...            ...         ...       ...                                                  ...     ...    ...      ...      ...      ...      ...\n",
       "796  885            0           3         Sutehall, Mr. Henry Jr                               male    25.0   0        0        7.05     --       S\n",
       "797  886            0           3         Rice, Mrs. William (Margaret Norton)                 female  39.0   0        5        29.125   --       Q\n",
       "798  887            0           2         Montvila, Rev. Juozas                                male    27.0   0        0        13.0     --       S\n",
       "799  888            1           1         Graham, Miss. Margaret Edith                         female  19.0   0        0        30.0     B42      S\n",
       "800  891            0           3         Dooley, Mr. Patrick                                  male    32.0   0        0        7.75     --       Q"
      ]
     },
     "execution_count": 58,
     "metadata": {},
     "output_type": "execute_result"
    }
   ],
   "source": [
    "clean_train_val_df"
   ]
  },
  {
   "cell_type": "markdown",
   "metadata": {},
   "source": [
    "## Custom Transformers\n",
    "\n",
    "It is important the the ML pipeline is flexible and allows for easy experimentation, be it with different feature engineering techniques or different models.\n",
    "\n",
    "In many cases, the classes provided by `mleko` will be sufficient for your needs. However, you can also create your own custom classes by inheriting from the `BaseClass` class. For transformers, you need to inherit from the `BaseTransformer` class and implement the `__init__`, `_fit`, `_transform`, and `_fingerprint` methods.\n"
   ]
  },
  {
   "cell_type": "code",
   "execution_count": 59,
   "metadata": {},
   "outputs": [],
   "source": [
    "from __future__ import annotations\n",
    "\n",
    "from pathlib import Path\n",
    "from typing import Hashable\n",
    "\n",
    "import vaex\n",
    "import vaex.ml\n",
    "\n",
    "from mleko.dataset import DataSchema\n",
    "from mleko.dataset.transform import BaseTransformer\n",
    "from mleko.utils import auto_repr\n",
    "\n",
    "\n",
    "class IsAloneTransformer(BaseTransformer):\n",
    "    @auto_repr\n",
    "    def __init__(\n",
    "        self,\n",
    "        cache_directory: str | Path = \"data/is-alone-transformer\",\n",
    "        cache_size: int = 1,\n",
    "    ) -> None:\n",
    "        super().__init__([], cache_directory, cache_size)\n",
    "        self._transformer = -1\n",
    "\n",
    "    def _fit(self, data_schema: DataSchema, _dataframe: vaex.DataFrame) -> tuple[DataSchema, int]:\n",
    "        \"\"\"No fitting required for this transformer.\"\"\"\n",
    "        ds = data_schema.copy().add_feature(\"IsAlone\", \"boolean\")\n",
    "        return ds, self._transformer\n",
    "\n",
    "    def _transform(self, data_schema: DataSchema, dataframe: vaex.DataFrame) -> tuple[DataSchema, vaex.DataFrame]:\n",
    "        \"\"\"Add a new feature to the dataset indicating whether the passenger was alone or not.\"\"\"\n",
    "        df = dataframe.copy()\n",
    "        df[\"IsAlone\"] = (df[\"SibSp\"] + df[\"Parch\"] == 0).astype(\"int8\")\n",
    "        ds = data_schema.copy().add_feature(\"IsAlone\", \"boolean\")\n",
    "        return ds, df\n",
    "\n",
    "    def _fingerprint(self) -> Hashable:\n",
    "        return super()._fingerprint()\n",
    "\n",
    "\n",
    "class FeatureDropperTransformer(BaseTransformer):\n",
    "    @auto_repr\n",
    "    def __init__(\n",
    "        self,\n",
    "        features: list[str] | tuple[str, ...],\n",
    "        cache_directory: str | Path = \"data/feature-dropper-transformer\",\n",
    "        cache_size: int = 1,\n",
    "    ) -> None:\n",
    "        super().__init__(features, cache_directory, cache_size)\n",
    "        self._transformer = -1\n",
    "\n",
    "    def _fit(self, data_schema: DataSchema, _dataframe: vaex.DataFrame) -> tuple[DataSchema, int]:\n",
    "        \"\"\"No fitting required for this transformer.\"\"\"\n",
    "        ds = data_schema.copy().drop_features(self._features)\n",
    "        return ds, self._transformer\n",
    "\n",
    "    def _transform(self, data_schema: DataSchema, dataframe: vaex.DataFrame) -> tuple[DataSchema, vaex.DataFrame]:\n",
    "        \"\"\"Drop the specified features from the dataset.\"\"\"\n",
    "        df = dataframe.drop(self._features, inplace=False)\n",
    "        ds = data_schema.copy().drop_features(self._features)\n",
    "        return ds, df\n",
    "\n",
    "    def _fingerprint(self) -> Hashable:\n",
    "        return super()._fingerprint()"
   ]
  },
  {
   "cell_type": "markdown",
   "metadata": {},
   "source": [
    "Transformers can be applied individually or combined into a `CompositeTransformer`. The `CompositeTransformer` allows you to combine multiple transformers into a single transformer, saving you from having to apply each transformer individually, like a small pipeline. The custom transformers can be used in the same way as the predefined ones, e.g. `LabelEncoderTransformer` or `FrequencyEncoderTransformer`.\n",
    "\n",
    "The transformers follows the common `fit` and `transform` pattern, similar to `scikit-learn`. This is true for feature selectors and models as well.\n"
   ]
  },
  {
   "cell_type": "code",
   "execution_count": 61,
   "metadata": {},
   "outputs": [
    {
     "name": "stdout",
     "output_type": "stream",
     "text": [
      "[2024-03-22 14:49:51] [\u001b[1;33mWARNING\u001b[0m] Null values will be kept as `None`. \u001b[1m(label_encoder_transformer.py:119)\u001b[0m\n",
      "[2024-03-22 14:49:51] [\u001b[1;32mINFO\u001b[0m] \u001b[32mCache Hit\u001b[0m (LRUCache) CompositeTransformer.fit_transform: Using cached output. \u001b[1m(cache_mixin.py:163)\u001b[0m\n",
      "[2024-03-22 14:49:51] [\u001b[1;32mINFO\u001b[0m] \u001b[32mCache Hit\u001b[0m (LRUCache) CompositeTransformer.transform: Using cached output. \u001b[1m(cache_mixin.py:163)\u001b[0m\n"
     ]
    }
   ],
   "source": [
    "from mleko.dataset.transform import CompositeTransformer, LabelEncoderTransformer\n",
    "\n",
    "\n",
    "composite_transformer = CompositeTransformer(\n",
    "    transformers=[\n",
    "        FeatureDropperTransformer(features=[\"Name\"]),\n",
    "        IsAloneTransformer(),\n",
    "        LabelEncoderTransformer(features=[\"Sex\", \"Embarked\"]),\n",
    "    ],\n",
    ")\n",
    "\n",
    "transform_schema, _, transform_train_val_df = composite_transformer.fit_transform(clean_schema, clean_train_val_df)\n",
    "_, transform_test_df = composite_transformer.transform(clean_schema, clean_test_df)"
   ]
  },
  {
   "cell_type": "markdown",
   "metadata": {},
   "source": [
    "Ensure the transformed dataset has correct data types.\n"
   ]
  },
  {
   "cell_type": "code",
   "execution_count": 62,
   "metadata": {},
   "outputs": [
    {
     "data": {
      "text/plain": [
       "{'numerical': ['Age', 'Fare', 'Parch', 'Pclass', 'SibSp'],\n",
       " 'categorical': ['Cabin', 'Embarked', 'Sex'],\n",
       " 'boolean': ['IsAlone'],\n",
       " 'datetime': [],\n",
       " 'timedelta': []}"
      ]
     },
     "execution_count": 62,
     "metadata": {},
     "output_type": "execute_result"
    }
   ],
   "source": [
    "transform_schema.features"
   ]
  },
  {
   "cell_type": "code",
   "execution_count": 63,
   "metadata": {},
   "outputs": [
    {
     "data": {
      "text/html": [
       "<table>\n",
       "<thead>\n",
       "<tr><th>#                              </th><th>PassengerId  </th><th>Survived  </th><th>Pclass  </th><th>Sex  </th><th>Age  </th><th>SibSp  </th><th>Parch  </th><th>Fare   </th><th>Cabin  </th><th>Embarked  </th><th>IsAlone  </th></tr>\n",
       "</thead>\n",
       "<tbody>\n",
       "<tr><td><i style='opacity: 0.6'>0</i>  </td><td>1            </td><td>0         </td><td>3       </td><td>1    </td><td>22.0 </td><td>1      </td><td>0      </td><td>7.25   </td><td>--     </td><td>2         </td><td>0        </td></tr>\n",
       "<tr><td><i style='opacity: 0.6'>1</i>  </td><td>2            </td><td>1         </td><td>1       </td><td>0    </td><td>38.0 </td><td>1      </td><td>0      </td><td>71.2833</td><td>C85    </td><td>1         </td><td>0        </td></tr>\n",
       "<tr><td><i style='opacity: 0.6'>2</i>  </td><td>3            </td><td>1         </td><td>3       </td><td>0    </td><td>26.0 </td><td>0      </td><td>0      </td><td>7.925  </td><td>--     </td><td>2         </td><td>1        </td></tr>\n",
       "<tr><td><i style='opacity: 0.6'>3</i>  </td><td>4            </td><td>1         </td><td>1       </td><td>0    </td><td>35.0 </td><td>1      </td><td>0      </td><td>53.1   </td><td>C123   </td><td>2         </td><td>0        </td></tr>\n",
       "<tr><td><i style='opacity: 0.6'>4</i>  </td><td>5            </td><td>0         </td><td>3       </td><td>1    </td><td>35.0 </td><td>0      </td><td>0      </td><td>8.05   </td><td>--     </td><td>2         </td><td>1        </td></tr>\n",
       "<tr><td>...                            </td><td>...          </td><td>...       </td><td>...     </td><td>...  </td><td>...  </td><td>...    </td><td>...    </td><td>...    </td><td>...    </td><td>...       </td><td>...      </td></tr>\n",
       "<tr><td><i style='opacity: 0.6'>796</i></td><td>885          </td><td>0         </td><td>3       </td><td>1    </td><td>25.0 </td><td>0      </td><td>0      </td><td>7.05   </td><td>--     </td><td>2         </td><td>1        </td></tr>\n",
       "<tr><td><i style='opacity: 0.6'>797</i></td><td>886          </td><td>0         </td><td>3       </td><td>0    </td><td>39.0 </td><td>0      </td><td>5      </td><td>29.125 </td><td>--     </td><td>0         </td><td>0        </td></tr>\n",
       "<tr><td><i style='opacity: 0.6'>798</i></td><td>887          </td><td>0         </td><td>2       </td><td>1    </td><td>27.0 </td><td>0      </td><td>0      </td><td>13.0   </td><td>--     </td><td>2         </td><td>1        </td></tr>\n",
       "<tr><td><i style='opacity: 0.6'>799</i></td><td>888          </td><td>1         </td><td>1       </td><td>0    </td><td>19.0 </td><td>0      </td><td>0      </td><td>30.0   </td><td>B42    </td><td>2         </td><td>1        </td></tr>\n",
       "<tr><td><i style='opacity: 0.6'>800</i></td><td>891          </td><td>0         </td><td>3       </td><td>1    </td><td>32.0 </td><td>0      </td><td>0      </td><td>7.75   </td><td>--     </td><td>0         </td><td>1        </td></tr>\n",
       "</tbody>\n",
       "</table>"
      ],
      "text/plain": [
       "#    PassengerId    Survived    Pclass    Sex    Age    SibSp    Parch    Fare     Cabin    Embarked    IsAlone\n",
       "0    1              0           3         1      22.0   1        0        7.25     --       2           0\n",
       "1    2              1           1         0      38.0   1        0        71.2833  C85      1           0\n",
       "2    3              1           3         0      26.0   0        0        7.925    --       2           1\n",
       "3    4              1           1         0      35.0   1        0        53.1     C123     2           0\n",
       "4    5              0           3         1      35.0   0        0        8.05     --       2           1\n",
       "...  ...            ...         ...       ...    ...    ...      ...      ...      ...      ...         ...\n",
       "796  885            0           3         1      25.0   0        0        7.05     --       2           1\n",
       "797  886            0           3         0      39.0   0        5        29.125   --       0           0\n",
       "798  887            0           2         1      27.0   0        0        13.0     --       2           1\n",
       "799  888            1           1         0      19.0   0        0        30.0     B42      2           1\n",
       "800  891            0           3         1      32.0   0        0        7.75     --       0           1"
      ]
     },
     "execution_count": 63,
     "metadata": {},
     "output_type": "execute_result"
    }
   ],
   "source": [
    "transform_train_val_df"
   ]
  },
  {
   "cell_type": "markdown",
   "metadata": {},
   "source": [
    "# Feature Selection\n",
    "\n",
    "Here, we use the `CompositeFeatureSelector` from `mleko` to select the most relevant features for our model. We use three selectors: `MissingRateFeatureSelector` to remove features with too many missing values, `InvarianceFeatureSelector` to remove invariant features, and `PearsonCorrelationFeatureSelector` to remove highly correlated features. We also display a correlation matrix for the selected numerical features.\n",
    "\n",
    "Just like transformers, feature selectors can be applied individually or combined into a `CompositeFeatureSelector`, and allow for custom feature selectors.\n"
   ]
  },
  {
   "cell_type": "code",
   "execution_count": 65,
   "metadata": {},
   "outputs": [
    {
     "name": "stdout",
     "output_type": "stream",
     "text": [
      "[2024-03-22 14:50:04] [\u001b[1;32mINFO\u001b[0m] \u001b[32mCache Hit\u001b[0m (LRUCache) CompositeFeatureSelector.fit_transform: Using cached output. \u001b[1m(cache_mixin.py:163)\u001b[0m\n",
      "[2024-03-22 14:50:04] [\u001b[1;32mINFO\u001b[0m] \u001b[32mCache Hit\u001b[0m (LRUCache) CompositeFeatureSelector.transform: Using cached output. \u001b[1m(cache_mixin.py:163)\u001b[0m\n"
     ]
    }
   ],
   "source": [
    "from mleko.dataset.feature_select import (\n",
    "    CompositeFeatureSelector,\n",
    "    InvarianceFeatureSelector,\n",
    "    MissingRateFeatureSelector,\n",
    "    PearsonCorrelationFeatureSelector,\n",
    ")\n",
    "\n",
    "\n",
    "composite_feature_selector = CompositeFeatureSelector(\n",
    "    feature_selectors=[\n",
    "        MissingRateFeatureSelector(\n",
    "            missing_rate_threshold=0.5,\n",
    "            ignore_features=META_FEATURES,\n",
    "        ),\n",
    "        InvarianceFeatureSelector(\n",
    "            ignore_features=META_FEATURES,\n",
    "        ),\n",
    "        PearsonCorrelationFeatureSelector(\n",
    "            correlation_threshold=0.7,\n",
    "            ignore_features=META_FEATURES,\n",
    "        ),\n",
    "    ],\n",
    ")\n",
    "\n",
    "data_schema, _, feature_select_train_val_df = composite_feature_selector.fit_transform(\n",
    "    transform_schema, transform_train_val_df\n",
    ")\n",
    "_, test_df = composite_feature_selector.transform(transform_schema, transform_test_df)"
   ]
  },
  {
   "cell_type": "markdown",
   "metadata": {},
   "source": [
    "The `Cabin` feature has too many missing values, so we drop it. No other feature was dropped.\n"
   ]
  },
  {
   "cell_type": "code",
   "execution_count": 66,
   "metadata": {},
   "outputs": [
    {
     "data": {
      "text/plain": [
       "{'numerical': ['Age', 'Fare', 'Parch', 'Pclass', 'SibSp'],\n",
       " 'categorical': ['Embarked', 'Sex'],\n",
       " 'boolean': ['IsAlone'],\n",
       " 'datetime': [],\n",
       " 'timedelta': []}"
      ]
     },
     "execution_count": 66,
     "metadata": {},
     "output_type": "execute_result"
    }
   ],
   "source": [
    "data_schema.features"
   ]
  },
  {
   "cell_type": "code",
   "execution_count": 67,
   "metadata": {},
   "outputs": [
    {
     "data": {
      "text/html": [
       "<table>\n",
       "<thead>\n",
       "<tr><th>#                              </th><th>PassengerId  </th><th>Survived  </th><th>Pclass  </th><th>Sex  </th><th>Age  </th><th>SibSp  </th><th>Parch  </th><th>Fare   </th><th>Embarked  </th><th>IsAlone  </th></tr>\n",
       "</thead>\n",
       "<tbody>\n",
       "<tr><td><i style='opacity: 0.6'>0</i>  </td><td>1            </td><td>0         </td><td>3       </td><td>1    </td><td>22.0 </td><td>1      </td><td>0      </td><td>7.25   </td><td>2         </td><td>0        </td></tr>\n",
       "<tr><td><i style='opacity: 0.6'>1</i>  </td><td>2            </td><td>1         </td><td>1       </td><td>0    </td><td>38.0 </td><td>1      </td><td>0      </td><td>71.2833</td><td>1         </td><td>0        </td></tr>\n",
       "<tr><td><i style='opacity: 0.6'>2</i>  </td><td>3            </td><td>1         </td><td>3       </td><td>0    </td><td>26.0 </td><td>0      </td><td>0      </td><td>7.925  </td><td>2         </td><td>1        </td></tr>\n",
       "<tr><td><i style='opacity: 0.6'>3</i>  </td><td>4            </td><td>1         </td><td>1       </td><td>0    </td><td>35.0 </td><td>1      </td><td>0      </td><td>53.1   </td><td>2         </td><td>0        </td></tr>\n",
       "<tr><td><i style='opacity: 0.6'>4</i>  </td><td>5            </td><td>0         </td><td>3       </td><td>1    </td><td>35.0 </td><td>0      </td><td>0      </td><td>8.05   </td><td>2         </td><td>1        </td></tr>\n",
       "<tr><td>...                            </td><td>...          </td><td>...       </td><td>...     </td><td>...  </td><td>...  </td><td>...    </td><td>...    </td><td>...    </td><td>...       </td><td>...      </td></tr>\n",
       "<tr><td><i style='opacity: 0.6'>796</i></td><td>885          </td><td>0         </td><td>3       </td><td>1    </td><td>25.0 </td><td>0      </td><td>0      </td><td>7.05   </td><td>2         </td><td>1        </td></tr>\n",
       "<tr><td><i style='opacity: 0.6'>797</i></td><td>886          </td><td>0         </td><td>3       </td><td>0    </td><td>39.0 </td><td>0      </td><td>5      </td><td>29.125 </td><td>0         </td><td>0        </td></tr>\n",
       "<tr><td><i style='opacity: 0.6'>798</i></td><td>887          </td><td>0         </td><td>2       </td><td>1    </td><td>27.0 </td><td>0      </td><td>0      </td><td>13.0   </td><td>2         </td><td>1        </td></tr>\n",
       "<tr><td><i style='opacity: 0.6'>799</i></td><td>888          </td><td>1         </td><td>1       </td><td>0    </td><td>19.0 </td><td>0      </td><td>0      </td><td>30.0   </td><td>2         </td><td>1        </td></tr>\n",
       "<tr><td><i style='opacity: 0.6'>800</i></td><td>891          </td><td>0         </td><td>3       </td><td>1    </td><td>32.0 </td><td>0      </td><td>0      </td><td>7.75   </td><td>0         </td><td>1        </td></tr>\n",
       "</tbody>\n",
       "</table>"
      ],
      "text/plain": [
       "#    PassengerId    Survived    Pclass    Sex    Age    SibSp    Parch    Fare     Embarked    IsAlone\n",
       "0    1              0           3         1      22.0   1        0        7.25     2           0\n",
       "1    2              1           1         0      38.0   1        0        71.2833  1           0\n",
       "2    3              1           3         0      26.0   0        0        7.925    2           1\n",
       "3    4              1           1         0      35.0   1        0        53.1     2           0\n",
       "4    5              0           3         1      35.0   0        0        8.05     2           1\n",
       "...  ...            ...         ...       ...    ...    ...      ...      ...      ...         ...\n",
       "796  885            0           3         1      25.0   0        0        7.05     2           1\n",
       "797  886            0           3         0      39.0   0        5        29.125   0           0\n",
       "798  887            0           2         1      27.0   0        0        13.0     2           1\n",
       "799  888            1           1         0      19.0   0        0        30.0     2           1\n",
       "800  891            0           3         1      32.0   0        0        7.75     0           1"
      ]
     },
     "execution_count": 67,
     "metadata": {},
     "output_type": "execute_result"
    }
   ],
   "source": [
    "feature_select_train_val_df"
   ]
  },
  {
   "cell_type": "markdown",
   "metadata": {},
   "source": [
    "# Hyperparameter Tuning\n",
    "\n",
    "The `mleko` library provides a `OptunaTuner` class for hyperparameter tuning. Here we use it to tune the hyperparameters of the `LGBMModel` model using 5-fold cross-validation, and measuring the performance using the `average_precision` metric. Each trial is run for 50 iterations, and we run 100 trials in total.\n"
   ]
  },
  {
   "cell_type": "code",
   "execution_count": 101,
   "metadata": {},
   "outputs": [
    {
     "name": "stdout",
     "output_type": "stream",
     "text": [
      "[2024-03-22 15:53:44] [\u001b[1;32mINFO\u001b[0m] \u001b[31mCache Miss\u001b[0m (LRUCache) OptunaTuner.tune: Executing method. \u001b[1m(cache_mixin.py:168)\u001b[0m\n",
      "[2024-03-22 15:53:44] [\u001b[1;32mINFO\u001b[0m] A new study created in memory with name: 2024-03-22 15:53:44 \u001b[1m(_in_memory.py:70)\u001b[0m\n"
     ]
    },
    {
     "data": {
      "application/vnd.jupyter.widget-view+json": {
       "model_id": "fc0e84e75b41444f91202236ea4040c7",
       "version_major": 2,
       "version_minor": 0
      },
      "text/plain": [
       "  0%|          | 0/100 [00:00<?, ?it/s]"
      ]
     },
     "metadata": {},
     "output_type": "display_data"
    },
    {
     "name": "stdout",
     "output_type": "stream",
     "text": [
      "[2024-03-22 15:53:44] [\u001b[1;32mINFO\u001b[0m] Imblearn resampling DataFrame using 'RandomOverSampler'. \u001b[1m(imblearn_sampling_filter.py:120)\u001b[0m\n",
      "[2024-03-22 15:53:44] [\u001b[1;32mINFO\u001b[0m] Ensuring that the resampled DataFrame handles NaN values correctly. \u001b[1m(imblearn_sampling_filter.py:134)\u001b[0m\n",
      "[2024-03-22 15:53:44] [\u001b[1;32mINFO\u001b[0m] Setting the 'Synthetic' column to 1 for the synthetic samples. \u001b[1m(imblearn_sampling_filter.py:143)\u001b[0m\n",
      "[2024-03-22 15:53:44] [\u001b[1;32mINFO\u001b[0m] Generated 114 synthetic samples. \u001b[1m(imblearn_sampling_filter.py:147)\u001b[0m\n",
      "[2024-03-22 15:53:44] [\u001b[1;32mINFO\u001b[0m] Imblearn resampling DataFrame using 'RandomOverSampler'. \u001b[1m(imblearn_sampling_filter.py:120)\u001b[0m\n",
      "[2024-03-22 15:53:44] [\u001b[1;32mINFO\u001b[0m] Ensuring that the resampled DataFrame handles NaN values correctly. \u001b[1m(imblearn_sampling_filter.py:134)\u001b[0m\n",
      "[2024-03-22 15:53:44] [\u001b[1;32mINFO\u001b[0m] Setting the 'Synthetic' column to 1 for the synthetic samples. \u001b[1m(imblearn_sampling_filter.py:143)\u001b[0m\n",
      "[2024-03-22 15:53:44] [\u001b[1;32mINFO\u001b[0m] Generated 114 synthetic samples. \u001b[1m(imblearn_sampling_filter.py:147)\u001b[0m\n",
      "[2024-03-22 15:53:44] [\u001b[1;32mINFO\u001b[0m] Imblearn resampling DataFrame using 'RandomOverSampler'. \u001b[1m(imblearn_sampling_filter.py:120)\u001b[0m\n",
      "[2024-03-22 15:53:44] [\u001b[1;32mINFO\u001b[0m] Ensuring that the resampled DataFrame handles NaN values correctly. \u001b[1m(imblearn_sampling_filter.py:134)\u001b[0m\n",
      "[2024-03-22 15:53:44] [\u001b[1;32mINFO\u001b[0m] Setting the 'Synthetic' column to 1 for the synthetic samples. \u001b[1m(imblearn_sampling_filter.py:143)\u001b[0m\n",
      "[2024-03-22 15:53:44] [\u001b[1;32mINFO\u001b[0m] Generated 146 synthetic samples. \u001b[1m(imblearn_sampling_filter.py:147)\u001b[0m\n",
      "[2024-03-22 15:53:46] [\u001b[1;32mINFO\u001b[0m] Trial 0 finished with value: 0.7949900400124074 and parameters: {'lambda_l1': 2.2815084160446125e-06, 'lambda_l2': 2.6801293171473e-07, 'num_leaves': 286, 'max_depth': 19, 'min_child_samples': 35, 'min_child_weight': 0.00035906945439704457, 'feature_fraction': 0.5571657553390867, 'bagging_fraction': 0.9856511709264602, 'bagging_freq': 6, 'learning_rate': 8.359760076790551e-08}. Best is trial 0 with value: 0.7949900400124074. \u001b[1m(study.py:1110)\u001b[0m\n",
      "[2024-03-22 15:53:48] [\u001b[1;32mINFO\u001b[0m] Trial 1 finished with value: 0.8398248796818868 and parameters: {'lambda_l1': 2.9955434110124015e-05, 'lambda_l2': 0.00453430381257254, 'num_leaves': 129, 'max_depth': 40, 'min_child_samples': 47, 'min_child_weight': 0.0023370877878642416, 'feature_fraction': 0.876471145474952, 'bagging_fraction': 0.6167569434504585, 'bagging_freq': 3, 'learning_rate': 0.0004721337263475389}. Best is trial 1 with value: 0.8398248796818868. \u001b[1m(study.py:1110)\u001b[0m\n",
      "[2024-03-22 15:53:49] [\u001b[1;32mINFO\u001b[0m] Trial 2 finished with value: 0.8481328768521476 and parameters: {'lambda_l1': 0.06942980799760408, 'lambda_l2': 4.9008978306196e-07, 'num_leaves': 296, 'max_depth': 27, 'min_child_samples': 52, 'min_child_weight': 3.433254765041732e-05, 'feature_fraction': 0.6478847808547954, 'bagging_fraction': 0.519517141123059, 'bagging_freq': 4, 'learning_rate': 0.045600082095756195}. Best is trial 2 with value: 0.8481328768521476. \u001b[1m(study.py:1110)\u001b[0m\n",
      "[2024-03-22 15:53:49] [\u001b[1;32mINFO\u001b[0m] Trial 3 finished with value: 0.8421253407634206 and parameters: {'lambda_l1': 4.6479185153707793e-07, 'lambda_l2': 4.132691748013283, 'num_leaves': 437, 'max_depth': 21, 'min_child_samples': 54, 'min_child_weight': 1.1152554562097152e-05, 'feature_fraction': 0.8390140412005745, 'bagging_fraction': 0.9959830239344976, 'bagging_freq': 2, 'learning_rate': 1.0305717597410566e-07}. Best is trial 2 with value: 0.8481328768521476. \u001b[1m(study.py:1110)\u001b[0m\n",
      "[2024-03-22 15:53:50] [\u001b[1;32mINFO\u001b[0m] Trial 4 finished with value: 0.8338126664651974 and parameters: {'lambda_l1': 2.3632390877711505e-05, 'lambda_l2': 0.01733704186103959, 'num_leaves': 4, 'max_depth': 15, 'min_child_samples': 10, 'min_child_weight': 0.0023335024170885715, 'feature_fraction': 0.6098615276199891, 'bagging_fraction': 0.8215142318282549, 'bagging_freq': 4, 'learning_rate': 0.606706487611206}. Best is trial 2 with value: 0.8481328768521476. \u001b[1m(study.py:1110)\u001b[0m\n",
      "[2024-03-22 15:53:51] [\u001b[1;32mINFO\u001b[0m] Trial 5 finished with value: 0.8021964192912702 and parameters: {'lambda_l1': 0.3339726635915181, 'lambda_l2': 0.0031055318634219333, 'num_leaves': 579, 'max_depth': 40, 'min_child_samples': 29, 'min_child_weight': 1.1044182412019508e-05, 'feature_fraction': 0.45342704032149633, 'bagging_fraction': 0.9633895603275724, 'bagging_freq': 7, 'learning_rate': 8.547758403894871e-05}. Best is trial 2 with value: 0.8481328768521476. \u001b[1m(study.py:1110)\u001b[0m\n",
      "[2024-03-22 15:53:52] [\u001b[1;32mINFO\u001b[0m] Trial 6 finished with value: 0.836947941650755 and parameters: {'lambda_l1': 1.1706410385498053e-05, 'lambda_l2': 0.03204192218701294, 'num_leaves': 13, 'max_depth': 31, 'min_child_samples': 69, 'min_child_weight': 3.726804207161423e-05, 'feature_fraction': 0.7998787915418902, 'bagging_fraction': 0.9466734409361881, 'bagging_freq': 2, 'learning_rate': 0.19258680620441}. Best is trial 2 with value: 0.8481328768521476. \u001b[1m(study.py:1110)\u001b[0m\n",
      "[2024-03-22 15:53:52] [\u001b[1;32mINFO\u001b[0m] Trial 7 finished with value: 0.8374081991745465 and parameters: {'lambda_l1': 8.302734146614306e-06, 'lambda_l2': 0.020076397250057283, 'num_leaves': 273, 'max_depth': 21, 'min_child_samples': 22, 'min_child_weight': 0.000253243272487904, 'feature_fraction': 0.6693787113069765, 'bagging_fraction': 0.6376387695305965, 'bagging_freq': 6, 'learning_rate': 8.854946839379049e-05}. Best is trial 2 with value: 0.8481328768521476. \u001b[1m(study.py:1110)\u001b[0m\n",
      "[2024-03-22 15:53:53] [\u001b[1;32mINFO\u001b[0m] Trial 8 finished with value: 0.8259216200744888 and parameters: {'lambda_l1': 0.0327741231969473, 'lambda_l2': 0.13715362597057945, 'num_leaves': 361, 'max_depth': 37, 'min_child_samples': 73, 'min_child_weight': 0.0049174832904972775, 'feature_fraction': 0.6521249973910543, 'bagging_fraction': 0.6805096596314458, 'bagging_freq': 7, 'learning_rate': 0.001170546976513372}. Best is trial 2 with value: 0.8481328768521476. \u001b[1m(study.py:1110)\u001b[0m\n",
      "[2024-03-22 15:53:54] [\u001b[1;32mINFO\u001b[0m] Trial 9 finished with value: 0.8403832021668974 and parameters: {'lambda_l1': 0.0006244032755103734, 'lambda_l2': 1.3727671742580814e-06, 'num_leaves': 970, 'max_depth': 23, 'min_child_samples': 77, 'min_child_weight': 5.110314483652939e-05, 'feature_fraction': 0.6578552382200007, 'bagging_fraction': 0.6364681601117159, 'bagging_freq': 4, 'learning_rate': 1.0074510844868435e-07}. Best is trial 2 with value: 0.8481328768521476. \u001b[1m(study.py:1110)\u001b[0m\n",
      "[2024-03-22 15:53:55] [\u001b[1;32mINFO\u001b[0m] Trial 10 finished with value: 0.8251599800255784 and parameters: {'lambda_l1': 0.014219291240905794, 'lambda_l2': 1.775037106916418e-08, 'num_leaves': 241, 'max_depth': 30, 'min_child_samples': 94, 'min_child_weight': 0.0006931252438828543, 'feature_fraction': 0.6444869385721985, 'bagging_fraction': 0.912349772510822, 'bagging_freq': 7, 'learning_rate': 2.3065434037256072e-06}. Best is trial 2 with value: 0.8481328768521476. \u001b[1m(study.py:1110)\u001b[0m\n",
      "[2024-03-22 15:53:56] [\u001b[1;32mINFO\u001b[0m] Trial 11 finished with value: 0.7963511478441372 and parameters: {'lambda_l1': 3.2471891804631235e-05, 'lambda_l2': 0.019525901906383817, 'num_leaves': 367, 'max_depth': 2, 'min_child_samples': 38, 'min_child_weight': 0.0002846272939663573, 'feature_fraction': 0.4289410591368855, 'bagging_fraction': 0.9490152427703864, 'bagging_freq': 6, 'learning_rate': 0.015124871055992868}. Best is trial 2 with value: 0.8481328768521476. \u001b[1m(study.py:1110)\u001b[0m\n",
      "[2024-03-22 15:53:56] [\u001b[1;32mINFO\u001b[0m] Trial 12 finished with value: 0.8487775942845877 and parameters: {'lambda_l1': 7.379889710278506e-08, 'lambda_l2': 2.163061367122288e-08, 'num_leaves': 267, 'max_depth': 6, 'min_child_samples': 27, 'min_child_weight': 0.0011130663393267783, 'feature_fraction': 0.6887311786307252, 'bagging_fraction': 0.9619050344282047, 'bagging_freq': 5, 'learning_rate': 3.082190829733088e-07}. Best is trial 12 with value: 0.8487775942845877. \u001b[1m(study.py:1110)\u001b[0m\n",
      "[2024-03-22 15:53:57] [\u001b[1;32mINFO\u001b[0m] Trial 13 finished with value: 0.8427889537526196 and parameters: {'lambda_l1': 4.812312752926766e-07, 'lambda_l2': 1.11424989934423e-05, 'num_leaves': 444, 'max_depth': 4, 'min_child_samples': 66, 'min_child_weight': 1.4970235618677966e-05, 'feature_fraction': 0.8342079014187922, 'bagging_fraction': 0.7960611939194244, 'bagging_freq': 1, 'learning_rate': 0.01274826370639762}. Best is trial 12 with value: 0.8487775942845877. \u001b[1m(study.py:1110)\u001b[0m\n",
      "[2024-03-22 15:53:58] [\u001b[1;32mINFO\u001b[0m] Trial 14 finished with value: 0.8429392626734786 and parameters: {'lambda_l1': 1.1160604960800018e-05, 'lambda_l2': 0.09680882273377153, 'num_leaves': 345, 'max_depth': 24, 'min_child_samples': 21, 'min_child_weight': 0.003456631063472056, 'feature_fraction': 0.5625418064002592, 'bagging_fraction': 0.8467835342297274, 'bagging_freq': 4, 'learning_rate': 0.158746126869997}. Best is trial 12 with value: 0.8487775942845877. \u001b[1m(study.py:1110)\u001b[0m\n",
      "[2024-03-22 15:54:00] [\u001b[1;32mINFO\u001b[0m] Trial 15 finished with value: 0.8409920637472456 and parameters: {'lambda_l1': 0.0008607930411040855, 'lambda_l2': 1.683729084809685e-08, 'num_leaves': 84, 'max_depth': 39, 'min_child_samples': 48, 'min_child_weight': 2.7672069362392026e-05, 'feature_fraction': 0.8049766035237493, 'bagging_fraction': 0.7742000016889838, 'bagging_freq': 4, 'learning_rate': 0.17619877819879542}. Best is trial 12 with value: 0.8487775942845877. \u001b[1m(study.py:1110)\u001b[0m\n",
      "[2024-03-22 15:54:00] [\u001b[1;32mINFO\u001b[0m] Trial 16 finished with value: 0.7956237710413412 and parameters: {'lambda_l1': 1.2158228418524246, 'lambda_l2': 2.2994399669475625e-06, 'num_leaves': 737, 'max_depth': 20, 'min_child_samples': 31, 'min_child_weight': 1.495678538048214e-05, 'feature_fraction': 0.5230350934938415, 'bagging_fraction': 0.7840234475210839, 'bagging_freq': 3, 'learning_rate': 3.469816009723401e-05}. Best is trial 12 with value: 0.8487775942845877. \u001b[1m(study.py:1110)\u001b[0m\n",
      "[2024-03-22 15:54:01] [\u001b[1;32mINFO\u001b[0m] Trial 17 finished with value: 0.8323240804185844 and parameters: {'lambda_l1': 1.2987066339452e-05, 'lambda_l2': 0.00031450963445684436, 'num_leaves': 672, 'max_depth': 38, 'min_child_samples': 8, 'min_child_weight': 0.00046667769867157576, 'feature_fraction': 0.7844801037880264, 'bagging_fraction': 0.4950646010204775, 'bagging_freq': 6, 'learning_rate': 1.0669910748496527e-05}. Best is trial 12 with value: 0.8487775942845877. \u001b[1m(study.py:1110)\u001b[0m\n",
      "[2024-03-22 15:54:02] [\u001b[1;32mINFO\u001b[0m] Trial 18 finished with value: 0.7818531983937852 and parameters: {'lambda_l1': 0.00040177133557564045, 'lambda_l2': 0.0016001826801343984, 'num_leaves': 866, 'max_depth': 29, 'min_child_samples': 65, 'min_child_weight': 1.4257033478896622e-05, 'feature_fraction': 0.4275459733826131, 'bagging_fraction': 0.7174090263599295, 'bagging_freq': 6, 'learning_rate': 0.004213305260924142}. Best is trial 12 with value: 0.8487775942845877. \u001b[1m(study.py:1110)\u001b[0m\n",
      "[2024-03-22 15:54:03] [\u001b[1;32mINFO\u001b[0m] Trial 19 finished with value: 0.8259952832805482 and parameters: {'lambda_l1': 5.882606851353608e-07, 'lambda_l2': 2.790613921721874e-06, 'num_leaves': 222, 'max_depth': 17, 'min_child_samples': 67, 'min_child_weight': 6.470824310539086e-05, 'feature_fraction': 0.5682667730446664, 'bagging_fraction': 0.8690619416186163, 'bagging_freq': 6, 'learning_rate': 0.00023960152444740953}. Best is trial 12 with value: 0.8487775942845877. \u001b[1m(study.py:1110)\u001b[0m\n",
      "[2024-03-22 15:54:05] [\u001b[1;32mINFO\u001b[0m] Trial 20 finished with value: 0.8272635365869626 and parameters: {'lambda_l1': 0.032887350069415434, 'lambda_l2': 7.91607420527857e-05, 'num_leaves': 841, 'max_depth': 33, 'min_child_samples': 6, 'min_child_weight': 0.0015816872704480032, 'feature_fraction': 0.830345814706192, 'bagging_fraction': 0.8315544249159528, 'bagging_freq': 6, 'learning_rate': 0.31443629375539445}. Best is trial 12 with value: 0.8487775942845877. \u001b[1m(study.py:1110)\u001b[0m\n",
      "[2024-03-22 15:54:05] [\u001b[1;32mINFO\u001b[0m] Trial 21 finished with value: 0.7689939812094665 and parameters: {'lambda_l1': 0.008384304646487815, 'lambda_l2': 4.8694614944782e-07, 'num_leaves': 706, 'max_depth': 40, 'min_child_samples': 92, 'min_child_weight': 0.003937731292103012, 'feature_fraction': 0.42802184981169333, 'bagging_fraction': 0.40470339372831354, 'bagging_freq': 6, 'learning_rate': 0.0073844709697817755}. Best is trial 12 with value: 0.8487775942845877. \u001b[1m(study.py:1110)\u001b[0m\n",
      "[2024-03-22 15:54:07] [\u001b[1;32mINFO\u001b[0m] Trial 22 finished with value: 0.8012084378508035 and parameters: {'lambda_l1': 0.02373184366284372, 'lambda_l2': 2.592646464467653e-07, 'num_leaves': 123, 'max_depth': 7, 'min_child_samples': 84, 'min_child_weight': 0.00016261252777500775, 'feature_fraction': 0.5074784272930466, 'bagging_fraction': 0.7788737587345247, 'bagging_freq': 1, 'learning_rate': 5.660114348637995e-08}. Best is trial 12 with value: 0.8487775942845877. \u001b[1m(study.py:1110)\u001b[0m\n",
      "[2024-03-22 15:54:08] [\u001b[1;32mINFO\u001b[0m] Trial 23 finished with value: 0.7802538349916316 and parameters: {'lambda_l1': 1.0120245778400209e-07, 'lambda_l2': 0.016035239937138086, 'num_leaves': 633, 'max_depth': 23, 'min_child_samples': 84, 'min_child_weight': 0.0017152739245662252, 'feature_fraction': 0.5359907225095879, 'bagging_fraction': 0.4527331961835865, 'bagging_freq': 4, 'learning_rate': 3.2324691021598422e-06}. Best is trial 12 with value: 0.8487775942845877. \u001b[1m(study.py:1110)\u001b[0m\n",
      "[2024-03-22 15:54:09] [\u001b[1;32mINFO\u001b[0m] Trial 24 finished with value: 0.8155023221481192 and parameters: {'lambda_l1': 2.580839700725379e-06, 'lambda_l2': 0.0003845716749962282, 'num_leaves': 719, 'max_depth': 37, 'min_child_samples': 48, 'min_child_weight': 0.0003977642507080759, 'feature_fraction': 0.8852891150062723, 'bagging_fraction': 0.6335351019978295, 'bagging_freq': 6, 'learning_rate': 0.7573273338774652}. Best is trial 12 with value: 0.8487775942845877. \u001b[1m(study.py:1110)\u001b[0m\n",
      "[2024-03-22 15:54:11] [\u001b[1;32mINFO\u001b[0m] Trial 25 finished with value: 0.8344923009655647 and parameters: {'lambda_l1': 7.882809219901821e-07, 'lambda_l2': 0.0016059601666242936, 'num_leaves': 739, 'max_depth': 6, 'min_child_samples': 83, 'min_child_weight': 0.0016268482035191512, 'feature_fraction': 0.8466389535671607, 'bagging_fraction': 0.9061239614022312, 'bagging_freq': 6, 'learning_rate': 0.00849008118118015}. Best is trial 12 with value: 0.8487775942845877. \u001b[1m(study.py:1110)\u001b[0m\n",
      "[2024-03-22 15:54:12] [\u001b[1;32mINFO\u001b[0m] Trial 26 finished with value: 0.7933865686282732 and parameters: {'lambda_l1': 0.0059861716387636255, 'lambda_l2': 0.005721577886892759, 'num_leaves': 848, 'max_depth': 34, 'min_child_samples': 26, 'min_child_weight': 0.0009694529896109772, 'feature_fraction': 0.5075319572724736, 'bagging_fraction': 0.8929281692496379, 'bagging_freq': 1, 'learning_rate': 1.8791904537100524e-08}. Best is trial 12 with value: 0.8487775942845877. \u001b[1m(study.py:1110)\u001b[0m\n",
      "[2024-03-22 15:54:13] [\u001b[1;32mINFO\u001b[0m] Trial 27 finished with value: 0.8331218014061142 and parameters: {'lambda_l1': 1.495777943725297e-08, 'lambda_l2': 0.006459873395288368, 'num_leaves': 545, 'max_depth': 2, 'min_child_samples': 7, 'min_child_weight': 0.0017500340521453253, 'feature_fraction': 0.8492176918612725, 'bagging_fraction': 0.5388527317740308, 'bagging_freq': 6, 'learning_rate': 0.0567418159717071}. Best is trial 12 with value: 0.8487775942845877. \u001b[1m(study.py:1110)\u001b[0m\n",
      "[2024-03-22 15:54:13] [\u001b[1;32mINFO\u001b[0m] Trial 28 finished with value: 0.8470445204201555 and parameters: {'lambda_l1': 0.2980289700051922, 'lambda_l2': 0.000990663689088849, 'num_leaves': 709, 'max_depth': 31, 'min_child_samples': 75, 'min_child_weight': 0.0001664208641419446, 'feature_fraction': 0.8028005669165015, 'bagging_fraction': 0.8181561377007793, 'bagging_freq': 6, 'learning_rate': 6.232041706035903e-06}. Best is trial 12 with value: 0.8487775942845877. \u001b[1m(study.py:1110)\u001b[0m\n",
      "[2024-03-22 15:54:14] [\u001b[1;32mINFO\u001b[0m] Trial 29 finished with value: 0.7782002764846174 and parameters: {'lambda_l1': 0.0005170586329007753, 'lambda_l2': 5.32320890746243e-07, 'num_leaves': 260, 'max_depth': 22, 'min_child_samples': 33, 'min_child_weight': 0.0008611327216999017, 'feature_fraction': 0.4293411883780633, 'bagging_fraction': 0.4656268061756504, 'bagging_freq': 6, 'learning_rate': 3.4899691635209566e-05}. Best is trial 12 with value: 0.8487775942845877. \u001b[1m(study.py:1110)\u001b[0m\n",
      "[2024-03-22 15:54:15] [\u001b[1;32mINFO\u001b[0m] Trial 30 finished with value: 0.7909662802271479 and parameters: {'lambda_l1': 5.337484190510306, 'lambda_l2': 1.2671155876163237e-07, 'num_leaves': 368, 'max_depth': 37, 'min_child_samples': 85, 'min_child_weight': 0.008599895925790812, 'feature_fraction': 0.5173243791216899, 'bagging_fraction': 0.6156146925677751, 'bagging_freq': 5, 'learning_rate': 1.6465091042103964e-06}. Best is trial 12 with value: 0.8487775942845877. \u001b[1m(study.py:1110)\u001b[0m\n",
      "[2024-03-22 15:54:16] [\u001b[1;32mINFO\u001b[0m] Trial 31 finished with value: 0.8428950876682509 and parameters: {'lambda_l1': 2.6421078968827795e-08, 'lambda_l2': 0.001714187272847238, 'num_leaves': 193, 'max_depth': 32, 'min_child_samples': 41, 'min_child_weight': 9.53646001453521e-05, 'feature_fraction': 0.7907820097835351, 'bagging_fraction': 0.7748684898598741, 'bagging_freq': 3, 'learning_rate': 0.009625176481663566}. Best is trial 12 with value: 0.8487775942845877. \u001b[1m(study.py:1110)\u001b[0m\n",
      "[2024-03-22 15:54:17] [\u001b[1;32mINFO\u001b[0m] Trial 32 finished with value: 0.8103886820741134 and parameters: {'lambda_l1': 4.2531833327455716e-05, 'lambda_l2': 0.07668089929248083, 'num_leaves': 47, 'max_depth': 37, 'min_child_samples': 67, 'min_child_weight': 0.00022797928570307408, 'feature_fraction': 0.41322705012572053, 'bagging_fraction': 0.5252918180284777, 'bagging_freq': 5, 'learning_rate': 0.26573481883002115}. Best is trial 12 with value: 0.8487775942845877. \u001b[1m(study.py:1110)\u001b[0m\n",
      "[2024-03-22 15:54:19] [\u001b[1;32mINFO\u001b[0m] Trial 33 finished with value: 0.7805777445096626 and parameters: {'lambda_l1': 0.0027430939373706527, 'lambda_l2': 0.0011297718032527168, 'num_leaves': 425, 'max_depth': 34, 'min_child_samples': 60, 'min_child_weight': 0.001713389237264749, 'feature_fraction': 0.5474553952731605, 'bagging_fraction': 0.4686454772603457, 'bagging_freq': 7, 'learning_rate': 1.822523881013731e-08}. Best is trial 12 with value: 0.8487775942845877. \u001b[1m(study.py:1110)\u001b[0m\n",
      "[2024-03-22 15:54:20] [\u001b[1;32mINFO\u001b[0m] Trial 34 finished with value: 0.844239233775851 and parameters: {'lambda_l1': 9.847981317457816e-07, 'lambda_l2': 5.464414169215208e-05, 'num_leaves': 246, 'max_depth': 11, 'min_child_samples': 58, 'min_child_weight': 0.0006758559978256866, 'feature_fraction': 0.7640525091769825, 'bagging_fraction': 0.8568743104829155, 'bagging_freq': 2, 'learning_rate': 0.14079119182431077}. Best is trial 12 with value: 0.8487775942845877. \u001b[1m(study.py:1110)\u001b[0m\n",
      "[2024-03-22 15:54:21] [\u001b[1;32mINFO\u001b[0m] Trial 35 finished with value: 0.840205610926649 and parameters: {'lambda_l1': 0.008777173269054177, 'lambda_l2': 2.5536939797774682e-08, 'num_leaves': 612, 'max_depth': 16, 'min_child_samples': 38, 'min_child_weight': 3.947142374307331e-05, 'feature_fraction': 0.8292515152750609, 'bagging_fraction': 0.9863784160559452, 'bagging_freq': 2, 'learning_rate': 0.00175369079679815}. Best is trial 12 with value: 0.8487775942845877. \u001b[1m(study.py:1110)\u001b[0m\n",
      "[2024-03-22 15:54:22] [\u001b[1;32mINFO\u001b[0m] Trial 36 finished with value: 0.8305050485436772 and parameters: {'lambda_l1': 8.612633119732791e-05, 'lambda_l2': 7.911761029093637e-05, 'num_leaves': 110, 'max_depth': 11, 'min_child_samples': 88, 'min_child_weight': 2.226500069928969e-05, 'feature_fraction': 0.5899350932587655, 'bagging_fraction': 0.8289284207978107, 'bagging_freq': 3, 'learning_rate': 1.457584648030427e-06}. Best is trial 12 with value: 0.8487775942845877. \u001b[1m(study.py:1110)\u001b[0m\n",
      "[2024-03-22 15:54:23] [\u001b[1;32mINFO\u001b[0m] Trial 37 finished with value: 0.8359196705882856 and parameters: {'lambda_l1': 3.327607032907208, 'lambda_l2': 1.5491205500910306, 'num_leaves': 626, 'max_depth': 40, 'min_child_samples': 99, 'min_child_weight': 0.004303942788499522, 'feature_fraction': 0.7008855037701327, 'bagging_fraction': 0.8869915984876893, 'bagging_freq': 6, 'learning_rate': 2.6344283920202483e-07}. Best is trial 12 with value: 0.8487775942845877. \u001b[1m(study.py:1110)\u001b[0m\n",
      "[2024-03-22 15:54:25] [\u001b[1;32mINFO\u001b[0m] Trial 38 finished with value: 0.8308582642383889 and parameters: {'lambda_l1': 0.002928947476133438, 'lambda_l2': 7.601578527683264e-08, 'num_leaves': 236, 'max_depth': 6, 'min_child_samples': 34, 'min_child_weight': 0.0002292426297994107, 'feature_fraction': 0.5778288231921446, 'bagging_fraction': 0.7357051315497629, 'bagging_freq': 7, 'learning_rate': 4.5354336902407206e-07}. Best is trial 12 with value: 0.8487775942845877. \u001b[1m(study.py:1110)\u001b[0m\n",
      "[2024-03-22 15:54:26] [\u001b[1;32mINFO\u001b[0m] Trial 39 finished with value: 0.8005047871457152 and parameters: {'lambda_l1': 3.2991858094502595e-08, 'lambda_l2': 1.4877066833457173, 'num_leaves': 349, 'max_depth': 34, 'min_child_samples': 94, 'min_child_weight': 0.0026823959754688144, 'feature_fraction': 0.4376537161874815, 'bagging_fraction': 0.6417090379874021, 'bagging_freq': 2, 'learning_rate': 0.0014215280524335684}. Best is trial 12 with value: 0.8487775942845877. \u001b[1m(study.py:1110)\u001b[0m\n",
      "[2024-03-22 15:54:27] [\u001b[1;32mINFO\u001b[0m] Trial 40 finished with value: 0.8369629533061996 and parameters: {'lambda_l1': 0.001429053578018932, 'lambda_l2': 2.138770038439659, 'num_leaves': 404, 'max_depth': 34, 'min_child_samples': 70, 'min_child_weight': 0.0001002640676338136, 'feature_fraction': 0.5704371061257194, 'bagging_fraction': 0.8231242606050408, 'bagging_freq': 4, 'learning_rate': 0.5895853978634159}. Best is trial 12 with value: 0.8487775942845877. \u001b[1m(study.py:1110)\u001b[0m\n",
      "[2024-03-22 15:54:29] [\u001b[1;32mINFO\u001b[0m] Trial 41 finished with value: 0.7976876910528404 and parameters: {'lambda_l1': 9.497785662001698e-07, 'lambda_l2': 1.3296634552537281e-06, 'num_leaves': 711, 'max_depth': 27, 'min_child_samples': 93, 'min_child_weight': 0.00583347057141996, 'feature_fraction': 0.5518914721078663, 'bagging_fraction': 0.7224815635686572, 'bagging_freq': 3, 'learning_rate': 5.4026479604226996e-08}. Best is trial 12 with value: 0.8487775942845877. \u001b[1m(study.py:1110)\u001b[0m\n",
      "[2024-03-22 15:54:30] [\u001b[1;32mINFO\u001b[0m] Trial 42 finished with value: 0.8387588919633816 and parameters: {'lambda_l1': 2.869669225996954e-06, 'lambda_l2': 5.9357787237464273e-08, 'num_leaves': 1000, 'max_depth': 36, 'min_child_samples': 85, 'min_child_weight': 0.008674602868370606, 'feature_fraction': 0.7584571379032818, 'bagging_fraction': 0.8079037608832762, 'bagging_freq': 2, 'learning_rate': 0.2560547090971317}. Best is trial 12 with value: 0.8487775942845877. \u001b[1m(study.py:1110)\u001b[0m\n",
      "[2024-03-22 15:54:31] [\u001b[1;32mINFO\u001b[0m] Trial 43 finished with value: 0.8484009297649817 and parameters: {'lambda_l1': 2.2217573041669217e-08, 'lambda_l2': 0.00488862995304957, 'num_leaves': 42, 'max_depth': 39, 'min_child_samples': 89, 'min_child_weight': 0.00032449573150198144, 'feature_fraction': 0.7536244874158898, 'bagging_fraction': 0.5684952799695504, 'bagging_freq': 2, 'learning_rate': 0.04311265769579571}. Best is trial 12 with value: 0.8487775942845877. \u001b[1m(study.py:1110)\u001b[0m\n",
      "[2024-03-22 15:54:33] [\u001b[1;32mINFO\u001b[0m] Trial 44 finished with value: 0.8044974506424978 and parameters: {'lambda_l1': 1.520752009237568e-07, 'lambda_l2': 1.5485266902834589e-07, 'num_leaves': 354, 'max_depth': 40, 'min_child_samples': 51, 'min_child_weight': 8.3666551506853e-05, 'feature_fraction': 0.55004841556185, 'bagging_fraction': 0.8689090796475814, 'bagging_freq': 2, 'learning_rate': 3.218035935745705e-05}. Best is trial 12 with value: 0.8487775942845877. \u001b[1m(study.py:1110)\u001b[0m\n",
      "[2024-03-22 15:54:34] [\u001b[1;32mINFO\u001b[0m] Trial 45 finished with value: 0.8454015359556807 and parameters: {'lambda_l1': 0.649622564042618, 'lambda_l2': 1.3341033144769712e-08, 'num_leaves': 776, 'max_depth': 40, 'min_child_samples': 27, 'min_child_weight': 0.0016672226998787037, 'feature_fraction': 0.8801775995851249, 'bagging_fraction': 0.922732124035877, 'bagging_freq': 5, 'learning_rate': 5.86354267732175e-07}. Best is trial 12 with value: 0.8487775942845877. \u001b[1m(study.py:1110)\u001b[0m\n",
      "[2024-03-22 15:54:36] [\u001b[1;32mINFO\u001b[0m] Trial 46 finished with value: 0.8010491225341143 and parameters: {'lambda_l1': 5.39772487449475e-08, 'lambda_l2': 0.0010771323416351192, 'num_leaves': 574, 'max_depth': 16, 'min_child_samples': 57, 'min_child_weight': 3.1557011906469994e-05, 'feature_fraction': 0.504030853050343, 'bagging_fraction': 0.8288700499174388, 'bagging_freq': 7, 'learning_rate': 0.02557646359888094}. Best is trial 12 with value: 0.8487775942845877. \u001b[1m(study.py:1110)\u001b[0m\n",
      "[2024-03-22 15:54:37] [\u001b[1;32mINFO\u001b[0m] Trial 47 finished with value: 0.7993748612386912 and parameters: {'lambda_l1': 3.125726744173933e-07, 'lambda_l2': 0.09232604059671992, 'num_leaves': 299, 'max_depth': 38, 'min_child_samples': 50, 'min_child_weight': 0.00015633838149304726, 'feature_fraction': 0.4597296601820688, 'bagging_fraction': 0.7030248291818879, 'bagging_freq': 1, 'learning_rate': 0.0030057325073642987}. Best is trial 12 with value: 0.8487775942845877. \u001b[1m(study.py:1110)\u001b[0m\n",
      "[2024-03-22 15:54:38] [\u001b[1;32mINFO\u001b[0m] Trial 48 finished with value: 0.7954284293473436 and parameters: {'lambda_l1': 1.7350382823619125e-07, 'lambda_l2': 0.00017005236739599624, 'num_leaves': 255, 'max_depth': 40, 'min_child_samples': 31, 'min_child_weight': 0.0005695066864267639, 'feature_fraction': 0.4086426368016358, 'bagging_fraction': 0.7666599091122624, 'bagging_freq': 4, 'learning_rate': 7.284431498949469e-05}. Best is trial 12 with value: 0.8487775942845877. \u001b[1m(study.py:1110)\u001b[0m\n",
      "[2024-03-22 15:54:40] [\u001b[1;32mINFO\u001b[0m] Trial 49 finished with value: 0.8484786956293775 and parameters: {'lambda_l1': 4.222743154454811e-05, 'lambda_l2': 1.0043603988528547, 'num_leaves': 189, 'max_depth': 28, 'min_child_samples': 79, 'min_child_weight': 0.001596242748019136, 'feature_fraction': 0.7641713883125347, 'bagging_fraction': 0.8202428134625883, 'bagging_freq': 2, 'learning_rate': 4.7977037475747253e-08}. Best is trial 12 with value: 0.8487775942845877. \u001b[1m(study.py:1110)\u001b[0m\n",
      "[2024-03-22 15:54:41] [\u001b[1;32mINFO\u001b[0m] Trial 50 finished with value: 0.8238841182916448 and parameters: {'lambda_l1': 0.0327741231969473, 'lambda_l2': 7.911761029093637e-05, 'num_leaves': 361, 'max_depth': 37, 'min_child_samples': 73, 'min_child_weight': 2.226500069928969e-05, 'feature_fraction': 0.5899350932587655, 'bagging_fraction': 0.6805096596314458, 'bagging_freq': 7, 'learning_rate': 1.457584648030427e-06}. Best is trial 12 with value: 0.8487775942845877. \u001b[1m(study.py:1110)\u001b[0m\n",
      "[2024-03-22 15:54:42] [\u001b[1;32mINFO\u001b[0m] Trial 51 finished with value: 0.8458259484591314 and parameters: {'lambda_l1': 9.847981317457816e-07, 'lambda_l2': 0.07668089929248083, 'num_leaves': 47, 'max_depth': 37, 'min_child_samples': 58, 'min_child_weight': 0.0004044875458239928, 'feature_fraction': 0.7640525091769825, 'bagging_fraction': 0.5252918180284777, 'bagging_freq': 5, 'learning_rate': 0.14079119182431077}. Best is trial 12 with value: 0.8487775942845877. \u001b[1m(study.py:1110)\u001b[0m\n",
      "[2024-03-22 15:54:43] [\u001b[1;32mINFO\u001b[0m] Trial 52 finished with value: 0.8268122541816844 and parameters: {'lambda_l1': 2.3632390877711505e-05, 'lambda_l2': 0.01733704186103959, 'num_leaves': 4, 'max_depth': 4, 'min_child_samples': 10, 'min_child_weight': 1.4970235618677966e-05, 'feature_fraction': 0.8342079014187922, 'bagging_fraction': 0.8215142318282549, 'bagging_freq': 4, 'learning_rate': 0.606706487611206}. Best is trial 12 with value: 0.8487775942845877. \u001b[1m(study.py:1110)\u001b[0m\n",
      "[2024-03-22 15:54:44] [\u001b[1;32mINFO\u001b[0m] Trial 53 finished with value: 0.8399742594320954 and parameters: {'lambda_l1': 7.379889710278506e-08, 'lambda_l2': 2.163061367122288e-08, 'num_leaves': 267, 'max_depth': 6, 'min_child_samples': 41, 'min_child_weight': 9.53646001453521e-05, 'feature_fraction': 0.6887311786307252, 'bagging_fraction': 0.7748684898598741, 'bagging_freq': 5, 'learning_rate': 0.009625176481663566}. Best is trial 12 with value: 0.8487775942845877. \u001b[1m(study.py:1110)\u001b[0m\n",
      "[2024-03-22 15:54:46] [\u001b[1;32mINFO\u001b[0m] Trial 54 finished with value: 0.8403945420937653 and parameters: {'lambda_l1': 4.812312752926766e-07, 'lambda_l2': 1.3727671742580814e-06, 'num_leaves': 248, 'max_depth': 34, 'min_child_samples': 66, 'min_child_weight': 1.4970235618677966e-05, 'feature_fraction': 0.6578552382200007, 'bagging_fraction': 0.6364681601117159, 'bagging_freq': 1, 'learning_rate': 1.0074510844868435e-07}. Best is trial 12 with value: 0.8487775942845877. \u001b[1m(study.py:1110)\u001b[0m\n",
      "[2024-03-22 15:54:47] [\u001b[1;32mINFO\u001b[0m] Trial 55 finished with value: 0.840205610926649 and parameters: {'lambda_l1': 0.008777173269054177, 'lambda_l2': 2.5536939797774682e-08, 'num_leaves': 612, 'max_depth': 16, 'min_child_samples': 38, 'min_child_weight': 3.947142374307331e-05, 'feature_fraction': 0.8896490590517926, 'bagging_fraction': 0.9863784160559452, 'bagging_freq': 2, 'learning_rate': 0.00175369079679815}. Best is trial 12 with value: 0.8487775942845877. \u001b[1m(study.py:1110)\u001b[0m\n",
      "[2024-03-22 15:54:49] [\u001b[1;32mINFO\u001b[0m] Trial 56 finished with value: 0.813286885523688 and parameters: {'lambda_l1': 4.2531833327455716e-05, 'lambda_l2': 0.01733704186103959, 'num_leaves': 894, 'max_depth': 37, 'min_child_samples': 10, 'min_child_weight': 0.00022797928570307408, 'feature_fraction': 0.6098615276199891, 'bagging_fraction': 0.5252918180284777, 'bagging_freq': 5, 'learning_rate': 0.606706487611206}. Best is trial 12 with value: 0.8487775942845877. \u001b[1m(study.py:1110)\u001b[0m\n",
      "[2024-03-22 15:54:50] [\u001b[1;32mINFO\u001b[0m] Trial 57 finished with value: 0.835099736547133 and parameters: {'lambda_l1': 4.222743154454811e-05, 'lambda_l2': 1.0043603988528547, 'num_leaves': 189, 'max_depth': 40, 'min_child_samples': 79, 'min_child_weight': 0.001596242748019136, 'feature_fraction': 0.5958362053299769, 'bagging_fraction': 0.922732124035877, 'bagging_freq': 2, 'learning_rate': 4.7977037475747253e-08}. Best is trial 12 with value: 0.8487775942845877. \u001b[1m(study.py:1110)\u001b[0m\n",
      "[2024-03-22 15:54:52] [\u001b[1;32mINFO\u001b[0m] Trial 58 finished with value: 0.7996243791588946 and parameters: {'lambda_l1': 2.9955434110124015e-05, 'lambda_l2': 2.592646464467653e-07, 'num_leaves': 123, 'max_depth': 40, 'min_child_samples': 84, 'min_child_weight': 0.0023370877878642416, 'feature_fraction': 0.5074784272930466, 'bagging_fraction': 0.6167569434504585, 'bagging_freq': 3, 'learning_rate': 1.1396289490789085e-05}. Best is trial 12 with value: 0.8487775942845877. \u001b[1m(study.py:1110)\u001b[0m\n",
      "[2024-03-22 15:54:53] [\u001b[1;32mINFO\u001b[0m] Trial 59 finished with value: 0.8434603820947898 and parameters: {'lambda_l1': 4.6479185153707793e-07, 'lambda_l2': 4.4127300292325903e-05, 'num_leaves': 189, 'max_depth': 21, 'min_child_samples': 54, 'min_child_weight': 1.1152554562097152e-05, 'feature_fraction': 0.7641713883125347, 'bagging_fraction': 0.9959830239344976, 'bagging_freq': 2, 'learning_rate': 0.00011202015449116177}. Best is trial 12 with value: 0.8487775942845877. \u001b[1m(study.py:1110)\u001b[0m\n",
      "[2024-03-22 15:54:54] [\u001b[1;32mINFO\u001b[0m] Trial 60 finished with value: 0.8154954721141302 and parameters: {'lambda_l1': 1.1160604960800018e-05, 'lambda_l2': 0.09680882273377153, 'num_leaves': 345, 'max_depth': 24, 'min_child_samples': 28, 'min_child_weight': 0.0001664208641419446, 'feature_fraction': 0.5625418064002592, 'bagging_fraction': 0.684314184307953, 'bagging_freq': 4, 'learning_rate': 6.232041706035903e-06}. Best is trial 12 with value: 0.8487775942845877. \u001b[1m(study.py:1110)\u001b[0m\n",
      "[2024-03-22 15:54:56] [\u001b[1;32mINFO\u001b[0m] Trial 61 finished with value: 0.8429198675424218 and parameters: {'lambda_l1': 2.6421078968827795e-08, 'lambda_l2': 1.5485266902834589e-07, 'num_leaves': 269, 'max_depth': 32, 'min_child_samples': 41, 'min_child_weight': 9.53646001453521e-05, 'feature_fraction': 0.7907820097835351, 'bagging_fraction': 0.7748684898598741, 'bagging_freq': 2, 'learning_rate': 0.009625176481663566}. Best is trial 12 with value: 0.8487775942845877. \u001b[1m(study.py:1110)\u001b[0m\n",
      "[2024-03-22 15:54:58] [\u001b[1;32mINFO\u001b[0m] Trial 62 finished with value: 0.83596376248887 and parameters: {'lambda_l1': 4.2531833327455716e-05, 'lambda_l2': 0.07668089929248083, 'num_leaves': 13, 'max_depth': 31, 'min_child_samples': 42, 'min_child_weight': 3.726804207161423e-05, 'feature_fraction': 0.7998787915418902, 'bagging_fraction': 0.9466734409361881, 'bagging_freq': 5, 'learning_rate': 0.19258680620441}. Best is trial 12 with value: 0.8487775942845877. \u001b[1m(study.py:1110)\u001b[0m\n",
      "[2024-03-22 15:54:59] [\u001b[1;32mINFO\u001b[0m] Trial 63 finished with value: 0.8406460077003414 and parameters: {'lambda_l1': 1.495777943725297e-08, 'lambda_l2': 5.464414169215208e-05, 'num_leaves': 545, 'max_depth': 11, 'min_child_samples': 7, 'min_child_weight': 0.004603635661825736, 'feature_fraction': 0.6058172106067528, 'bagging_fraction': 0.8568743104829155, 'bagging_freq': 6, 'learning_rate': 0.14079119182431077}. Best is trial 12 with value: 0.8487775942845877. \u001b[1m(study.py:1110)\u001b[0m\n",
      "[2024-03-22 15:55:00] [\u001b[1;32mINFO\u001b[0m] Trial 64 finished with value: 0.8395838180605266 and parameters: {'lambda_l1': 4.6479185153707793e-07, 'lambda_l2': 0.03204192218701294, 'num_leaves': 148, 'max_depth': 31, 'min_child_samples': 69, 'min_child_weight': 1.1152554562097152e-05, 'feature_fraction': 0.7998787915418902, 'bagging_fraction': 0.9959830239344976, 'bagging_freq': 2, 'learning_rate': 0.19258680620441}. Best is trial 12 with value: 0.8487775942845877. \u001b[1m(study.py:1110)\u001b[0m\n",
      "[2024-03-22 15:55:02] [\u001b[1;32mINFO\u001b[0m] Trial 65 finished with value: 0.8392381824204388 and parameters: {'lambda_l1': 2.9955434110124015e-05, 'lambda_l2': 2.790613921721874e-06, 'num_leaves': 222, 'max_depth': 17, 'min_child_samples': 47, 'min_child_weight': 6.470824310539086e-05, 'feature_fraction': 0.876471145474952, 'bagging_fraction': 0.8690619416186163, 'bagging_freq': 6, 'learning_rate': 0.00023960152444740953}. Best is trial 12 with value: 0.8487775942845877. \u001b[1m(study.py:1110)\u001b[0m\n",
      "[2024-03-22 15:55:03] [\u001b[1;32mINFO\u001b[0m] Trial 66 finished with value: 0.8212090361897839 and parameters: {'lambda_l1': 0.0008607930411040855, 'lambda_l2': 0.03391145312382917, 'num_leaves': 84, 'max_depth': 39, 'min_child_samples': 48, 'min_child_weight': 7.290963097257339e-05, 'feature_fraction': 0.4289410591368855, 'bagging_fraction': 0.7742000016889838, 'bagging_freq': 6, 'learning_rate': 0.17619877819879542}. Best is trial 12 with value: 0.8487775942845877. \u001b[1m(study.py:1110)\u001b[0m\n",
      "[2024-03-22 15:55:04] [\u001b[1;32mINFO\u001b[0m] Trial 67 finished with value: 0.8231209515505242 and parameters: {'lambda_l1': 2.9955434110124015e-05, 'lambda_l2': 0.00453430381257254, 'num_leaves': 404, 'max_depth': 34, 'min_child_samples': 70, 'min_child_weight': 0.0023370877878642416, 'feature_fraction': 0.5704371061257194, 'bagging_fraction': 0.6167569434504585, 'bagging_freq': 4, 'learning_rate': 0.5895853978634159}. Best is trial 12 with value: 0.8487775942845877. \u001b[1m(study.py:1110)\u001b[0m\n",
      "[2024-03-22 15:55:05] [\u001b[1;32mINFO\u001b[0m] Trial 68 finished with value: 0.848878113544507 and parameters: {'lambda_l1': 0.2980289700051922, 'lambda_l2': 0.03204192218701294, 'num_leaves': 709, 'max_depth': 31, 'min_child_samples': 69, 'min_child_weight': 0.009791028469230826, 'feature_fraction': 0.7998787915418902, 'bagging_fraction': 0.8181561377007793, 'bagging_freq': 6, 'learning_rate': 0.19258680620441}. Best is trial 68 with value: 0.848878113544507. \u001b[1m(study.py:1110)\u001b[0m\n",
      "[2024-03-22 15:55:07] [\u001b[1;32mINFO\u001b[0m] Trial 69 finished with value: 0.8509170355288678 and parameters: {'lambda_l1': 0.2980289700051922, 'lambda_l2': 0.000990663689088849, 'num_leaves': 345, 'max_depth': 31, 'min_child_samples': 75, 'min_child_weight': 0.0001664208641419446, 'feature_fraction': 0.8028005669165015, 'bagging_fraction': 0.8467835342297274, 'bagging_freq': 4, 'learning_rate': 0.158746126869997}. Best is trial 69 with value: 0.8509170355288678. \u001b[1m(study.py:1110)\u001b[0m\n",
      "[2024-03-22 15:55:08] [\u001b[1;32mINFO\u001b[0m] Trial 70 finished with value: 0.8389884141771519 and parameters: {'lambda_l1': 7.882809219901821e-07, 'lambda_l2': 2.138770038439659, 'num_leaves': 739, 'max_depth': 34, 'min_child_samples': 83, 'min_child_weight': 0.0001002640676338136, 'feature_fraction': 0.8466389535671607, 'bagging_fraction': 0.9061239614022312, 'bagging_freq': 4, 'learning_rate': 0.00849008118118015}. Best is trial 69 with value: 0.8509170355288678. \u001b[1m(study.py:1110)\u001b[0m\n",
      "[2024-03-22 15:55:09] [\u001b[1;32mINFO\u001b[0m] Trial 71 finished with value: 0.8423775920416225 and parameters: {'lambda_l1': 1.1706410385498053e-05, 'lambda_l2': 0.03204192218701294, 'num_leaves': 13, 'max_depth': 6, 'min_child_samples': 69, 'min_child_weight': 0.0011130663393267783, 'feature_fraction': 0.6887311786307252, 'bagging_fraction': 0.9619050344282047, 'bagging_freq': 2, 'learning_rate': 0.00029138703799502704}. Best is trial 69 with value: 0.8509170355288678. \u001b[1m(study.py:1110)\u001b[0m\n",
      "[2024-03-22 15:55:11] [\u001b[1;32mINFO\u001b[0m] Trial 72 finished with value: 0.794141902105843 and parameters: {'lambda_l1': 4.222743154454811e-05, 'lambda_l2': 1.2671155876163237e-07, 'num_leaves': 178, 'max_depth': 37, 'min_child_samples': 85, 'min_child_weight': 0.001596242748019136, 'feature_fraction': 0.5173243791216899, 'bagging_fraction': 0.6156146925677751, 'bagging_freq': 5, 'learning_rate': 1.6465091042103964e-06}. Best is trial 69 with value: 0.8509170355288678. \u001b[1m(study.py:1110)\u001b[0m\n",
      "[2024-03-22 15:55:13] [\u001b[1;32mINFO\u001b[0m] Trial 73 finished with value: 0.8454278432111981 and parameters: {'lambda_l1': 1.1706410385498053e-05, 'lambda_l2': 0.03204192218701294, 'num_leaves': 626, 'max_depth': 40, 'min_child_samples': 69, 'min_child_weight': 0.004303942788499522, 'feature_fraction': 0.7998787915418902, 'bagging_fraction': 0.9466734409361881, 'bagging_freq': 4, 'learning_rate': 2.6344283920202483e-07}. Best is trial 69 with value: 0.8509170355288678. \u001b[1m(study.py:1110)\u001b[0m\n",
      "[2024-03-22 15:55:16] [\u001b[1;32mINFO\u001b[0m] Trial 74 finished with value: 0.8401176529978269 and parameters: {'lambda_l1': 2.9955434110124015e-05, 'lambda_l2': 0.00453430381257254, 'num_leaves': 267, 'max_depth': 6, 'min_child_samples': 47, 'min_child_weight': 0.0011130663393267783, 'feature_fraction': 0.6471467292003301, 'bagging_fraction': 0.6167569434504585, 'bagging_freq': 3, 'learning_rate': 3.082190829733088e-07}. Best is trial 69 with value: 0.8509170355288678. \u001b[1m(study.py:1110)\u001b[0m\n",
      "[2024-03-22 15:55:16] [\u001b[1;32mINFO\u001b[0m] Trial 75 finished with value: 0.8104987481111842 and parameters: {'lambda_l1': 1.1160604960800018e-05, 'lambda_l2': 2.5536939797774682e-08, 'num_leaves': 612, 'max_depth': 1, 'min_child_samples': 38, 'min_child_weight': 3.947142374307331e-05, 'feature_fraction': 0.5625418064002592, 'bagging_fraction': 0.8467835342297274, 'bagging_freq': 4, 'learning_rate': 0.158746126869997}. Best is trial 69 with value: 0.8509170355288678. \u001b[1m(study.py:1110)\u001b[0m\n",
      "[2024-03-22 15:55:18] [\u001b[1;32mINFO\u001b[0m] Trial 76 finished with value: 0.8516224452538002 and parameters: {'lambda_l1': 4.222743154454811e-05, 'lambda_l2': 4.930634866268763e-08, 'num_leaves': 189, 'max_depth': 28, 'min_child_samples': 79, 'min_child_weight': 0.00032449573150198144, 'feature_fraction': 0.7536244874158898, 'bagging_fraction': 0.8202428134625883, 'bagging_freq': 2, 'learning_rate': 0.04311265769579571}. Best is trial 76 with value: 0.8516224452538002. \u001b[1m(study.py:1110)\u001b[0m\n",
      "[2024-03-22 15:55:19] [\u001b[1;32mINFO\u001b[0m] Trial 77 finished with value: 0.836274329161977 and parameters: {'lambda_l1': 4.812312752926766e-07, 'lambda_l2': 0.0003845716749962282, 'num_leaves': 444, 'max_depth': 4, 'min_child_samples': 66, 'min_child_weight': 1.4970235618677966e-05, 'feature_fraction': 0.8852891150062723, 'bagging_fraction': 0.6335351019978295, 'bagging_freq': 6, 'learning_rate': 0.01274826370639762}. Best is trial 76 with value: 0.8516224452538002. \u001b[1m(study.py:1110)\u001b[0m\n",
      "[2024-03-22 15:55:21] [\u001b[1;32mINFO\u001b[0m] Trial 78 finished with value: 0.8286421911523122 and parameters: {'lambda_l1': 0.3339726635915181, 'lambda_l2': 5.464414169215208e-05, 'num_leaves': 706, 'max_depth': 40, 'min_child_samples': 58, 'min_child_weight': 1.1044182412019508e-05, 'feature_fraction': 0.45342704032149633, 'bagging_fraction': 0.9633895603275724, 'bagging_freq': 2, 'learning_rate': 0.14079119182431077}. Best is trial 76 with value: 0.8516224452538002. \u001b[1m(study.py:1110)\u001b[0m\n",
      "[2024-03-22 15:55:22] [\u001b[1;32mINFO\u001b[0m] Trial 79 finished with value: 0.8113951675714167 and parameters: {'lambda_l1': 2.6421078968827795e-08, 'lambda_l2': 0.019525901906383817, 'num_leaves': 367, 'max_depth': 2, 'min_child_samples': 38, 'min_child_weight': 9.53646001453521e-05, 'feature_fraction': 0.7907820097835351, 'bagging_fraction': 0.7748684898598741, 'bagging_freq': 6, 'learning_rate': 0.009625176481663566}. Best is trial 76 with value: 0.8516224452538002. \u001b[1m(study.py:1110)\u001b[0m\n",
      "[2024-03-22 15:55:24] [\u001b[1;32mINFO\u001b[0m] Trial 80 finished with value: 0.8317316118675079 and parameters: {'lambda_l1': 3.125726744173933e-07, 'lambda_l2': 0.0008851152061578511, 'num_leaves': 299, 'max_depth': 21, 'min_child_samples': 50, 'min_child_weight': 0.00015633838149304726, 'feature_fraction': 0.4597296601820688, 'bagging_fraction': 0.7030248291818879, 'bagging_freq': 6, 'learning_rate': 0.2881664227076007}. Best is trial 76 with value: 0.8516224452538002. \u001b[1m(study.py:1110)\u001b[0m\n",
      "[2024-03-22 15:55:27] [\u001b[1;32mINFO\u001b[0m] Trial 81 finished with value: 0.79457665671491 and parameters: {'lambda_l1': 3.2991858094502595e-08, 'lambda_l2': 1.4877066833457173, 'num_leaves': 349, 'max_depth': 34, 'min_child_samples': 94, 'min_child_weight': 0.0026823959754688144, 'feature_fraction': 0.4376537161874815, 'bagging_fraction': 0.6417090379874021, 'bagging_freq': 5, 'learning_rate': 0.0014215280524335684}. Best is trial 76 with value: 0.8516224452538002. \u001b[1m(study.py:1110)\u001b[0m\n",
      "[2024-03-22 15:55:29] [\u001b[1;32mINFO\u001b[0m] Trial 82 finished with value: 0.8401862303548605 and parameters: {'lambda_l1': 0.649622564042618, 'lambda_l2': 1.3341033144769712e-08, 'num_leaves': 776, 'max_depth': 33, 'min_child_samples': 6, 'min_child_weight': 0.0016672226998787037, 'feature_fraction': 0.8801775995851249, 'bagging_fraction': 0.8315544249159528, 'bagging_freq': 5, 'learning_rate': 5.86354267732175e-07}. Best is trial 76 with value: 0.8516224452538002. \u001b[1m(study.py:1110)\u001b[0m\n",
      "[2024-03-22 15:55:30] [\u001b[1;32mINFO\u001b[0m] Trial 83 finished with value: 0.7909662802271479 and parameters: {'lambda_l1': 5.337484190510306, 'lambda_l2': 1.3341033144769712e-08, 'num_leaves': 368, 'max_depth': 37, 'min_child_samples': 85, 'min_child_weight': 0.0016672226998787037, 'feature_fraction': 0.5173243791216899, 'bagging_fraction': 0.6156146925677751, 'bagging_freq': 5, 'learning_rate': 5.86354267732175e-07}. Best is trial 76 with value: 0.8516224452538002. \u001b[1m(study.py:1110)\u001b[0m\n",
      "[2024-03-22 15:55:31] [\u001b[1;32mINFO\u001b[0m] Trial 84 finished with value: 0.8460333946887858 and parameters: {'lambda_l1': 9.847981317457816e-07, 'lambda_l2': 5.464414169215208e-05, 'num_leaves': 246, 'max_depth': 39, 'min_child_samples': 58, 'min_child_weight': 2.7672069362392026e-05, 'feature_fraction': 0.8049766035237493, 'bagging_fraction': 0.8568743104829155, 'bagging_freq': 4, 'learning_rate': 0.0002012750381603616}. Best is trial 76 with value: 0.8516224452538002. \u001b[1m(study.py:1110)\u001b[0m\n",
      "[2024-03-22 15:55:32] [\u001b[1;32mINFO\u001b[0m] Trial 85 finished with value: 0.835649012531933 and parameters: {'lambda_l1': 4.6479185153707793e-07, 'lambda_l2': 4.132691748013283, 'num_leaves': 129, 'max_depth': 21, 'min_child_samples': 54, 'min_child_weight': 1.1152554562097152e-05, 'feature_fraction': 0.8390140412005745, 'bagging_fraction': 0.6167569434504585, 'bagging_freq': 2, 'learning_rate': 1.0305717597410566e-07}. Best is trial 76 with value: 0.8516224452538002. \u001b[1m(study.py:1110)\u001b[0m\n",
      "[2024-03-22 15:55:33] [\u001b[1;32mINFO\u001b[0m] Trial 86 finished with value: 0.8394604050328581 and parameters: {'lambda_l1': 0.649622564042618, 'lambda_l2': 1.683729084809685e-08, 'num_leaves': 84, 'max_depth': 39, 'min_child_samples': 48, 'min_child_weight': 0.0016672226998787037, 'feature_fraction': 0.8049766035237493, 'bagging_fraction': 0.7742000016889838, 'bagging_freq': 5, 'learning_rate': 0.00042051605534166236}. Best is trial 76 with value: 0.8516224452538002. \u001b[1m(study.py:1110)\u001b[0m\n",
      "[2024-03-22 15:55:34] [\u001b[1;32mINFO\u001b[0m] Trial 87 finished with value: 0.8009935237739844 and parameters: {'lambda_l1': 3.2471891804631235e-05, 'lambda_l2': 2.2314158493614513e-08, 'num_leaves': 367, 'max_depth': 28, 'min_child_samples': 29, 'min_child_weight': 0.001596242748019136, 'feature_fraction': 0.4289410591368855, 'bagging_fraction': 0.8202428134625883, 'bagging_freq': 2, 'learning_rate': 0.015124871055992868}. Best is trial 76 with value: 0.8516224452538002. \u001b[1m(study.py:1110)\u001b[0m\n",
      "[2024-03-22 15:55:36] [\u001b[1;32mINFO\u001b[0m] Trial 88 finished with value: 0.8303857629352387 and parameters: {'lambda_l1': 0.0030993733715217377, 'lambda_l2': 2.163061367122288e-08, 'num_leaves': 129, 'max_depth': 6, 'min_child_samples': 27, 'min_child_weight': 0.0023370877878642416, 'feature_fraction': 0.876471145474952, 'bagging_fraction': 0.4429065100857641, 'bagging_freq': 4, 'learning_rate': 0.0004721337263475389}. Best is trial 76 with value: 0.8516224452538002. \u001b[1m(study.py:1110)\u001b[0m\n",
      "[2024-03-22 15:55:37] [\u001b[1;32mINFO\u001b[0m] Trial 89 finished with value: 0.8247565387551491 and parameters: {'lambda_l1': 1.495777943725297e-08, 'lambda_l2': 5.464414169215208e-05, 'num_leaves': 545, 'max_depth': 2, 'min_child_samples': 58, 'min_child_weight': 0.0006758559978256866, 'feature_fraction': 0.7640525091769825, 'bagging_fraction': 0.8568743104829155, 'bagging_freq': 6, 'learning_rate': 0.0567418159717071}. Best is trial 76 with value: 0.8516224452538002. \u001b[1m(study.py:1110)\u001b[0m\n",
      "[2024-03-22 15:55:38] [\u001b[1;32mINFO\u001b[0m] Trial 90 finished with value: 0.8102821116366626 and parameters: {'lambda_l1': 0.014219291240905794, 'lambda_l2': 0.00031450963445684436, 'num_leaves': 672, 'max_depth': 2, 'min_child_samples': 8, 'min_child_weight': 0.004327673569063361, 'feature_fraction': 0.7844801037880264, 'bagging_fraction': 0.4950646010204775, 'bagging_freq': 6, 'learning_rate': 2.3065434037256072e-06}. Best is trial 76 with value: 0.8516224452538002. \u001b[1m(study.py:1110)\u001b[0m\n",
      "[2024-03-22 15:55:40] [\u001b[1;32mINFO\u001b[0m] Trial 91 finished with value: 0.8138583893745289 and parameters: {'lambda_l1': 0.649622564042618, 'lambda_l2': 0.045612390923799595, 'num_leaves': 574, 'max_depth': 40, 'min_child_samples': 27, 'min_child_weight': 0.0016672226998787037, 'feature_fraction': 0.504030853050343, 'bagging_fraction': 0.777182731802877, 'bagging_freq': 5, 'learning_rate': 0.02557646359888094}. Best is trial 76 with value: 0.8516224452538002. \u001b[1m(study.py:1110)\u001b[0m\n",
      "[2024-03-22 15:55:42] [\u001b[1;32mINFO\u001b[0m] Trial 92 finished with value: 0.8475633498260247 and parameters: {'lambda_l1': 4.222743154454811e-05, 'lambda_l2': 1.0043603988528547, 'num_leaves': 189, 'max_depth': 6, 'min_child_samples': 83, 'min_child_weight': 0.001596242748019136, 'feature_fraction': 0.8466389535671607, 'bagging_fraction': 0.9061239614022312, 'bagging_freq': 2, 'learning_rate': 4.7977037475747253e-08}. Best is trial 76 with value: 0.8516224452538002. \u001b[1m(study.py:1110)\u001b[0m\n",
      "[2024-03-22 15:55:44] [\u001b[1;32mINFO\u001b[0m] Trial 93 finished with value: 0.8421253407634206 and parameters: {'lambda_l1': 4.6479185153707793e-07, 'lambda_l2': 4.132691748013283, 'num_leaves': 300, 'max_depth': 21, 'min_child_samples': 54, 'min_child_weight': 0.0006758559978256866, 'feature_fraction': 0.8390140412005745, 'bagging_fraction': 0.9959830239344976, 'bagging_freq': 2, 'learning_rate': 1.0305717597410566e-07}. Best is trial 76 with value: 0.8516224452538002. \u001b[1m(study.py:1110)\u001b[0m\n",
      "[2024-03-22 15:55:47] [\u001b[1;32mINFO\u001b[0m] Trial 94 finished with value: 0.8181642830807557 and parameters: {'lambda_l1': 0.06942980799760408, 'lambda_l2': 4.9008978306196e-07, 'num_leaves': 296, 'max_depth': 36, 'min_child_samples': 52, 'min_child_weight': 0.00011646352116859942, 'feature_fraction': 0.48516487152476007, 'bagging_fraction': 0.8079037608832762, 'bagging_freq': 4, 'learning_rate': 0.045600082095756195}. Best is trial 76 with value: 0.8516224452538002. \u001b[1m(study.py:1110)\u001b[0m\n",
      "[2024-03-22 15:55:48] [\u001b[1;32mINFO\u001b[0m] Trial 95 finished with value: 0.7818531983937852 and parameters: {'lambda_l1': 0.00040177133557564045, 'lambda_l2': 0.0016001826801343984, 'num_leaves': 866, 'max_depth': 29, 'min_child_samples': 65, 'min_child_weight': 1.4257033478896622e-05, 'feature_fraction': 0.4275459733826131, 'bagging_fraction': 0.7174090263599295, 'bagging_freq': 6, 'learning_rate': 0.004213305260924142}. Best is trial 76 with value: 0.8516224452538002. \u001b[1m(study.py:1110)\u001b[0m\n",
      "[2024-03-22 15:55:49] [\u001b[1;32mINFO\u001b[0m] Trial 96 finished with value: 0.8269795878444879 and parameters: {'lambda_l1': 5.882606851353608e-07, 'lambda_l2': 2.790613921721874e-06, 'num_leaves': 264, 'max_depth': 17, 'min_child_samples': 52, 'min_child_weight': 6.470824310539086e-05, 'feature_fraction': 0.5682667730446664, 'bagging_fraction': 0.8690619416186163, 'bagging_freq': 6, 'learning_rate': 0.045600082095756195}. Best is trial 76 with value: 0.8516224452538002. \u001b[1m(study.py:1110)\u001b[0m\n",
      "[2024-03-22 15:55:51] [\u001b[1;32mINFO\u001b[0m] Trial 97 finished with value: 0.8440129501729045 and parameters: {'lambda_l1': 8.302734146614306e-06, 'lambda_l2': 7.91607420527857e-05, 'num_leaves': 273, 'max_depth': 27, 'min_child_samples': 6, 'min_child_weight': 0.0015816872704480032, 'feature_fraction': 0.830345814706192, 'bagging_fraction': 0.6376387695305965, 'bagging_freq': 6, 'learning_rate': 8.854946839379049e-05}. Best is trial 76 with value: 0.8516224452538002. \u001b[1m(study.py:1110)\u001b[0m\n",
      "[2024-03-22 15:55:52] [\u001b[1;32mINFO\u001b[0m] Trial 98 finished with value: 0.8369629533061996 and parameters: {'lambda_l1': 0.001429053578018932, 'lambda_l2': 2.138770038439659, 'num_leaves': 404, 'max_depth': 34, 'min_child_samples': 70, 'min_child_weight': 0.0001002640676338136, 'feature_fraction': 0.5704371061257194, 'bagging_fraction': 0.8231242606050408, 'bagging_freq': 4, 'learning_rate': 0.5895853978634159}. Best is trial 76 with value: 0.8516224452538002. \u001b[1m(study.py:1110)\u001b[0m\n",
      "[2024-03-22 15:55:53] [\u001b[1;32mINFO\u001b[0m] Trial 99 finished with value: 0.8358510661733685 and parameters: {'lambda_l1': 0.002928947476133438, 'lambda_l2': 1.743902642899523e-08, 'num_leaves': 236, 'max_depth': 6, 'min_child_samples': 34, 'min_child_weight': 0.0002292426297994107, 'feature_fraction': 0.5778288231921446, 'bagging_fraction': 0.9606185407397664, 'bagging_freq': 7, 'learning_rate': 4.5354336902407206e-07}. Best is trial 76 with value: 0.8516224452538002. \u001b[1m(study.py:1110)\u001b[0m\n"
     ]
    }
   ],
   "source": [
    "from statistics import mean\n",
    "\n",
    "import optuna\n",
    "from imblearn.over_sampling import RandomOverSampler\n",
    "from mleko.dataset.filter.imblearn_resampling_filter import ImblearnResamplingFilter\n",
    "from mleko.model import LGBMModel\n",
    "from mleko.model.tune import OptunaTuner\n",
    "\n",
    "\n",
    "def cv_folds(data_schema: DataSchema, dataframe: vaex.DataFrame) -> list[tuple[vaex.DataFrame, vaex.DataFrame]]:\n",
    "    cv_datasets = []\n",
    "    splits = dataframe.split_random(into=3, random_state=RANDOM_STATE)\n",
    "    for i, validation_df in enumerate(splits):\n",
    "        train_df = vaex.concat([df for j, df in enumerate(splits) if j != i])\n",
    "        resampled_train_df = ImblearnResamplingFilter(RandomOverSampler(), TARGET_FEATURE).filter(\n",
    "            data_schema, train_df, disable_cache=True\n",
    "        )\n",
    "        cv_datasets.append((resampled_train_df, validation_df))\n",
    "\n",
    "    return cv_datasets\n",
    "\n",
    "\n",
    "def objective(\n",
    "    trial: optuna.Trial, data_schema: DataSchema, cv_dataframes: list[tuple[vaex.DataFrame, vaex.DataFrame]]\n",
    ") -> float:\n",
    "    lgbm_model = LGBMModel(\n",
    "        cache_directory=f\"data/model-tune\",\n",
    "        verbosity=-1,\n",
    "        target=TARGET_FEATURE,\n",
    "        objective=\"binary\",\n",
    "        num_iterations=30,\n",
    "        ignore_features=META_FEATURES,\n",
    "        metric=[\"average_precision\", \"auc\"],\n",
    "        early_stopping_round=10,\n",
    "    )\n",
    "\n",
    "    lambda_l1 = trial.suggest_float(\"lambda_l1\", 1e-8, 10.0, log=True)\n",
    "    lambda_l2 = trial.suggest_float(\"lambda_l2\", 1e-8, 10.0, log=True)\n",
    "    num_leaves = trial.suggest_int(\"num_leaves\", 2, 1024)\n",
    "    max_depth = trial.suggest_int(\"max_depth\", 1, 40)\n",
    "    min_child_samples = trial.suggest_int(\"min_child_samples\", 5, 100)\n",
    "    min_child_weight = trial.suggest_float(\"min_child_weight\", 1e-5, 1e-2, log=True)\n",
    "    feature_fraction = trial.suggest_float(\"feature_fraction\", 0.4, 1.0)\n",
    "    bagging_fraction = trial.suggest_float(\"bagging_fraction\", 0.4, 1.0)\n",
    "    bagging_freq = trial.suggest_int(\"bagging_freq\", 1, 7)\n",
    "    learning_rate = trial.suggest_float(\"learning_rate\", 1e-8, 1.0, log=True)\n",
    "\n",
    "    hyperparameters = {\n",
    "        \"lambda_l1\": lambda_l1,\n",
    "        \"lambda_l2\": lambda_l2,\n",
    "        \"num_leaves\": num_leaves,\n",
    "        \"max_depth\": max_depth,\n",
    "        \"min_child_samples\": min_child_samples,\n",
    "        \"min_child_weight\": min_child_weight,\n",
    "        \"feature_fraction\": feature_fraction,\n",
    "        \"bagging_fraction\": bagging_fraction,\n",
    "        \"bagging_freq\": bagging_freq,\n",
    "        \"learning_rate\": learning_rate,\n",
    "    }\n",
    "\n",
    "    scores: list[float] = []\n",
    "    for train_df, validation_df in cv_dataframes:\n",
    "        _, metrics, _, _ = lgbm_model.fit_transform(\n",
    "            data_schema, train_df, validation_df, hyperparameters, disable_cache=True\n",
    "        )\n",
    "        scores.append(metrics[\"validation\"][\"average_precision\"][-1])\n",
    "\n",
    "    return mean(scores)\n",
    "\n",
    "\n",
    "hyperparameters, best_score, study = OptunaTuner(\n",
    "    objective_function=objective,\n",
    "    cv_folds=cv_folds,\n",
    "    direction=\"maximize\",\n",
    "    num_trials=100,\n",
    "    random_state=RANDOM_STATE,\n",
    ").tune(data_schema, feature_select_train_val_df)"
   ]
  },
  {
   "cell_type": "code",
   "execution_count": 102,
   "metadata": {},
   "outputs": [
    {
     "data": {
      "text/plain": [
       "{'lambda_l1': 4.222743154454811e-05,\n",
       " 'lambda_l2': 4.930634866268763e-08,\n",
       " 'num_leaves': 189,\n",
       " 'max_depth': 28,\n",
       " 'min_child_samples': 79,\n",
       " 'min_child_weight': 0.00032449573150198144,\n",
       " 'feature_fraction': 0.7536244874158898,\n",
       " 'bagging_fraction': 0.8202428134625883,\n",
       " 'bagging_freq': 2,\n",
       " 'learning_rate': 0.04311265769579571}"
      ]
     },
     "execution_count": 102,
     "metadata": {},
     "output_type": "execute_result"
    }
   ],
   "source": [
    "hyperparameters"
   ]
  },
  {
   "cell_type": "code",
   "execution_count": 103,
   "metadata": {},
   "outputs": [
    {
     "data": {
      "text/plain": [
       "0.8516224452538002"
      ]
     },
     "execution_count": 103,
     "metadata": {},
     "output_type": "execute_result"
    }
   ],
   "source": [
    "best_score"
   ]
  },
  {
   "cell_type": "markdown",
   "metadata": {},
   "source": [
    "# Train Model\n",
    "\n",
    "We further split our training/validation data into a training set and a validation set. The `LGBMModel` is trained on the training set and evaluated on the validation set.\n"
   ]
  },
  {
   "cell_type": "code",
   "execution_count": 105,
   "metadata": {},
   "outputs": [
    {
     "name": "stdout",
     "output_type": "stream",
     "text": [
      "[2024-03-22 15:56:04] [\u001b[1;32mINFO\u001b[0m] \u001b[32mCache Hit\u001b[0m (LRUCache) RandomSplitter.split: Using cached output. \u001b[1m(cache_mixin.py:163)\u001b[0m\n"
     ]
    }
   ],
   "source": [
    "train_df, val_df = RandomSplitter(\n",
    "    data_split=(0.80, 0.20),\n",
    "    shuffle=True,\n",
    "    stratify=TARGET_FEATURE,\n",
    "    random_state=RANDOM_STATE,\n",
    ").split(feature_select_train_val_df, cache_group=\"train_val\")"
   ]
  },
  {
   "cell_type": "markdown",
   "metadata": {},
   "source": [
    "# Filter Dataset\n",
    "\n",
    "In this step, we will randomly over-sample the dataset using the `ImblearnSamplingFilter`.\n"
   ]
  },
  {
   "cell_type": "code",
   "execution_count": 107,
   "metadata": {},
   "outputs": [
    {
     "name": "stdout",
     "output_type": "stream",
     "text": [
      "[2024-03-22 15:56:07] [\u001b[1;32mINFO\u001b[0m] \u001b[32mCache Hit\u001b[0m (LRUCache) ImblearnSamplingFilter.filter: Using cached output. \u001b[1m(cache_mixin.py:163)\u001b[0m\n"
     ]
    }
   ],
   "source": [
    "resampled_train_df = ImblearnResamplingFilter(RandomOverSampler(), TARGET_FEATURE).filter(data_schema, train_df)"
   ]
  },
  {
   "cell_type": "markdown",
   "metadata": {},
   "source": [
    "Ensure the class balance is maintained in the training, validation and test sets.\n"
   ]
  },
  {
   "cell_type": "code",
   "execution_count": 108,
   "metadata": {},
   "outputs": [
    {
     "name": "stdout",
     "output_type": "stream",
     "text": [
      "Train: 50.000% (Survived: 395, Total: 790)\n",
      "Val: 38.509% (Survived:  62, Total: 161)\n",
      "Test: 38.889% (Survived:  35, Total:  90)\n"
     ]
    }
   ],
   "source": [
    "print_split_stats(resampled_train_df, \"Train\")\n",
    "print_split_stats(val_df, \"Val\")\n",
    "print_split_stats(test_df, \"Test\")"
   ]
  },
  {
   "cell_type": "markdown",
   "metadata": {},
   "source": [
    "Train the model and evaluate it on the validation set.\n"
   ]
  },
  {
   "cell_type": "code",
   "execution_count": 110,
   "metadata": {},
   "outputs": [
    {
     "name": "stdout",
     "output_type": "stream",
     "text": [
      "[2024-03-22 15:56:23] [\u001b[1;32mINFO\u001b[0m] \u001b[32mCache Hit\u001b[0m (LRUCache) LGBMModel.fit_transform: Using cached output. \u001b[1m(cache_mixin.py:163)\u001b[0m\n"
     ]
    }
   ],
   "source": [
    "lgbm_model = LGBMModel(\n",
    "    objective=\"binary\",\n",
    "    target=TARGET_FEATURE,\n",
    "    num_iterations=200,\n",
    "    ignore_features=META_FEATURES,\n",
    "    metric=[\"average_precision\", \"auc\"],\n",
    ")\n",
    "\n",
    "model, metrics, p_train_df, p_val_df = lgbm_model.fit_transform(\n",
    "    data_schema, resampled_train_df, val_df, hyperparameters\n",
    ")"
   ]
  },
  {
   "cell_type": "code",
   "execution_count": 111,
   "metadata": {},
   "outputs": [
    {
     "data": {
      "image/png": "[encoded data removed]",
      "text/plain": [
       "<Figure size 640x480 with 1 Axes>"
      ]
     },
     "metadata": {},
     "output_type": "display_data"
    },
    {
     "data": {
      "image/png": "[encoded data removed]",
      "text/plain": [
       "<Figure size 640x480 with 1 Axes>"
      ]
     },
     "metadata": {},
     "output_type": "display_data"
    }
   ],
   "source": [
    "import lightgbm\n",
    "\n",
    "\n",
    "ax = lightgbm.plot_metric(metrics, metric=\"auc\")\n",
    "ax = lightgbm.plot_metric(metrics, metric=\"average_precision\")"
   ]
  },
  {
   "cell_type": "markdown",
   "metadata": {},
   "source": [
    "# `mleko` Pipeline\n",
    "\n",
    "The `mleko` pipeline is used to streamline the entire process. Pipelines are very flexible and allows users to define a directed acyclic graph (DAG) of operations. You can chain together all operations in a single pipeline or create multiple pipelines for different tasks.\n",
    "\n",
    "We create two pipelines:\n",
    "\n",
    "- a pre-processing pipeline that handles data ingestion, conversion, splitting, transformation, and feature selection\n",
    "- a model pipeline that trains and evaluates the model.\n",
    "\n",
    "Next we define all required classes to create the pre-processing pipeline.\n"
   ]
  },
  {
   "cell_type": "code",
   "execution_count": 112,
   "metadata": {},
   "outputs": [],
   "source": [
    "!rm -r data"
   ]
  },
  {
   "cell_type": "markdown",
   "metadata": {},
   "source": [
    "## Pre-Processing Pipeline\n"
   ]
  },
  {
   "cell_type": "code",
   "execution_count": 113,
   "metadata": {},
   "outputs": [
    {
     "name": "stdout",
     "output_type": "stream",
     "text": [
      "[2024-03-22 15:56:38] [\u001b[1;32mINFO\u001b[0m] Attempting to fetch Kaggle API credentials from environment variables 'KAGGLE_USERNAME' and 'KAGGLE_KEY'. \u001b[1m(kaggle_ingester.py:76)\u001b[0m\n",
      "[2024-03-22 15:56:38] [\u001b[1;32mINFO\u001b[0m] Kaggle API credentials not found in environment variables, attempting to fetch from fallback path at ~/.kaggle/kaggle.json. \u001b[1m(kaggle_ingester.py:84)\u001b[0m\n",
      "[2024-03-22 15:56:38] [\u001b[1;32mINFO\u001b[0m] Kaggle credentials successfully fetched. \u001b[1m(kaggle_ingester.py:93)\u001b[0m\n"
     ]
    }
   ],
   "source": [
    "kaggle_ingester = KaggleIngester(owner_slug=OWNER_SLUG, dataset_slug=DATASET_SLUG)"
   ]
  },
  {
   "cell_type": "code",
   "execution_count": 114,
   "metadata": {},
   "outputs": [],
   "source": [
    "csv_to_vaex_converter = CSVToVaexConverter(\n",
    "    drop_columns=[\"Ticket\"],\n",
    "    meta_columns=META_FEATURES,\n",
    "    drop_rows_with_na_columns=[TARGET_FEATURE],\n",
    "    random_state=RANDOM_STATE,\n",
    ")"
   ]
  },
  {
   "cell_type": "code",
   "execution_count": 115,
   "metadata": {},
   "outputs": [],
   "source": [
    "random_splitter_90_10 = RandomSplitter(\n",
    "    data_split=(0.90, 0.10),\n",
    "    shuffle=True,\n",
    "    stratify=TARGET_FEATURE,\n",
    "    random_state=RANDOM_STATE,\n",
    ")"
   ]
  },
  {
   "cell_type": "code",
   "execution_count": 116,
   "metadata": {},
   "outputs": [
    {
     "name": "stdout",
     "output_type": "stream",
     "text": [
      "[2024-03-22 15:56:41] [\u001b[1;33mWARNING\u001b[0m] Null values will be kept as `None`. \u001b[1m(label_encoder_transformer.py:119)\u001b[0m\n"
     ]
    }
   ],
   "source": [
    "composite_transformer = CompositeTransformer(\n",
    "    transformers=[\n",
    "        FeatureDropperTransformer(features=[\"Name\"]),\n",
    "        IsAloneTransformer(),\n",
    "        LabelEncoderTransformer(features=[\"Sex\", \"Embarked\"]),\n",
    "    ],\n",
    ")"
   ]
  },
  {
   "cell_type": "code",
   "execution_count": 117,
   "metadata": {},
   "outputs": [],
   "source": [
    "composite_feature_selector = CompositeFeatureSelector(\n",
    "    feature_selectors=[\n",
    "        MissingRateFeatureSelector(\n",
    "            missing_rate_threshold=0.5,\n",
    "            ignore_features=META_FEATURES,\n",
    "        ),\n",
    "        InvarianceFeatureSelector(\n",
    "            ignore_features=META_FEATURES,\n",
    "        ),\n",
    "        PearsonCorrelationFeatureSelector(\n",
    "            correlation_threshold=0.7,\n",
    "            ignore_features=META_FEATURES,\n",
    "        ),\n",
    "    ],\n",
    ")"
   ]
  },
  {
   "cell_type": "code",
   "execution_count": 118,
   "metadata": {},
   "outputs": [],
   "source": [
    "random_splitter_80_20 = RandomSplitter(\n",
    "    data_split=(0.80, 0.20),\n",
    "    shuffle=True,\n",
    "    stratify=TARGET_FEATURE,\n",
    "    random_state=RANDOM_STATE,\n",
    ")"
   ]
  },
  {
   "cell_type": "code",
   "execution_count": 119,
   "metadata": {},
   "outputs": [],
   "source": [
    "resampler = ImblearnResamplingFilter(RandomOverSampler(), TARGET_FEATURE)"
   ]
  },
  {
   "cell_type": "markdown",
   "metadata": {},
   "source": [
    "Define the pre-processing pipeline performing all the dataset pre-processing steps before training the model.\n",
    "\n",
    "Each `PipelineStep` accepts a class, a list of input names, and a list of output names. The class is used to instantiate the step, the input names are used to fetch the required data from the previous steps, and the output names are used to store the output of the step for use by subsequent steps.\n"
   ]
  },
  {
   "cell_type": "code",
   "execution_count": 123,
   "metadata": {},
   "outputs": [],
   "source": [
    "from mleko.pipeline import Pipeline\n",
    "from mleko.pipeline.steps import ConvertStep, FeatureSelectStep, IngestStep, SplitStep, TransformStep, FilterStep\n",
    "\n",
    "\n",
    "pre_pipeline = Pipeline(\n",
    "    steps=[\n",
    "        IngestStep(kaggle_ingester, inputs={}, outputs={\"file_paths\": \"raw_csv\"}),\n",
    "        ConvertStep(\n",
    "            csv_to_vaex_converter,\n",
    "            inputs={\"file_paths\": \"raw_csv\"},\n",
    "            outputs={\"data_schema\": \"clean_data_schema\", \"dataframe\": \"clean_df\"},\n",
    "        ),\n",
    "        SplitStep(\n",
    "            random_splitter_90_10,\n",
    "            inputs={\"dataframe\": \"clean_df\"},\n",
    "            outputs={\"dataframe_1\": \"train_val_df\", \"dataframe_2\": \"test_df\"},\n",
    "            cache_group=\"train_val_test\",\n",
    "        ),\n",
    "        TransformStep(\n",
    "            composite_transformer,\n",
    "            action=\"fit_transform\",\n",
    "            inputs={\"data_schema\": \"clean_data_schema\", \"dataframe\": \"train_val_df\"},\n",
    "            outputs={\n",
    "                \"data_schema\": \"transform_data_schema\",\n",
    "                \"dataframe\": \"transform_train_val_df\",\n",
    "                \"transformer\": \"composite_transformer\",\n",
    "            },\n",
    "            cache_group=\"train_val\",\n",
    "        ),\n",
    "        TransformStep(\n",
    "            composite_transformer,\n",
    "            action=\"transform\",\n",
    "            inputs={\"data_schema\": \"clean_data_schema\", \"dataframe\": \"test_df\"},\n",
    "            outputs={\n",
    "                \"data_schema\": \"transform_data_schema\",\n",
    "                \"dataframe\": \"transform_test_df\",\n",
    "            },\n",
    "            cache_group=\"test\",\n",
    "        ),\n",
    "        FeatureSelectStep(\n",
    "            composite_feature_selector,\n",
    "            action=\"fit_transform\",\n",
    "            inputs={\"data_schema\": \"transform_data_schema\", \"dataframe\": \"transform_train_val_df\"},\n",
    "            outputs={\n",
    "                \"data_schema\": \"data_schema\",\n",
    "                \"dataframe\": \"selected_train_val_df\",\n",
    "                \"feature_selector\": \"composite_feature_selector\",\n",
    "            },\n",
    "            cache_group=\"train_val\",\n",
    "        ),\n",
    "        FeatureSelectStep(\n",
    "            composite_feature_selector,\n",
    "            action=\"transform\",\n",
    "            inputs={\"data_schema\": \"transform_data_schema\", \"dataframe\": \"transform_test_df\"},\n",
    "            outputs={\"data_schema\": \"data_schema\", \"dataframe\": \"test_df\"},\n",
    "            cache_group=\"test\",\n",
    "        ),\n",
    "        SplitStep(\n",
    "            random_splitter_80_20,\n",
    "            inputs={\"dataframe\": \"selected_train_val_df\"},\n",
    "            outputs={\"dataframe_1\": \"train_df\", \"dataframe_2\": \"val_df\"},\n",
    "            cache_group=\"train_val\",\n",
    "        ),\n",
    "        FilterStep(\n",
    "            resampler,\n",
    "            inputs={\"data_schema\": \"data_schema\", \"dataframe\": \"train_df\"},\n",
    "            outputs={\"dataframe\": \"resampled_train_df\"},\n",
    "        ),\n",
    "    ]\n",
    ")"
   ]
  },
  {
   "cell_type": "markdown",
   "metadata": {},
   "source": [
    "Print `Pipeline` steps to see the order in which they will be executed, for double-checking.\n"
   ]
  },
  {
   "cell_type": "code",
   "execution_count": 124,
   "metadata": {},
   "outputs": [
    {
     "data": {
      "text/plain": [
       "Pipeline:\n",
       "  1. IngestStep(ingester=KaggleIngester(file_pattern='*', dataset_id=None, cache_directory='data/kaggle-ingester', dataset_version=None, kaggle_api_credentials_file=None, num_workers=64, owner_slug='yasserh', dataset_slug='titanic-dataset'), inputs={}, outputs={'file_paths': 'raw_csv'})\n",
       "  2. ConvertStep(converter=CSVToVaexConverter(forced_numerical_columns=(), forced_categorical_columns=(), forced_boolean_columns=(), drop_columns=['Ticket'], meta_columns=['PassengerId', 'Survived'], drop_rows_with_na_columns=['Survived'], na_values=('-9998', '-9998.0', '-9999', '-9999.0', '-99', '-99.0', 'nan', 'none', 'non', 'Nan', 'None', 'Non', '', 'N/A', 'N/a', 'unknown', 'missing'), true_values=('t', 'True', 'true', '1'), false_values=('f', 'False', 'false', '0'), downcast_float=False, random_state=1337, num_workers=12, cache_directory='data/csv-to-vaex-converter', cache_size=1), cache_group=None, inputs={'file_paths': 'raw_csv'}, outputs={'data_schema': 'clean_data_schema', 'dataframe': 'clean_df'})\n",
       "  3. SplitStep(splitter=RandomSplitter(data_split=(0.9, 0.1), shuffle=True, stratify='Survived', random_state=1337, cache_directory='data/random-splitter', cache_size=1), cache_group='train_val_test', inputs={'dataframe': 'clean_df'}, outputs={'dataframe_1': 'train_val_df', 'dataframe_2': 'test_df'})\n",
       "  4. TransformStep(transformer=CompositeTransformer(cache_directory='data/composite-transformer', cache_size=1, transformers=[FeatureDropperTransformer(cache_directory='data/feature-dropper-transformer', cache_size=1, features=['Name']), IsAloneTransformer(cache_directory='data/is-alone-transformer', cache_size=1), LabelEncoderTransformer(label_dict=None, allow_unseen=False, encode_null=False, cache_directory='data/label-encoder-transformer', cache_size=1, features=['Sex', 'Embarked'])]), cache_group='train_val', action='fit_transform', inputs={'data_schema': 'clean_data_schema', 'dataframe': 'train_val_df'}, outputs={'data_schema': 'transform_data_schema', 'dataframe': 'transform_train_val_df', 'transformer': 'composite_transformer'})\n",
       "  5. TransformStep(transformer=CompositeTransformer(cache_directory='data/composite-transformer', cache_size=1, transformers=[FeatureDropperTransformer(cache_directory='data/feature-dropper-transformer', cache_size=1, features=['Name']), IsAloneTransformer(cache_directory='data/is-alone-transformer', cache_size=1), LabelEncoderTransformer(label_dict=None, allow_unseen=False, encode_null=False, cache_directory='data/label-encoder-transformer', cache_size=1, features=['Sex', 'Embarked'])]), cache_group='test', action='transform', inputs={'data_schema': 'clean_data_schema', 'dataframe': 'test_df'}, outputs={'data_schema': 'transform_data_schema', 'dataframe': 'transform_test_df'})\n",
       "  6. FeatureSelectStep(feature_selector=CompositeFeatureSelector(cache_directory='data/composite-feature-selector', cache_size=1, feature_selectors=[MissingRateFeatureSelector(features=None, ignore_features=['PassengerId', 'Survived'], cache_directory='data/missing-rate-feature-selector', cache_size=1, missing_rate_threshold=0.5), InvarianceFeatureSelector(features=None, ignore_features=['PassengerId', 'Survived'], cache_directory='data/invariance-feature-selector', cache_size=1), PearsonCorrelationFeatureSelector(features=None, ignore_features=['PassengerId', 'Survived'], cache_directory='data/pearson-correlation-feature-selector', cache_size=1, correlation_threshold=0.7)]), cache_group='train_val', action='fit_transform', inputs={'data_schema': 'transform_data_schema', 'dataframe': 'transform_train_val_df'}, outputs={'data_schema': 'data_schema', 'dataframe': 'selected_train_val_df', 'feature_selector': 'composite_feature_selector'})\n",
       "  7. FeatureSelectStep(feature_selector=CompositeFeatureSelector(cache_directory='data/composite-feature-selector', cache_size=1, feature_selectors=[MissingRateFeatureSelector(features=None, ignore_features=['PassengerId', 'Survived'], cache_directory='data/missing-rate-feature-selector', cache_size=1, missing_rate_threshold=0.5), InvarianceFeatureSelector(features=None, ignore_features=['PassengerId', 'Survived'], cache_directory='data/invariance-feature-selector', cache_size=1), PearsonCorrelationFeatureSelector(features=None, ignore_features=['PassengerId', 'Survived'], cache_directory='data/pearson-correlation-feature-selector', cache_size=1, correlation_threshold=0.7)]), cache_group='test', action='transform', inputs={'data_schema': 'transform_data_schema', 'dataframe': 'transform_test_df'}, outputs={'data_schema': 'data_schema', 'dataframe': 'test_df'})\n",
       "  8. SplitStep(splitter=RandomSplitter(data_split=(0.8, 0.2), shuffle=True, stratify='Survived', random_state=1337, cache_directory='data/random-splitter', cache_size=1), cache_group='train_val', inputs={'dataframe': 'selected_train_val_df'}, outputs={'dataframe_1': 'train_df', 'dataframe_2': 'val_df'})\n",
       "  9. FilterStep(filter=ImblearnSamplingFilter(sampler=RandomOverSampler(random_state=42), target_column='Survived', random_state=42, enable_logging=True, cache_directory='data/imblearn-sampling-filter', cache_size=1), cache_group=None, inputs={'data_schema': 'data_schema', 'dataframe': 'train_df'}, outputs={'dataframe': 'resampled_train_df'})"
      ]
     },
     "execution_count": 124,
     "metadata": {},
     "output_type": "execute_result"
    }
   ],
   "source": [
    "pre_pipeline"
   ]
  },
  {
   "cell_type": "markdown",
   "metadata": {},
   "source": [
    "Execute the pre-processing pipeline and store the output in `pre_data_container`.\n"
   ]
  },
  {
   "cell_type": "code",
   "execution_count": 126,
   "metadata": {},
   "outputs": [
    {
     "name": "stdout",
     "output_type": "stream",
     "text": [
      "[2024-03-22 15:58:57] [\u001b[1;32mINFO\u001b[0m] No data container provided. Creating an empty one. \u001b[1m(pipeline.py:78)\u001b[0m\n",
      "[2024-03-22 15:58:57] [\u001b[1;32mINFO\u001b[0m] Executing step 1/9: IngestStep. \u001b[1m(pipeline.py:82)\u001b[0m\n",
      "[2024-03-22 15:58:58] [\u001b[1;32mINFO\u001b[0m] Found 1 file(s) matching any of ['*'] in Kaggle dataset. \u001b[1m(kaggle_ingester.py:377)\u001b[0m\n",
      "[2024-03-22 15:58:58] [\u001b[1;32mINFO\u001b[0m] \u001b[32mCache Hit\u001b[0m: Local dataset is up to date with Kaggle, skipping download. \u001b[1m(kaggle_ingester.py:296)\u001b[0m\n",
      "[2024-03-22 15:58:58] [\u001b[1;32mINFO\u001b[0m] Finished step 1/9 execution. \u001b[1m(pipeline.py:84)\u001b[0m\n",
      "[2024-03-22 15:58:58] [\u001b[1;32mINFO\u001b[0m] Executing step 2/9: ConvertStep. \u001b[1m(pipeline.py:82)\u001b[0m\n",
      "[2024-03-22 15:58:58] [\u001b[1;32mINFO\u001b[0m] \u001b[32mCache Hit\u001b[0m (LRUCache) CSVToVaexConverter.convert: Using cached output. \u001b[1m(cache_mixin.py:163)\u001b[0m\n",
      "[2024-03-22 15:58:58] [\u001b[1;32mINFO\u001b[0m] Finished step 2/9 execution. \u001b[1m(pipeline.py:84)\u001b[0m\n",
      "[2024-03-22 15:58:58] [\u001b[1;32mINFO\u001b[0m] Executing step 3/9: SplitStep. \u001b[1m(pipeline.py:82)\u001b[0m\n",
      "[2024-03-22 15:58:58] [\u001b[1;32mINFO\u001b[0m] \u001b[32mCache Hit\u001b[0m (LRUCache) RandomSplitter.split: Using cached output. \u001b[1m(cache_mixin.py:163)\u001b[0m\n",
      "[2024-03-22 15:58:58] [\u001b[1;32mINFO\u001b[0m] Finished step 3/9 execution. \u001b[1m(pipeline.py:84)\u001b[0m\n",
      "[2024-03-22 15:58:58] [\u001b[1;32mINFO\u001b[0m] Executing step 4/9: TransformStep. \u001b[1m(pipeline.py:82)\u001b[0m\n",
      "[2024-03-22 15:58:58] [\u001b[1;32mINFO\u001b[0m] \u001b[32mCache Hit\u001b[0m (LRUCache) CompositeTransformer.fit_transform: Using cached output. \u001b[1m(cache_mixin.py:163)\u001b[0m\n",
      "[2024-03-22 15:58:58] [\u001b[1;32mINFO\u001b[0m] Finished step 4/9 execution. \u001b[1m(pipeline.py:84)\u001b[0m\n",
      "[2024-03-22 15:58:58] [\u001b[1;32mINFO\u001b[0m] Executing step 5/9: TransformStep. \u001b[1m(pipeline.py:82)\u001b[0m\n",
      "[2024-03-22 15:58:58] [\u001b[1;32mINFO\u001b[0m] \u001b[32mCache Hit\u001b[0m (LRUCache) CompositeTransformer.transform: Using cached output. \u001b[1m(cache_mixin.py:163)\u001b[0m\n",
      "[2024-03-22 15:58:58] [\u001b[1;32mINFO\u001b[0m] Finished step 5/9 execution. \u001b[1m(pipeline.py:84)\u001b[0m\n",
      "[2024-03-22 15:58:58] [\u001b[1;32mINFO\u001b[0m] Executing step 6/9: FeatureSelectStep. \u001b[1m(pipeline.py:82)\u001b[0m\n",
      "[2024-03-22 15:58:59] [\u001b[1;32mINFO\u001b[0m] \u001b[32mCache Hit\u001b[0m (LRUCache) CompositeFeatureSelector.fit_transform: Using cached output. \u001b[1m(cache_mixin.py:163)\u001b[0m\n",
      "[2024-03-22 15:58:59] [\u001b[1;32mINFO\u001b[0m] Finished step 6/9 execution. \u001b[1m(pipeline.py:84)\u001b[0m\n",
      "[2024-03-22 15:58:59] [\u001b[1;32mINFO\u001b[0m] Executing step 7/9: FeatureSelectStep. \u001b[1m(pipeline.py:82)\u001b[0m\n",
      "[2024-03-22 15:58:59] [\u001b[1;32mINFO\u001b[0m] \u001b[32mCache Hit\u001b[0m (LRUCache) CompositeFeatureSelector.transform: Using cached output. \u001b[1m(cache_mixin.py:163)\u001b[0m\n",
      "[2024-03-22 15:58:59] [\u001b[1;32mINFO\u001b[0m] Finished step 7/9 execution. \u001b[1m(pipeline.py:84)\u001b[0m\n",
      "[2024-03-22 15:58:59] [\u001b[1;32mINFO\u001b[0m] Executing step 8/9: SplitStep. \u001b[1m(pipeline.py:82)\u001b[0m\n",
      "[2024-03-22 15:58:59] [\u001b[1;32mINFO\u001b[0m] \u001b[32mCache Hit\u001b[0m (LRUCache) RandomSplitter.split: Using cached output. \u001b[1m(cache_mixin.py:163)\u001b[0m\n",
      "[2024-03-22 15:58:59] [\u001b[1;32mINFO\u001b[0m] Finished step 8/9 execution. \u001b[1m(pipeline.py:84)\u001b[0m\n",
      "[2024-03-22 15:58:59] [\u001b[1;32mINFO\u001b[0m] Executing step 9/9: FilterStep. \u001b[1m(pipeline.py:82)\u001b[0m\n",
      "[2024-03-22 15:58:59] [\u001b[1;32mINFO\u001b[0m] \u001b[32mCache Hit\u001b[0m (LRUCache) ImblearnSamplingFilter.filter: Using cached output. \u001b[1m(cache_mixin.py:163)\u001b[0m\n",
      "[2024-03-22 15:58:59] [\u001b[1;32mINFO\u001b[0m] Finished step 9/9 execution. \u001b[1m(pipeline.py:84)\u001b[0m\n"
     ]
    }
   ],
   "source": [
    "pre_data_container = pre_pipeline.run()"
   ]
  },
  {
   "cell_type": "markdown",
   "metadata": {},
   "source": [
    "## Model Pipeline\n"
   ]
  },
  {
   "cell_type": "code",
   "execution_count": 127,
   "metadata": {},
   "outputs": [],
   "source": [
    "optuna_tuner = OptunaTuner(\n",
    "    objective_function=objective,\n",
    "    cv_folds=cv_folds,\n",
    "    direction=\"maximize\",\n",
    "    num_trials=100,\n",
    "    random_state=RANDOM_STATE,\n",
    ")\n",
    "\n",
    "lgbm_model = LGBMModel(\n",
    "    objective=\"binary\",\n",
    "    target=TARGET_FEATURE,\n",
    "    num_iterations=200,\n",
    "    ignore_features=META_FEATURES,\n",
    "    metric=[\"average_precision\", \"auc\"],\n",
    ")"
   ]
  },
  {
   "cell_type": "code",
   "execution_count": 128,
   "metadata": {},
   "outputs": [],
   "source": [
    "from mleko.pipeline.steps import ModelStep, TuneStep\n",
    "\n",
    "\n",
    "model_pipeline = Pipeline(\n",
    "    steps=[\n",
    "        TuneStep(\n",
    "            optuna_tuner,\n",
    "            inputs={\"data_schema\": \"data_schema\", \"dataframe\": \"selected_train_val_df\"},\n",
    "            outputs={\"hyperparameters\": \"hyperparameters\", \"score\": \"best_tuning_score\", \"metadata\": \"optuna_study\"},\n",
    "        ),\n",
    "        ModelStep(\n",
    "            lgbm_model,\n",
    "            action=\"fit_transform\",\n",
    "            inputs={\n",
    "                \"data_schema\": \"data_schema\",\n",
    "                \"dataframe\": \"resampled_train_df\",\n",
    "                \"validation_dataframe\": \"val_df\",\n",
    "                \"hyperparameters\": \"hyperparameters\",\n",
    "            },\n",
    "            outputs={\n",
    "                \"model\": \"lgbm_model\",\n",
    "                \"metrics\": \"metrics\",\n",
    "                \"dataframe\": \"pred_resampled_train_df\",\n",
    "                \"validation_dataframe\": \"pred_val_df\",\n",
    "            },\n",
    "        ),\n",
    "        ModelStep(\n",
    "            lgbm_model,\n",
    "            action=\"transform\",\n",
    "            inputs={\"data_schema\": \"data_schema\", \"dataframe\": \"test_df\"},\n",
    "            outputs={\"dataframe\": \"pred_test_df\"},\n",
    "        ),\n",
    "    ]\n",
    ")"
   ]
  },
  {
   "cell_type": "markdown",
   "metadata": {},
   "source": [
    "Run the model pipeline by feeding the output of the pre-processing pipeline into it.\n"
   ]
  },
  {
   "cell_type": "code",
   "execution_count": 130,
   "metadata": {},
   "outputs": [
    {
     "name": "stdout",
     "output_type": "stream",
     "text": [
      "[2024-03-22 16:02:29] [\u001b[1;32mINFO\u001b[0m] Executing step 1/3: TuneStep. \u001b[1m(pipeline.py:82)\u001b[0m\n",
      "[2024-03-22 16:02:29] [\u001b[1;32mINFO\u001b[0m] \u001b[32mCache Hit\u001b[0m (LRUCache) OptunaTuner.tune: Using cached output. \u001b[1m(cache_mixin.py:163)\u001b[0m\n",
      "[2024-03-22 16:02:29] [\u001b[1;32mINFO\u001b[0m] Finished step 1/3 execution. \u001b[1m(pipeline.py:84)\u001b[0m\n",
      "[2024-03-22 16:02:29] [\u001b[1;32mINFO\u001b[0m] Executing step 2/3: ModelStep. \u001b[1m(pipeline.py:82)\u001b[0m\n",
      "[2024-03-22 16:02:29] [\u001b[1;32mINFO\u001b[0m] \u001b[32mCache Hit\u001b[0m (LRUCache) LGBMModel.fit_transform: Using cached output. \u001b[1m(cache_mixin.py:163)\u001b[0m\n",
      "[2024-03-22 16:02:29] [\u001b[1;32mINFO\u001b[0m] Finished step 2/3 execution. \u001b[1m(pipeline.py:84)\u001b[0m\n",
      "[2024-03-22 16:02:29] [\u001b[1;32mINFO\u001b[0m] Executing step 3/3: ModelStep. \u001b[1m(pipeline.py:82)\u001b[0m\n",
      "[2024-03-22 16:02:29] [\u001b[1;32mINFO\u001b[0m] \u001b[32mCache Hit\u001b[0m (LRUCache) LGBMModel.transform: Using cached output. \u001b[1m(cache_mixin.py:163)\u001b[0m\n",
      "[2024-03-22 16:02:29] [\u001b[1;32mINFO\u001b[0m] Finished step 3/3 execution. \u001b[1m(pipeline.py:84)\u001b[0m\n"
     ]
    }
   ],
   "source": [
    "data_container = model_pipeline.run(data_container=pre_data_container)\n",
    "result = data_container.data"
   ]
  },
  {
   "cell_type": "markdown",
   "metadata": {},
   "source": [
    "All results from each step are stored in the `data_container.data` object.\n"
   ]
  },
  {
   "cell_type": "code",
   "execution_count": 131,
   "metadata": {},
   "outputs": [
    {
     "data": {
      "image/png": "[encoded data removed]",
      "text/plain": [
       "<Figure size 640x480 with 1 Axes>"
      ]
     },
     "metadata": {},
     "output_type": "display_data"
    },
    {
     "data": {
      "image/png": "[encoded data removed]",
      "text/plain": [
       "<Figure size 640x480 with 1 Axes>"
      ]
     },
     "metadata": {},
     "output_type": "display_data"
    }
   ],
   "source": [
    "ax = lightgbm.plot_metric(result[\"metrics\"], metric=\"auc\")\n",
    "ax = lightgbm.plot_metric(result[\"metrics\"], metric=\"average_precision\")"
   ]
  },
  {
   "cell_type": "code",
   "execution_count": null,
   "metadata": {},
   "outputs": [],
   "source": []
  }
 ],
 "metadata": {
  "kernelspec": {
   "display_name": ".venv",
   "language": "python",
   "name": "python3"
  },
  "language_info": {
   "codemirror_mode": {
    "name": "ipython",
    "version": 3
   },
   "file_extension": ".py",
   "mimetype": "text/x-python",
   "name": "python",
   "nbconvert_exporter": "python",
   "pygments_lexer": "ipython3",
   "version": "3.8.17"
  },
  "orig_nbformat": 4
 },
 "nbformat": 4,
 "nbformat_minor": 2
}
