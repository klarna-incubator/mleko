{
  "cells": [
    {
      "cell_type": "code",
      "execution_count": 1,
      "metadata": {},
      "outputs": [],
      "source": [
        "%reload_ext autoreload\n",
        "%autoreload 2"
      ]
    },
    {
      "attachments": {},
      "cell_type": "markdown",
      "metadata": {},
      "source": [
        "# Imports\n",
        "Import the required classes and functions."
      ]
    },
    {
      "cell_type": "code",
      "execution_count": 2,
      "metadata": {},
      "outputs": [],
      "source": [
        "from mleko.dataset.convert import CSVToVaexConverter\n",
        "from mleko.dataset.ingest import KaggleIngester\n",
        "from mleko.dataset.split import RandomSplitter\n",
        "from mleko.dataset.transform import LabelEncoderTransformer, CompositeTransformer, MinMaxScalerTransformer\n",
        "from mleko.pipeline import Pipeline\n",
        "from mleko.pipeline.steps import ConvertStep, IngestStep, SplitStep, TransformStep\n"
      ]
    },
    {
      "attachments": {},
      "cell_type": "markdown",
      "metadata": {},
      "source": [
        "# Constants\n",
        "Define configuration variables."
      ]
    },
    {
      "cell_type": "code",
      "execution_count": 3,
      "metadata": {},
      "outputs": [],
      "source": [
        "# Kaggle dataset identifier\n",
        "OWNER_SLUG = \"jsphyg\"\n",
        "DATASET_SLUG = \"weather-dataset-rattle-package\"\n",
        "DATASET_NAME = f\"{OWNER_SLUG}/{DATASET_SLUG}\"\n",
        "\n",
        "# Dataset feature configuration\n",
        "TARGET_FEATURE = \"RainTomorrow\"\n",
        "DATE_FEATURES = [\"Date\"]\n",
        "META_FEATURES = [TARGET_FEATURE, DATE_FEATURES]\n",
        "\n",
        "# General Configuration\n",
        "RANDOM_STATE = 1337\n"
      ]
    },
    {
      "attachments": {},
      "cell_type": "markdown",
      "metadata": {},
      "source": [
        "# Pipeline Setup"
      ]
    },
    {
      "cell_type": "code",
      "execution_count": 30,
      "metadata": {},
      "outputs": [
        {
          "name": "stdout",
          "output_type": "stream",
          "text": [
            "[2023-07-07 17:25:25] [\u001b[1;32mINFO\u001b[0m] Attempting to fetch Kaggle API credentials from environment variables 'KAGGLE_USERNAME' and 'KAGGLE_KEY'. \u001b[1m(kaggle_ingester.py:74)\u001b[0m\n",
            "[2023-07-07 17:25:25] [\u001b[1;32mINFO\u001b[0m] Kaggle API credentials not found in environment variables, attempting to fetch from fallback path at ~/.kaggle/kaggle.json. \u001b[1m(kaggle_ingester.py:82)\u001b[0m\n",
            "[2023-07-07 17:25:25] [\u001b[1;32mINFO\u001b[0m] Kaggle credentials successfully fetched. \u001b[1m(kaggle_ingester.py:91)\u001b[0m\n"
          ]
        }
      ],
      "source": [
        "# Download the dataset from Kaggle\n",
        "kaggle_data_source = KaggleIngester(\n",
        "    destination_directory=f\"data/{DATASET_NAME}/raw\", owner_slug=OWNER_SLUG, dataset_slug=DATASET_SLUG\n",
        ")\n",
        "\n",
        "# Convert the CSV file to Apache Arrow format\n",
        "csv_to_arrow_converter = CSVToVaexConverter(\n",
        "    output_directory=f\"data/{DATASET_NAME}/converted\",\n",
        "    na_values=[\"NA\"],\n",
        "    true_values=[\"Yes\"],\n",
        "    false_values=[\"No\"],\n",
        "    downcast_float=True,\n",
        "    random_state=RANDOM_STATE,\n",
        ")\n",
        "\n",
        "# Divide the dataset into train and test sets\n",
        "random_data_splitter = RandomSplitter(\n",
        "    cache_directory=f\"data/{DATASET_NAME}/split\",\n",
        "    data_split=(0.80, 0.20),\n",
        "    shuffle=True,\n",
        "    stratify=TARGET_FEATURE,\n",
        "    random_state=RANDOM_STATE,\n",
        ")\n",
        "\n",
        "# Configure all the transformers in a grouped composite transformer\n",
        "# The transformers are applied in the order they are defined and can be chained as needed\n",
        "composite_transformer = CompositeTransformer(\n",
        "    cache_directory=f\"data/{DATASET_NAME}/transform\",\n",
        "    transformers=[\n",
        "        LabelEncoderTransformer(cache_directory=f\"data/{DATASET_NAME}/transform\", features=[\"WindGustDir\", \"WindDir9am\", \"WindDir3pm\"]),\n",
        "        MinMaxScalerTransformer(\n",
        "            cache_directory=f\"data/{DATASET_NAME}/transform\", features=[\"WindGustSpeed\"], min_value=1, max_value=2\n",
        "        ),\n",
        "    ],\n",
        ")\n",
        "\n",
        "# Configure the pipeline and the data flow\n",
        "pipeline = Pipeline(\n",
        "    steps=[\n",
        "        IngestStep(kaggle_data_source, outputs=[\"raw_csv\"]),\n",
        "        ConvertStep(csv_to_arrow_converter, inputs=[\"raw_csv\"], outputs=[\"df_clean\"]),\n",
        "        SplitStep(random_data_splitter, inputs=[\"df_clean\"], outputs=[\"df_clean_train_validate\", \"df_clean_test\"]),\n",
        "        TransformStep(\n",
        "            composite_transformer,\n",
        "            fit=True,\n",
        "            inputs=[\"df_clean_train_validate\"],\n",
        "            outputs=[\"df_transformed_train_validate\"],\n",
        "            cache_group=\"fit_transform_train_validate\",\n",
        "        ),\n",
        "        TransformStep(\n",
        "            composite_transformer,\n",
        "            fit=False,\n",
        "            inputs=[\"df_clean_test\"],\n",
        "            outputs=[\"df_transformed_test\"],\n",
        "            cache_group=\"fit_transform_test\",\n",
        "        ),\n",
        "    ]\n",
        ")"
      ]
    },
    {
      "attachments": {},
      "cell_type": "markdown",
      "metadata": {},
      "source": [
        "# Run Pipeline"
      ]
    },
    {
      "cell_type": "code",
      "execution_count": 31,
      "metadata": {},
      "outputs": [
        {
          "name": "stdout",
          "output_type": "stream",
          "text": [
            "[2023-07-07 17:25:27] [\u001b[1;32mINFO\u001b[0m] No data container provided. Creating an empty one. \u001b[1m(pipeline.py:77)\u001b[0m\n",
            "[2023-07-07 17:25:27] [\u001b[1;32mINFO\u001b[0m] Executing step 1/5: IngestStep. \u001b[1m(pipeline.py:81)\u001b[0m\n",
            "[2023-07-07 17:25:27] [\u001b[1;32mINFO\u001b[0m] \u001b[32mCache Hit\u001b[0m: Local dataset is up to date with Kaggle, skipping download. \u001b[1m(kaggle_ingester.py:279)\u001b[0m\n",
            "[2023-07-07 17:25:27] [\u001b[1;32mINFO\u001b[0m] Finished step 1/5 execution. \u001b[1m(pipeline.py:83)\u001b[0m\n",
            "[2023-07-07 17:25:27] [\u001b[1;32mINFO\u001b[0m] Executing step 2/5: ConvertStep. \u001b[1m(pipeline.py:81)\u001b[0m\n",
            "[2023-07-07 17:25:27] [\u001b[1;32mINFO\u001b[0m] \u001b[32mCache Hit\u001b[0m (LRUCache) CSVToVaexConverter.convert: Using cached output. \u001b[1m(cache_mixin.py:157)\u001b[0m\n",
            "[2023-07-07 17:25:27] [\u001b[1;32mINFO\u001b[0m] Finished step 2/5 execution. \u001b[1m(pipeline.py:83)\u001b[0m\n",
            "[2023-07-07 17:25:27] [\u001b[1;32mINFO\u001b[0m] Executing step 3/5: SplitStep. \u001b[1m(pipeline.py:81)\u001b[0m\n",
            "[2023-07-07 17:25:27] [\u001b[1;32mINFO\u001b[0m] \u001b[32mCache Hit\u001b[0m (LRUCache) RandomSplitter.split: Using cached output. \u001b[1m(cache_mixin.py:157)\u001b[0m\n",
            "[2023-07-07 17:25:27] [\u001b[1;32mINFO\u001b[0m] Finished step 3/5 execution. \u001b[1m(pipeline.py:83)\u001b[0m\n",
            "[2023-07-07 17:25:27] [\u001b[1;32mINFO\u001b[0m] Executing step 4/5: TransformStep. \u001b[1m(pipeline.py:81)\u001b[0m\n",
            "[2023-07-07 17:25:27] [\u001b[1;32mINFO\u001b[0m] \u001b[31mCache Miss\u001b[0m (LRUCache) CompositeTransformer.transform: Executing method. \u001b[1m(cache_mixin.py:162)\u001b[0m\n",
            "[2023-07-07 17:25:27] [\u001b[1;32mINFO\u001b[0m] Executing composite feature transformation step 1/2: LabelEncoderTransformer. \u001b[1m(composite_transformer.py:126)\u001b[0m\n",
            "[2023-07-07 17:25:27] [\u001b[1;32mINFO\u001b[0m] Fitting label encoder transformer (3): ('WindGustDir', 'WindDir9am', 'WindDir3pm'). \u001b[1m(label_encoder_transformer.py:123)\u001b[0m\n",
            "[2023-07-07 17:25:28] [\u001b[1;32mINFO\u001b[0m] Transforming features using label encoding (3): ('WindGustDir', 'WindDir9am', 'WindDir3pm'). \u001b[1m(label_encoder_transformer.py:113)\u001b[0m\n",
            "[2023-07-07 17:25:28] [\u001b[1;32mINFO\u001b[0m] Finished composite transformation step 1/2. \u001b[1m(composite_transformer.py:132)\u001b[0m\n",
            "[2023-07-07 17:25:28] [\u001b[1;32mINFO\u001b[0m] Executing composite feature transformation step 2/2: MinMaxScalerTransformer. \u001b[1m(composite_transformer.py:126)\u001b[0m\n",
            "[2023-07-07 17:25:28] [\u001b[1;32mINFO\u001b[0m] Fitting min-max scaler transformer (1): ('WindGustSpeed',). \u001b[1m(min_max_scaler_transformer.py:126)\u001b[0m\n",
            "[2023-07-07 17:25:28] [\u001b[1;32mINFO\u001b[0m] Transforming features using min-max scaling (1): ('WindGustSpeed',). \u001b[1m(min_max_scaler_transformer.py:116)\u001b[0m\n",
            "[2023-07-07 17:25:28] [\u001b[1;32mINFO\u001b[0m] Finished composite transformation step 2/2. \u001b[1m(composite_transformer.py:132)\u001b[0m\n"
          ]
        },
        {
          "data": {
            "application/vnd.jupyter.widget-view+json": {
              "model_id": "b800a8ffdc71472fb64b08e1f8cda1dc",
              "version_major": 2,
              "version_minor": 0
            },
            "text/plain": [
              "Writing DataFrame to .arrow file:   0%|          | 0/100 [00:00<?, ?it/s]"
            ]
          },
          "metadata": {},
          "output_type": "display_data"
        },
        {
          "name": "stdout",
          "output_type": "stream",
          "text": [
            "[2023-07-07 17:25:28] [\u001b[1;32mINFO\u001b[0m] Saving transformer to data/jsphyg/weather-dataset-rattle-package/transform/CompositeTransformer.transform.fa4cae8748fc8fe45007d67b5999f33e.pkl. \u001b[1m(base_transformer.py:101)\u001b[0m\n",
            "[2023-07-07 17:25:28] [\u001b[1;32mINFO\u001b[0m] Finished step 4/5 execution. \u001b[1m(pipeline.py:83)\u001b[0m\n",
            "[2023-07-07 17:25:28] [\u001b[1;32mINFO\u001b[0m] Executing step 5/5: TransformStep. \u001b[1m(pipeline.py:81)\u001b[0m\n",
            "[2023-07-07 17:25:28] [\u001b[1;32mINFO\u001b[0m] \u001b[31mCache Miss\u001b[0m (LRUCache) CompositeTransformer.transform: Executing method. \u001b[1m(cache_mixin.py:162)\u001b[0m\n",
            "[2023-07-07 17:25:28] [\u001b[1;32mINFO\u001b[0m] Executing composite feature transformation step 1/2: LabelEncoderTransformer. \u001b[1m(composite_transformer.py:126)\u001b[0m\n",
            "[2023-07-07 17:25:28] [\u001b[1;32mINFO\u001b[0m] Transforming features using label encoding (3): ('WindGustDir', 'WindDir9am', 'WindDir3pm'). \u001b[1m(label_encoder_transformer.py:113)\u001b[0m\n",
            "[2023-07-07 17:25:28] [\u001b[1;32mINFO\u001b[0m] Finished composite transformation step 1/2. \u001b[1m(composite_transformer.py:132)\u001b[0m\n",
            "[2023-07-07 17:25:28] [\u001b[1;32mINFO\u001b[0m] Executing composite feature transformation step 2/2: MinMaxScalerTransformer. \u001b[1m(composite_transformer.py:126)\u001b[0m\n",
            "[2023-07-07 17:25:28] [\u001b[1;32mINFO\u001b[0m] Transforming features using min-max scaling (1): ('WindGustSpeed',). \u001b[1m(min_max_scaler_transformer.py:116)\u001b[0m\n",
            "[2023-07-07 17:25:28] [\u001b[1;32mINFO\u001b[0m] Finished composite transformation step 2/2. \u001b[1m(composite_transformer.py:132)\u001b[0m\n"
          ]
        },
        {
          "data": {
            "application/vnd.jupyter.widget-view+json": {
              "model_id": "68ed6d8f828149f18216e9a8b4e6c5d3",
              "version_major": 2,
              "version_minor": 0
            },
            "text/plain": [
              "Writing DataFrame to .arrow file:   0%|          | 0/100 [00:00<?, ?it/s]"
            ]
          },
          "metadata": {},
          "output_type": "display_data"
        },
        {
          "name": "stdout",
          "output_type": "stream",
          "text": [
            "[2023-07-07 17:25:28] [\u001b[1;32mINFO\u001b[0m] Finished step 5/5 execution. \u001b[1m(pipeline.py:83)\u001b[0m\n"
          ]
        }
      ],
      "source": [
        "data_container =  pipeline.run().data"
      ]
    },
    {
      "cell_type": "code",
      "execution_count": 28,
      "metadata": {},
      "outputs": [
        {
          "data": {
            "text/html": [
              "<table>\n",
              "<thead>\n",
              "<tr><th>#                                  </th><th>Date               </th><th>Location  </th><th>MinTemp  </th><th>MaxTemp  </th><th>Rainfall  </th><th>Evaporation  </th><th>Sunshine  </th><th>WindGustDir  </th><th>WindGustSpeed  </th><th>WindDir9am  </th><th>WindDir3pm  </th><th>WindSpeed9am  </th><th>WindSpeed3pm  </th><th>Humidity9am  </th><th>Humidity3pm  </th><th>Pressure9am  </th><th>Pressure3pm  </th><th>Cloud9am  </th><th>Cloud3pm  </th><th>Temp9am  </th><th>Temp3pm  </th><th>RainToday  </th><th>RainTomorrow  </th></tr>\n",
              "</thead>\n",
              "<tbody>\n",
              "<tr><td><i style='opacity: 0.6'>0</i>      </td><td>2008-12-01 00:00:00</td><td>Albury    </td><td>13.4     </td><td>22.9     </td><td>0.6       </td><td>--           </td><td>--        </td><td>W            </td><td>44             </td><td>W           </td><td>WNW         </td><td>20            </td><td>24            </td><td>71           </td><td>22           </td><td>1007.7       </td><td>1007.1       </td><td>8         </td><td>--        </td><td>16.9     </td><td>21.8     </td><td>False      </td><td>False         </td></tr>\n",
              "<tr><td><i style='opacity: 0.6'>1</i>      </td><td>2008-12-02 00:00:00</td><td>Albury    </td><td>7.4      </td><td>25.1     </td><td>0.0       </td><td>--           </td><td>--        </td><td>WNW          </td><td>44             </td><td>NNW         </td><td>WSW         </td><td>4             </td><td>22            </td><td>44           </td><td>25           </td><td>1010.6       </td><td>1007.8       </td><td>--        </td><td>--        </td><td>17.2     </td><td>24.3     </td><td>False      </td><td>False         </td></tr>\n",
              "<tr><td><i style='opacity: 0.6'>2</i>      </td><td>2008-12-03 00:00:00</td><td>Albury    </td><td>12.9     </td><td>25.7     </td><td>0.0       </td><td>--           </td><td>--        </td><td>WSW          </td><td>46             </td><td>W           </td><td>WSW         </td><td>19            </td><td>26            </td><td>38           </td><td>30           </td><td>1007.6       </td><td>1008.7       </td><td>--        </td><td>2         </td><td>21.0     </td><td>23.2     </td><td>False      </td><td>False         </td></tr>\n",
              "<tr><td><i style='opacity: 0.6'>3</i>      </td><td>2008-12-04 00:00:00</td><td>Albury    </td><td>9.2      </td><td>28.0     </td><td>0.0       </td><td>--           </td><td>--        </td><td>NE           </td><td>24             </td><td>SE          </td><td>E           </td><td>11            </td><td>9             </td><td>45           </td><td>16           </td><td>1017.6       </td><td>1012.8       </td><td>--        </td><td>--        </td><td>18.1     </td><td>26.5     </td><td>False      </td><td>False         </td></tr>\n",
              "<tr><td><i style='opacity: 0.6'>4</i>      </td><td>2008-12-05 00:00:00</td><td>Albury    </td><td>17.5     </td><td>32.3     </td><td>1.0       </td><td>--           </td><td>--        </td><td>W            </td><td>41             </td><td>ENE         </td><td>NW          </td><td>7             </td><td>20            </td><td>82           </td><td>33           </td><td>1010.8       </td><td>1006.0       </td><td>7         </td><td>8         </td><td>17.8     </td><td>29.7     </td><td>False      </td><td>False         </td></tr>\n",
              "<tr><td>...                                </td><td>...                </td><td>...       </td><td>...      </td><td>...      </td><td>...       </td><td>...          </td><td>...       </td><td>...          </td><td>...            </td><td>...         </td><td>...         </td><td>...           </td><td>...           </td><td>...          </td><td>...          </td><td>...          </td><td>...          </td><td>...       </td><td>...       </td><td>...      </td><td>...      </td><td>...        </td><td>...           </td></tr>\n",
              "<tr><td><i style='opacity: 0.6'>116,363</i></td><td>2017-06-21 00:00:00</td><td>Uluru     </td><td>2.8      </td><td>23.4     </td><td>0.0       </td><td>--           </td><td>--        </td><td>E            </td><td>31             </td><td>SE          </td><td>ENE         </td><td>13            </td><td>11            </td><td>51           </td><td>24           </td><td>1024.6       </td><td>1020.3       </td><td>--        </td><td>--        </td><td>10.1     </td><td>22.4     </td><td>False      </td><td>False         </td></tr>\n",
              "<tr><td><i style='opacity: 0.6'>116,364</i></td><td>2017-06-22 00:00:00</td><td>Uluru     </td><td>3.6      </td><td>25.3     </td><td>0.0       </td><td>--           </td><td>--        </td><td>NNW          </td><td>22             </td><td>SE          </td><td>N           </td><td>13            </td><td>9             </td><td>56           </td><td>21           </td><td>1023.5       </td><td>1019.1       </td><td>--        </td><td>--        </td><td>10.9     </td><td>24.5     </td><td>False      </td><td>False         </td></tr>\n",
              "<tr><td><i style='opacity: 0.6'>116,365</i></td><td>2017-06-23 00:00:00</td><td>Uluru     </td><td>5.4      </td><td>26.9     </td><td>0.0       </td><td>--           </td><td>--        </td><td>N            </td><td>37             </td><td>SE          </td><td>WNW         </td><td>9             </td><td>9             </td><td>53           </td><td>24           </td><td>1021.0       </td><td>1016.8       </td><td>--        </td><td>--        </td><td>12.5     </td><td>26.1     </td><td>False      </td><td>False         </td></tr>\n",
              "<tr><td><i style='opacity: 0.6'>116,366</i></td><td>2017-06-24 00:00:00</td><td>Uluru     </td><td>7.8      </td><td>27.0     </td><td>0.0       </td><td>--           </td><td>--        </td><td>SE           </td><td>28             </td><td>SSE         </td><td>N           </td><td>13            </td><td>7             </td><td>51           </td><td>24           </td><td>1019.4       </td><td>1016.5       </td><td>3         </td><td>2         </td><td>15.1     </td><td>26.0     </td><td>False      </td><td>False         </td></tr>\n",
              "<tr><td><i style='opacity: 0.6'>116,367</i></td><td>2017-06-25 00:00:00</td><td>Uluru     </td><td>14.9     </td><td>--       </td><td>0.0       </td><td>--           </td><td>--        </td><td>--           </td><td>--             </td><td>ESE         </td><td>ESE         </td><td>17            </td><td>17            </td><td>62           </td><td>36           </td><td>1020.2       </td><td>1017.9       </td><td>8         </td><td>8         </td><td>15.0     </td><td>20.9     </td><td>False      </td><td>--            </td></tr>\n",
              "</tbody>\n",
              "</table>"
            ],
            "text/plain": [
              "#        Date                 Location    MinTemp    MaxTemp    Rainfall    Evaporation    Sunshine    WindGustDir    WindGustSpeed    WindDir9am    WindDir3pm    WindSpeed9am    WindSpeed3pm    Humidity9am    Humidity3pm    Pressure9am    Pressure3pm    Cloud9am    Cloud3pm    Temp9am    Temp3pm    RainToday    RainTomorrow\n",
              "0        2008-12-01 00:00:00  Albury      13.4       22.9       0.6         --             --          W              44               W             WNW           20              24              71             22             1007.7         1007.1         8           --          16.9       21.8       False        False\n",
              "1        2008-12-02 00:00:00  Albury      7.4        25.1       0.0         --             --          WNW            44               NNW           WSW           4               22              44             25             1010.6         1007.8         --          --          17.2       24.3       False        False\n",
              "2        2008-12-03 00:00:00  Albury      12.9       25.7       0.0         --             --          WSW            46               W             WSW           19              26              38             30             1007.6         1008.7         --          2           21.0       23.2       False        False\n",
              "3        2008-12-04 00:00:00  Albury      9.2        28.0       0.0         --             --          NE             24               SE            E             11              9               45             16             1017.6         1012.8         --          --          18.1       26.5       False        False\n",
              "4        2008-12-05 00:00:00  Albury      17.5       32.3       1.0         --             --          W              41               ENE           NW            7               20              82             33             1010.8         1006.0         7           8           17.8       29.7       False        False\n",
              "...      ...                  ...         ...        ...        ...         ...            ...         ...            ...              ...           ...           ...             ...             ...            ...            ...            ...            ...         ...         ...        ...        ...          ...\n",
              "116,363  2017-06-21 00:00:00  Uluru       2.8        23.4       0.0         --             --          E              31               SE            ENE           13              11              51             24             1024.6         1020.3         --          --          10.1       22.4       False        False\n",
              "116,364  2017-06-22 00:00:00  Uluru       3.6        25.3       0.0         --             --          NNW            22               SE            N             13              9               56             21             1023.5         1019.1         --          --          10.9       24.5       False        False\n",
              "116,365  2017-06-23 00:00:00  Uluru       5.4        26.9       0.0         --             --          N              37               SE            WNW           9               9               53             24             1021.0         1016.8         --          --          12.5       26.1       False        False\n",
              "116,366  2017-06-24 00:00:00  Uluru       7.8        27.0       0.0         --             --          SE             28               SSE           N             13              7               51             24             1019.4         1016.5         3           2           15.1       26.0       False        False\n",
              "116,367  2017-06-25 00:00:00  Uluru       14.9       --         0.0         --             --          --             --               ESE           ESE           17              17              62             36             1020.2         1017.9         8           8           15.0       20.9       False        --"
            ]
          },
          "execution_count": 28,
          "metadata": {},
          "output_type": "execute_result"
        }
      ],
      "source": [
        "data_container['df_clean_train_validate']"
      ]
    },
    {
      "cell_type": "code",
      "execution_count": 32,
      "metadata": {},
      "outputs": [
        {
          "data": {
            "text/html": [
              "<table>\n",
              "<thead>\n",
              "<tr><th>#                                  </th><th>Date               </th><th>Location  </th><th>MinTemp  </th><th>MaxTemp  </th><th>Rainfall  </th><th>Evaporation  </th><th>Sunshine  </th><th>WindGustDir  </th><th>WindGustSpeed     </th><th>WindDir9am  </th><th>WindDir3pm  </th><th>WindSpeed9am  </th><th>WindSpeed3pm  </th><th>Humidity9am  </th><th>Humidity3pm  </th><th>Pressure9am  </th><th>Pressure3pm  </th><th>Cloud9am  </th><th>Cloud3pm  </th><th>Temp9am  </th><th>Temp3pm  </th><th>RainToday  </th><th>RainTomorrow  </th></tr>\n",
              "</thead>\n",
              "<tbody>\n",
              "<tr><td><i style='opacity: 0.6'>0</i>      </td><td>2008-12-01 00:00:00</td><td>Albury    </td><td>13.4     </td><td>22.9     </td><td>0.6       </td><td>--           </td><td>--        </td><td>11           </td><td>1.2945736434108528</td><td>11          </td><td>10          </td><td>20            </td><td>24            </td><td>71           </td><td>22           </td><td>1007.7       </td><td>1007.1       </td><td>8         </td><td>--        </td><td>16.9     </td><td>21.8     </td><td>False      </td><td>False         </td></tr>\n",
              "<tr><td><i style='opacity: 0.6'>1</i>      </td><td>2008-12-02 00:00:00</td><td>Albury    </td><td>7.4      </td><td>25.1     </td><td>0.0       </td><td>--           </td><td>--        </td><td>10           </td><td>1.2945736434108528</td><td>16          </td><td>12          </td><td>4             </td><td>22            </td><td>44           </td><td>25           </td><td>1010.6       </td><td>1007.8       </td><td>--        </td><td>--        </td><td>17.2     </td><td>24.3     </td><td>False      </td><td>False         </td></tr>\n",
              "<tr><td><i style='opacity: 0.6'>2</i>      </td><td>2008-12-03 00:00:00</td><td>Albury    </td><td>12.9     </td><td>25.7     </td><td>0.0       </td><td>--           </td><td>--        </td><td>12           </td><td>1.310077519379845 </td><td>11          </td><td>12          </td><td>19            </td><td>26            </td><td>38           </td><td>30           </td><td>1007.6       </td><td>1008.7       </td><td>--        </td><td>2         </td><td>21.0     </td><td>23.2     </td><td>False      </td><td>False         </td></tr>\n",
              "<tr><td><i style='opacity: 0.6'>3</i>      </td><td>2008-12-04 00:00:00</td><td>Albury    </td><td>9.2      </td><td>28.0     </td><td>0.0       </td><td>--           </td><td>--        </td><td>2            </td><td>1.1395348837209303</td><td>4           </td><td>6           </td><td>11            </td><td>9             </td><td>45           </td><td>16           </td><td>1017.6       </td><td>1012.8       </td><td>--        </td><td>--        </td><td>18.1     </td><td>26.5     </td><td>False      </td><td>False         </td></tr>\n",
              "<tr><td><i style='opacity: 0.6'>4</i>      </td><td>2008-12-05 00:00:00</td><td>Albury    </td><td>17.5     </td><td>32.3     </td><td>1.0       </td><td>--           </td><td>--        </td><td>11           </td><td>1.2713178294573644</td><td>15          </td><td>7           </td><td>7             </td><td>20            </td><td>82           </td><td>33           </td><td>1010.8       </td><td>1006.0       </td><td>7         </td><td>8         </td><td>17.8     </td><td>29.7     </td><td>False      </td><td>False         </td></tr>\n",
              "<tr><td>...                                </td><td>...                </td><td>...       </td><td>...      </td><td>...      </td><td>...       </td><td>...          </td><td>...       </td><td>...          </td><td>...               </td><td>...         </td><td>...         </td><td>...           </td><td>...           </td><td>...          </td><td>...          </td><td>...          </td><td>...          </td><td>...       </td><td>...       </td><td>...      </td><td>...      </td><td>...        </td><td>...           </td></tr>\n",
              "<tr><td><i style='opacity: 0.6'>116,363</i></td><td>2017-06-21 00:00:00</td><td>Uluru     </td><td>2.8      </td><td>23.4     </td><td>0.0       </td><td>--           </td><td>--        </td><td>6            </td><td>1.193798449612403 </td><td>4           </td><td>15          </td><td>13            </td><td>11            </td><td>51           </td><td>24           </td><td>1024.6       </td><td>1020.3       </td><td>--        </td><td>--        </td><td>10.1     </td><td>22.4     </td><td>False      </td><td>False         </td></tr>\n",
              "<tr><td><i style='opacity: 0.6'>116,364</i></td><td>2017-06-22 00:00:00</td><td>Uluru     </td><td>3.6      </td><td>25.3     </td><td>0.0       </td><td>--           </td><td>--        </td><td>16           </td><td>1.124031007751938 </td><td>4           </td><td>3           </td><td>13            </td><td>9             </td><td>56           </td><td>21           </td><td>1023.5       </td><td>1019.1       </td><td>--        </td><td>--        </td><td>10.9     </td><td>24.5     </td><td>False      </td><td>False         </td></tr>\n",
              "<tr><td><i style='opacity: 0.6'>116,365</i></td><td>2017-06-23 00:00:00</td><td>Uluru     </td><td>5.4      </td><td>26.9     </td><td>0.0       </td><td>--           </td><td>--        </td><td>3            </td><td>1.2403100775193798</td><td>4           </td><td>10          </td><td>9             </td><td>9             </td><td>53           </td><td>24           </td><td>1021.0       </td><td>1016.8       </td><td>--        </td><td>--        </td><td>12.5     </td><td>26.1     </td><td>False      </td><td>False         </td></tr>\n",
              "<tr><td><i style='opacity: 0.6'>116,366</i></td><td>2017-06-24 00:00:00</td><td>Uluru     </td><td>7.8      </td><td>27.0     </td><td>0.0       </td><td>--           </td><td>--        </td><td>4            </td><td>1.1705426356589148</td><td>12          </td><td>3           </td><td>13            </td><td>7             </td><td>51           </td><td>24           </td><td>1019.4       </td><td>1016.5       </td><td>3         </td><td>2         </td><td>15.1     </td><td>26.0     </td><td>False      </td><td>False         </td></tr>\n",
              "<tr><td><i style='opacity: 0.6'>116,367</i></td><td>2017-06-25 00:00:00</td><td>Uluru     </td><td>14.9     </td><td>--       </td><td>0.0       </td><td>--           </td><td>--        </td><td>0            </td><td>--                </td><td>1           </td><td>1           </td><td>17            </td><td>17            </td><td>62           </td><td>36           </td><td>1020.2       </td><td>1017.9       </td><td>8         </td><td>8         </td><td>15.0     </td><td>20.9     </td><td>False      </td><td>--            </td></tr>\n",
              "</tbody>\n",
              "</table>"
            ],
            "text/plain": [
              "#        Date                 Location    MinTemp    MaxTemp    Rainfall    Evaporation    Sunshine    WindGustDir    WindGustSpeed       WindDir9am    WindDir3pm    WindSpeed9am    WindSpeed3pm    Humidity9am    Humidity3pm    Pressure9am    Pressure3pm    Cloud9am    Cloud3pm    Temp9am    Temp3pm    RainToday    RainTomorrow\n",
              "0        2008-12-01 00:00:00  Albury      13.4       22.9       0.6         --             --          11             1.2945736434108528  11            10            20              24              71             22             1007.7         1007.1         8           --          16.9       21.8       False        False\n",
              "1        2008-12-02 00:00:00  Albury      7.4        25.1       0.0         --             --          10             1.2945736434108528  16            12            4               22              44             25             1010.6         1007.8         --          --          17.2       24.3       False        False\n",
              "2        2008-12-03 00:00:00  Albury      12.9       25.7       0.0         --             --          12             1.310077519379845   11            12            19              26              38             30             1007.6         1008.7         --          2           21.0       23.2       False        False\n",
              "3        2008-12-04 00:00:00  Albury      9.2        28.0       0.0         --             --          2              1.1395348837209303  4             6             11              9               45             16             1017.6         1012.8         --          --          18.1       26.5       False        False\n",
              "4        2008-12-05 00:00:00  Albury      17.5       32.3       1.0         --             --          11             1.2713178294573644  15            7             7               20              82             33             1010.8         1006.0         7           8           17.8       29.7       False        False\n",
              "...      ...                  ...         ...        ...        ...         ...            ...         ...            ...                 ...           ...           ...             ...             ...            ...            ...            ...            ...         ...         ...        ...        ...          ...\n",
              "116,363  2017-06-21 00:00:00  Uluru       2.8        23.4       0.0         --             --          6              1.193798449612403   4             15            13              11              51             24             1024.6         1020.3         --          --          10.1       22.4       False        False\n",
              "116,364  2017-06-22 00:00:00  Uluru       3.6        25.3       0.0         --             --          16             1.124031007751938   4             3             13              9               56             21             1023.5         1019.1         --          --          10.9       24.5       False        False\n",
              "116,365  2017-06-23 00:00:00  Uluru       5.4        26.9       0.0         --             --          3              1.2403100775193798  4             10            9               9               53             24             1021.0         1016.8         --          --          12.5       26.1       False        False\n",
              "116,366  2017-06-24 00:00:00  Uluru       7.8        27.0       0.0         --             --          4              1.1705426356589148  12            3             13              7               51             24             1019.4         1016.5         3           2           15.1       26.0       False        False\n",
              "116,367  2017-06-25 00:00:00  Uluru       14.9       --         0.0         --             --          0              --                  1             1             17              17              62             36             1020.2         1017.9         8           8           15.0       20.9       False        --"
            ]
          },
          "execution_count": 32,
          "metadata": {},
          "output_type": "execute_result"
        }
      ],
      "source": [
        "data_container['df_transformed_train_validate']"
      ]
    },
    {
      "cell_type": "code",
      "execution_count": 33,
      "metadata": {},
      "outputs": [
        {
          "data": {
            "text/html": [
              "<table>\n",
              "<thead>\n",
              "<tr><th>#                                 </th><th>Date               </th><th>Location  </th><th>MinTemp  </th><th>MaxTemp  </th><th>Rainfall  </th><th>Evaporation  </th><th>Sunshine  </th><th>WindGustDir  </th><th>WindGustSpeed  </th><th>WindDir9am  </th><th>WindDir3pm  </th><th>WindSpeed9am  </th><th>WindSpeed3pm  </th><th>Humidity9am  </th><th>Humidity3pm  </th><th>Pressure9am  </th><th>Pressure3pm  </th><th>Cloud9am  </th><th>Cloud3pm  </th><th>Temp9am  </th><th>Temp3pm  </th><th>RainToday  </th><th>RainTomorrow  </th></tr>\n",
              "</thead>\n",
              "<tbody>\n",
              "<tr><td><i style='opacity: 0.6'>0</i>     </td><td>2008-12-09 00:00:00</td><td>Albury    </td><td>9.7      </td><td>31.9     </td><td>0.0       </td><td>--           </td><td>--        </td><td>NNW          </td><td>80             </td><td>SE          </td><td>NW          </td><td>7             </td><td>28            </td><td>42           </td><td>9            </td><td>1008.9       </td><td>1003.6       </td><td>--        </td><td>--        </td><td>18.3     </td><td>30.2     </td><td>False      </td><td>True          </td></tr>\n",
              "<tr><td><i style='opacity: 0.6'>1</i>     </td><td>2008-12-15 00:00:00</td><td>Albury    </td><td>8.4      </td><td>24.6     </td><td>0.0       </td><td>--           </td><td>--        </td><td>--           </td><td>--             </td><td>S           </td><td>WNW         </td><td>4             </td><td>30            </td><td>57           </td><td>32           </td><td>1009.7       </td><td>1008.7       </td><td>--        </td><td>--        </td><td>15.9     </td><td>23.5     </td><td>False      </td><td>--            </td></tr>\n",
              "<tr><td><i style='opacity: 0.6'>2</i>     </td><td>2008-12-20 00:00:00</td><td>Albury    </td><td>9.8      </td><td>25.6     </td><td>0.0       </td><td>--           </td><td>--        </td><td>SSE          </td><td>26             </td><td>SE          </td><td>NNW         </td><td>17            </td><td>6             </td><td>45           </td><td>26           </td><td>1019.2       </td><td>1017.1       </td><td>--        </td><td>--        </td><td>15.8     </td><td>23.2     </td><td>False      </td><td>False         </td></tr>\n",
              "<tr><td><i style='opacity: 0.6'>3</i>     </td><td>2008-12-24 00:00:00</td><td>Albury    </td><td>15.3     </td><td>30.9     </td><td>0.0       </td><td>--           </td><td>--        </td><td>N            </td><td>33             </td><td>ESE         </td><td>NW          </td><td>6             </td><td>13            </td><td>55           </td><td>23           </td><td>1011.0       </td><td>1008.2       </td><td>5         </td><td>--        </td><td>20.9     </td><td>29.0     </td><td>False      </td><td>False         </td></tr>\n",
              "<tr><td><i style='opacity: 0.6'>4</i>     </td><td>2008-12-27 00:00:00</td><td>Albury    </td><td>16.9     </td><td>33.0     </td><td>0.0       </td><td>--           </td><td>--        </td><td>WSW          </td><td>57             </td><td>--          </td><td>W           </td><td>0             </td><td>26            </td><td>41           </td><td>28           </td><td>1006.8       </td><td>1003.6       </td><td>--        </td><td>1         </td><td>26.6     </td><td>31.2     </td><td>False      </td><td>False         </td></tr>\n",
              "<tr><td>...                               </td><td>...                </td><td>...       </td><td>...      </td><td>...      </td><td>...       </td><td>...          </td><td>...       </td><td>...          </td><td>...            </td><td>...         </td><td>...         </td><td>...           </td><td>...           </td><td>...          </td><td>...          </td><td>...          </td><td>...          </td><td>...       </td><td>...       </td><td>...      </td><td>...      </td><td>...        </td><td>...           </td></tr>\n",
              "<tr><td><i style='opacity: 0.6'>29,087</i></td><td>2017-05-28 00:00:00</td><td>Uluru     </td><td>8.0      </td><td>24.6     </td><td>0.0       </td><td>--           </td><td>--        </td><td>E            </td><td>33             </td><td>SE          </td><td>ESE         </td><td>11            </td><td>13            </td><td>46           </td><td>25           </td><td>1021.7       </td><td>1018.8       </td><td>4         </td><td>--        </td><td>13.8     </td><td>23.5     </td><td>False      </td><td>False         </td></tr>\n",
              "<tr><td><i style='opacity: 0.6'>29,088</i></td><td>2017-05-31 00:00:00</td><td>Uluru     </td><td>5.4      </td><td>20.5     </td><td>0.0       </td><td>--           </td><td>--        </td><td>E            </td><td>46             </td><td>E           </td><td>E           </td><td>20            </td><td>28            </td><td>56           </td><td>32           </td><td>1029.2       </td><td>1025.3       </td><td>--        </td><td>--        </td><td>11.1     </td><td>20.2     </td><td>False      </td><td>False         </td></tr>\n",
              "<tr><td><i style='opacity: 0.6'>29,089</i></td><td>2017-06-04 00:00:00</td><td>Uluru     </td><td>4.5      </td><td>18.8     </td><td>0.0       </td><td>--           </td><td>--        </td><td>E            </td><td>31             </td><td>ESE         </td><td>E           </td><td>13            </td><td>15            </td><td>42           </td><td>26           </td><td>1026.9       </td><td>1022.4       </td><td>--        </td><td>--        </td><td>9.5      </td><td>18.6     </td><td>False      </td><td>False         </td></tr>\n",
              "<tr><td><i style='opacity: 0.6'>29,090</i></td><td>2017-06-05 00:00:00</td><td>Uluru     </td><td>4.9      </td><td>20.7     </td><td>0.0       </td><td>--           </td><td>--        </td><td>E            </td><td>37             </td><td>ESE         </td><td>ESE         </td><td>17            </td><td>24            </td><td>38           </td><td>11           </td><td>1027.1       </td><td>1023.9       </td><td>--        </td><td>--        </td><td>10.3     </td><td>19.8     </td><td>False      </td><td>False         </td></tr>\n",
              "<tr><td><i style='opacity: 0.6'>29,091</i></td><td>2017-06-17 00:00:00</td><td>Uluru     </td><td>6.4      </td><td>23.4     </td><td>0.0       </td><td>--           </td><td>--        </td><td>ESE          </td><td>31             </td><td>S           </td><td>ESE         </td><td>15            </td><td>17            </td><td>53           </td><td>25           </td><td>1025.8       </td><td>1023.0       </td><td>--        </td><td>--        </td><td>11.2     </td><td>23.1     </td><td>False      </td><td>False         </td></tr>\n",
              "</tbody>\n",
              "</table>"
            ],
            "text/plain": [
              "#       Date                 Location    MinTemp    MaxTemp    Rainfall    Evaporation    Sunshine    WindGustDir    WindGustSpeed    WindDir9am    WindDir3pm    WindSpeed9am    WindSpeed3pm    Humidity9am    Humidity3pm    Pressure9am    Pressure3pm    Cloud9am    Cloud3pm    Temp9am    Temp3pm    RainToday    RainTomorrow\n",
              "0       2008-12-09 00:00:00  Albury      9.7        31.9       0.0         --             --          NNW            80               SE            NW            7               28              42             9              1008.9         1003.6         --          --          18.3       30.2       False        True\n",
              "1       2008-12-15 00:00:00  Albury      8.4        24.6       0.0         --             --          --             --               S             WNW           4               30              57             32             1009.7         1008.7         --          --          15.9       23.5       False        --\n",
              "2       2008-12-20 00:00:00  Albury      9.8        25.6       0.0         --             --          SSE            26               SE            NNW           17              6               45             26             1019.2         1017.1         --          --          15.8       23.2       False        False\n",
              "3       2008-12-24 00:00:00  Albury      15.3       30.9       0.0         --             --          N              33               ESE           NW            6               13              55             23             1011.0         1008.2         5           --          20.9       29.0       False        False\n",
              "4       2008-12-27 00:00:00  Albury      16.9       33.0       0.0         --             --          WSW            57               --            W             0               26              41             28             1006.8         1003.6         --          1           26.6       31.2       False        False\n",
              "...     ...                  ...         ...        ...        ...         ...            ...         ...            ...              ...           ...           ...             ...             ...            ...            ...            ...            ...         ...         ...        ...        ...          ...\n",
              "29,087  2017-05-28 00:00:00  Uluru       8.0        24.6       0.0         --             --          E              33               SE            ESE           11              13              46             25             1021.7         1018.8         4           --          13.8       23.5       False        False\n",
              "29,088  2017-05-31 00:00:00  Uluru       5.4        20.5       0.0         --             --          E              46               E             E             20              28              56             32             1029.2         1025.3         --          --          11.1       20.2       False        False\n",
              "29,089  2017-06-04 00:00:00  Uluru       4.5        18.8       0.0         --             --          E              31               ESE           E             13              15              42             26             1026.9         1022.4         --          --          9.5        18.6       False        False\n",
              "29,090  2017-06-05 00:00:00  Uluru       4.9        20.7       0.0         --             --          E              37               ESE           ESE           17              24              38             11             1027.1         1023.9         --          --          10.3       19.8       False        False\n",
              "29,091  2017-06-17 00:00:00  Uluru       6.4        23.4       0.0         --             --          ESE            31               S             ESE           15              17              53             25             1025.8         1023.0         --          --          11.2       23.1       False        False"
            ]
          },
          "execution_count": 33,
          "metadata": {},
          "output_type": "execute_result"
        }
      ],
      "source": [
        "data_container['df_clean_test']"
      ]
    },
    {
      "cell_type": "code",
      "execution_count": 36,
      "metadata": {},
      "outputs": [
        {
          "data": {
            "text/html": [
              "<table>\n",
              "<thead>\n",
              "<tr><th>#                                 </th><th>Date               </th><th>Location  </th><th>MinTemp  </th><th>MaxTemp  </th><th>Rainfall  </th><th>Evaporation  </th><th>Sunshine  </th><th>WindGustDir  </th><th>WindGustSpeed     </th><th>WindDir9am  </th><th>WindDir3pm  </th><th>WindSpeed9am  </th><th>WindSpeed3pm  </th><th>Humidity9am  </th><th>Humidity3pm  </th><th>Pressure9am  </th><th>Pressure3pm  </th><th>Cloud9am  </th><th>Cloud3pm  </th><th>Temp9am  </th><th>Temp3pm  </th><th>RainToday  </th><th>RainTomorrow  </th></tr>\n",
              "</thead>\n",
              "<tbody>\n",
              "<tr><td><i style='opacity: 0.6'>0</i>     </td><td>2008-12-09 00:00:00</td><td>Albury    </td><td>9.7      </td><td>31.9     </td><td>0.0       </td><td>--           </td><td>--        </td><td>16           </td><td>1.5736434108527133</td><td>4           </td><td>7           </td><td>7             </td><td>28            </td><td>42           </td><td>9            </td><td>1008.9       </td><td>1003.6       </td><td>--        </td><td>--        </td><td>18.3     </td><td>30.2     </td><td>False      </td><td>True          </td></tr>\n",
              "<tr><td><i style='opacity: 0.6'>1</i>     </td><td>2008-12-15 00:00:00</td><td>Albury    </td><td>8.4      </td><td>24.6     </td><td>0.0       </td><td>--           </td><td>--        </td><td>0            </td><td>--                </td><td>8           </td><td>10          </td><td>4             </td><td>30            </td><td>57           </td><td>32           </td><td>1009.7       </td><td>1008.7       </td><td>--        </td><td>--        </td><td>15.9     </td><td>23.5     </td><td>False      </td><td>--            </td></tr>\n",
              "<tr><td><i style='opacity: 0.6'>2</i>     </td><td>2008-12-20 00:00:00</td><td>Albury    </td><td>9.8      </td><td>25.6     </td><td>0.0       </td><td>--           </td><td>--        </td><td>13           </td><td>1.1550387596899225</td><td>4           </td><td>16          </td><td>17            </td><td>6             </td><td>45           </td><td>26           </td><td>1019.2       </td><td>1017.1       </td><td>--        </td><td>--        </td><td>15.8     </td><td>23.2     </td><td>False      </td><td>False         </td></tr>\n",
              "<tr><td><i style='opacity: 0.6'>3</i>     </td><td>2008-12-24 00:00:00</td><td>Albury    </td><td>15.3     </td><td>30.9     </td><td>0.0       </td><td>--           </td><td>--        </td><td>3            </td><td>1.2093023255813953</td><td>1           </td><td>7           </td><td>6             </td><td>13            </td><td>55           </td><td>23           </td><td>1011.0       </td><td>1008.2       </td><td>5         </td><td>--        </td><td>20.9     </td><td>29.0     </td><td>False      </td><td>False         </td></tr>\n",
              "<tr><td><i style='opacity: 0.6'>4</i>     </td><td>2008-12-27 00:00:00</td><td>Albury    </td><td>16.9     </td><td>33.0     </td><td>0.0       </td><td>--           </td><td>--        </td><td>12           </td><td>1.3953488372093024</td><td>0           </td><td>11          </td><td>0             </td><td>26            </td><td>41           </td><td>28           </td><td>1006.8       </td><td>1003.6       </td><td>--        </td><td>1         </td><td>26.6     </td><td>31.2     </td><td>False      </td><td>False         </td></tr>\n",
              "<tr><td>...                               </td><td>...                </td><td>...       </td><td>...      </td><td>...      </td><td>...       </td><td>...          </td><td>...       </td><td>...          </td><td>...               </td><td>...         </td><td>...         </td><td>...           </td><td>...           </td><td>...          </td><td>...          </td><td>...          </td><td>...          </td><td>...       </td><td>...       </td><td>...      </td><td>...      </td><td>...        </td><td>...           </td></tr>\n",
              "<tr><td><i style='opacity: 0.6'>29,087</i></td><td>2017-05-28 00:00:00</td><td>Uluru     </td><td>8.0      </td><td>24.6     </td><td>0.0       </td><td>--           </td><td>--        </td><td>6            </td><td>1.2093023255813953</td><td>4           </td><td>1           </td><td>11            </td><td>13            </td><td>46           </td><td>25           </td><td>1021.7       </td><td>1018.8       </td><td>4         </td><td>--        </td><td>13.8     </td><td>23.5     </td><td>False      </td><td>False         </td></tr>\n",
              "<tr><td><i style='opacity: 0.6'>29,088</i></td><td>2017-05-31 00:00:00</td><td>Uluru     </td><td>5.4      </td><td>20.5     </td><td>0.0       </td><td>--           </td><td>--        </td><td>6            </td><td>1.310077519379845 </td><td>6           </td><td>6           </td><td>20            </td><td>28            </td><td>56           </td><td>32           </td><td>1029.2       </td><td>1025.3       </td><td>--        </td><td>--        </td><td>11.1     </td><td>20.2     </td><td>False      </td><td>False         </td></tr>\n",
              "<tr><td><i style='opacity: 0.6'>29,089</i></td><td>2017-06-04 00:00:00</td><td>Uluru     </td><td>4.5      </td><td>18.8     </td><td>0.0       </td><td>--           </td><td>--        </td><td>6            </td><td>1.193798449612403 </td><td>1           </td><td>6           </td><td>13            </td><td>15            </td><td>42           </td><td>26           </td><td>1026.9       </td><td>1022.4       </td><td>--        </td><td>--        </td><td>9.5      </td><td>18.6     </td><td>False      </td><td>False         </td></tr>\n",
              "<tr><td><i style='opacity: 0.6'>29,090</i></td><td>2017-06-05 00:00:00</td><td>Uluru     </td><td>4.9      </td><td>20.7     </td><td>0.0       </td><td>--           </td><td>--        </td><td>6            </td><td>1.2403100775193798</td><td>1           </td><td>1           </td><td>17            </td><td>24            </td><td>38           </td><td>11           </td><td>1027.1       </td><td>1023.9       </td><td>--        </td><td>--        </td><td>10.3     </td><td>19.8     </td><td>False      </td><td>False         </td></tr>\n",
              "<tr><td><i style='opacity: 0.6'>29,091</i></td><td>2017-06-17 00:00:00</td><td>Uluru     </td><td>6.4      </td><td>23.4     </td><td>0.0       </td><td>--           </td><td>--        </td><td>1            </td><td>1.193798449612403 </td><td>8           </td><td>1           </td><td>15            </td><td>17            </td><td>53           </td><td>25           </td><td>1025.8       </td><td>1023.0       </td><td>--        </td><td>--        </td><td>11.2     </td><td>23.1     </td><td>False      </td><td>False         </td></tr>\n",
              "</tbody>\n",
              "</table>"
            ],
            "text/plain": [
              "#       Date                 Location    MinTemp    MaxTemp    Rainfall    Evaporation    Sunshine    WindGustDir    WindGustSpeed       WindDir9am    WindDir3pm    WindSpeed9am    WindSpeed3pm    Humidity9am    Humidity3pm    Pressure9am    Pressure3pm    Cloud9am    Cloud3pm    Temp9am    Temp3pm    RainToday    RainTomorrow\n",
              "0       2008-12-09 00:00:00  Albury      9.7        31.9       0.0         --             --          16             1.5736434108527133  4             7             7               28              42             9              1008.9         1003.6         --          --          18.3       30.2       False        True\n",
              "1       2008-12-15 00:00:00  Albury      8.4        24.6       0.0         --             --          0              --                  8             10            4               30              57             32             1009.7         1008.7         --          --          15.9       23.5       False        --\n",
              "2       2008-12-20 00:00:00  Albury      9.8        25.6       0.0         --             --          13             1.1550387596899225  4             16            17              6               45             26             1019.2         1017.1         --          --          15.8       23.2       False        False\n",
              "3       2008-12-24 00:00:00  Albury      15.3       30.9       0.0         --             --          3              1.2093023255813953  1             7             6               13              55             23             1011.0         1008.2         5           --          20.9       29.0       False        False\n",
              "4       2008-12-27 00:00:00  Albury      16.9       33.0       0.0         --             --          12             1.3953488372093024  0             11            0               26              41             28             1006.8         1003.6         --          1           26.6       31.2       False        False\n",
              "...     ...                  ...         ...        ...        ...         ...            ...         ...            ...                 ...           ...           ...             ...             ...            ...            ...            ...            ...         ...         ...        ...        ...          ...\n",
              "29,087  2017-05-28 00:00:00  Uluru       8.0        24.6       0.0         --             --          6              1.2093023255813953  4             1             11              13              46             25             1021.7         1018.8         4           --          13.8       23.5       False        False\n",
              "29,088  2017-05-31 00:00:00  Uluru       5.4        20.5       0.0         --             --          6              1.310077519379845   6             6             20              28              56             32             1029.2         1025.3         --          --          11.1       20.2       False        False\n",
              "29,089  2017-06-04 00:00:00  Uluru       4.5        18.8       0.0         --             --          6              1.193798449612403   1             6             13              15              42             26             1026.9         1022.4         --          --          9.5        18.6       False        False\n",
              "29,090  2017-06-05 00:00:00  Uluru       4.9        20.7       0.0         --             --          6              1.2403100775193798  1             1             17              24              38             11             1027.1         1023.9         --          --          10.3       19.8       False        False\n",
              "29,091  2017-06-17 00:00:00  Uluru       6.4        23.4       0.0         --             --          1              1.193798449612403   8             1             15              17              53             25             1025.8         1023.0         --          --          11.2       23.1       False        False"
            ]
          },
          "execution_count": 36,
          "metadata": {},
          "output_type": "execute_result"
        }
      ],
      "source": [
        "data_container['df_transformed_test']"
      ]
    },
    {
      "cell_type": "code",
      "execution_count": null,
      "metadata": {},
      "outputs": [],
      "source": []
    }
  ],
  "metadata": {
    "kernelspec": {
      "display_name": ".venv",
      "language": "python",
      "name": "python3"
    },
    "language_info": {
      "codemirror_mode": {
        "name": "ipython",
        "version": 3
      },
      "file_extension": ".py",
      "mimetype": "text/x-python",
      "name": "python",
      "nbconvert_exporter": "python",
      "pygments_lexer": "ipython3",
      "version": "3.8.17"
    },
    "orig_nbformat": 4,
    "vscode": {
      "interpreter": {
        "hash": "9611670ec755352ff717d7a41a0ab877947349e5431e69ecf0edefdfa5d80e71"
      }
    }
  },
  "nbformat": 4,
  "nbformat_minor": 2
}
