{
  "cells": [
    {
      "cell_type": "code",
      "execution_count": 1,
      "metadata": {},
      "outputs": [],
      "source": [
        "%reload_ext autoreload\n",
        "%autoreload 2"
      ]
    },
    {
      "attachments": {},
      "cell_type": "markdown",
      "metadata": {},
      "source": [
        "# Imports\n",
        "Import the required classes and functions."
      ]
    },
    {
      "cell_type": "code",
      "execution_count": 2,
      "metadata": {},
      "outputs": [],
      "source": [
        "from mleko.dataset.convert import CSVToVaexConverter\n",
        "from mleko.dataset.ingest import KaggleIngester\n",
        "from mleko.dataset.feature_select import CompositeFeatureSelector, MissingRateFeatureSelector, PearsonCorrelationFeatureSelector\n",
        "from mleko.dataset.split import RandomSplitter\n",
        "from mleko.dataset.transform import LabelEncoderTransformer, CompositeTransformer, MinMaxScalerTransformer\n",
        "from mleko.pipeline import Pipeline\n",
        "from mleko.pipeline.steps import ConvertStep, IngestStep, SplitStep, TransformStep, FeatureSelectStep\n",
        "\n",
        "from mleko.utils.custom_logger import CustomLogger\n",
        "import logging\n",
        "\n",
        "CustomLogger.set_global_log_level(logging.DEBUG)\n"
      ]
    },
    {
      "attachments": {},
      "cell_type": "markdown",
      "metadata": {},
      "source": [
        "# Constants\n",
        "Define configuration variables."
      ]
    },
    {
      "cell_type": "code",
      "execution_count": 3,
      "metadata": {},
      "outputs": [],
      "source": [
        "# Kaggle dataset identifier\n",
        "OWNER_SLUG = \"jsphyg\"\n",
        "DATASET_SLUG = \"weather-dataset-rattle-package\"\n",
        "DATASET_NAME = f\"{OWNER_SLUG}/{DATASET_SLUG}\"\n",
        "\n",
        "# Dataset feature configuration\n",
        "TARGET_FEATURE = \"RainTomorrow\"\n",
        "DATE_FEATURE = \"Date\"\n",
        "META_FEATURES = [TARGET_FEATURE, DATE_FEATURE]\n",
        "\n",
        "# General Configuration\n",
        "RANDOM_STATE = 1337\n"
      ]
    },
    {
      "attachments": {},
      "cell_type": "markdown",
      "metadata": {},
      "source": [
        "# Pipeline Setup"
      ]
    },
    {
      "cell_type": "code",
      "execution_count": 4,
      "metadata": {},
      "outputs": [
        {
          "name": "stdout",
          "output_type": "stream",
          "text": [
            "[2023-07-26 14:51:32] [\u001b[1;32mINFO\u001b[0m] Attempting to fetch Kaggle API credentials from environment variables 'KAGGLE_USERNAME' and 'KAGGLE_KEY'. \u001b[1m(kaggle_ingester.py:74)\u001b[0m\n",
            "[2023-07-26 14:51:32] [\u001b[1;32mINFO\u001b[0m] Kaggle API credentials not found in environment variables, attempting to fetch from fallback path at ~/.kaggle/kaggle.json. \u001b[1m(kaggle_ingester.py:82)\u001b[0m\n",
            "[2023-07-26 14:51:32] [\u001b[1;32mINFO\u001b[0m] Kaggle credentials successfully fetched. \u001b[1m(kaggle_ingester.py:91)\u001b[0m\n"
          ]
        }
      ],
      "source": [
        "# Download the dataset from Kaggle\n",
        "kaggle_data_source = KaggleIngester(\n",
        "    destination_directory=f\"data/{DATASET_NAME}/raw\", owner_slug=OWNER_SLUG, dataset_slug=DATASET_SLUG\n",
        ")\n",
        "\n",
        "# Convert the CSV file to Apache Arrow format\n",
        "csv_to_arrow_converter = CSVToVaexConverter(\n",
        "    output_directory=f\"data/{DATASET_NAME}/converted\",\n",
        "    na_values=[\"NA\"],\n",
        "    true_values=[\"Yes\"],\n",
        "    false_values=[\"No\"],\n",
        "    downcast_float=True,\n",
        "    random_state=RANDOM_STATE,\n",
        ")\n",
        "\n",
        "# Divide the dataset into train and test sets\n",
        "random_data_splitter = RandomSplitter(\n",
        "    cache_directory=f\"data/{DATASET_NAME}/split\",\n",
        "    data_split=(0.80, 0.20),\n",
        "    shuffle=True,\n",
        "    stratify=TARGET_FEATURE,\n",
        "    random_state=RANDOM_STATE,\n",
        ")\n",
        "\n",
        "# Configure all the feature selectors in a grouped composite feature selector\n",
        "# The feature selectors are applied in the order they are defined and can be chained as needed\n",
        "composite_feature_selector = CompositeFeatureSelector(\n",
        "    cache_directory=f\"data/{DATASET_NAME}/feature_select\",\n",
        "    feature_selectors=[\n",
        "        MissingRateFeatureSelector(\n",
        "            cache_directory=f\"data/{DATASET_NAME}/feature_select\",\n",
        "            missing_rate_threshold=0.5,\n",
        "            ignore_features=META_FEATURES,\n",
        "        ),\n",
        "        PearsonCorrelationFeatureSelector(\n",
        "            cache_directory=f\"data/{DATASET_NAME}/feature_select\",\n",
        "            correlation_threshold=0.6,\n",
        "            ignore_features=META_FEATURES,\n",
        "        ),\n",
        "    ],\n",
        ")\n",
        "\n",
        "# Configure all the transformers in a grouped composite transformer\n",
        "# The transformers are applied in the order they are defined and can be chained as needed\n",
        "composite_transformer = CompositeTransformer(\n",
        "    cache_directory=f\"data/{DATASET_NAME}/transform\",\n",
        "    transformers=[\n",
        "        LabelEncoderTransformer(\n",
        "            cache_directory=f\"data/{DATASET_NAME}/transform\", features=[\"WindGustDir\", \"WindDir9am\", \"WindDir3pm\"]\n",
        "        ),\n",
        "        MinMaxScalerTransformer(\n",
        "            cache_directory=f\"data/{DATASET_NAME}/transform\", features=[\"WindGustSpeed\"], min_value=0.5, max_value=2\n",
        "        ),\n",
        "    ],\n",
        ")\n",
        "\n",
        "# Configure the pipeline and the data flow\n",
        "pipeline = Pipeline(\n",
        "    steps=[\n",
        "        IngestStep(kaggle_data_source, outputs=[\"raw_csv\"]),\n",
        "        ConvertStep(csv_to_arrow_converter, inputs=[\"raw_csv\"], outputs=[\"df_clean\"]),\n",
        "        SplitStep(random_data_splitter, inputs=[\"df_clean\"], outputs=[\"df_clean_train_validate\", \"df_clean_test\"]),\n",
        "        FeatureSelectStep(\n",
        "            composite_feature_selector,\n",
        "            fit=True,\n",
        "            inputs=[\"df_clean_train_validate\"],\n",
        "            outputs=[\"df_selected_train_validate\"],\n",
        "            cache_group=\"fit_transform_train_validate\",\n",
        "        ),\n",
        "        FeatureSelectStep(\n",
        "            composite_feature_selector,\n",
        "            fit=False,\n",
        "            inputs=[\"df_clean_test\"],\n",
        "            outputs=[\"df_selected_test\"],\n",
        "            cache_group=\"transform_test\",\n",
        "        ),\n",
        "        TransformStep(\n",
        "            composite_transformer,\n",
        "            action=\"fit_transform\",\n",
        "            inputs=[\"df_selected_train_validate\"],\n",
        "            outputs=[\"composite_transformer\", \"df_transformed_train_validate\"],\n",
        "            cache_group=\"fit_transform_train_validate\",\n",
        "        ),\n",
        "        TransformStep(\n",
        "            composite_transformer,\n",
        "            action=\"transform\",\n",
        "            inputs=[\"df_selected_test\"],\n",
        "            outputs=[\"df_transformed_test\"],\n",
        "            cache_group=\"fit_transform_test\",\n",
        "        ),\n",
        "    ]\n",
        ")"
      ]
    },
    {
      "attachments": {},
      "cell_type": "markdown",
      "metadata": {},
      "source": [
        "# Run Pipeline"
      ]
    },
    {
      "cell_type": "code",
      "execution_count": 6,
      "metadata": {},
      "outputs": [
        {
          "name": "stdout",
          "output_type": "stream",
          "text": [
            "[2023-07-26 14:51:39] [\u001b[1;32mINFO\u001b[0m] No data container provided. Creating an empty one. \u001b[1m(pipeline.py:77)\u001b[0m\n",
            "[2023-07-26 14:51:39] [\u001b[1;32mINFO\u001b[0m] Executing step 1/7: IngestStep. \u001b[1m(pipeline.py:81)\u001b[0m\n",
            "[2023-07-26 14:51:39] [\u001b[1;32mINFO\u001b[0m] \u001b[32mCache Hit\u001b[0m: Local dataset is up to date with Kaggle, skipping download. \u001b[1m(kaggle_ingester.py:279)\u001b[0m\n",
            "[2023-07-26 14:51:39] [\u001b[1;32mINFO\u001b[0m] Finished step 1/7 execution. \u001b[1m(pipeline.py:83)\u001b[0m\n",
            "[2023-07-26 14:51:39] [\u001b[1;32mINFO\u001b[0m] Executing step 2/7: ConvertStep. \u001b[1m(pipeline.py:81)\u001b[0m\n",
            "[2023-07-26 14:51:40] [\u001b[1;32mINFO\u001b[0m] \u001b[32mCache Hit\u001b[0m (LRUCache) CSVToVaexConverter.convert: Using cached output. \u001b[1m(cache_mixin.py:160)\u001b[0m\n",
            "[2023-07-26 14:51:40] [\u001b[1;32mINFO\u001b[0m] Finished step 2/7 execution. \u001b[1m(pipeline.py:83)\u001b[0m\n",
            "[2023-07-26 14:51:40] [\u001b[1;32mINFO\u001b[0m] Executing step 3/7: SplitStep. \u001b[1m(pipeline.py:81)\u001b[0m\n",
            "[2023-07-26 14:51:40] [\u001b[1;32mINFO\u001b[0m] \u001b[32mCache Hit\u001b[0m (LRUCache) RandomSplitter.split: Using cached output. \u001b[1m(cache_mixin.py:160)\u001b[0m\n",
            "[2023-07-26 14:51:40] [\u001b[1;32mINFO\u001b[0m] Finished step 3/7 execution. \u001b[1m(pipeline.py:83)\u001b[0m\n",
            "[2023-07-26 14:51:40] [\u001b[1;32mINFO\u001b[0m] Executing step 4/7: FeatureSelectStep. \u001b[1m(pipeline.py:81)\u001b[0m\n",
            "[2023-07-26 14:51:40] [\u001b[1;32mINFO\u001b[0m] \u001b[32mCache Hit\u001b[0m (LRUCache) CompositeFeatureSelector.select_features: Using cached output. \u001b[1m(cache_mixin.py:160)\u001b[0m\n",
            "[2023-07-26 14:51:40] [\u001b[1;32mINFO\u001b[0m] Loading feature selector from data/jsphyg/weather-dataset-rattle-package/feature_select/CompositeFeatureSelector.select_features.fit_transform_train_validate.8423e84e51cd97f9969e6d6930e0e515.feature_selector. \u001b[1m(base_feature_selector.py:179)\u001b[0m\n",
            "[2023-07-26 14:51:40] [\u001b[1;32mINFO\u001b[0m] Finished step 4/7 execution. \u001b[1m(pipeline.py:83)\u001b[0m\n",
            "[2023-07-26 14:51:40] [\u001b[1;32mINFO\u001b[0m] Executing step 5/7: FeatureSelectStep. \u001b[1m(pipeline.py:81)\u001b[0m\n",
            "[2023-07-26 14:51:40] [\u001b[1;32mINFO\u001b[0m] \u001b[32mCache Hit\u001b[0m (LRUCache) CompositeFeatureSelector.select_features: Using cached output. \u001b[1m(cache_mixin.py:160)\u001b[0m\n",
            "[2023-07-26 14:51:40] [\u001b[1;32mINFO\u001b[0m] Finished step 5/7 execution. \u001b[1m(pipeline.py:83)\u001b[0m\n",
            "[2023-07-26 14:51:40] [\u001b[1;32mINFO\u001b[0m] Executing step 6/7: TransformStep. \u001b[1m(pipeline.py:81)\u001b[0m\n",
            "[2023-07-26 14:51:40] [\u001b[1;32mINFO\u001b[0m] \u001b[32mCache Hit\u001b[0m (LRUCache) CompositeTransformer.fit_transform: Using cached output. \u001b[1m(cache_mixin.py:160)\u001b[0m\n",
            "[2023-07-26 14:51:40] [\u001b[1;32mINFO\u001b[0m] Finished step 6/7 execution. \u001b[1m(pipeline.py:83)\u001b[0m\n",
            "[2023-07-26 14:51:40] [\u001b[1;32mINFO\u001b[0m] Executing step 7/7: TransformStep. \u001b[1m(pipeline.py:81)\u001b[0m\n",
            "[2023-07-26 14:51:40] [\u001b[1;32mINFO\u001b[0m] \u001b[32mCache Hit\u001b[0m (LRUCache) CompositeTransformer.transform: Using cached output. \u001b[1m(cache_mixin.py:160)\u001b[0m\n",
            "[2023-07-26 14:51:40] [\u001b[1;32mINFO\u001b[0m] Finished step 7/7 execution. \u001b[1m(pipeline.py:83)\u001b[0m\n"
          ]
        }
      ],
      "source": [
        "data_container =  pipeline.run().data"
      ]
    },
    {
      "cell_type": "code",
      "execution_count": 7,
      "metadata": {},
      "outputs": [
        {
          "data": {
            "text/html": [
              "<table>\n",
              "<thead>\n",
              "<tr><th>#                                 </th><th>Date               </th><th>Location  </th><th>Rainfall  </th><th>Evaporation  </th><th>WindGustDir  </th><th>WindGustSpeed     </th><th>WindDir9am  </th><th>WindDir3pm  </th><th>Humidity3pm  </th><th>Cloud3pm  </th><th>RainToday  </th><th>RainTomorrow  </th></tr>\n",
              "</thead>\n",
              "<tbody>\n",
              "<tr><td><i style='opacity: 0.6'>0</i>     </td><td>2008-12-09 00:00:00</td><td>Albury    </td><td>0.0       </td><td>--           </td><td>16           </td><td>1.3604651162790697</td><td>4           </td><td>7           </td><td>9            </td><td>--        </td><td>False      </td><td>True          </td></tr>\n",
              "<tr><td><i style='opacity: 0.6'>1</i>     </td><td>2008-12-15 00:00:00</td><td>Albury    </td><td>0.0       </td><td>--           </td><td>0            </td><td>--                </td><td>8           </td><td>10          </td><td>32           </td><td>--        </td><td>False      </td><td>--            </td></tr>\n",
              "<tr><td><i style='opacity: 0.6'>2</i>     </td><td>2008-12-20 00:00:00</td><td>Albury    </td><td>0.0       </td><td>--           </td><td>13           </td><td>0.7325581395348837</td><td>4           </td><td>16          </td><td>26           </td><td>--        </td><td>False      </td><td>False         </td></tr>\n",
              "<tr><td><i style='opacity: 0.6'>3</i>     </td><td>2008-12-24 00:00:00</td><td>Albury    </td><td>0.0       </td><td>--           </td><td>3            </td><td>0.813953488372093 </td><td>1           </td><td>7           </td><td>23           </td><td>--        </td><td>False      </td><td>False         </td></tr>\n",
              "<tr><td><i style='opacity: 0.6'>4</i>     </td><td>2008-12-27 00:00:00</td><td>Albury    </td><td>0.0       </td><td>--           </td><td>12           </td><td>1.0930232558139537</td><td>0           </td><td>11          </td><td>28           </td><td>1         </td><td>False      </td><td>False         </td></tr>\n",
              "<tr><td>...                               </td><td>...                </td><td>...       </td><td>...       </td><td>...          </td><td>...          </td><td>...               </td><td>...         </td><td>...         </td><td>...          </td><td>...       </td><td>...        </td><td>...           </td></tr>\n",
              "<tr><td><i style='opacity: 0.6'>29,087</i></td><td>2017-05-28 00:00:00</td><td>Uluru     </td><td>0.0       </td><td>--           </td><td>6            </td><td>0.813953488372093 </td><td>4           </td><td>1           </td><td>25           </td><td>--        </td><td>False      </td><td>False         </td></tr>\n",
              "<tr><td><i style='opacity: 0.6'>29,088</i></td><td>2017-05-31 00:00:00</td><td>Uluru     </td><td>0.0       </td><td>--           </td><td>6            </td><td>0.9651162790697674</td><td>6           </td><td>6           </td><td>32           </td><td>--        </td><td>False      </td><td>False         </td></tr>\n",
              "<tr><td><i style='opacity: 0.6'>29,089</i></td><td>2017-06-04 00:00:00</td><td>Uluru     </td><td>0.0       </td><td>--           </td><td>6            </td><td>0.7906976744186047</td><td>1           </td><td>6           </td><td>26           </td><td>--        </td><td>False      </td><td>False         </td></tr>\n",
              "<tr><td><i style='opacity: 0.6'>29,090</i></td><td>2017-06-05 00:00:00</td><td>Uluru     </td><td>0.0       </td><td>--           </td><td>6            </td><td>0.8604651162790697</td><td>1           </td><td>1           </td><td>11           </td><td>--        </td><td>False      </td><td>False         </td></tr>\n",
              "<tr><td><i style='opacity: 0.6'>29,091</i></td><td>2017-06-17 00:00:00</td><td>Uluru     </td><td>0.0       </td><td>--           </td><td>1            </td><td>0.7906976744186047</td><td>8           </td><td>1           </td><td>25           </td><td>--        </td><td>False      </td><td>False         </td></tr>\n",
              "</tbody>\n",
              "</table>"
            ],
            "text/plain": [
              "#       Date                 Location    Rainfall    Evaporation    WindGustDir    WindGustSpeed       WindDir9am    WindDir3pm    Humidity3pm    Cloud3pm    RainToday    RainTomorrow\n",
              "0       2008-12-09 00:00:00  Albury      0.0         --             16             1.3604651162790697  4             7             9              --          False        True\n",
              "1       2008-12-15 00:00:00  Albury      0.0         --             0              --                  8             10            32             --          False        --\n",
              "2       2008-12-20 00:00:00  Albury      0.0         --             13             0.7325581395348837  4             16            26             --          False        False\n",
              "3       2008-12-24 00:00:00  Albury      0.0         --             3              0.813953488372093   1             7             23             --          False        False\n",
              "4       2008-12-27 00:00:00  Albury      0.0         --             12             1.0930232558139537  0             11            28             1           False        False\n",
              "...     ...                  ...         ...         ...            ...            ...                 ...           ...           ...            ...         ...          ...\n",
              "29,087  2017-05-28 00:00:00  Uluru       0.0         --             6              0.813953488372093   4             1             25             --          False        False\n",
              "29,088  2017-05-31 00:00:00  Uluru       0.0         --             6              0.9651162790697674  6             6             32             --          False        False\n",
              "29,089  2017-06-04 00:00:00  Uluru       0.0         --             6              0.7906976744186047  1             6             26             --          False        False\n",
              "29,090  2017-06-05 00:00:00  Uluru       0.0         --             6              0.8604651162790697  1             1             11             --          False        False\n",
              "29,091  2017-06-17 00:00:00  Uluru       0.0         --             1              0.7906976744186047  8             1             25             --          False        False"
            ]
          },
          "execution_count": 7,
          "metadata": {},
          "output_type": "execute_result"
        }
      ],
      "source": [
        "data_container['df_transformed_test']"
      ]
    },
    {
      "cell_type": "code",
      "execution_count": null,
      "metadata": {},
      "outputs": [],
      "source": []
    }
  ],
  "metadata": {
    "kernelspec": {
      "display_name": ".venv",
      "language": "python",
      "name": "python3"
    },
    "language_info": {
      "codemirror_mode": {
        "name": "ipython",
        "version": 3
      },
      "file_extension": ".py",
      "mimetype": "text/x-python",
      "name": "python",
      "nbconvert_exporter": "python",
      "pygments_lexer": "ipython3",
      "version": "3.8.17"
    },
    "orig_nbformat": 4,
    "vscode": {
      "interpreter": {
        "hash": "9611670ec755352ff717d7a41a0ab877947349e5431e69ecf0edefdfa5d80e71"
      }
    }
  },
  "nbformat": 4,
  "nbformat_minor": 2
}
