{
  "cells": [
    {
      "cell_type": "code",
      "execution_count": 1,
      "metadata": {},
      "outputs": [],
      "source": [
        "%reload_ext autoreload\n",
        "%autoreload 2"
      ]
    },
    {
      "attachments": {},
      "cell_type": "markdown",
      "metadata": {},
      "source": [
        "# Imports\n",
        "Import the required classes and functions."
      ]
    },
    {
      "cell_type": "code",
      "execution_count": 2,
      "metadata": {},
      "outputs": [],
      "source": [
        "from mleko.dataset.convert import CSVToVaexConverter\n",
        "from mleko.dataset.ingest import KaggleIngester\n",
        "from mleko.dataset.feature_select import CompositeFeatureSelector, MissingRateFeatureSelector, PearsonCorrelationFeatureSelector\n",
        "from mleko.dataset.split import RandomSplitter\n",
        "from mleko.dataset.transform import LabelEncoderTransformer, CompositeTransformer, MinMaxScalerTransformer\n",
        "from mleko.pipeline import Pipeline\n",
        "from mleko.pipeline.steps import ConvertStep, IngestStep, SplitStep, TransformStep, FeatureSelectStep\n",
        "\n",
        "from mleko.utils.custom_logger import CustomLogger\n",
        "import logging\n",
        "\n",
        "CustomLogger.set_global_log_level(logging.DEBUG)\n"
      ]
    },
    {
      "attachments": {},
      "cell_type": "markdown",
      "metadata": {},
      "source": [
        "# Constants\n",
        "Define configuration variables."
      ]
    },
    {
      "cell_type": "code",
      "execution_count": 3,
      "metadata": {},
      "outputs": [],
      "source": [
        "# Kaggle dataset identifier\n",
        "OWNER_SLUG = \"jsphyg\"\n",
        "DATASET_SLUG = \"weather-dataset-rattle-package\"\n",
        "DATASET_NAME = f\"{OWNER_SLUG}/{DATASET_SLUG}\"\n",
        "\n",
        "# Dataset feature configuration\n",
        "TARGET_FEATURE = \"RainTomorrow\"\n",
        "DATE_FEATURE = \"Date\"\n",
        "META_FEATURES = [TARGET_FEATURE, DATE_FEATURE]\n",
        "\n",
        "# General Configuration\n",
        "RANDOM_STATE = 1337\n"
      ]
    },
    {
      "attachments": {},
      "cell_type": "markdown",
      "metadata": {},
      "source": [
        "# Pipeline Setup"
      ]
    },
    {
      "cell_type": "code",
      "execution_count": 4,
      "metadata": {},
      "outputs": [
        {
          "name": "stdout",
          "output_type": "stream",
          "text": [
            "[2023-07-08 00:26:20] [\u001b[1;32mINFO\u001b[0m] Attempting to fetch Kaggle API credentials from environment variables 'KAGGLE_USERNAME' and 'KAGGLE_KEY'. \u001b[1m(kaggle_ingester.py:74)\u001b[0m\n",
            "[2023-07-08 00:26:20] [\u001b[1;32mINFO\u001b[0m] Kaggle API credentials not found in environment variables, attempting to fetch from fallback path at ~/.kaggle/kaggle.json. \u001b[1m(kaggle_ingester.py:82)\u001b[0m\n",
            "[2023-07-08 00:26:20] [\u001b[1;32mINFO\u001b[0m] Kaggle credentials successfully fetched. \u001b[1m(kaggle_ingester.py:91)\u001b[0m\n"
          ]
        }
      ],
      "source": [
        "# Download the dataset from Kaggle\n",
        "from calendar import c\n",
        "\n",
        "\n",
        "kaggle_data_source = KaggleIngester(\n",
        "    destination_directory=f\"data/{DATASET_NAME}/raw\", owner_slug=OWNER_SLUG, dataset_slug=DATASET_SLUG\n",
        ")\n",
        "\n",
        "# Convert the CSV file to Apache Arrow format\n",
        "csv_to_arrow_converter = CSVToVaexConverter(\n",
        "    output_directory=f\"data/{DATASET_NAME}/converted\",\n",
        "    na_values=[\"NA\"],\n",
        "    true_values=[\"Yes\"],\n",
        "    false_values=[\"No\"],\n",
        "    downcast_float=True,\n",
        "    random_state=RANDOM_STATE,\n",
        ")\n",
        "\n",
        "# Divide the dataset into train and test sets\n",
        "random_data_splitter = RandomSplitter(\n",
        "    cache_directory=f\"data/{DATASET_NAME}/split\",\n",
        "    data_split=(0.80, 0.20),\n",
        "    shuffle=True,\n",
        "    stratify=TARGET_FEATURE,\n",
        "    random_state=RANDOM_STATE,\n",
        ")\n",
        "\n",
        "# Configure all the feature selectors in a grouped composite feature selector\n",
        "# The feature selectors are applied in the order they are defined and can be chained as needed\n",
        "composite_feature_selector = CompositeFeatureSelector(\n",
        "    cache_directory=f\"data/{DATASET_NAME}/feature_select\",\n",
        "    feature_selectors=[\n",
        "        MissingRateFeatureSelector(\n",
        "            cache_directory=f\"data/{DATASET_NAME}/feature_select\",\n",
        "            missing_rate_threshold=0.5,\n",
        "            ignore_features=META_FEATURES,\n",
        "        ),\n",
        "        PearsonCorrelationFeatureSelector(\n",
        "            cache_directory=f\"data/{DATASET_NAME}/feature_select\",\n",
        "            correlation_threshold=0.6,\n",
        "            ignore_features=META_FEATURES,\n",
        "        ),\n",
        "    ],\n",
        ")\n",
        "\n",
        "# Configure all the transformers in a grouped composite transformer\n",
        "# The transformers are applied in the order they are defined and can be chained as needed\n",
        "composite_transformer = CompositeTransformer(\n",
        "    cache_directory=f\"data/{DATASET_NAME}/transform\",\n",
        "    transformers=[\n",
        "        LabelEncoderTransformer(\n",
        "            cache_directory=f\"data/{DATASET_NAME}/transform\", features=[\"WindGustDir\", \"WindDir9am\", \"WindDir3pm\"]\n",
        "        ),\n",
        "        MinMaxScalerTransformer(\n",
        "            cache_directory=f\"data/{DATASET_NAME}/transform\", features=[\"WindGustSpeed\"], min_value=1, max_value=2\n",
        "        ),\n",
        "    ],\n",
        ")\n",
        "\n",
        "# Configure the pipeline and the data flow\n",
        "pipeline = Pipeline(\n",
        "    steps=[\n",
        "        IngestStep(kaggle_data_source, outputs=[\"raw_csv\"]),\n",
        "        ConvertStep(csv_to_arrow_converter, inputs=[\"raw_csv\"], outputs=[\"df_clean\"]),\n",
        "        SplitStep(random_data_splitter, inputs=[\"df_clean\"], outputs=[\"df_clean_train_validate\", \"df_clean_test\"]),\n",
        "        FeatureSelectStep(\n",
        "            composite_feature_selector,\n",
        "            fit=True,\n",
        "            inputs=[\"df_clean_train_validate\"],\n",
        "            outputs=[\"df_selected_train_validate\"],\n",
        "            cache_group=\"fit_transform_train_validate\",\n",
        "        ),\n",
        "        FeatureSelectStep(\n",
        "            composite_feature_selector,\n",
        "            fit=False,\n",
        "            inputs=[\"df_clean_test\"],\n",
        "            outputs=[\"df_selected_test\"],\n",
        "            cache_group=\"transform_test\",\n",
        "        ),\n",
        "        TransformStep(\n",
        "            composite_transformer,\n",
        "            fit=True,\n",
        "            inputs=[\"df_selected_train_validate\"],\n",
        "            outputs=[\"df_transformed_train_validate\"],\n",
        "            cache_group=\"fit_transform_train_validate\",\n",
        "        ),\n",
        "        TransformStep(\n",
        "            composite_transformer,\n",
        "            fit=False,\n",
        "            inputs=[\"df_selected_test\"],\n",
        "            outputs=[\"df_transformed_test\"],\n",
        "            cache_group=\"fit_transform_test\",\n",
        "        ),\n",
        "    ]\n",
        ")"
      ]
    },
    {
      "attachments": {},
      "cell_type": "markdown",
      "metadata": {},
      "source": [
        "# Run Pipeline"
      ]
    },
    {
      "cell_type": "code",
      "execution_count": 5,
      "metadata": {},
      "outputs": [
        {
          "name": "stdout",
          "output_type": "stream",
          "text": [
            "[2023-07-08 00:26:22] [\u001b[1;32mINFO\u001b[0m] No data container provided. Creating an empty one. \u001b[1m(pipeline.py:77)\u001b[0m\n",
            "[2023-07-08 00:26:22] [\u001b[1;32mINFO\u001b[0m] Executing step 1/7: IngestStep. \u001b[1m(pipeline.py:81)\u001b[0m\n",
            "[2023-07-08 00:26:23] [\u001b[1;32mINFO\u001b[0m] \u001b[31mCache Miss\u001b[0m: Downloading jsphyg/weather-dataset-rattle-package/* to data/jsphyg/weather-dataset-rattle-package/raw from Kaggle. \u001b[1m(kaggle_ingester.py:292)\u001b[0m\n"
          ]
        },
        {
          "data": {
            "application/vnd.jupyter.widget-view+json": {
              "model_id": "711dee46153a47ccbf20ce61fa799db3",
              "version_major": 2,
              "version_minor": 0
            },
            "text/plain": [
              "Downloading files from Kaggle:   0%|          | 0/1 [00:00<?, ?it/s]"
            ]
          },
          "metadata": {},
          "output_type": "display_data"
        },
        {
          "name": "stdout",
          "output_type": "stream",
          "text": [
            "[2023-07-08 00:26:24] [\u001b[1;32mINFO\u001b[0m] Finished downloading 1 files from Kaggle. \u001b[1m(kaggle_ingester.py:303)\u001b[0m\n",
            "[2023-07-08 00:26:24] [\u001b[1;32mINFO\u001b[0m] Finished step 1/7 execution. \u001b[1m(pipeline.py:83)\u001b[0m\n",
            "[2023-07-08 00:26:24] [\u001b[1;32mINFO\u001b[0m] Executing step 2/7: ConvertStep. \u001b[1m(pipeline.py:81)\u001b[0m\n",
            "[2023-07-08 00:26:25] [\u001b[1;32mINFO\u001b[0m] \u001b[31mCache Miss\u001b[0m (LRUCache) CSVToVaexConverter.convert: Executing method. \u001b[1m(cache_mixin.py:162)\u001b[0m\n"
          ]
        },
        {
          "data": {
            "application/vnd.jupyter.widget-view+json": {
              "model_id": "8d084e8470cc4f07930acb1a6134fdf2",
              "version_major": 2,
              "version_minor": 0
            },
            "text/plain": [
              "Converting CSV files:   0%|          | 0/1 [00:00<?, ?it/s]"
            ]
          },
          "metadata": {},
          "output_type": "display_data"
        },
        {
          "data": {
            "application/vnd.jupyter.widget-view+json": {
              "model_id": "21aded07acfc4b86b4edb43cf33ca3c7",
              "version_major": 2,
              "version_minor": 0
            },
            "text/plain": [
              "Writing DataFrame to .arrow file:   0%|          | 0/100 [00:00<?, ?it/s]"
            ]
          },
          "metadata": {},
          "output_type": "display_data"
        },
        {
          "name": "stdout",
          "output_type": "stream",
          "text": [
            "[2023-07-08 00:26:28] [\u001b[1;32mINFO\u001b[0m] Finished step 2/7 execution. \u001b[1m(pipeline.py:83)\u001b[0m\n",
            "[2023-07-08 00:26:28] [\u001b[1;32mINFO\u001b[0m] Executing step 3/7: SplitStep. \u001b[1m(pipeline.py:81)\u001b[0m\n",
            "[2023-07-08 00:26:28] [\u001b[1;32mINFO\u001b[0m] \u001b[31mCache Miss\u001b[0m (LRUCache) RandomSplitter.split: Executing method. \u001b[1m(cache_mixin.py:162)\u001b[0m\n",
            "[2023-07-08 00:26:28] [\u001b[1;32mINFO\u001b[0m] Shuffling data before splitting. \u001b[1m(random_splitter.py:135)\u001b[0m\n",
            "[2023-07-08 00:26:28] [\u001b[1;32mINFO\u001b[0m] Splitting data with stratification on column 'RainTomorrow'. \u001b[1m(random_splitter.py:139)\u001b[0m\n",
            "[2023-07-08 00:26:28] [\u001b[1;32mINFO\u001b[0m] Split dataframe into two dataframes with shapes (116368, 24) and (29092, 24). \u001b[1m(random_splitter.py:151)\u001b[0m\n"
          ]
        },
        {
          "data": {
            "application/vnd.jupyter.widget-view+json": {
              "model_id": "f53214dffbb04d008d678a237b048602",
              "version_major": 2,
              "version_minor": 0
            },
            "text/plain": [
              "Writing DataFrame to .arrow file:   0%|          | 0/100 [00:00<?, ?it/s]"
            ]
          },
          "metadata": {},
          "output_type": "display_data"
        },
        {
          "data": {
            "application/vnd.jupyter.widget-view+json": {
              "model_id": "a35b1482e8ea4e2da731d317c9ede680",
              "version_major": 2,
              "version_minor": 0
            },
            "text/plain": [
              "Writing DataFrame to .arrow file:   0%|          | 0/100 [00:00<?, ?it/s]"
            ]
          },
          "metadata": {},
          "output_type": "display_data"
        },
        {
          "name": "stdout",
          "output_type": "stream",
          "text": [
            "[2023-07-08 00:26:28] [\u001b[1;32mINFO\u001b[0m] Finished step 3/7 execution. \u001b[1m(pipeline.py:83)\u001b[0m\n",
            "[2023-07-08 00:26:28] [\u001b[1;32mINFO\u001b[0m] Executing step 4/7: FeatureSelectStep. \u001b[1m(pipeline.py:81)\u001b[0m\n",
            "[2023-07-08 00:26:28] [\u001b[1;32mINFO\u001b[0m] \u001b[31mCache Miss\u001b[0m (LRUCache) CompositeFeatureSelector.select_features: Executing method. \u001b[1m(cache_mixin.py:162)\u001b[0m\n",
            "[2023-07-08 00:26:28] [\u001b[1;32mINFO\u001b[0m] Executing composite feature selection step 1/2: MissingRateFeatureSelector. \u001b[1m(composite_feature_selector.py:129)\u001b[0m\n",
            "[2023-07-08 00:26:28] [\u001b[1;32mINFO\u001b[0m] Fitting missing rate feature selector on 21 features: ['Cloud3pm', 'Cloud9am', 'Evaporation', 'Humidity3pm', 'Humidity9am', 'Location', 'MaxTemp', 'MinTemp', 'Pressure3pm', 'Pressure9am', 'RainToday', 'Rainfall', 'Sunshine', 'Temp3pm', 'Temp9am', 'WindDir3pm', 'WindDir9am', 'WindGustDir', 'WindGustSpeed', 'WindSpeed3pm', 'WindSpeed9am']. \u001b[1m(missing_rate_feature_selector.py:102)\u001b[0m\n"
          ]
        },
        {
          "data": {
            "application/vnd.jupyter.widget-view+json": {
              "model_id": "cbd945c36a644bac8b108a06879fa36c",
              "version_major": 2,
              "version_minor": 0
            },
            "text/plain": [
              "Calculating missing rates for features:   0%|          | 0/21 [00:00<?, ?it/s]"
            ]
          },
          "metadata": {},
          "output_type": "display_data"
        },
        {
          "name": "stdout",
          "output_type": "stream",
          "text": [
            "[2023-07-08 00:26:29] [\u001b[1;32mINFO\u001b[0m] Dropping (0) features with missing rate >= 0.5: set(). \u001b[1m(missing_rate_feature_selector.py:88)\u001b[0m\n",
            "[2023-07-08 00:26:29] [\u001b[1;32mINFO\u001b[0m] Finished composite feature selection step 1/2. \u001b[1m(composite_feature_selector.py:135)\u001b[0m\n",
            "[2023-07-08 00:26:29] [\u001b[1;32mINFO\u001b[0m] Executing composite feature selection step 2/2: PearsonCorrelationFeatureSelector. \u001b[1m(composite_feature_selector.py:129)\u001b[0m\n",
            "[2023-07-08 00:26:29] [\u001b[1;32mINFO\u001b[0m] Fitting pearson correlation feature selector on 16 features: ['Cloud3pm', 'Cloud9am', 'Evaporation', 'Humidity3pm', 'Humidity9am', 'MaxTemp', 'MinTemp', 'Pressure3pm', 'Pressure9am', 'Rainfall', 'Sunshine', 'Temp3pm', 'Temp9am', 'WindGustSpeed', 'WindSpeed3pm', 'WindSpeed9am']. \u001b[1m(pearson_correlation_feature_selector.py:105)\u001b[0m\n",
            "[2023-07-08 00:26:29] [\u001b[1;32mINFO\u001b[0m] Dropping (11) features with correlation >= 0.6: {'Sunshine', 'MaxTemp', 'Cloud9am', 'WindSpeed3pm', 'Temp3pm', 'Pressure3pm', 'WindSpeed9am', 'Temp9am', 'Humidity9am', 'Pressure9am', 'MinTemp'}. \u001b[1m(pearson_correlation_feature_selector.py:91)\u001b[0m\n",
            "[2023-07-08 00:26:29] [\u001b[1;32mINFO\u001b[0m] Finished composite feature selection step 2/2. \u001b[1m(composite_feature_selector.py:135)\u001b[0m\n"
          ]
        },
        {
          "data": {
            "application/vnd.jupyter.widget-view+json": {
              "model_id": "69cfe5e48bb24824b185d9f964c24886",
              "version_major": 2,
              "version_minor": 0
            },
            "text/plain": [
              "Writing DataFrame to .arrow file:   0%|          | 0/100 [00:00<?, ?it/s]"
            ]
          },
          "metadata": {},
          "output_type": "display_data"
        },
        {
          "name": "stdout",
          "output_type": "stream",
          "text": [
            "[2023-07-08 00:26:29] [\u001b[1;32mINFO\u001b[0m] Saving feature selector to data/jsphyg/weather-dataset-rattle-package/feature_select/CompositeFeatureSelector.select_features.fit_transform_train_validate.d818e3237ba342b5628c70d7d0066add.feature_selector. \u001b[1m(base_feature_selector.py:183)\u001b[0m\n",
            "[2023-07-08 00:26:29] [\u001b[1;32mINFO\u001b[0m] Finished step 4/7 execution. \u001b[1m(pipeline.py:83)\u001b[0m\n",
            "[2023-07-08 00:26:29] [\u001b[1;32mINFO\u001b[0m] Executing step 5/7: FeatureSelectStep. \u001b[1m(pipeline.py:81)\u001b[0m\n",
            "[2023-07-08 00:26:29] [\u001b[1;32mINFO\u001b[0m] \u001b[31mCache Miss\u001b[0m (LRUCache) CompositeFeatureSelector.select_features: Executing method. \u001b[1m(cache_mixin.py:162)\u001b[0m\n",
            "[2023-07-08 00:26:29] [\u001b[1;32mINFO\u001b[0m] Executing composite feature selection step 1/2: MissingRateFeatureSelector. \u001b[1m(composite_feature_selector.py:129)\u001b[0m\n",
            "[2023-07-08 00:26:29] [\u001b[1;32mINFO\u001b[0m] Dropping (0) features with missing rate >= 0.5: set(). \u001b[1m(missing_rate_feature_selector.py:88)\u001b[0m\n",
            "[2023-07-08 00:26:29] [\u001b[1;32mINFO\u001b[0m] Finished composite feature selection step 1/2. \u001b[1m(composite_feature_selector.py:135)\u001b[0m\n",
            "[2023-07-08 00:26:29] [\u001b[1;32mINFO\u001b[0m] Executing composite feature selection step 2/2: PearsonCorrelationFeatureSelector. \u001b[1m(composite_feature_selector.py:129)\u001b[0m\n",
            "[2023-07-08 00:26:29] [\u001b[1;32mINFO\u001b[0m] Dropping (11) features with correlation >= 0.6: {'Sunshine', 'MaxTemp', 'Cloud9am', 'WindSpeed3pm', 'Temp3pm', 'Pressure3pm', 'WindSpeed9am', 'Temp9am', 'Humidity9am', 'Pressure9am', 'MinTemp'}. \u001b[1m(pearson_correlation_feature_selector.py:91)\u001b[0m\n",
            "[2023-07-08 00:26:29] [\u001b[1;32mINFO\u001b[0m] Finished composite feature selection step 2/2. \u001b[1m(composite_feature_selector.py:135)\u001b[0m\n"
          ]
        },
        {
          "data": {
            "application/vnd.jupyter.widget-view+json": {
              "model_id": "d0320593c32c404086003c2e73253975",
              "version_major": 2,
              "version_minor": 0
            },
            "text/plain": [
              "Writing DataFrame to .arrow file:   0%|          | 0/100 [00:00<?, ?it/s]"
            ]
          },
          "metadata": {},
          "output_type": "display_data"
        },
        {
          "name": "stdout",
          "output_type": "stream",
          "text": [
            "[2023-07-08 00:26:29] [\u001b[1;32mINFO\u001b[0m] Finished step 5/7 execution. \u001b[1m(pipeline.py:83)\u001b[0m\n",
            "[2023-07-08 00:26:29] [\u001b[1;32mINFO\u001b[0m] Executing step 6/7: TransformStep. \u001b[1m(pipeline.py:81)\u001b[0m\n",
            "[2023-07-08 00:26:29] [\u001b[1;32mINFO\u001b[0m] \u001b[31mCache Miss\u001b[0m (LRUCache) CompositeTransformer.transform: Executing method. \u001b[1m(cache_mixin.py:162)\u001b[0m\n",
            "[2023-07-08 00:26:29] [\u001b[1;32mINFO\u001b[0m] Executing composite feature transformation step 1/2: LabelEncoderTransformer. \u001b[1m(composite_transformer.py:126)\u001b[0m\n",
            "[2023-07-08 00:26:29] [\u001b[1;32mINFO\u001b[0m] Fitting label encoder transformer (3): ('WindGustDir', 'WindDir9am', 'WindDir3pm'). \u001b[1m(label_encoder_transformer.py:93)\u001b[0m\n",
            "[2023-07-08 00:26:29] [\u001b[1;32mINFO\u001b[0m] Transforming features using label encoding (3): ('WindGustDir', 'WindDir9am', 'WindDir3pm'). \u001b[1m(label_encoder_transformer.py:83)\u001b[0m\n",
            "[2023-07-08 00:26:29] [\u001b[1;32mINFO\u001b[0m] Finished composite transformation step 1/2. \u001b[1m(composite_transformer.py:132)\u001b[0m\n",
            "[2023-07-08 00:26:29] [\u001b[1;32mINFO\u001b[0m] Executing composite feature transformation step 2/2: MinMaxScalerTransformer. \u001b[1m(composite_transformer.py:126)\u001b[0m\n",
            "[2023-07-08 00:26:29] [\u001b[1;32mINFO\u001b[0m] Fitting min-max scaler transformer (1): ('WindGustSpeed',). \u001b[1m(min_max_scaler_transformer.py:96)\u001b[0m\n",
            "[2023-07-08 00:26:29] [\u001b[1;32mINFO\u001b[0m] Transforming features using min-max scaling (1): ('WindGustSpeed',). \u001b[1m(min_max_scaler_transformer.py:86)\u001b[0m\n",
            "[2023-07-08 00:26:29] [\u001b[1;32mINFO\u001b[0m] Finished composite transformation step 2/2. \u001b[1m(composite_transformer.py:132)\u001b[0m\n"
          ]
        },
        {
          "data": {
            "application/vnd.jupyter.widget-view+json": {
              "model_id": "087ff761665947bcb52fc3de52631293",
              "version_major": 2,
              "version_minor": 0
            },
            "text/plain": [
              "Writing DataFrame to .arrow file:   0%|          | 0/100 [00:00<?, ?it/s]"
            ]
          },
          "metadata": {},
          "output_type": "display_data"
        },
        {
          "name": "stdout",
          "output_type": "stream",
          "text": [
            "[2023-07-08 00:26:29] [\u001b[1;32mINFO\u001b[0m] Saving transformer to data/jsphyg/weather-dataset-rattle-package/transform/CompositeTransformer.transform.fit_transform_train_validate.5f7ac699de5bfd3305c122756f83951a.transformer. \u001b[1m(base_transformer.py:128)\u001b[0m\n",
            "[2023-07-08 00:26:29] [\u001b[1;32mINFO\u001b[0m] Finished step 6/7 execution. \u001b[1m(pipeline.py:83)\u001b[0m\n",
            "[2023-07-08 00:26:29] [\u001b[1;32mINFO\u001b[0m] Executing step 7/7: TransformStep. \u001b[1m(pipeline.py:81)\u001b[0m\n",
            "[2023-07-08 00:26:29] [\u001b[1;32mINFO\u001b[0m] \u001b[31mCache Miss\u001b[0m (LRUCache) CompositeTransformer.transform: Executing method. \u001b[1m(cache_mixin.py:162)\u001b[0m\n",
            "[2023-07-08 00:26:29] [\u001b[1;32mINFO\u001b[0m] Executing composite feature transformation step 1/2: LabelEncoderTransformer. \u001b[1m(composite_transformer.py:126)\u001b[0m\n",
            "[2023-07-08 00:26:29] [\u001b[1;32mINFO\u001b[0m] Transforming features using label encoding (3): ('WindGustDir', 'WindDir9am', 'WindDir3pm'). \u001b[1m(label_encoder_transformer.py:83)\u001b[0m\n",
            "[2023-07-08 00:26:29] [\u001b[1;32mINFO\u001b[0m] Finished composite transformation step 1/2. \u001b[1m(composite_transformer.py:132)\u001b[0m\n",
            "[2023-07-08 00:26:29] [\u001b[1;32mINFO\u001b[0m] Executing composite feature transformation step 2/2: MinMaxScalerTransformer. \u001b[1m(composite_transformer.py:126)\u001b[0m\n",
            "[2023-07-08 00:26:29] [\u001b[1;32mINFO\u001b[0m] Transforming features using min-max scaling (1): ('WindGustSpeed',). \u001b[1m(min_max_scaler_transformer.py:86)\u001b[0m\n",
            "[2023-07-08 00:26:29] [\u001b[1;32mINFO\u001b[0m] Finished composite transformation step 2/2. \u001b[1m(composite_transformer.py:132)\u001b[0m\n"
          ]
        },
        {
          "data": {
            "application/vnd.jupyter.widget-view+json": {
              "model_id": "2a40f14d6bc24f95a9b336f35bde7ef8",
              "version_major": 2,
              "version_minor": 0
            },
            "text/plain": [
              "Writing DataFrame to .arrow file:   0%|          | 0/100 [00:00<?, ?it/s]"
            ]
          },
          "metadata": {},
          "output_type": "display_data"
        },
        {
          "name": "stdout",
          "output_type": "stream",
          "text": [
            "[2023-07-08 00:26:30] [\u001b[1;32mINFO\u001b[0m] Finished step 7/7 execution. \u001b[1m(pipeline.py:83)\u001b[0m\n"
          ]
        }
      ],
      "source": [
        "data_container =  pipeline.run().data"
      ]
    },
    {
      "cell_type": "code",
      "execution_count": 6,
      "metadata": {},
      "outputs": [
        {
          "data": {
            "text/html": [
              "<table>\n",
              "<thead>\n",
              "<tr><th>#                                 </th><th>Date               </th><th>Location  </th><th>Rainfall  </th><th>Evaporation  </th><th>WindGustDir  </th><th>WindGustSpeed     </th><th>WindDir9am  </th><th>WindDir3pm  </th><th>Humidity3pm  </th><th>Cloud3pm  </th><th>RainToday  </th><th>RainTomorrow  </th></tr>\n",
              "</thead>\n",
              "<tbody>\n",
              "<tr><td><i style='opacity: 0.6'>0</i>     </td><td>2008-12-09 00:00:00</td><td>Albury    </td><td>0.0       </td><td>--           </td><td>16           </td><td>1.5736434108527133</td><td>4           </td><td>7           </td><td>9            </td><td>--        </td><td>False      </td><td>True          </td></tr>\n",
              "<tr><td><i style='opacity: 0.6'>1</i>     </td><td>2008-12-15 00:00:00</td><td>Albury    </td><td>0.0       </td><td>--           </td><td>0            </td><td>--                </td><td>8           </td><td>10          </td><td>32           </td><td>--        </td><td>False      </td><td>--            </td></tr>\n",
              "<tr><td><i style='opacity: 0.6'>2</i>     </td><td>2008-12-20 00:00:00</td><td>Albury    </td><td>0.0       </td><td>--           </td><td>13           </td><td>1.1550387596899225</td><td>4           </td><td>16          </td><td>26           </td><td>--        </td><td>False      </td><td>False         </td></tr>\n",
              "<tr><td><i style='opacity: 0.6'>3</i>     </td><td>2008-12-24 00:00:00</td><td>Albury    </td><td>0.0       </td><td>--           </td><td>3            </td><td>1.2093023255813953</td><td>1           </td><td>7           </td><td>23           </td><td>--        </td><td>False      </td><td>False         </td></tr>\n",
              "<tr><td><i style='opacity: 0.6'>4</i>     </td><td>2008-12-27 00:00:00</td><td>Albury    </td><td>0.0       </td><td>--           </td><td>12           </td><td>1.3953488372093024</td><td>0           </td><td>11          </td><td>28           </td><td>1         </td><td>False      </td><td>False         </td></tr>\n",
              "<tr><td>...                               </td><td>...                </td><td>...       </td><td>...       </td><td>...          </td><td>...          </td><td>...               </td><td>...         </td><td>...         </td><td>...          </td><td>...       </td><td>...        </td><td>...           </td></tr>\n",
              "<tr><td><i style='opacity: 0.6'>29,087</i></td><td>2017-05-28 00:00:00</td><td>Uluru     </td><td>0.0       </td><td>--           </td><td>6            </td><td>1.2093023255813953</td><td>4           </td><td>1           </td><td>25           </td><td>--        </td><td>False      </td><td>False         </td></tr>\n",
              "<tr><td><i style='opacity: 0.6'>29,088</i></td><td>2017-05-31 00:00:00</td><td>Uluru     </td><td>0.0       </td><td>--           </td><td>6            </td><td>1.310077519379845 </td><td>6           </td><td>6           </td><td>32           </td><td>--        </td><td>False      </td><td>False         </td></tr>\n",
              "<tr><td><i style='opacity: 0.6'>29,089</i></td><td>2017-06-04 00:00:00</td><td>Uluru     </td><td>0.0       </td><td>--           </td><td>6            </td><td>1.193798449612403 </td><td>1           </td><td>6           </td><td>26           </td><td>--        </td><td>False      </td><td>False         </td></tr>\n",
              "<tr><td><i style='opacity: 0.6'>29,090</i></td><td>2017-06-05 00:00:00</td><td>Uluru     </td><td>0.0       </td><td>--           </td><td>6            </td><td>1.2403100775193798</td><td>1           </td><td>1           </td><td>11           </td><td>--        </td><td>False      </td><td>False         </td></tr>\n",
              "<tr><td><i style='opacity: 0.6'>29,091</i></td><td>2017-06-17 00:00:00</td><td>Uluru     </td><td>0.0       </td><td>--           </td><td>1            </td><td>1.193798449612403 </td><td>8           </td><td>1           </td><td>25           </td><td>--        </td><td>False      </td><td>False         </td></tr>\n",
              "</tbody>\n",
              "</table>"
            ],
            "text/plain": [
              "#       Date                 Location    Rainfall    Evaporation    WindGustDir    WindGustSpeed       WindDir9am    WindDir3pm    Humidity3pm    Cloud3pm    RainToday    RainTomorrow\n",
              "0       2008-12-09 00:00:00  Albury      0.0         --             16             1.5736434108527133  4             7             9              --          False        True\n",
              "1       2008-12-15 00:00:00  Albury      0.0         --             0              --                  8             10            32             --          False        --\n",
              "2       2008-12-20 00:00:00  Albury      0.0         --             13             1.1550387596899225  4             16            26             --          False        False\n",
              "3       2008-12-24 00:00:00  Albury      0.0         --             3              1.2093023255813953  1             7             23             --          False        False\n",
              "4       2008-12-27 00:00:00  Albury      0.0         --             12             1.3953488372093024  0             11            28             1           False        False\n",
              "...     ...                  ...         ...         ...            ...            ...                 ...           ...           ...            ...         ...          ...\n",
              "29,087  2017-05-28 00:00:00  Uluru       0.0         --             6              1.2093023255813953  4             1             25             --          False        False\n",
              "29,088  2017-05-31 00:00:00  Uluru       0.0         --             6              1.310077519379845   6             6             32             --          False        False\n",
              "29,089  2017-06-04 00:00:00  Uluru       0.0         --             6              1.193798449612403   1             6             26             --          False        False\n",
              "29,090  2017-06-05 00:00:00  Uluru       0.0         --             6              1.2403100775193798  1             1             11             --          False        False\n",
              "29,091  2017-06-17 00:00:00  Uluru       0.0         --             1              1.193798449612403   8             1             25             --          False        False"
            ]
          },
          "execution_count": 6,
          "metadata": {},
          "output_type": "execute_result"
        }
      ],
      "source": [
        "data_container['df_transformed_test']"
      ]
    },
    {
      "cell_type": "code",
      "execution_count": null,
      "metadata": {},
      "outputs": [],
      "source": []
    }
  ],
  "metadata": {
    "kernelspec": {
      "display_name": ".venv",
      "language": "python",
      "name": "python3"
    },
    "language_info": {
      "codemirror_mode": {
        "name": "ipython",
        "version": 3
      },
      "file_extension": ".py",
      "mimetype": "text/x-python",
      "name": "python",
      "nbconvert_exporter": "python",
      "pygments_lexer": "ipython3",
      "version": "3.8.17"
    },
    "orig_nbformat": 4,
    "vscode": {
      "interpreter": {
        "hash": "9611670ec755352ff717d7a41a0ab877947349e5431e69ecf0edefdfa5d80e71"
      }
    }
  },
  "nbformat": 4,
  "nbformat_minor": 2
}
