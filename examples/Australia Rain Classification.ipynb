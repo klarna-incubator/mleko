{
  "cells": [
    {
      "cell_type": "code",
      "execution_count": 2,
      "metadata": {},
      "outputs": [],
      "source": [
        "%reload_ext autoreload\n",
        "%autoreload 2"
      ]
    },
    {
      "attachments": {},
      "cell_type": "markdown",
      "metadata": {},
      "source": [
        "# Imports\n",
        "Import the required classes and functions."
      ]
    },
    {
      "cell_type": "code",
      "execution_count": 3,
      "metadata": {},
      "outputs": [],
      "source": [
        "import lightgbm\n",
        "\n",
        "from mleko.dataset.convert import CSVToVaexConverter\n",
        "from mleko.dataset.feature_select import (\n",
        "    CompositeFeatureSelector,\n",
        "    MissingRateFeatureSelector,\n",
        "    PearsonCorrelationFeatureSelector,\n",
        ")\n",
        "from mleko.dataset.ingest import KaggleIngester\n",
        "from mleko.dataset.split import RandomSplitter\n",
        "from mleko.dataset.transform import CompositeTransformer, LabelEncoderTransformer\n",
        "from mleko.model import LGBMModel\n",
        "from mleko.pipeline import Pipeline\n",
        "from mleko.pipeline.steps import ConvertStep, FeatureSelectStep, IngestStep, ModelStep, SplitStep, TransformStep"
      ]
    },
    {
      "attachments": {},
      "cell_type": "markdown",
      "metadata": {},
      "source": [
        "# Constants\n",
        "Define configuration variables."
      ]
    },
    {
      "cell_type": "code",
      "execution_count": 4,
      "metadata": {},
      "outputs": [],
      "source": [
        "# Kaggle dataset identifier\n",
        "OWNER_SLUG = \"jsphyg\"\n",
        "DATASET_SLUG = \"weather-dataset-rattle-package\"\n",
        "DATASET_NAME = f\"{OWNER_SLUG}/{DATASET_SLUG}\"\n",
        "\n",
        "# Dataset feature configuration\n",
        "TARGET_FEATURE = \"RainTomorrow\"\n",
        "DATE_FEATURE = \"Date\"\n",
        "META_FEATURES = [TARGET_FEATURE, DATE_FEATURE]\n",
        "\n",
        "# General Configuration\n",
        "RANDOM_STATE = 1337"
      ]
    },
    {
      "attachments": {},
      "cell_type": "markdown",
      "metadata": {},
      "source": [
        "# Pipeline Setup"
      ]
    },
    {
      "cell_type": "code",
      "execution_count": 14,
      "metadata": {},
      "outputs": [
        {
          "name": "stdout",
          "output_type": "stream",
          "text": [
            "[2023-09-06 16:56:39] [\u001b[1;32mINFO\u001b[0m] Attempting to fetch Kaggle API credentials from environment variables 'KAGGLE_USERNAME' and 'KAGGLE_KEY'. \u001b[1m(kaggle_ingester.py:74)\u001b[0m\n",
            "[2023-09-06 16:56:39] [\u001b[1;32mINFO\u001b[0m] Kaggle API credentials not found in environment variables, attempting to fetch from fallback path at ~/.kaggle/kaggle.json. \u001b[1m(kaggle_ingester.py:82)\u001b[0m\n",
            "[2023-09-06 16:56:39] [\u001b[1;32mINFO\u001b[0m] Kaggle credentials successfully fetched. \u001b[1m(kaggle_ingester.py:91)\u001b[0m\n"
          ]
        }
      ],
      "source": [
        "# Download the dataset from Kaggle\n",
        "kaggle_data_source = KaggleIngester(\n",
        "    destination_directory=f\"data/{DATASET_NAME}/raw\", owner_slug=OWNER_SLUG, dataset_slug=DATASET_SLUG\n",
        ")\n",
        "\n",
        "# Convert the CSV file to Apache Arrow format\n",
        "csv_to_arrow_converter = CSVToVaexConverter(\n",
        "    output_directory=f\"data/{DATASET_NAME}/converted\",\n",
        "    na_values=[\"NA\"],\n",
        "    true_values=[\"Yes\"],\n",
        "    false_values=[\"No\"],\n",
        "    downcast_float=True,\n",
        "    meta_columns=META_FEATURES,\n",
        "    drop_rows_with_na_columns=[TARGET_FEATURE],\n",
        "    random_state=RANDOM_STATE,\n",
        ")\n",
        "\n",
        "# Divide the dataset into train and test sets\n",
        "random_data_splitter = RandomSplitter(\n",
        "    cache_directory=f\"data/{DATASET_NAME}/split\",\n",
        "    data_split=(0.80, 0.20),\n",
        "    shuffle=True,\n",
        "    stratify=TARGET_FEATURE,\n",
        "    random_state=RANDOM_STATE,\n",
        ")\n",
        "\n",
        "# Configure all the feature selectors in a grouped composite feature selector\n",
        "# The feature selectors are applied in the order they are defined and can be chained as needed\n",
        "composite_feature_selector = CompositeFeatureSelector(\n",
        "    cache_directory=f\"data/{DATASET_NAME}/feature_select\",\n",
        "    feature_selectors=[\n",
        "        MissingRateFeatureSelector(\n",
        "            cache_directory=f\"data/{DATASET_NAME}/feature_select\",\n",
        "            missing_rate_threshold=0.5,\n",
        "            ignore_features=META_FEATURES,\n",
        "        ),\n",
        "        PearsonCorrelationFeatureSelector(\n",
        "            cache_directory=f\"data/{DATASET_NAME}/feature_select\",\n",
        "            correlation_threshold=0.6,\n",
        "            ignore_features=META_FEATURES,\n",
        "        ),\n",
        "    ],\n",
        ")\n",
        "\n",
        "# Configure all the transformers in a grouped composite transformer\n",
        "# The transformers are applied in the order they are defined and can be chained as needed\n",
        "composite_transformer = CompositeTransformer(\n",
        "    cache_directory=f\"data/{DATASET_NAME}/transform\",\n",
        "    transformers=[\n",
        "        LabelEncoderTransformer(\n",
        "            cache_directory=f\"data/{DATASET_NAME}/transform\",\n",
        "            features=[\"Location\", \"WindDir3pm\", \"WindDir9am\", \"WindGustDir\", \"RainToday\", \"RainTomorrow\"],\n",
        "        ),\n",
        "    ],\n",
        ")\n",
        "\n",
        "lgbm_model = LGBMModel(\n",
        "    cache_directory=f\"data/{DATASET_NAME}/model\",\n",
        "    objective=\"binary\",\n",
        "    target=TARGET_FEATURE,\n",
        "    num_iterations=100,\n",
        "    ignore_features=META_FEATURES,\n",
        "    metric=[\"average_precision\", \"auc\"],\n",
        ")\n",
        "\n",
        "# Configure the pipeline and the data flow\n",
        "pipeline = Pipeline(\n",
        "    steps=[\n",
        "        IngestStep(kaggle_data_source, outputs=[\"raw_csv\"]),\n",
        "        ConvertStep(csv_to_arrow_converter, inputs=[\"raw_csv\"], outputs=[\"clean_data_schema\", \"df_clean\"]),\n",
        "        SplitStep(\n",
        "            random_data_splitter,\n",
        "            inputs=[\"df_clean\"],\n",
        "            outputs=[\"df_clean_train_validate\", \"df_clean_test\"],\n",
        "            cache_group=\"split_train_validate_test\",\n",
        "        ),\n",
        "        FeatureSelectStep(\n",
        "            composite_feature_selector,\n",
        "            action=\"fit_transform\",\n",
        "            inputs=[\"clean_data_schema\", \"df_clean_train_validate\"],\n",
        "            outputs=[\"data_schema\", \"composite_feature_selector\", \"df_selected_train_validate\"],\n",
        "            cache_group=\"fit_transform_train_validate\",\n",
        "        ),\n",
        "        FeatureSelectStep(\n",
        "            composite_feature_selector,\n",
        "            action=\"transform\",\n",
        "            inputs=[\"clean_data_schema\", \"df_clean_test\"],\n",
        "            outputs=[\"data_schema\", \"df_selected_test\"],\n",
        "            cache_group=\"transform_test\",\n",
        "        ),\n",
        "        TransformStep(\n",
        "            composite_transformer,\n",
        "            action=\"fit_transform\",\n",
        "            inputs=[\"df_selected_train_validate\"],\n",
        "            outputs=[\"composite_transformer\", \"df_transformed_train_validate\"],\n",
        "            cache_group=\"fit_transform_train_validate\",\n",
        "        ),\n",
        "        TransformStep(\n",
        "            composite_transformer,\n",
        "            action=\"transform\",\n",
        "            inputs=[\"df_selected_test\"],\n",
        "            outputs=[\"df_transformed_test\"],\n",
        "            cache_group=\"fit_transform_test\",\n",
        "        ),\n",
        "        SplitStep(\n",
        "            random_data_splitter,\n",
        "            inputs=[\"df_transformed_train_validate\"],\n",
        "            outputs=[\"df_transformed_train\", \"df_transformed_validate\"],\n",
        "            cache_group=\"split_train_validate\",\n",
        "        ),\n",
        "        ModelStep(\n",
        "            lgbm_model,\n",
        "            action=\"fit_transform\",\n",
        "            inputs=[\"data_schema\", \"df_transformed_train\", \"df_transformed_validate\"],\n",
        "            outputs=[\"lgbm_model\", \"metrics\", \"df_predictions_train\", \"df_predictions_validate\"],\n",
        "        ),\n",
        "        ModelStep(\n",
        "            lgbm_model,\n",
        "            action=\"transform\",\n",
        "            inputs=[\"data_schema\", \"df_transformed_test\"],\n",
        "            outputs=[\"df_predictions_test\"],\n",
        "        ),\n",
        "    ]\n",
        ")"
      ]
    },
    {
      "attachments": {},
      "cell_type": "markdown",
      "metadata": {},
      "source": [
        "# Run Pipeline"
      ]
    },
    {
      "cell_type": "code",
      "execution_count": 20,
      "metadata": {},
      "outputs": [
        {
          "name": "stdout",
          "output_type": "stream",
          "text": [
            "[2023-09-06 16:57:39] [\u001b[1;32mINFO\u001b[0m] No data container provided. Creating an empty one. \u001b[1m(pipeline.py:77)\u001b[0m\n",
            "[2023-09-06 16:57:39] [\u001b[1;32mINFO\u001b[0m] Executing step 1/10: IngestStep. \u001b[1m(pipeline.py:81)\u001b[0m\n",
            "[2023-09-06 16:57:39] [\u001b[1;32mINFO\u001b[0m] \u001b[32mCache Hit\u001b[0m: Local dataset is up to date with Kaggle, skipping download. \u001b[1m(kaggle_ingester.py:279)\u001b[0m\n",
            "[2023-09-06 16:57:39] [\u001b[1;32mINFO\u001b[0m] Finished step 1/10 execution. \u001b[1m(pipeline.py:83)\u001b[0m\n",
            "[2023-09-06 16:57:39] [\u001b[1;32mINFO\u001b[0m] Executing step 2/10: ConvertStep. \u001b[1m(pipeline.py:81)\u001b[0m\n",
            "[2023-09-06 16:57:39] [\u001b[1;32mINFO\u001b[0m] \u001b[32mCache Hit\u001b[0m (LRUCache) CSVToVaexConverter.convert: Using cached output. \u001b[1m(cache_mixin.py:160)\u001b[0m\n",
            "[2023-09-06 16:57:39] [\u001b[1;32mINFO\u001b[0m] Finished step 2/10 execution. \u001b[1m(pipeline.py:83)\u001b[0m\n",
            "[2023-09-06 16:57:39] [\u001b[1;32mINFO\u001b[0m] Executing step 3/10: SplitStep. \u001b[1m(pipeline.py:81)\u001b[0m\n",
            "[2023-09-06 16:57:39] [\u001b[1;32mINFO\u001b[0m] \u001b[32mCache Hit\u001b[0m (LRUCache) RandomSplitter.split: Using cached output. \u001b[1m(cache_mixin.py:160)\u001b[0m\n",
            "[2023-09-06 16:57:39] [\u001b[1;32mINFO\u001b[0m] Finished step 3/10 execution. \u001b[1m(pipeline.py:83)\u001b[0m\n",
            "[2023-09-06 16:57:39] [\u001b[1;32mINFO\u001b[0m] Executing step 4/10: FeatureSelectStep. \u001b[1m(pipeline.py:81)\u001b[0m\n",
            "[2023-09-06 16:57:40] [\u001b[1;32mINFO\u001b[0m] \u001b[32mCache Hit\u001b[0m (LRUCache) CompositeFeatureSelector.fit_transform: Using cached output. \u001b[1m(cache_mixin.py:160)\u001b[0m\n",
            "[2023-09-06 16:57:40] [\u001b[1;32mINFO\u001b[0m] Finished step 4/10 execution. \u001b[1m(pipeline.py:83)\u001b[0m\n",
            "[2023-09-06 16:57:40] [\u001b[1;32mINFO\u001b[0m] Executing step 5/10: FeatureSelectStep. \u001b[1m(pipeline.py:81)\u001b[0m\n",
            "[2023-09-06 16:57:40] [\u001b[1;32mINFO\u001b[0m] \u001b[32mCache Hit\u001b[0m (LRUCache) CompositeFeatureSelector.transform: Using cached output. \u001b[1m(cache_mixin.py:160)\u001b[0m\n",
            "[2023-09-06 16:57:40] [\u001b[1;32mINFO\u001b[0m] Finished step 5/10 execution. \u001b[1m(pipeline.py:83)\u001b[0m\n",
            "[2023-09-06 16:57:40] [\u001b[1;32mINFO\u001b[0m] Executing step 6/10: TransformStep. \u001b[1m(pipeline.py:81)\u001b[0m\n",
            "[2023-09-06 16:57:40] [\u001b[1;32mINFO\u001b[0m] \u001b[32mCache Hit\u001b[0m (LRUCache) CompositeTransformer.fit_transform: Using cached output. \u001b[1m(cache_mixin.py:160)\u001b[0m\n",
            "[2023-09-06 16:57:40] [\u001b[1;32mINFO\u001b[0m] Finished step 6/10 execution. \u001b[1m(pipeline.py:83)\u001b[0m\n",
            "[2023-09-06 16:57:40] [\u001b[1;32mINFO\u001b[0m] Executing step 7/10: TransformStep. \u001b[1m(pipeline.py:81)\u001b[0m\n",
            "[2023-09-06 16:57:40] [\u001b[1;32mINFO\u001b[0m] \u001b[32mCache Hit\u001b[0m (LRUCache) CompositeTransformer.transform: Using cached output. \u001b[1m(cache_mixin.py:160)\u001b[0m\n",
            "[2023-09-06 16:57:40] [\u001b[1;32mINFO\u001b[0m] Finished step 7/10 execution. \u001b[1m(pipeline.py:83)\u001b[0m\n",
            "[2023-09-06 16:57:40] [\u001b[1;32mINFO\u001b[0m] Executing step 8/10: SplitStep. \u001b[1m(pipeline.py:81)\u001b[0m\n",
            "[2023-09-06 16:57:40] [\u001b[1;32mINFO\u001b[0m] \u001b[32mCache Hit\u001b[0m (LRUCache) RandomSplitter.split: Using cached output. \u001b[1m(cache_mixin.py:160)\u001b[0m\n",
            "[2023-09-06 16:57:40] [\u001b[1;32mINFO\u001b[0m] Finished step 8/10 execution. \u001b[1m(pipeline.py:83)\u001b[0m\n",
            "[2023-09-06 16:57:40] [\u001b[1;32mINFO\u001b[0m] Executing step 9/10: ModelStep. \u001b[1m(pipeline.py:81)\u001b[0m\n",
            "[2023-09-06 16:57:40] [\u001b[1;32mINFO\u001b[0m] \u001b[32mCache Hit\u001b[0m (LRUCache) LGBMModel.fit_transform: Using cached output. \u001b[1m(cache_mixin.py:160)\u001b[0m\n",
            "[2023-09-06 16:57:40] [\u001b[1;32mINFO\u001b[0m] Finished step 9/10 execution. \u001b[1m(pipeline.py:83)\u001b[0m\n",
            "[2023-09-06 16:57:40] [\u001b[1;32mINFO\u001b[0m] Executing step 10/10: ModelStep. \u001b[1m(pipeline.py:81)\u001b[0m\n",
            "[2023-09-06 16:57:40] [\u001b[1;32mINFO\u001b[0m] \u001b[32mCache Hit\u001b[0m (LRUCache) LGBMModel.transform: Using cached output. \u001b[1m(cache_mixin.py:160)\u001b[0m\n",
            "[2023-09-06 16:57:40] [\u001b[1;32mINFO\u001b[0m] Finished step 10/10 execution. \u001b[1m(pipeline.py:83)\u001b[0m\n"
          ]
        }
      ],
      "source": [
        "data_container =  pipeline.run().data"
      ]
    },
    {
      "cell_type": "code",
      "execution_count": 21,
      "metadata": {},
      "outputs": [
        {
          "data": {
            "text/plain": [
              "<Axes: title={'center': 'Metric during training'}, xlabel='Iterations', ylabel='auc'>"
            ]
          },
          "execution_count": 21,
          "metadata": {},
          "output_type": "execute_result"
        },
        {
          "data": {
            "image/png": "[encoded data removed]",
            "text/plain": [
              "<Figure size 640x480 with 1 Axes>"
            ]
          },
          "metadata": {},
          "output_type": "display_data"
        }
      ],
      "source": [
        "lightgbm.plot_metric(data_container['metrics'], metric='auc')"
      ]
    },
    {
      "cell_type": "code",
      "execution_count": null,
      "metadata": {},
      "outputs": [],
      "source": []
    }
  ],
  "metadata": {
    "kernelspec": {
      "display_name": ".venv",
      "language": "python",
      "name": "python3"
    },
    "language_info": {
      "codemirror_mode": {
        "name": "ipython",
        "version": 3
      },
      "file_extension": ".py",
      "mimetype": "text/x-python",
      "name": "python",
      "nbconvert_exporter": "python",
      "pygments_lexer": "ipython3",
      "version": "3.8.17"
    },
    "orig_nbformat": 4,
    "vscode": {
      "interpreter": {
        "hash": "9611670ec755352ff717d7a41a0ab877947349e5431e69ecf0edefdfa5d80e71"
      }
    }
  },
  "nbformat": 4,
  "nbformat_minor": 2
}
